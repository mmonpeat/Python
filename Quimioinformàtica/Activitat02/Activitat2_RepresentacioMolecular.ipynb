{
 "cells": [
  {
   "cell_type": "markdown",
   "metadata": {},
   "source": [
    "# Activitat 2: Representació Molecular amb RDKit\n",
    "\n",
    "# **Exploració de Molècules de DrugBank**\n",
    "\n",
    "## Bioinformàtica - UF3 \n",
    "\n",
    "    \n",
    "+ **Nom alumn@:**\n",
    "\n",
    "*NOTA1: Per cada dia d'entrega més tard es descomptarà un 10% de la nota de la pràctica.*\n",
    "\n",
    "*NOTA2: L'script s'ha d'executar sense errors i produir els resultats, fitxers i figures que es demanen. És aconsellable abans d'entregar reiniciar el kernel del notebook (Kernel > Restart Kernel) i comprovar que totes les cel·les del notebook s'executen sense errors una rere l'altre.* \n",
    "***"
   ]
  },
  {
   "cell_type": "markdown",
   "metadata": {},
   "source": [
    "[DrugBank](https://go.drugbank.com/) és una base de dades de fàrmacs aprovats per la FDA (Food and Drug Administration, Agència del medicament dels EEUU). En aquesta activitat, treballarem amb una col·lecció de fàrmacs (`approved subset`) provinents d'aquesta base de dades. Podem descarregar el fitxer `drugbank_approved_structures.sdf` en format `SDF`(el teniu al MOODLE a l’apartat de l’Activitat 2).\n",
    "\n",
    "L’objectiu d’aquesta activitat és realitzar un anàlisis i manipulació de les molècules utilitzant el mòdul de RDKit i Python. Recordeu  que  jupyter-lab  permet crear cel·les  en  markdown  on  podeu explicar què esteu fent i quins resultats que heu obtingut. A algunes solucions es poden arribar aplicant diferents estratègies."
   ]
  },
  {
   "cell_type": "markdown",
   "metadata": {},
   "source": [
    "**Importa els mòduls necessaris**"
   ]
  },
  {
   "cell_type": "code",
   "execution_count": 11,
   "metadata": {},
   "outputs": [],
   "source": [
    "#Importar moduls\n",
    "from rdkit import Chem\n",
    "from rdkit.Chem import Draw\n",
    "from rdkit.Chem import SDMolSupplier\n",
    "from rdkit.Chem.Draw import IPythonConsole\n",
    "from rdkit.Chem import Descriptors\n",
    "from rdkit.Chem import AllChem\n",
    "from rdkit import DataStructs\n",
    "import numpy as np\n",
    "from PIL import Image"
   ]
  },
  {
   "cell_type": "code",
   "execution_count": 12,
   "metadata": {},
   "outputs": [],
   "source": [
    "# Desactivem els warnings i errors de rdkit per una major claredat en el notebook.\n",
    "from rdkit import rdBase\n",
    "rdBase.DisableLog('rdApp.warning')\n",
    "rdBase.DisableLog('rdApp.error')"
   ]
  },
  {
   "cell_type": "markdown",
   "metadata": {},
   "source": [
    "## 1. Anàlisi i preparació de les dades\n",
    "\n",
    "**1.a) Llegeix l'arxiu de molècules de drugbank i indica quants fàrmacs hi ha en total** [0.5 punts]"
   ]
  },
  {
   "cell_type": "code",
   "execution_count": 14,
   "metadata": {},
   "outputs": [
    {
     "name": "stdout",
     "output_type": "stream",
     "text": [
      "Hi ha un total de 2352 fàrmacs en l'arxiu.\n"
     ]
    }
   ],
   "source": [
    "# Llegir l'arxiu SDF\n",
    "supplier = Chem.SDMolSupplier('./drugbank_approved_structures.sdf')\n",
    "\n",
    "# Comptar el nombre de fàrmacs\n",
    "num_drugs = len([m for m in supplier if m is not None])\n",
    "\n",
    "print(f'Hi ha un total de {num_drugs} fàrmacs en l\\'arxiu.')"
   ]
  },
  {
   "cell_type": "markdown",
   "metadata": {},
   "source": [
    "**1.b) Mostra els camps de dades associats a la primera molècula que s'han anotat en el sdf.** [0.5 punts]"
   ]
  },
  {
   "cell_type": "code",
   "execution_count": 4,
   "metadata": {},
   "outputs": [
    {
     "name": "stdout",
     "output_type": "stream",
     "text": [
      "DATABASE_ID: DB00006\n",
      "DATABASE_NAME: drugbank\n",
      "SMILES: CC[C@H](C)[C@H](NC(=O)[C@H](CCC(O)=O)NC(=O)[C@H](CCC(O)=O)NC(=O)[C@H](CC1=CC=CC=C1)NC(=O)[C@H](CC(O)=O)NC(=O)CNC(=O)[C@H](CC(N)=O)NC(=O)CNC(=O)CNC(=O)CNC(=O)CNC(=O)[C@@H]1CCCN1C(=O)[C@H](CCCNC(N)=N)NC(=O)[C@@H]1CCCN1C(=O)[C@H](N)CC1=CC=CC=C1)C(=O)N1CCC[C@H]1C(=O)N[C@@H](CCC(O)=O)C(=O)N[C@@H](CCC(O)=O)C(=O)N[C@@H](CC1=CC=C(O)C=C1)C(=O)N[C@@H](CC(C)C)C(O)=O\n",
      "INCHI_IDENTIFIER: InChI=1S/C98H138N24O33/c1-5-52(4)82(96(153)122-39-15-23-70(122)92(149)114-60(30-34-79(134)135)85(142)111-59(29-33-78(132)133)86(143)116-64(43-55-24-26-56(123)27-25-55)89(146)118-67(97(154)155)40-51(2)3)119-87(144)61(31-35-80(136)137)112-84(141)58(28-32-77(130)131)113-88(145)63(42-54-18-10-7-11-19-54)117-90(147)66(45-81(138)139)110-76(129)50-107-83(140)65(44-71(100)124)109-75(128)49-106-73(126)47-104-72(125)46-105-74(127)48-108-91(148)68-21-13-38-121(68)95(152)62(20-12-36-103-98(101)102)115-93(150)69-22-14-37-120(69)94(151)57(99)41-53-16-8-6-9-17-53/h6-11,16-19,24-27,51-52,57-70,82,123H,5,12-15,20-23,28-50,99H2,1-4H3,(H2,100,124)(H,104,125)(H,105,127)(H,106,126)(H,107,140)(H,108,148)(H,109,128)(H,110,129)(H,111,142)(H,112,141)(H,113,145)(H,114,149)(H,115,150)(H,116,143)(H,117,147)(H,118,146)(H,119,144)(H,130,131)(H,132,133)(H,134,135)(H,136,137)(H,138,139)(H,154,155)(H4,101,102,103)/t52-,57+,58-,59-,60-,61-,62-,63-,64-,65-,66-,67-,68-,69-,70-,82-/m0/s1\n",
      "INCHI_KEY: OIRCOABEOLEUMC-GEJPAHFPSA-N\n",
      "FORMULA: C98H138N24O33\n",
      "MOLECULAR_WEIGHT: 2180.2853\n",
      "EXACT_MASS: 2178.985813062\n",
      "JCHEM_ACCEPTOR_COUNT: 37\n",
      "JCHEM_AVERAGE_POLARIZABILITY: 215.45560313091494\n",
      "JCHEM_BIOAVAILABILITY: 0\n",
      "JCHEM_DONOR_COUNT: 28\n",
      "JCHEM_FORMAL_CHARGE: 0\n",
      "JCHEM_GHOSE_FILTER: 0\n",
      "JCHEM_IUPAC: (4S)-4-[(2S)-2-[(2S)-2-[(2S)-2-{2-[(2S)-2-(2-{2-[2-(2-{[(2S)-1-[(2S)-2-{[(2S)-1-[(2R)-2-amino-3-phenylpropanoyl]pyrrolidin-2-yl]formamido}-5-carbamimidamidopentanoyl]pyrrolidin-2-yl]formamido}acetamido)acetamido]acetamido}acetamido)-3-carbamoylpropanamido]acetamido}-3-carboxypropanamido]-3-phenylpropanamido]-4-carboxybutanamido]-4-{[(2S,3S)-1-[(2S)-2-{[(1S)-3-carboxy-1-{[(1S)-3-carboxy-1-{[(1S)-1-{[(1S)-1-carboxy-3-methylbutyl]carbamoyl}-2-(4-hydroxyphenyl)ethyl]carbamoyl}propyl]carbamoyl}propyl]carbamoyl}pyrrolidin-1-yl]-3-methyl-1-oxopentan-2-yl]carbamoyl}butanoic acid\n",
      "ALOGPS_LOGP: -0.76\n",
      "JCHEM_LOGP: -14.345512778557275\n",
      "ALOGPS_LOGS: -4.67\n",
      "JCHEM_MDDR_LIKE_RULE: 1\n",
      "JCHEM_NUMBER_OF_RINGS: 6\n",
      "JCHEM_PHYSIOLOGICAL_CHARGE: -4\n",
      "JCHEM_PKA: 3.177101336420163\n",
      "JCHEM_PKA_STRONGEST_ACIDIC: 2.7944312684415116\n",
      "JCHEM_PKA_STRONGEST_BASIC: 11.878406919439332\n",
      "JCHEM_POLAR_SURFACE_AREA: 901.5700000000003\n",
      "JCHEM_REFRACTIVITY: 543.3342000000006\n",
      "JCHEM_ROTATABLE_BOND_COUNT: 66\n",
      "JCHEM_RULE_OF_FIVE: 0\n",
      "ALOGPS_SOLUBILITY: 4.64e-02 g/l\n",
      "JCHEM_TRADITIONAL_IUPAC: bivalirudin\n",
      "JCHEM_VEBER_RULE: 0\n",
      "DRUGBANK_ID: DB00006\n",
      "SECONDARY_ACCESSION_NUMBERS: BTD00076; EXPT03302; BIOD00076; DB02351\n",
      "DRUG_GROUPS: approved; investigational\n",
      "GENERIC_NAME: Bivalirudin\n",
      "SYNONYMS: Bivalirudin; Bivalirudina; Bivalirudinum; Hirulog\n",
      "PRODUCTS: Angiomax; Bivalirudin; Bivalirudin for Injection; Bivalirudin in 0.9% Sodium Chloride\n"
     ]
    }
   ],
   "source": [
    "# Obtenir la primera molècula\n",
    "first_mol = next((m for m in supplier if m is not None), None)\n",
    "\n",
    "if first_mol is not None:\n",
    "    # Mostrar els camps de dades\n",
    "    for key in first_mol.GetPropNames():\n",
    "        print(f'{key}: {first_mol.GetProp(key)}')\n",
    "else:\n",
    "    print('No s\\'ha pogut carregar cap molècula.')"
   ]
  },
  {
   "cell_type": "markdown",
   "metadata": {},
   "source": [
    "**1.c) Afegeix un nom a cada molècula que correspongui al seu identificador de DrugBank  (*e.g.* DB00035). Assegurat que realment s'ha guardat la informació mostrant el nom de les 10 primeres molècules** [1 punt]\n",
    "\n",
    "_Pista: 1) L'identificador es troba en una propietat de les llistades_"
   ]
  },
  {
   "cell_type": "code",
   "execution_count": 23,
   "metadata": {},
   "outputs": [
    {
     "name": "stdout",
     "output_type": "stream",
     "text": [
      "Nom: Bivalirudin, DrugBank ID: DB00006\n",
      "Nom: Goserelin, DrugBank ID: DB00014\n",
      "Nom: Gramicidin D, DrugBank ID: DB00027\n",
      "Nom: Desmopressin, DrugBank ID: DB00035\n",
      "Nom: Cetrorelix, DrugBank ID: DB00050\n",
      "Nom: Daptomycin, DrugBank ID: DB00080\n",
      "Nom: Ciclosporin, DrugBank ID: DB00091\n",
      "Nom: Octreotide, DrugBank ID: DB00104\n",
      "Nom: Abarelix, DrugBank ID: DB00106\n",
      "Nom: Pyridoxal Phosphate, DrugBank ID: DB00114\n"
     ]
    }
   ],
   "source": [
    "# Afegeix un nom a cada molècula i recull les 10 primeres\n",
    "first_10_mols = []\n",
    "for i, mol in enumerate(supplier):\n",
    "    if mol is not None:\n",
    "        # L'identificador de DrugBank es troba en la propietat 'DRUGBANK_ID'\n",
    "        drugbank_id = mol.GetProp('DRUGBANK_ID')\n",
    "        generic_name = mol.GetProp('GENERIC_NAME')\n",
    "        if i < 10:\n",
    "            first_10_mols.append(mol)\n",
    "\n",
    "# Mostra el nom i la DrugBank ID de les 10 primeres molècules\n",
    "for mol in first_10_mols:\n",
    "    print(f'Nom: {mol.GetProp(\"GENERIC_NAME\")}, DrugBank ID: {mol.GetProp(\"DRUGBANK_ID\")}')"
   ]
  },
  {
   "cell_type": "markdown",
   "metadata": {},
   "source": [
    "## 2. Anàlisi de duplicats\n",
    "\n",
    "**2.a) A partir dels InchiKeys comprova quants fàrmacs diferents hi ha?** [1 punt]\n",
    "\n",
    "_Nota: Els InchiKeys van ser creats per la IUPAC i es tracta d'una cadena de caràcters capaç de representar de forma exclusiva i única una substància química. Per tant, és una forma d'eliminar molècules duplicades._"
   ]
  },
  {
   "cell_type": "code",
   "execution_count": 6,
   "metadata": {},
   "outputs": [
    {
     "name": "stdout",
     "output_type": "stream",
     "text": [
      "Hi ha un total de 2351 fàrmacs diferents.\n"
     ]
    }
   ],
   "source": [
    "# Crear un conjunt per recollir els InchiKeys únics\n",
    "unique_inchikeys = set()\n",
    "\n",
    "for mol in supplier:\n",
    "    if mol is not None:\n",
    "        # Obtenir l'InchiKey de la molècula\n",
    "        inchikey = Chem.MolToInchiKey(mol)\n",
    "        # Afegir l'InchiKey al conjunt\n",
    "        unique_inchikeys.add(inchikey)\n",
    "\n",
    "# Imprimir el nombre de fàrmacs diferents\n",
    "print(f'Hi ha un total de {len(unique_inchikeys)} fàrmacs diferents.')"
   ]
  },
  {
   "cell_type": "markdown",
   "metadata": {},
   "source": [
    "**2.b) Genera els InChiKey a partir de RDKit per a cada fàrmac i comprova si és el mateix que apareix com a camp `INCHI_KEY` en el fitxer sdf. Printa únicament els que són diferents.** [1 punt]"
   ]
  },
  {
   "cell_type": "code",
   "execution_count": 24,
   "metadata": {},
   "outputs": [
    {
     "name": "stdout",
     "output_type": "stream",
     "text": [
      "Diferència detectada per la molècula Caspofungin:\n",
      "  InchiKey RDKit: JYIKNQVWKBUSNH-OGZDCFRISA-N\n",
      "  InchiKey SDF: JYIKNQVWKBUSNH-QWDBRQCVSA-N\n",
      "\n",
      "Diferència detectada per la molècula Oxaliplatin:\n",
      "  InchiKey RDKit: DWAFYCQODLXJNR-BNTLRKBRSA-L\n",
      "  InchiKey SDF: ZROHGHOFXNOHSO-BNTLRKBRSA-L\n",
      "\n",
      "Diferència detectada per la molècula Tetrachlorodecaoxide:\n",
      "  InchiKey RDKit: HDWYUXFNUVEZOB-UHFFFAOYSA-N\n",
      "  InchiKey SDF: VOWOEBADKMXUBU-UHFFFAOYSA-J\n",
      "\n",
      "Diferència detectada per la molècula Romidepsin:\n",
      "  InchiKey RDKit: OHRURASPPZQGQM-RVONLBNKSA-N\n",
      "  InchiKey SDF: OHRURASPPZQGQM-QDBHDZETSA-N\n",
      "\n",
      "Diferència detectada per la molècula Temsirolimus:\n",
      "  InchiKey RDKit: CBPNZQVSJQDFBE-HGVVHKDOSA-N\n",
      "  InchiKey SDF: CBPNZQVSJQDFBE-FUXHJELOSA-N\n",
      "\n",
      "Diferència detectada per la molècula Technetium Tc-99m mebrofenin:\n",
      "  InchiKey RDKit: JLJSYHOPCNWUNE-IEOVAKBOSA-N\n",
      "  InchiKey SDF: JLJSYHOPCNWUNE-NLQOEHMXSA-N\n",
      "\n",
      "Diferència detectada per la molècula Technetium Tc-99m medronate:\n",
      "  InchiKey RDKit: IUPNVOAUFBLQME-LDYDCSBASA-J\n",
      "  InchiKey SDF: IUPNVOAUFBLQME-SGNQUONSSA-J\n",
      "\n",
      "Diferència detectada per la molècula Technetium Tc-99m oxidronate:\n",
      "  InchiKey RDKit: SIJNDWFHVBDXDY-IEOVAKBOSA-N\n",
      "  InchiKey SDF: SIJNDWFHVBDXDY-NLQOEHMXSA-N\n",
      "\n",
      "Diferència detectada per la molècula Technetium Tc-99m tetrofosmin:\n",
      "  InchiKey RDKit: HBJYDUADMKVTGP-AZCDSDHNSA-N\n",
      "  InchiKey SDF: HBJYDUADMKVTGP-RCUQKECRSA-N\n",
      "\n",
      "Diferència detectada per la molècula Technetium Tc-99m disofenin:\n",
      "  InchiKey RDKit: JNJYQGLIZTUSCW-IEOVAKBOSA-N\n",
      "  InchiKey SDF: JNJYQGLIZTUSCW-NLQOEHMXSA-N\n",
      "\n",
      "Diferència detectada per la molècula Technetium Tc-99m pyrophosphate:\n",
      "  InchiKey RDKit: OOGKGVXDDGJCPO-IEOVAKBOSA-J\n",
      "  InchiKey SDF: OOGKGVXDDGJCPO-NLQOEHMXSA-J\n",
      "\n",
      "Diferència detectada per la molècula Technetium Tc-99m pertechnetate:\n",
      "  InchiKey RDKit: ZTFPRNKAHXDALS-AZCDSDHNSA-N\n",
      "  InchiKey SDF: ZTFPRNKAHXDALS-RCUQKECRSA-N\n",
      "\n",
      "Diferència detectada per la molècula Technetium Tc-99m sulfur colloid:\n",
      "  InchiKey RDKit: FJTPHHNWVXNMEK-IEOVAKBOSA-N\n",
      "  InchiKey SDF: FJTPHHNWVXNMEK-NLQOEHMXSA-N\n",
      "\n",
      "Diferència detectada per la molècula Nedaplatin:\n",
      "  InchiKey RDKit: GRHLMSBCOPRFNA-UHFFFAOYSA-M\n",
      "  InchiKey SDF: GYAVMUDJCHAASE-UHFFFAOYSA-M\n",
      "\n",
      "Diferència detectada per la molècula Ditiocarb Zinc:\n",
      "  InchiKey RDKit: \n",
      "  InchiKey SDF: NRKWVSAGIOWUJK-UHFFFAOYSA-P\n",
      "\n",
      "Diferència detectada per la molècula Zinc Dibutyldithiocarbamate:\n",
      "  InchiKey RDKit: \n",
      "  InchiKey SDF: UFBKSWVHJMDCMH-UHFFFAOYSA-P\n",
      "\n"
     ]
    }
   ],
   "source": [
    "for mol in supplier:\n",
    "    if mol is not None:\n",
    "        generic_name = mol.GetProp('GENERIC_NAME')\n",
    "        # Obtenir l'InchiKey generat per RDKit\n",
    "        rdkit_inchikey = Chem.MolToInchiKey(mol)\n",
    "        # Obtenir l'InchiKey del camp INCHI_KEY\n",
    "        sdf_inchikey = mol.GetProp('INCHI_KEY')\n",
    "        # Comprovar si els InchiKeys són diferents\n",
    "        if rdkit_inchikey != sdf_inchikey:\n",
    "            print(f'Diferència detectada per la molècula {mol.GetProp(\"GENERIC_NAME\")}:')\n",
    "            print(f'  InchiKey RDKit: {rdkit_inchikey}')\n",
    "            print(f'  InchiKey SDF: {sdf_inchikey}\\n')\n"
   ]
  },
  {
   "cell_type": "markdown",
   "metadata": {},
   "source": [
    "Com podeu veure són casos de molècules una mica extranyes. Moltes tenen Tecneci99 un isòtop radioactiu del Tecneci que s'utilitza habitualment en mètodes de radiodiagnòstic"
   ]
  },
  {
   "cell_type": "markdown",
   "metadata": {},
   "source": [
    "**2.C) Genera un fitxer `SDF` amb les molècules anteriors, passant-les a 3D i eliminant els hidrògens.** [0.75 punt]"
   ]
  },
  {
   "cell_type": "code",
   "execution_count": 8,
   "metadata": {},
   "outputs": [],
   "source": [
    "# Crea un escriptor SDF\n",
    "writer = Chem.SDWriter('molecules.sdf')\n",
    "\n",
    "for mol in first_10_mols:\n",
    "    # Converteix la molècula a 3D\n",
    "    AllChem.EmbedMolecule(mol)\n",
    "    # Elimina els hidrògens\n",
    "    mol = Chem.RemoveHs(mol)\n",
    "    # Escriu la molècula al fitxer SDF\n",
    "    writer.write(mol)\n",
    "\n",
    "# Tanca l'escriptor SDF\n",
    "writer.close()"
   ]
  },
  {
   "cell_type": "markdown",
   "metadata": {},
   "source": [
    "### 3. Càlcul de propietats moleculars\n",
    "\n",
    "**3.a)  Ordena els fàrmacs pel seu pes molecular i mostreu per pantalla el nom, el pes molecular i l'estructura dels 5 més pesats (pes molecular més alt).** [1.5 punts]\n",
    "\n",
    "_Pista: Resulta més fàcil fer-ho fent servir una funció lambda, però no és obligatori. També et proposem que miris la funció `sort()`_"
   ]
  },
  {
   "cell_type": "code",
   "execution_count": 9,
   "metadata": {},
   "outputs": [
    {
     "name": "stdout",
     "output_type": "stream",
     "text": [
      "nom: DB05528, Pes Molecular: 7177.247999999963\n",
      "\n",
      "nom: DB00638, Pes Molecular: 6179.373\n",
      "\n",
      "nom: DB08869, Pes Molecular: 5005.763999999985\n",
      "\n",
      "nom: DB09265, Pes Molecular: 4909.513999999975\n",
      "\n",
      "nom: DB09067, Pes Molecular: 4670.384000000007\n",
      "\n"
     ]
    }
   ],
   "source": [
    "res = []\n",
    "\n",
    "for mol in supplier:\n",
    "    if mol is not  None:\n",
    "        nom = mol.GetProp('DRUGBANK_ID') if mol.HasProp('DRUGBANK_ID') else 'Desconegut'\n",
    "        pes_molecular = Chem.Descriptors.MolWt(mol)\n",
    "        smiles = Chem.MolToSmiles(mol)\n",
    "        estructura = Chem.MolFromSmiles(smiles)\n",
    "        res.append((nom, pes_molecular, estructura))\n",
    "        \n",
    "res_sorted = sorted(res, key=lambda x: x[1], reverse=True)\n",
    "\n",
    "for r in res_sorted[:5]:\n",
    "    nom, pes_molecular, estructura = r\n",
    "    if mol:\n",
    "        mol = Chem.AddHs(mol)\n",
    "        AllChem.Compute2DCoords(mol)\n",
    "        img = Draw.MolToImage(mol)\n",
    "        img.show()\n",
    "        print(f\"nom: {nom}, Pes Molecular: {pes_molecular}\\n\")"
   ]
  },
  {
   "cell_type": "markdown",
   "metadata": {},
   "source": [
    "**3.b) Exporta les imatges de les molècules anteriors a `png` i on el nom de cada arxiu correspongui al codi de DrugBank.** [0.75 punt]\n"
   ]
  },
  {
   "cell_type": "code",
   "execution_count": 10,
   "metadata": {},
   "outputs": [
    {
     "name": "stdout",
     "output_type": "stream",
     "text": [
      "Imatge exportada: DB05528_DrugBank_1.png\n",
      "Imatge exportada: DB00638_DrugBank_2.png\n",
      "Imatge exportada: DB08869_DrugBank_3.png\n",
      "Imatge exportada: DB09265_DrugBank_4.png\n",
      "Imatge exportada: DB09067_DrugBank_5.png\n"
     ]
    }
   ],
   "source": [
    "for i, r in enumerate(res_sorted[:5]):\n",
    "    nom, pes_molecular, estructura = r\n",
    "    if mol:\n",
    "        mol = Chem.AddHs(mol)\n",
    "        AllChem.Compute2DCoords(mol)\n",
    "        img = Draw.MolToImage(mol)\n",
    "        img.show()\n",
    "\n",
    "        nom_arxiu = f\"{nom}_DrugBank_{i + 1}.png\"\n",
    "        img.save(nom_arxiu)\n",
    "        print(f\"Imatge exportada: {nom_arxiu}\")"
   ]
  },
  {
   "cell_type": "markdown",
   "metadata": {},
   "source": [
    "## 4. Filtre de molècules ADME\n",
    "\n",
    "**4.a) Filtra la base de dades de molècules per a quedar-te amb aquelles molècules que compleixin TOTES les regles de Lipinski.** [2 punts]\n",
    "\n",
    "+ Pes molecular <= 500\n",
    "\n",
    "+ LogP <= 5\n",
    "\n",
    "+ Nº de donadors de pont d'H <= 5 (Hydrogen bond donors)\n",
    "\n",
    "+ Nº d'acceptors de pont d'H <= 10 (Hydrogen bond acceptors)\n",
    "\n",
    "Podeu fer servir l'estratègia que considereu, una forma de fer-ho és pas a pas, conservant les molècules que compleixen el primer requisit i després avaluar el següent, i així consecutivament. També podeu escollir entre calcular les propietats amb RDKit o fer servir les que es troben al SDF original, simplement que sapigueu que el nombre de molècules no serà exactament el mateix entre les dues estratègies ja que el LogP pot variar en funció de l'algoritme amb el que es calculi. \n",
    "\n",
    "_Nota: Amb l'alternativa de consultar les propietats del propi SDF, cal assegurar-se que el camp de consulta existeix, sinó ens donarà error._"
   ]
  },
  {
   "cell_type": "code",
   "execution_count": 18,
   "metadata": {},
   "outputs": [
    {
     "name": "stdout",
     "output_type": "stream",
     "text": [
      "Nombre total de molècules: 2352\n",
      "Nombre de molècules que compleixen les regles de Lipinski: 1724\n"
     ]
    }
   ],
   "source": [
    "def filtra_lipinski(mol):\n",
    "    \"\"\"\n",
    "    Filtra una molécula según las reglas de Lipinski.\n",
    "    Retorna True si la molécula pasa el filtro, False en caso contrario.\n",
    "    \"\"\"\n",
    "    return (Descriptors.MolWt(mol) <= 500 and\n",
    "            Descriptors.MolLogP(mol) <= 5 and\n",
    "            Descriptors.NumHDonors(mol) <= 5 and\n",
    "            Descriptors.NumHAcceptors(mol) <= 10)\n",
    "\n",
    "# Crear una llista per emmagatzemar les molècules que compleixen les regles de Lipinski\n",
    "molècules_lipinski = []\n",
    "\n",
    "# Recórrer les molècules del fitxer .sdf i filtrar-les\n",
    "for mol in supplier:\n",
    "    if mol is not None:\n",
    "        if filtra_lipinski(mol):\n",
    "            molècules_lipinski.append(mol)\n",
    "\n",
    "# Mostrar el nombre total de molècules y el nombre de molècules que compleixen las reglas de Lipinski\n",
    "print(f\"Nombre total de molècules: {len(supplier)}\")\n",
    "print(f\"Nombre de molècules que compleixen les regles de Lipinski: {len(molècules_lipinski)}\")"
   ]
  },
  {
   "cell_type": "markdown",
   "metadata": {},
   "source": [
    "**4.b) Exporta a `SMILES` els fàrmacs que cumpleixen les regles de Lipinski. Recorda que als fitxers SMILES s'acostuma a posar el SMILE seguit d'una tabulació i el nom de la molècula.** [1 punt] "
   ]
  },
  {
   "cell_type": "code",
   "execution_count": 21,
   "metadata": {},
   "outputs": [],
   "source": [
    "# Crear un fitxer per emmagatzemar els SMILES i noms de les molècules que compleixen les regles de Lipinski\n",
    "fitxer_smiles = open('molècules_lipinski.smiles', 'w')\n",
    "\n",
    "# Recórrer les molècules del fitxer .sdf i filtrar-les\n",
    "for mol in supplier:\n",
    "    if mol is not None:\n",
    "        if filtra_lipinski(mol):\n",
    "            # Obtenir el SMILES i el nom de la molècula\n",
    "            smiles = Chem.MolToSmiles(mol)\n",
    "            nom = mol.GetProp('GENERIC_NAME') if mol.HasProp('GENERIC_NAME') else 'Desconegut'\n",
    "            \n",
    "            # Escriure el SMILES i el nom al fitxer\n",
    "            fitxer_smiles.write(f\"{smiles}\\t{nom}\\n\")\n",
    "\n",
    "# Tancar el fitxer SMILES\n",
    "fitxer_smiles.close()"
   ]
  }
 ],
 "metadata": {
  "kernelspec": {
   "display_name": "maria",
   "language": "python",
   "name": "maria"
  },
  "language_info": {
   "codemirror_mode": {
    "name": "ipython",
    "version": 3
   },
   "file_extension": ".py",
   "mimetype": "text/x-python",
   "name": "python",
   "nbconvert_exporter": "python",
   "pygments_lexer": "ipython3",
   "version": "3.11.5"
  }
 },
 "nbformat": 4,
 "nbformat_minor": 4
}
