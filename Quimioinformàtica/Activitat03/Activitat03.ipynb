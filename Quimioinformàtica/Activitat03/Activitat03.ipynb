{
 "cells": [
  {
   "cell_type": "markdown",
   "id": "1159a6b1-d967-4b25-884e-7a032a879a82",
   "metadata": {},
   "source": [
    "### 5. Càlcul de la similitud amb morfina utilitzant fingerprints MACCS i Morgan amb RDKit:"
   ]
  },
  {
   "cell_type": "code",
   "execution_count": 1,
   "id": "4bbc9945-33f7-4676-8e2b-36a7bab63835",
   "metadata": {},
   "outputs": [],
   "source": [
    "from rdkit import Chem\n",
    "from rdkit.Chem.Fingerprints import FingerprintMols\n",
    "from rdkit.Chem import MACCSkeys\n",
    "from rdkit.Chem import DataStructs\n",
    "from rdkit.Chem import MolFromSmiles\n",
    "from rdkit.Chem import SDMolSupplier\n",
    "from rdkit.Chem import MolToSmiles "
   ]
  },
  {
   "cell_type": "code",
   "execution_count": 2,
   "id": "b285bd36-3673-4790-94ac-89e3e467ddd5",
   "metadata": {},
   "outputs": [],
   "source": [
    "# Desactivem els warnings i errors de rdkit per una major claredat en el notebook.\n",
    "from rdkit import rdBase\n",
    "rdBase.DisableLog('rdApp.warning')\n",
    "rdBase.DisableLog('rdApp.error')"
   ]
  },
  {
   "cell_type": "code",
   "execution_count": 3,
   "id": "4b0c98fc-534f-4cb5-833f-21ad02a663bd",
   "metadata": {},
   "outputs": [],
   "source": [
    "#supplier = Chem.SDMolSupplier('./drugbank_approved_structures.sdf')"
   ]
  },
  {
   "cell_type": "markdown",
   "id": "f6e861f8-02c3-4850-b077-a00372af8eb1",
   "metadata": {},
   "source": [
    "Quins són els fàrmacs més similars?"
   ]
  },
  {
   "cell_type": "code",
   "execution_count": 4,
   "id": "7602db9c-5dfe-4659-81d6-79886fc22657",
   "metadata": {},
   "outputs": [
    {
     "ename": "KeyError",
     "evalue": "'fpSize'",
     "output_type": "error",
     "traceback": [
      "\u001b[1;31m---------------------------------------------------------------------------\u001b[0m",
      "\u001b[1;31mKeyError\u001b[0m                                  Traceback (most recent call last)",
      "Cell \u001b[1;32mIn[4], line 21\u001b[0m\n\u001b[0;32m     17\u001b[0m morfina_maccs \u001b[38;5;241m=\u001b[39m MACCSkeys\u001b[38;5;241m.\u001b[39mGenMACCSKeys(morfina)\n\u001b[0;32m     19\u001b[0m \u001b[38;5;66;03m# Calcula el fingerprint Morgan (Bits de 2D, diàmetre 2) de la morfina\u001b[39;00m\n\u001b[0;32m     20\u001b[0m \u001b[38;5;66;03m# morfina_morgan = FingerprintMols.FingerprintMol(morfina, minPath=1, maxPath=2, useHs=True, fpSize=2048)\u001b[39;00m\n\u001b[1;32m---> 21\u001b[0m morfina_morgan \u001b[38;5;241m=\u001b[39m FingerprintMols\u001b[38;5;241m.\u001b[39mFingerprintMol(morfina, minPath\u001b[38;5;241m=\u001b[39m\u001b[38;5;241m1\u001b[39m, maxPath\u001b[38;5;241m=\u001b[39m\u001b[38;5;241m2\u001b[39m, useHs\u001b[38;5;241m=\u001b[39m\u001b[38;5;28;01mTrue\u001b[39;00m)\n\u001b[0;32m     22\u001b[0m \u001b[38;5;66;03m# Llista per emmagatzemar les similituds\u001b[39;00m\n\u001b[0;32m     23\u001b[0m similituds_maccs \u001b[38;5;241m=\u001b[39m []\n",
      "File \u001b[1;32m~\\AppData\\Local\\miniconda3\\envs\\maria\\Lib\\site-packages\\rdkit\\Chem\\Fingerprints\\FingerprintMols.py:68\u001b[0m, in \u001b[0;36mFingerprintMol\u001b[1;34m(mol, fingerprinter, **fpArgs)\u001b[0m\n\u001b[0;32m     65\u001b[0m   fp \u001b[38;5;241m=\u001b[39m fingerprinter(mol, \u001b[38;5;241m*\u001b[39m\u001b[38;5;241m*\u001b[39mfpArgs)\n\u001b[0;32m     66\u001b[0m   \u001b[38;5;28;01mreturn\u001b[39;00m FoldFingerprintToTargetDensity(fp, \u001b[38;5;241m*\u001b[39m\u001b[38;5;241m*\u001b[39mfpArgs)\n\u001b[1;32m---> 68\u001b[0m \u001b[38;5;28;01mreturn\u001b[39;00m fingerprinter(mol, fpArgs[\u001b[38;5;124m'\u001b[39m\u001b[38;5;124mminPath\u001b[39m\u001b[38;5;124m'\u001b[39m], fpArgs[\u001b[38;5;124m'\u001b[39m\u001b[38;5;124mmaxPath\u001b[39m\u001b[38;5;124m'\u001b[39m], fpArgs[\u001b[38;5;124m'\u001b[39m\u001b[38;5;124mfpSize\u001b[39m\u001b[38;5;124m'\u001b[39m],\n\u001b[0;32m     69\u001b[0m                      fpArgs[\u001b[38;5;124m'\u001b[39m\u001b[38;5;124mbitsPerHash\u001b[39m\u001b[38;5;124m'\u001b[39m], fpArgs[\u001b[38;5;124m'\u001b[39m\u001b[38;5;124museHs\u001b[39m\u001b[38;5;124m'\u001b[39m], fpArgs[\u001b[38;5;124m'\u001b[39m\u001b[38;5;124mtgtDensity\u001b[39m\u001b[38;5;124m'\u001b[39m],\n\u001b[0;32m     70\u001b[0m                      fpArgs[\u001b[38;5;124m'\u001b[39m\u001b[38;5;124mminSize\u001b[39m\u001b[38;5;124m'\u001b[39m])\n",
      "\u001b[1;31mKeyError\u001b[0m: 'fpSize'"
     ]
    }
   ],
   "source": [
    "# Carrega les molècules de l'arxiu SDF\n",
    "supplier = SDMolSupplier('./drugbank_approved_structures.sdf')\n",
    "molecules = [mol for mol in supplier if mol is not None]\n",
    "\n",
    "# Cerca la morfina entre les molècules\n",
    "morfina_smiles = None\n",
    "for mol in molecules:\n",
    "    if mol.GetProp('GENERIC_NAME') == 'Morphine':\n",
    "        morfina_smiles = MolToSmiles(mol)\n",
    "        break\n",
    "\n",
    "# Verifica si s'ha trobat la morfina i crea la molècula\n",
    "if morfina_smiles is not None:\n",
    "    morfina = MolFromSmiles(morfina_smiles)\n",
    "\n",
    "    # Calcula el fingerprint MACCS de la morfina\n",
    "    morfina_maccs = MACCSkeys.GenMACCSKeys(morfina)\n",
    "\n",
    "    # Calcula el fingerprint Morgan (Bits de 2D, diàmetre 2) de la morfina\n",
    "    # morfina_morgan = FingerprintMols.FingerprintMol(morfina, minPath=1, maxPath=2, useHs=True, fpSize=2048)\n",
    "    morfina_morgan = FingerprintMols.FingerprintMol(morfina, minPath=1, maxPath=2, useHs=True)\n",
    "    # Llista per emmagatzemar les similituds\n",
    "    similituds_maccs = []\n",
    "    similituds_morgan = []\n",
    "\n",
    "    # Recorre les molècules filtrades per Lipinski\n",
    "    for mol in molecules_lipinski:\n",
    "        # Calcula els fingerprints MACCS i Morgan de la molècula\n",
    "        mol_maccs = MACCSkeys.GenMACCSKeys(mol)\n",
    "        mol_morgan = FingerprintMols.FingerprintMol(mol, minPath=1, maxPath=2, useHs=True, fpSize=2048)\n",
    "\n",
    "        # Calcula la similitud amb la morfina utilitzant Tanimoto\n",
    "        similitud_maccs = DataStructs.TanimotoSimilarity(morfina_maccs, mol_maccs)\n",
    "        similitud_morgan = DataStructs.TanimotoSimilarity(morfina_morgan, mol_morgan)\n",
    "\n",
    "        # Emmagatzema les similituds\n",
    "        similituds_maccs.append((mol.GetProp('GENERIC_NAME'), similitud_maccs))\n",
    "        similituds_morgan.append((mol.GetProp('GENERIC_NAME'), similitud_morgan))\n",
    "\n",
    "    # Ordena les similituds\n",
    "    similituds_maccs = sorted(similituds_maccs, key=lambda x: x[1], reverse=True)\n",
    "    similituds_morgan = sorted(similituds_morgan, key=lambda x: x[1], reverse=True)\n",
    "\n",
    "    # Mostra els fàrmacs més similars amb morfina\n",
    "    print(\"Fàrmacs més similars amb morfina (MACCS):\")\n",
    "    for nom, similitud in similituds_maccs[:5]:\n",
    "        print(f\"{nom}: {similitud}\")\n",
    "\n",
    "    print(\"\\nFàrmacs més similars amb morfina (Morgan):\")\n",
    "    for nom, similitud in similituds_morgan[:5]:\n",
    "        print(f\"{nom}: {similitud}\")\n",
    "else:\n",
    "    print(\"Morfina no trobada a l'arxiu.\")"
   ]
  },
  {
   "cell_type": "markdown",
   "id": "47383882-0824-4a9a-b4f6-b0aa905cf62f",
   "metadata": {},
   "source": [
    "Tenen la mateixa funció?"
   ]
  },
  {
   "cell_type": "markdown",
   "id": "82d3600d-ecd9-4cbf-ad97-e735cc37c800",
   "metadata": {},
   "source": [
    "Són actius per a les mateixes proteïnes?"
   ]
  },
  {
   "cell_type": "markdown",
   "id": "51705e40-6e0a-4e1f-98ca-13760adf4b04",
   "metadata": {},
   "source": [
    "### 7. Similitud amb metadona"
   ]
  },
  {
   "cell_type": "code",
   "execution_count": null,
   "id": "2b5617a6-e635-4906-94ee-66bf14b081fc",
   "metadata": {},
   "outputs": [],
   "source": [
    "# SMILES de la metadona\n",
    "metadona_smiles = 'CC(C)N(C(=O)C1=CC=CC=C1)C(C)C'\n",
    "\n",
    "# Carrega la molècula de metadona\n",
    "metadona = Chem.MolFromSmiles(metadona_smiles)\n",
    "\n",
    "# Calcula el fingerprint MACCS de la metadona\n",
    "metadona_maccs = MACCSkeys.GenMACCSKeys(metadona)\n",
    "\n",
    "# Calcula el fingerprint Morgan de la metadona\n",
    "metadona_morgan = FingerprintMols.FingerprintMol(metadona, minPath=1, maxPath=2)\n",
    "\n",
    "# Llista per emmagatzemar les similituds amb metadona\n",
    "similituds_metadona_maccs = []\n",
    "similituds_metadona_morgan = []\n",
    "\n",
    "# Recorre les molècules filtrades per Lipinski\n",
    "for mol in molècules_lipinski:\n",
    "    # Calcula els fingerprints MACCS i Morgan de la molècula\n",
    "    mol_maccs = MACCSkeys.GenMACCSKeys(mol)\n",
    "    mol_morgan = FingerprintMols.FingerprintMol(mol, minPath=1, maxPath=2)\n",
    "\n",
    "    # Calcula la similitud amb metadona utilitzant Tanimoto\n",
    "    similitud_maccs = DataStructs.TanimotoSimilarity(metadona_maccs, mol_maccs)\n",
    "    similitud_morgan = DataStructs.TanimotoSimilarity(metadona_morgan, mol_morgan)\n",
    "\n",
    "    # Emmagatzema les similituds amb metadona\n",
    "    similituds_metadona_maccs.append((mol.GetProp('GENERIC_NAME'), similitud_maccs))\n",
    "    similituds_metadona_morgan.append((mol.GetProp('GENERIC_NAME'), similitud_morgan))\n",
    "\n",
    "# Ordena les similituds amb metadona\n",
    "similituds_metadona_maccs = sorted(similituds_metadona_maccs, key=lambda x: x[1], reverse=True)\n",
    "similituds_metadona_morgan = sorted(similituds_metadona_morgan, key=lambda x: x[1], reverse=True)\n",
    "\n",
    "# Mostra els fàrmacs més similars amb metadona\n",
    "print(\"Fàrmacs més similars amb metadona (MACCS):\")\n",
    "for nom, similitud in similituds_metadona_maccs[:5]:\n",
    "    print(f\"{nom}: {similitud}\")\n",
    "\n",
    "print(\"\\nFàrmacs més similars amb metadona (Morgan):\")\n",
    "for nom, similitud in similituds_metadona_morgan[:5]:\n",
    "    print(f\"{nom}: {similitud}\")"
   ]
  },
  {
   "cell_type": "code",
   "execution_count": null,
   "id": "eb726800-a42d-4fcc-9882-c076a9915163",
   "metadata": {},
   "outputs": [],
   "source": []
  }
 ],
 "metadata": {
  "kernelspec": {
   "display_name": "maria",
   "language": "python",
   "name": "maria"
  },
  "language_info": {
   "codemirror_mode": {
    "name": "ipython",
    "version": 3
   },
   "file_extension": ".py",
   "mimetype": "text/x-python",
   "name": "python",
   "nbconvert_exporter": "python",
   "pygments_lexer": "ipython3",
   "version": "3.11.5"
  }
 },
 "nbformat": 4,
 "nbformat_minor": 5
}
