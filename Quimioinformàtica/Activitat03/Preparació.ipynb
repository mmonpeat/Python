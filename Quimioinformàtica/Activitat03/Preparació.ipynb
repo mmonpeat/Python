{
 "cells": [
  {
   "cell_type": "markdown",
   "id": "580a88ea-30e0-4dec-b590-ea820532ec1e",
   "metadata": {},
   "source": [
    "Com conseguir fringerprints?\n",
    "\n",
    "Comparar fringerprints MACCS i fringerprints Morgan\n",
    "\n",
    "Quins són els fàrmacs més similars ?\n",
    "\n",
    "Tenen la mateixa funció ? \n",
    "\n",
    "Són actius per a les mateixes proteïnes ?\n",
    "\n",
    "Quina és la seva similitud amb metadona ?"
   ]
  },
  {
   "cell_type": "markdown",
   "id": "1159a6b1-d967-4b25-884e-7a032a879a82",
   "metadata": {},
   "source": [
    "### 1. Càlcul de la similitud amb morfina utilitzant fingerprints MACCS i Morgan amb RDKit:"
   ]
  },
  {
   "cell_type": "code",
   "execution_count": 1,
   "id": "4bbc9945-33f7-4676-8e2b-36a7bab63835",
   "metadata": {},
   "outputs": [],
   "source": [
    "from rdkit import Chem\n",
    "from rdkit.Chem.Fingerprints import FingerprintMols\n",
    "from rdkit.Chem import AllChem\n",
    "from rdkit.Chem import MACCSkeys\n",
    "from rdkit.Chem import DataStructs\n",
    "from rdkit.Chem import MolFromSmiles\n",
    "from rdkit.Chem import SDMolSupplier\n",
    "from rdkit.Chem import MolToSmiles "
   ]
  },
  {
   "cell_type": "code",
   "execution_count": 2,
   "id": "b285bd36-3673-4790-94ac-89e3e467ddd5",
   "metadata": {},
   "outputs": [],
   "source": [
    "# Desactivem els warnings i errors de rdkit per una major claredat en el notebook.\n",
    "from rdkit import rdBase\n",
    "rdBase.DisableLog('rdApp.warning')\n",
    "rdBase.DisableLog('rdApp.error')"
   ]
  },
  {
   "cell_type": "code",
   "execution_count": 3,
   "id": "4b0c98fc-534f-4cb5-833f-21ad02a663bd",
   "metadata": {},
   "outputs": [],
   "source": [
    "supplier = Chem.SDMolSupplier('./drugbank_approved_structures.sdf')"
   ]
  },
  {
   "cell_type": "markdown",
   "id": "f6e861f8-02c3-4850-b077-a00372af8eb1",
   "metadata": {},
   "source": [
    "Aconseguir morphine de l'arxiu de DrugBank."
   ]
  },
  {
   "cell_type": "code",
   "execution_count": 4,
   "id": "05d0dc83-d202-4bda-8359-af89eb919d40",
   "metadata": {},
   "outputs": [
    {
     "data": {
      "image/png": "[encoded data removed]",
      "text/html": [
       "<table><tr><td colspan=\"2\" style=\"text-align: center;\"><image src=\"data:image/png;base64,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\"></td></tr>\n",
       "<tr><th style=\"text-align: right\">DATABASE_ID</th><td style=\"text-align: left\">DB00295</td></tr>\n",
       "<tr><th style=\"text-align: right\">DATABASE_NAME</th><td style=\"text-align: left\">drugbank</td></tr>\n",
       "<tr><th style=\"text-align: right\">SMILES</th><td style=\"text-align: left\">[H][C@@]12OC3=C(O)C=CC4=C3[C@@]11CCN(C)[C@]([H])(C4)[C@]1([H])C=C[C@@H]2O</td></tr>\n",
       "<tr><th style=\"text-align: right\">INCHI_IDENTIFIER</th><td style=\"text-align: left\">InChI=1S/C17H19NO3/c1-18-7-6-17-10-3-5-13(20)16(17)21-15-12(19)4-2-9(14(15)17)8-11(10)18/h2-5,10-11,13,16,19-20H,6-8H2,1H3/t10-,11+,13-,16-,17-/m0/s1</td></tr>\n",
       "<tr><th style=\"text-align: right\">INCHI_KEY</th><td style=\"text-align: left\">BQJCRHHNABKAKU-KBQPJGBKSA-N</td></tr>\n",
       "<tr><th style=\"text-align: right\">FORMULA</th><td style=\"text-align: left\">C17H19NO3</td></tr>\n",
       "<tr><th style=\"text-align: right\">MOLECULAR_WEIGHT</th><td style=\"text-align: left\">285.3377</td></tr>\n",
       "<tr><th style=\"text-align: right\">EXACT_MASS</th><td style=\"text-align: left\">285.136493479</td></tr>\n",
       "<tr><th style=\"text-align: right\">JCHEM_ACCEPTOR_COUNT</th><td style=\"text-align: left\">4</td></tr>\n",
       "<tr><th style=\"text-align: right\">JCHEM_AVERAGE_POLARIZABILITY</th><td style=\"text-align: left\">29.951034386845045</td></tr>\n",
       "<tr><td colspan=\"2\" style=\"text-align: center\">Property list truncated.<br />Increase IPythonConsole.ipython_maxProperties (or set it to -1) to see more properties.</td></tr></table>"
      ],
      "text/plain": [
       "<rdkit.Chem.rdchem.Mol at 0x1bc6bc17760>"
      ]
     },
     "execution_count": 4,
     "metadata": {},
     "output_type": "execute_result"
    }
   ],
   "source": [
    "molecules = [mol for mol in supplier if mol is not None]\n",
    "\n",
    "# Cerca la morfina entre les molècules\n",
    "for mol in molecules:\n",
    "    if mol.GetProp('GENERIC_NAME') == 'Morphine':\n",
    "        break\n",
    "morphine = mol\n",
    "morphine\n",
    "# type(morphine)"
   ]
  },
  {
   "cell_type": "markdown",
   "id": "75df35d2-847f-49cc-b570-72b7a6423262",
   "metadata": {},
   "source": [
    "Funcions per calcular i comparar fringerprints:"
   ]
  },
  {
   "cell_type": "code",
   "execution_count": 5,
   "id": "2233e16d-3300-40ba-8a1b-82493bf7adb6",
   "metadata": {},
   "outputs": [],
   "source": [
    "def calcula_maccs_fringerprint(mol):\n",
    "    fp = MACCSkeys.GenMACCSKeys(mol)\n",
    "    return (fp)\n",
    "def calcula_morgan_fringerprint(mol):\n",
    "    fp = AllChem.GetMorganFingerprintAsBitVect(mol, 2, nBits=2048)\n",
    "    return (fp)\n",
    "def comparar_fingerprints(fp1, fp2):\n",
    "    similitud = DataStructs.TanimotoSimilarity(fp1, fp2)\n",
    "    return similitud"
   ]
  },
  {
   "cell_type": "markdown",
   "id": "06e5c9fc-bee2-48aa-bb99-4440df3cc07c",
   "metadata": {},
   "source": [
    "Fringerprints de la morfina:"
   ]
  },
  {
   "cell_type": "code",
   "execution_count": 6,
   "id": "8ed79f00-1eff-4a9e-afa2-6725b64c6406",
   "metadata": {},
   "outputs": [],
   "source": [
    "maccs_morphine = calcula_maccs_fringerprint(morphine)\n",
    "morgan_morphine = calcula_morgan_fringerprint(morphine)\n",
    "# list(maccs_morphine)"
   ]
  },
  {
   "cell_type": "markdown",
   "id": "201545c7-785e-45a6-beca-e3efb1d5df8f",
   "metadata": {},
   "source": [
    "#### Trobant les Molècules Més Semblants a la Morfina amb Fingerprints MACCS"
   ]
  },
  {
   "cell_type": "code",
   "execution_count": 7,
   "id": "bd6d8e58-29a6-4859-af23-bf6a10c6400d",
   "metadata": {},
   "outputs": [
    {
     "name": "stdout",
     "output_type": "stream",
     "text": [
      "Molecule Name: Morphine\t\t Similarity Score: 1.0\n",
      "Molecule Name: Codeine\t\t Similarity Score: 0.94\n",
      "Molecule Name: Hydromorphone\t\t Similarity Score: 0.8823529411764706\n",
      "Molecule Name: Dihydrocodeine\t\t Similarity Score: 0.8518518518518519\n",
      "Molecule Name: Oxymorphone\t\t Similarity Score: 0.8392857142857143\n"
     ]
    }
   ],
   "source": [
    "# calcula les similituds entre les molècules i la morfina utilitzant empremtes MACCS, ordena les molècules segons aquestes similituds de més a menys semblants, \n",
    "# i mostra els noms i puntuacions de similitud de les cinc molècules més semblants.\n",
    "llista_similituds_maccs = []\n",
    "molecules_sorted_bySimilarity = []\n",
    "for mol in molecules:\n",
    "    maccs_mol = calcula_maccs_fringerprint(mol)\n",
    "    similarity = comparar_fingerprints(maccs_morphine, maccs_mol)\n",
    "    llista_similituds_maccs.append(similarity)\n",
    "    molecules_sorted_bySimilarity.append((similarity, mol))\n",
    "\n",
    "# .sort() ordena dins de la llista i sorted(llist) retorna una llista ordenada, pt s'hauria de guardar en una variable\n",
    "# Si la similitud es 1 significa que és igual i si es 0 significa que la molècula amb la que la compares és completament diferent\n",
    "molecules_sorted_bySimilarity.sort(key=lambda x: x[0], reverse=True)\n",
    "\n",
    "for idx in range(5):\n",
    "    similarity, mol = molecules_sorted_bySimilarity[idx]\n",
    "    print(f\"Molecule Name: {mol.GetProp('GENERIC_NAME')}\\t\\t Similarity Score: {similarity}\")"
   ]
  },
  {
   "cell_type": "markdown",
   "id": "b247a6b4-c04d-4886-822d-f17189f2da1b",
   "metadata": {},
   "source": [
    "#### Trobant les Molècules Més Semblants a la Morfina amb Fingerprints Morgan"
   ]
  },
  {
   "cell_type": "code",
   "execution_count": 8,
   "id": "c58c1ab8-71d7-44ac-a085-1410083a2158",
   "metadata": {},
   "outputs": [
    {
     "name": "stdout",
     "output_type": "stream",
     "text": [
      "Molecule Name: Morphine\t\t Similarity Score: 1.0\n",
      "Molecule Name: Codeine\t\t Similarity Score: 0.7592592592592593\n",
      "Molecule Name: Pholcodine\t\t Similarity Score: 0.640625\n",
      "Molecule Name: Diamorphine\t\t Similarity Score: 0.5538461538461539\n",
      "Molecule Name: Hydromorphone\t\t Similarity Score: 0.5409836065573771\n"
     ]
    }
   ],
   "source": [
    "llista_similituds_morgan = []\n",
    "molecules_sorted_bySimilarity_morgan = []\n",
    "for mol in molecules:\n",
    "    morgan_mol = calcula_morgan_fringerprint(mol)\n",
    "    similarity = comparar_fingerprints(morgan_morphine, morgan_mol)\n",
    "    llista_similituds_morgan.append(similarity)\n",
    "    molecules_sorted_bySimilarity_morgan.append((similarity, mol))\n",
    "\n",
    "molecules_sorted_bySimilarity_morgan.sort(key=lambda x: x[0], reverse=True)\n",
    "\n",
    "for idx in range(5):\n",
    "    similarity, mol = molecules_sorted_bySimilarity_morgan[idx]\n",
    "    print(f\"Molecule Name: {mol.GetProp('GENERIC_NAME')}\\t\\t Similarity Score: {similarity}\")"
   ]
  },
  {
   "cell_type": "markdown",
   "id": "ac0b687d-cd68-46f4-b56e-016de9259e79",
   "metadata": {},
   "source": [
    "### 2. Funcionalitats similars? La Morfina i la Codeina tenen fingerprints MACCS i Morgan més similars"
   ]
  },
  {
   "cell_type": "code",
   "execution_count": 9,
   "id": "eb726800-a42d-4fcc-9882-c076a9915163",
   "metadata": {},
   "outputs": [
    {
     "name": "stdout",
     "output_type": "stream",
     "text": [
      "\t\t\t\t\t\t\t\t\tMorphine\n"
     ]
    },
    {
     "data": {
      "image/png": "[encoded data removed]",
      "text/html": [
       "<table><tr><td colspan=\"2\" style=\"text-align: center;\"><image src=\"data:image/png;base64,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\"></td></tr>\n",
       "<tr><th style=\"text-align: right\">DATABASE_ID</th><td style=\"text-align: left\">DB00295</td></tr>\n",
       "<tr><th style=\"text-align: right\">DATABASE_NAME</th><td style=\"text-align: left\">drugbank</td></tr>\n",
       "<tr><th style=\"text-align: right\">SMILES</th><td style=\"text-align: left\">[H][C@@]12OC3=C(O)C=CC4=C3[C@@]11CCN(C)[C@]([H])(C4)[C@]1([H])C=C[C@@H]2O</td></tr>\n",
       "<tr><th style=\"text-align: right\">INCHI_IDENTIFIER</th><td style=\"text-align: left\">InChI=1S/C17H19NO3/c1-18-7-6-17-10-3-5-13(20)16(17)21-15-12(19)4-2-9(14(15)17)8-11(10)18/h2-5,10-11,13,16,19-20H,6-8H2,1H3/t10-,11+,13-,16-,17-/m0/s1</td></tr>\n",
       "<tr><th style=\"text-align: right\">INCHI_KEY</th><td style=\"text-align: left\">BQJCRHHNABKAKU-KBQPJGBKSA-N</td></tr>\n",
       "<tr><th style=\"text-align: right\">FORMULA</th><td style=\"text-align: left\">C17H19NO3</td></tr>\n",
       "<tr><th style=\"text-align: right\">MOLECULAR_WEIGHT</th><td style=\"text-align: left\">285.3377</td></tr>\n",
       "<tr><th style=\"text-align: right\">EXACT_MASS</th><td style=\"text-align: left\">285.136493479</td></tr>\n",
       "<tr><th style=\"text-align: right\">JCHEM_ACCEPTOR_COUNT</th><td style=\"text-align: left\">4</td></tr>\n",
       "<tr><th style=\"text-align: right\">JCHEM_AVERAGE_POLARIZABILITY</th><td style=\"text-align: left\">29.951034386845045</td></tr>\n",
       "<tr><td colspan=\"2\" style=\"text-align: center\">Property list truncated.<br />Increase IPythonConsole.ipython_maxProperties (or set it to -1) to see more properties.</td></tr></table>"
      ],
      "text/plain": [
       "<rdkit.Chem.rdchem.Mol at 0x1bc6bc17760>"
      ]
     },
     "execution_count": 9,
     "metadata": {},
     "output_type": "execute_result"
    }
   ],
   "source": [
    "for m in molecules:\n",
    "    if m.GetProp('GENERIC_NAME') == 'Morphine':\n",
    "        break\n",
    "morphine = m\n",
    "\n",
    "print(f\"\\t\\t\\t\\t\\t\\t\\t\\t\\t{m.GetProp('GENERIC_NAME')}\")\n",
    "morphine"
   ]
  },
  {
   "cell_type": "code",
   "execution_count": 10,
   "id": "4f876975-c016-405b-819e-19468b3822c3",
   "metadata": {},
   "outputs": [
    {
     "name": "stdout",
     "output_type": "stream",
     "text": [
      "\t\t\t\t\t\t\t\t\tCodeine\n"
     ]
    },
    {
     "data": {
      "image/png": "[encoded data removed]",
      "text/html": [
       "<table><tr><td colspan=\"2\" style=\"text-align: center;\"><image src=\"data:image/png;base64,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\"></td></tr>\n",
       "<tr><th style=\"text-align: right\">DATABASE_ID</th><td style=\"text-align: left\">DB00318</td></tr>\n",
       "<tr><th style=\"text-align: right\">DATABASE_NAME</th><td style=\"text-align: left\">drugbank</td></tr>\n",
       "<tr><th style=\"text-align: right\">SMILES</th><td style=\"text-align: left\">[H][C@@]12OC3=C(OC)C=CC4=C3[C@@]11CCN(C)[C@]([H])(C4)[C@]1([H])C=C[C@@H]2O</td></tr>\n",
       "<tr><th style=\"text-align: right\">INCHI_IDENTIFIER</th><td style=\"text-align: left\">InChI=1S/C18H21NO3/c1-19-8-7-18-11-4-5-13(20)17(18)22-16-14(21-2)6-3-10(15(16)18)9-12(11)19/h3-6,11-13,17,20H,7-9H2,1-2H3/t11-,12+,13-,17-,18-/m0/s1</td></tr>\n",
       "<tr><th style=\"text-align: right\">INCHI_KEY</th><td style=\"text-align: left\">OROGSEYTTFOCAN-DNJOTXNNSA-N</td></tr>\n",
       "<tr><th style=\"text-align: right\">FORMULA</th><td style=\"text-align: left\">C18H21NO3</td></tr>\n",
       "<tr><th style=\"text-align: right\">MOLECULAR_WEIGHT</th><td style=\"text-align: left\">299.3642</td></tr>\n",
       "<tr><th style=\"text-align: right\">EXACT_MASS</th><td style=\"text-align: left\">299.152143543</td></tr>\n",
       "<tr><th style=\"text-align: right\">JCHEM_ACCEPTOR_COUNT</th><td style=\"text-align: left\">4</td></tr>\n",
       "<tr><th style=\"text-align: right\">JCHEM_AVERAGE_POLARIZABILITY</th><td style=\"text-align: left\">31.952388126939802</td></tr>\n",
       "<tr><td colspan=\"2\" style=\"text-align: center\">Property list truncated.<br />Increase IPythonConsole.ipython_maxProperties (or set it to -1) to see more properties.</td></tr></table>"
      ],
      "text/plain": [
       "<rdkit.Chem.rdchem.Mol at 0x1bc6bc18190>"
      ]
     },
     "execution_count": 10,
     "metadata": {},
     "output_type": "execute_result"
    }
   ],
   "source": [
    "for mol in molecules:\n",
    "    if mol.GetProp('GENERIC_NAME') == 'Codeine':\n",
    "        break\n",
    "codeine = mol\n",
    "\n",
    "print(f\"\\t\\t\\t\\t\\t\\t\\t\\t\\t{mol.GetProp('GENERIC_NAME')}\")\n",
    "codeine"
   ]
  },
  {
   "cell_type": "markdown",
   "id": "1f7c4ab6-4804-4acb-bc0e-82f328e60c12",
   "metadata": {},
   "source": [
    "#### FUNCIONALITATS\n",
    "\n",
    "Morphine is an opioid agonist used for the relief of moderate to severe acute and chronic pain.\n",
    "\n",
    "Codeine is an opioid analgesic used to treat moderate to severe pain when the use of an opioid is indicated."
   ]
  },
  {
   "cell_type": "markdown",
   "id": "2d0690ac-fedc-4821-8125-fbe0a87c60f3",
   "metadata": {},
   "source": [
    "### 3. Són actius per a les mateixes proteïnes, la Morfina i la Codeina?"
   ]
  },
  {
   "cell_type": "markdown",
   "id": "804234e4-5189-4be2-aaef-393f23124479",
   "metadata": {},
   "source": [
    "https://go.drugbank.com/drugs/DB00295\n",
    "\n",
    "https://go.drugbank.com/drugs/DB00318"
   ]
  },
  {
   "cell_type": "markdown",
   "id": "51705e40-6e0a-4e1f-98ca-13760adf4b04",
   "metadata": {},
   "source": [
    "### 4. Similitud amb metadona i la morfina"
   ]
  },
  {
   "cell_type": "code",
   "execution_count": 14,
   "id": "19a8a228-be42-4ad2-96a9-963d4d3f3168",
   "metadata": {},
   "outputs": [
    {
     "name": "stdout",
     "output_type": "stream",
     "text": [
      "Similitud MACCS entre Morfina i Metadona: 0.40229885057471265\n",
      "Similitud Morgan entre Morfina i Metadona: 0.09523809523809523\n"
     ]
    }
   ],
   "source": [
    "maccs_morphine = calcula_maccs_fringerprint(morphine)\n",
    "morgan_morphine = calcula_morgan_fringerprint(morphine)\n",
    "\n",
    "for mol in molecules:\n",
    "    if mol.GetProp('GENERIC_NAME') == 'Metadona':\n",
    "        break\n",
    "metadona = mol\n",
    "maccs_metadona = calcula_maccs_fringerprint(metadona)\n",
    "morgan_metadona = calcula_morgan_fringerprint(metadona)\n",
    "\n",
    "similarity_maccs = comparar_fingerprints(maccs_morphine, maccs_metadona)\n",
    "similarity_morgan = comparar_fingerprints(morgan_morphine, morgan_metadona)\n",
    "\n",
    "print(f\"Similitud MACCS entre Morfina i Metadona: {similarity_maccs}\")\n",
    "print(f\"Similitud Morgan entre Morfina i Metadona: {similarity_morgan}\")"
   ]
  }
 ],
 "metadata": {
  "kernelspec": {
   "display_name": "maria",
   "language": "python",
   "name": "maria"
  },
  "language_info": {
   "codemirror_mode": {
    "name": "ipython",
    "version": 3
   },
   "file_extension": ".py",
   "mimetype": "text/x-python",
   "name": "python",
   "nbconvert_exporter": "python",
   "pygments_lexer": "ipython3",
   "version": "3.11.5"
  }
 },
 "nbformat": 4,
 "nbformat_minor": 5
}
