{
 "cells": [
  {
   "cell_type": "markdown",
   "id": "28ef5c47-608d-4e42-a571-8df8cfad9f49",
   "metadata": {},
   "source": [
    "# 4.3 Machine Learning - Virtual Screening\n",
    "\n",
    "En aquest notebook veurem com aplicar el que hem vist en l'activitat anterior per fer un **Virtual Screening**\n",
    "\n",
    "De manera similar a com hem fet amb imatges, podem  aplicar xarxes neurals per **classificar** molècules. Només ens cal una manera de representar les molècules com un tensor, i els fingerprints que ja hem vist (MACCS o Morgan) són ideals per a fer-ho.\n",
    "\n",
    "Ens centrarem en el **[receptor del factor de creixement epidèrmic](https://es.wikipedia.org/wiki/Receptor_del_factor_de_crecimiento_epid%C3%A9rmico)**, més conegut per les seves sigles **EGFR**. És un conegut **[oncogen](https://ca.wikipedia.org/wiki/Oncog%C3%A8n)**, que quan s'expressa en nivells alts afavoreix la conversió de la cèl·lula en tumoral. És per tant una proteïna diana de molts fàrmacs anticancerosos.\n",
    "\n",
    "L'objectiu de l'activitat és construir un model basat en una xarxa neural que ens digui si una molècula determinada pot inhibir o no aquesta proteïna."
   ]
  },
  {
   "cell_type": "code",
   "execution_count": 1,
   "id": "6aaad7b0-2c83-41cc-851f-648de1e69d64",
   "metadata": {
    "tags": []
   },
   "outputs": [],
   "source": [
    "import numpy as np\n",
    "import pandas as pd"
   ]
  },
  {
   "cell_type": "code",
   "execution_count": 2,
   "id": "5e6463c2-e8b3-4c84-be71-59ea29b98611",
   "metadata": {
    "tags": []
   },
   "outputs": [],
   "source": [
    "from rdkit import Chem\n",
    "from rdkit.Chem import MACCSkeys\n",
    "from rdkit.Chem import AllChem"
   ]
  },
  {
   "cell_type": "markdown",
   "id": "5a7f423c-ed7b-48c8-a34e-6e2c73d89740",
   "metadata": {},
   "source": [
    "### 1. Preparació de les dades\n",
    "\n",
    "Farem servir dades extretes de [ChEMBL](https://www.ebi.ac.uk/chembl/g/#browse/activities/filter/target_chembl_id%3ACHEMBL203) per aconseguir tots els compostos coneguts que interaccionen amb la proteïna EGFR. Amb aquestes dades entrenarem la xarxa neural. Seleccionem tots el compostos amb una activitat (pChEMBL) > 6 i els etiquetarem com a actius. Hi ha els fitxers extrets de ChEMBL al moodle."
   ]
  },
  {
   "cell_type": "code",
   "execution_count": 3,
   "id": "4de87adf-23c1-4664-8495-14d5a8f97f7a",
   "metadata": {
    "tags": []
   },
   "outputs": [
    {
     "name": "stdout",
     "output_type": "stream",
     "text": [
      "HI HA 7,141 compostos a ChEMBL amb afinitat per a EGFR amb estructura\n"
     ]
    },
    {
     "data": {
      "text/html": [
       "<div>\n",
       "<style scoped>\n",
       "    .dataframe tbody tr th:only-of-type {\n",
       "        vertical-align: middle;\n",
       "    }\n",
       "\n",
       "    .dataframe tbody tr th {\n",
       "        vertical-align: top;\n",
       "    }\n",
       "\n",
       "    .dataframe thead th {\n",
       "        text-align: right;\n",
       "    }\n",
       "</style>\n",
       "<table border=\"1\" class=\"dataframe\">\n",
       "  <thead>\n",
       "    <tr style=\"text-align: right;\">\n",
       "      <th></th>\n",
       "      <th>id</th>\n",
       "      <th>name</th>\n",
       "      <th>pACT</th>\n",
       "      <th>smiles</th>\n",
       "    </tr>\n",
       "  </thead>\n",
       "  <tbody>\n",
       "    <tr>\n",
       "      <th>20829</th>\n",
       "      <td>CHEMBL53711</td>\n",
       "      <td>NaN</td>\n",
       "      <td>11.22</td>\n",
       "      <td>CN(C)c1cc2c(Nc3cccc(Br)c3)ncnc2cn1</td>\n",
       "    </tr>\n",
       "    <tr>\n",
       "      <th>18248</th>\n",
       "      <td>CHEMBL35820</td>\n",
       "      <td>NaN</td>\n",
       "      <td>11.22</td>\n",
       "      <td>CCOc1cc2ncnc(Nc3cccc(Br)c3)c2cc1OCC</td>\n",
       "    </tr>\n",
       "    <tr>\n",
       "      <th>10418</th>\n",
       "      <td>CHEMBL53753</td>\n",
       "      <td>NaN</td>\n",
       "      <td>11.10</td>\n",
       "      <td>CNc1cc2c(Nc3cccc(Br)c3)ncnc2cn1</td>\n",
       "    </tr>\n",
       "    <tr>\n",
       "      <th>14793</th>\n",
       "      <td>CHEMBL66031</td>\n",
       "      <td>NaN</td>\n",
       "      <td>11.10</td>\n",
       "      <td>Brc1cccc(Nc2ncnc3cc4[nH]cnc4cc23)c1</td>\n",
       "    </tr>\n",
       "    <tr>\n",
       "      <th>24784</th>\n",
       "      <td>CHEMBL1173655</td>\n",
       "      <td>AFATINIB</td>\n",
       "      <td>11.00</td>\n",
       "      <td>CN(C)C/C=C/C(=O)Nc1cc2c(Nc3ccc(F)c(Cl)c3)ncnc2...</td>\n",
       "    </tr>\n",
       "  </tbody>\n",
       "</table>\n",
       "</div>"
      ],
      "text/plain": [
       "                  id      name   pACT  \\\n",
       "20829    CHEMBL53711       NaN  11.22   \n",
       "18248    CHEMBL35820       NaN  11.22   \n",
       "10418    CHEMBL53753       NaN  11.10   \n",
       "14793    CHEMBL66031       NaN  11.10   \n",
       "24784  CHEMBL1173655  AFATINIB  11.00   \n",
       "\n",
       "                                                  smiles  \n",
       "20829                 CN(C)c1cc2c(Nc3cccc(Br)c3)ncnc2cn1  \n",
       "18248                CCOc1cc2ncnc(Nc3cccc(Br)c3)c2cc1OCC  \n",
       "10418                    CNc1cc2c(Nc3cccc(Br)c3)ncnc2cn1  \n",
       "14793                Brc1cccc(Nc2ncnc3cc4[nH]cnc4cc23)c1  \n",
       "24784  CN(C)C/C=C/C(=O)Nc1cc2c(Nc3ccc(F)c(Cl)c3)ncnc2...  "
      ]
     },
     "execution_count": 3,
     "metadata": {},
     "output_type": "execute_result"
    }
   ],
   "source": [
    "egfr = pd.read_csv(\"egfr.chembl.tsv\", sep=\"\\t\")\n",
    "\n",
    "# Eliminem tots els compostos sense valor definit de pChEMBL i sense estructura (Smiles)\n",
    "egfr = egfr[ (~pd.isnull(egfr[\"pChEMBL Value\"])) & (~pd.isnull(egfr[\"Smiles\"]))]\n",
    "\n",
    "# Reanomenem i ens quedem només amb els camps que ens interessen.\n",
    "columns = {\n",
    "    \"Molecule ChEMBL ID\": \"id\",\n",
    "    \"Molecule Name\": \"name\",\n",
    "    \"pChEMBL Value\": \"pACT\",\n",
    "    \"Smiles\": \"smiles\",\n",
    "}\n",
    "\n",
    "egfr = egfr.rename(columns=columns).loc[:, columns.values()]\n",
    "\n",
    "# Eliminem si hi ha compostos duplicats, quedant-nos amb el que tingui afinitat més alta.\n",
    "egfr = egfr.sort_values(\"pACT\", ascending=False).drop_duplicates(\"id\", keep=\"first\")\n",
    "\n",
    "print(f\"HI HA {egfr.shape[0]:,d} compostos a ChEMBL amb afinitat per a EGFR amb estructura\")\n",
    "\n",
    "egfr.head()"
   ]
  },
  {
   "cell_type": "code",
   "execution_count": 4,
   "id": "929792af-4e35-4b21-bbf1-d12bd53c91a0",
   "metadata": {
    "tags": []
   },
   "outputs": [
    {
     "name": "stdout",
     "output_type": "stream",
     "text": [
      "HI HA 5,000 compostos a ChEMBL actius per a EGFR\n"
     ]
    },
    {
     "data": {
      "text/html": [
       "<div>\n",
       "<style scoped>\n",
       "    .dataframe tbody tr th:only-of-type {\n",
       "        vertical-align: middle;\n",
       "    }\n",
       "\n",
       "    .dataframe tbody tr th {\n",
       "        vertical-align: top;\n",
       "    }\n",
       "\n",
       "    .dataframe thead th {\n",
       "        text-align: right;\n",
       "    }\n",
       "</style>\n",
       "<table border=\"1\" class=\"dataframe\">\n",
       "  <thead>\n",
       "    <tr style=\"text-align: right;\">\n",
       "      <th></th>\n",
       "      <th>id</th>\n",
       "      <th>name</th>\n",
       "      <th>pACT</th>\n",
       "      <th>smiles</th>\n",
       "      <th>active</th>\n",
       "    </tr>\n",
       "  </thead>\n",
       "  <tbody>\n",
       "    <tr>\n",
       "      <th>20829</th>\n",
       "      <td>CHEMBL53711</td>\n",
       "      <td>NaN</td>\n",
       "      <td>11.22</td>\n",
       "      <td>CN(C)c1cc2c(Nc3cccc(Br)c3)ncnc2cn1</td>\n",
       "      <td>True</td>\n",
       "    </tr>\n",
       "    <tr>\n",
       "      <th>18248</th>\n",
       "      <td>CHEMBL35820</td>\n",
       "      <td>NaN</td>\n",
       "      <td>11.22</td>\n",
       "      <td>CCOc1cc2ncnc(Nc3cccc(Br)c3)c2cc1OCC</td>\n",
       "      <td>True</td>\n",
       "    </tr>\n",
       "    <tr>\n",
       "      <th>10418</th>\n",
       "      <td>CHEMBL53753</td>\n",
       "      <td>NaN</td>\n",
       "      <td>11.10</td>\n",
       "      <td>CNc1cc2c(Nc3cccc(Br)c3)ncnc2cn1</td>\n",
       "      <td>True</td>\n",
       "    </tr>\n",
       "    <tr>\n",
       "      <th>14793</th>\n",
       "      <td>CHEMBL66031</td>\n",
       "      <td>NaN</td>\n",
       "      <td>11.10</td>\n",
       "      <td>Brc1cccc(Nc2ncnc3cc4[nH]cnc4cc23)c1</td>\n",
       "      <td>True</td>\n",
       "    </tr>\n",
       "    <tr>\n",
       "      <th>24784</th>\n",
       "      <td>CHEMBL1173655</td>\n",
       "      <td>AFATINIB</td>\n",
       "      <td>11.00</td>\n",
       "      <td>CN(C)C/C=C/C(=O)Nc1cc2c(Nc3ccc(F)c(Cl)c3)ncnc2...</td>\n",
       "      <td>True</td>\n",
       "    </tr>\n",
       "  </tbody>\n",
       "</table>\n",
       "</div>"
      ],
      "text/plain": [
       "                  id      name   pACT  \\\n",
       "20829    CHEMBL53711       NaN  11.22   \n",
       "18248    CHEMBL35820       NaN  11.22   \n",
       "10418    CHEMBL53753       NaN  11.10   \n",
       "14793    CHEMBL66031       NaN  11.10   \n",
       "24784  CHEMBL1173655  AFATINIB  11.00   \n",
       "\n",
       "                                                  smiles active  \n",
       "20829                 CN(C)c1cc2c(Nc3cccc(Br)c3)ncnc2cn1   True  \n",
       "18248                CCOc1cc2ncnc(Nc3cccc(Br)c3)c2cc1OCC   True  \n",
       "10418                    CNc1cc2c(Nc3cccc(Br)c3)ncnc2cn1   True  \n",
       "14793                Brc1cccc(Nc2ncnc3cc4[nH]cnc4cc23)c1   True  \n",
       "24784  CN(C)C/C=C/C(=O)Nc1cc2c(Nc3ccc(F)c(Cl)c3)ncnc2...   True  "
      ]
     },
     "execution_count": 4,
     "metadata": {},
     "output_type": "execute_result"
    }
   ],
   "source": [
    "# En seleccionem els que tinguin pChEMBL > 6. Serà el set de compostos actius.\n",
    "\n",
    "egfr[\"active\"] = None\n",
    "egfr.loc[egfr[\"pACT\"] > 6, \"active\"] = True\n",
    "\n",
    "actives = egfr[egfr[\"active\"] == True]\n",
    "\n",
    "print(f\"HI HA {actives.shape[0]:,d} compostos a ChEMBL actius per a EGFR\")\n",
    "actives.head()"
   ]
  },
  {
   "cell_type": "markdown",
   "id": "209f1e1c-f726-43fa-b9e9-6b90315df004",
   "metadata": {},
   "source": [
    "Per a entrenar la xarxa neural també ens cal un set **negatiu**, de compostos que no tinguin afinitat per a EGFR. <br>\n",
    "En aquest cas agafarem una selecció random de compostos de [ChEMBL](https://www.ebi.ac.uk/chembl/g/#browse/compounds) que no estiguin dins els que ja hem seleccionat abans. Agafarem un set de la mateixa mida que el set d'actius.\n",
    "\n",
    "La funció `pd.sample` ens permet generar un subset de files random d'una taula."
   ]
  },
  {
   "cell_type": "code",
   "execution_count": 5,
   "id": "d96b7db6-770e-415d-9181-bf90a4a5b8c9",
   "metadata": {
    "tags": []
   },
   "outputs": [
    {
     "name": "stderr",
     "output_type": "stream",
     "text": [
      "C:\\Users\\300034\\AppData\\Local\\miniconda3\\envs\\tensorflow\\lib\\site-packages\\IPython\\core\\interactiveshell.py:3457: DtypeWarning: Columns (27) have mixed types.Specify dtype option on import or set low_memory=False.\n",
      "  exec(code_obj, self.user_global_ns, self.user_ns)\n"
     ]
    },
    {
     "name": "stdout",
     "output_type": "stream",
     "text": [
      "HI HA 2,157,379 compostos a ChEMBL\n"
     ]
    },
    {
     "data": {
      "text/html": [
       "<div>\n",
       "<style scoped>\n",
       "    .dataframe tbody tr th:only-of-type {\n",
       "        vertical-align: middle;\n",
       "    }\n",
       "\n",
       "    .dataframe tbody tr th {\n",
       "        vertical-align: top;\n",
       "    }\n",
       "\n",
       "    .dataframe thead th {\n",
       "        text-align: right;\n",
       "    }\n",
       "</style>\n",
       "<table border=\"1\" class=\"dataframe\">\n",
       "  <thead>\n",
       "    <tr style=\"text-align: right;\">\n",
       "      <th></th>\n",
       "      <th>id</th>\n",
       "      <th>name</th>\n",
       "      <th>smiles</th>\n",
       "      <th>active</th>\n",
       "    </tr>\n",
       "  </thead>\n",
       "  <tbody>\n",
       "    <tr>\n",
       "      <th>802114</th>\n",
       "      <td>CHEMBL4778625</td>\n",
       "      <td>NaN</td>\n",
       "      <td>NS(=O)(=O)c1ccc(-n2c(SCC(=O)Nc3nc4ccc([N+](=O)...</td>\n",
       "      <td>False</td>\n",
       "    </tr>\n",
       "    <tr>\n",
       "      <th>1427528</th>\n",
       "      <td>CHEMBL3754828</td>\n",
       "      <td>NaN</td>\n",
       "      <td>O=C(O)C[C@H](/N=C/C=C/c1ccc(Cl)cc1)C(=O)O</td>\n",
       "      <td>False</td>\n",
       "    </tr>\n",
       "    <tr>\n",
       "      <th>1620732</th>\n",
       "      <td>CHEMBL3094075</td>\n",
       "      <td>NaN</td>\n",
       "      <td>Cc1ccccc1C(=O)N1C[C@@H]2CNC[C@@H](C2)C1.O=C(O)...</td>\n",
       "      <td>False</td>\n",
       "    </tr>\n",
       "    <tr>\n",
       "      <th>858657</th>\n",
       "      <td>CHEMBL579789</td>\n",
       "      <td>NaN</td>\n",
       "      <td>O=C(c1c(-c2[nH]c3ccccc3c2C(=O)C(F)(F)F)[nH]c2c...</td>\n",
       "      <td>False</td>\n",
       "    </tr>\n",
       "    <tr>\n",
       "      <th>809595</th>\n",
       "      <td>CHEMBL1389086</td>\n",
       "      <td>NaN</td>\n",
       "      <td>COc1cc(C(=O)OCC(=O)N2CC(C)OC(C)C2)cc(OC)c1OC</td>\n",
       "      <td>False</td>\n",
       "    </tr>\n",
       "  </tbody>\n",
       "</table>\n",
       "</div>"
      ],
      "text/plain": [
       "                    id name  \\\n",
       "802114   CHEMBL4778625  NaN   \n",
       "1427528  CHEMBL3754828  NaN   \n",
       "1620732  CHEMBL3094075  NaN   \n",
       "858657    CHEMBL579789  NaN   \n",
       "809595   CHEMBL1389086  NaN   \n",
       "\n",
       "                                                    smiles  active  \n",
       "802114   NS(=O)(=O)c1ccc(-n2c(SCC(=O)Nc3nc4ccc([N+](=O)...   False  \n",
       "1427528          O=C(O)C[C@H](/N=C/C=C/c1ccc(Cl)cc1)C(=O)O   False  \n",
       "1620732  Cc1ccccc1C(=O)N1C[C@@H]2CNC[C@@H](C2)C1.O=C(O)...   False  \n",
       "858657   O=C(c1c(-c2[nH]c3ccccc3c2C(=O)C(F)(F)F)[nH]c2c...   False  \n",
       "809595        COc1cc(C(=O)OCC(=O)N2CC(C)OC(C)C2)cc(OC)c1OC   False  "
      ]
     },
     "execution_count": 5,
     "metadata": {},
     "output_type": "execute_result"
    }
   ],
   "source": [
    "chembl = pd.read_csv(\"chembl.tsv\", sep=\"\\t\")\n",
    "\n",
    "print(f\"HI HA {chembl.shape[0]:,d} compostos a ChEMBL\")\n",
    "\n",
    "# Elimininem compostos que ja tenim a la taula anterior i compostos sense estructura.\n",
    "inactives = chembl[ (~pd.isnull(chembl[\"Smiles\"])) & (~chembl[\"ChEMBL ID\"].isin(egfr[\"id\"]))].sample(actives.shape[0])\n",
    "\n",
    "columns = {\n",
    "    \"ChEMBL ID\": \"id\",\n",
    "    \"Name\": \"name\",\n",
    "    \"Smiles\": \"smiles\",\n",
    "}\n",
    "\n",
    "inactives = inactives.rename(columns=columns).loc[:, columns.values()]\n",
    "inactives = inactives.drop_duplicates(\"id\", keep=\"first\")\n",
    "inactives[\"active\"] = False\n",
    "inactives.head()"
   ]
  },
  {
   "cell_type": "markdown",
   "id": "9c804be1-32be-4367-995e-158f67bb3bfb",
   "metadata": {},
   "source": [
    "Ajuntem els sets d'actius i d'inactius i els barregem."
   ]
  },
  {
   "cell_type": "code",
   "execution_count": 6,
   "id": "fb4abf14-8338-40e9-b823-196769cc0ded",
   "metadata": {
    "tags": []
   },
   "outputs": [
    {
     "name": "stdout",
     "output_type": "stream",
     "text": [
      "(10000, 5)\n"
     ]
    },
    {
     "data": {
      "text/html": [
       "<div>\n",
       "<style scoped>\n",
       "    .dataframe tbody tr th:only-of-type {\n",
       "        vertical-align: middle;\n",
       "    }\n",
       "\n",
       "    .dataframe tbody tr th {\n",
       "        vertical-align: top;\n",
       "    }\n",
       "\n",
       "    .dataframe thead th {\n",
       "        text-align: right;\n",
       "    }\n",
       "</style>\n",
       "<table border=\"1\" class=\"dataframe\">\n",
       "  <thead>\n",
       "    <tr style=\"text-align: right;\">\n",
       "      <th></th>\n",
       "      <th>id</th>\n",
       "      <th>name</th>\n",
       "      <th>pACT</th>\n",
       "      <th>smiles</th>\n",
       "      <th>active</th>\n",
       "    </tr>\n",
       "  </thead>\n",
       "  <tbody>\n",
       "    <tr>\n",
       "      <th>30114</th>\n",
       "      <td>CHEMBL4441606</td>\n",
       "      <td>NaN</td>\n",
       "      <td>8.40</td>\n",
       "      <td>C=CC(=O)Nc1cc(Nc2nccc(-c3cn(C)c4ccccc34)n2)c(O...</td>\n",
       "      <td>True</td>\n",
       "    </tr>\n",
       "    <tr>\n",
       "      <th>25938</th>\n",
       "      <td>CHEMBL4439632</td>\n",
       "      <td>NaN</td>\n",
       "      <td>8.00</td>\n",
       "      <td>C=C(Cl)C(=O)Nc1cc(Nc2nc(C)cc(-c3cn(C)c4ccccc34...</td>\n",
       "      <td>True</td>\n",
       "    </tr>\n",
       "    <tr>\n",
       "      <th>11765</th>\n",
       "      <td>CHEMBL1630109</td>\n",
       "      <td>NaN</td>\n",
       "      <td>7.75</td>\n",
       "      <td>O=C(/C=C/c1cccc(-c2ccc3ncnc(Nc4ccc(OCc5cccc(F)...</td>\n",
       "      <td>True</td>\n",
       "    </tr>\n",
       "    <tr>\n",
       "      <th>8958</th>\n",
       "      <td>CHEMBL4074601</td>\n",
       "      <td>NaN</td>\n",
       "      <td>7.92</td>\n",
       "      <td>CC(=O)N1CC[C@H](N2C(=O)N(c3ccccc3Cl)Cc3cnc(Nc4...</td>\n",
       "      <td>True</td>\n",
       "    </tr>\n",
       "    <tr>\n",
       "      <th>29417</th>\n",
       "      <td>CHEMBL4776012</td>\n",
       "      <td>NaN</td>\n",
       "      <td>8.49</td>\n",
       "      <td>C=C(Cl)C(=O)Nc1cccc(Nc2nc(Nc3ccc(N4CCN(C(C)=O)...</td>\n",
       "      <td>True</td>\n",
       "    </tr>\n",
       "  </tbody>\n",
       "</table>\n",
       "</div>"
      ],
      "text/plain": [
       "                  id name  pACT  \\\n",
       "30114  CHEMBL4441606  NaN  8.40   \n",
       "25938  CHEMBL4439632  NaN  8.00   \n",
       "11765  CHEMBL1630109  NaN  7.75   \n",
       "8958   CHEMBL4074601  NaN  7.92   \n",
       "29417  CHEMBL4776012  NaN  8.49   \n",
       "\n",
       "                                                  smiles active  \n",
       "30114  C=CC(=O)Nc1cc(Nc2nccc(-c3cn(C)c4ccccc34)n2)c(O...   True  \n",
       "25938  C=C(Cl)C(=O)Nc1cc(Nc2nc(C)cc(-c3cn(C)c4ccccc34...   True  \n",
       "11765  O=C(/C=C/c1cccc(-c2ccc3ncnc(Nc4ccc(OCc5cccc(F)...   True  \n",
       "8958   CC(=O)N1CC[C@H](N2C(=O)N(c3ccccc3Cl)Cc3cnc(Nc4...   True  \n",
       "29417  C=C(Cl)C(=O)Nc1cccc(Nc2nc(Nc3ccc(N4CCN(C(C)=O)...   True  "
      ]
     },
     "execution_count": 6,
     "metadata": {},
     "output_type": "execute_result"
    }
   ],
   "source": [
    "data = pd.concat((actives, inactives))\n",
    "data = data.sample(frac=1)\n",
    "print(data.shape)\n",
    "data.head()"
   ]
  },
  {
   "cell_type": "markdown",
   "id": "3f7a9a17-6f25-449c-a31c-d5f287a40277",
   "metadata": {},
   "source": [
    "Com a representació de les mol·lècules farem servir els fingerprints **MACCS** generats per RDKit. <br> \n",
    "Són un array de bits **167** posicions on cada bit indica si la mol·lècula conté una subestructura determinada.\n",
    "\n",
    "<img src=https://oi.readthedocs.io/en/latest/_images/maccs.png width=200>"
   ]
  },
  {
   "cell_type": "code",
   "execution_count": 7,
   "id": "96f2b0c6-6c55-463e-bb5c-0f9ec3d31751",
   "metadata": {
    "tags": []
   },
   "outputs": [
    {
     "name": "stdout",
     "output_type": "stream",
     "text": [
      "Wall time: 21.7 s\n"
     ]
    }
   ],
   "source": [
    "%%time\n",
    "data[\"fpt\"] = data.apply(lambda x: np.array(Chem.MACCSkeys.GenMACCSKeys(Chem.MolFromSmiles(x[\"smiles\"]))), axis=1)"
   ]
  },
  {
   "cell_type": "markdown",
   "id": "98ff5f1e-e8e4-4b60-a2b6-a4cff947f25b",
   "metadata": {},
   "source": [
    "Separarem el set total de dates (10,000 compostos, 5,000 actius i 5.000 inactius) en dos sets, el **training set** i el **test set**. <br> Agafarem un 80% per al training set in un 20% per al test set."
   ]
  },
  {
   "cell_type": "code",
   "execution_count": 8,
   "id": "b46f9962-6e91-4ba9-a7da-2014672e3676",
   "metadata": {
    "tags": []
   },
   "outputs": [
    {
     "name": "stdout",
     "output_type": "stream",
     "text": [
      "training    8028\n",
      "test        1972\n",
      "Name: set, dtype: int64\n"
     ]
    },
    {
     "data": {
      "text/html": [
       "<div>\n",
       "<style scoped>\n",
       "    .dataframe tbody tr th:only-of-type {\n",
       "        vertical-align: middle;\n",
       "    }\n",
       "\n",
       "    .dataframe tbody tr th {\n",
       "        vertical-align: top;\n",
       "    }\n",
       "\n",
       "    .dataframe thead th {\n",
       "        text-align: right;\n",
       "    }\n",
       "</style>\n",
       "<table border=\"1\" class=\"dataframe\">\n",
       "  <thead>\n",
       "    <tr style=\"text-align: right;\">\n",
       "      <th></th>\n",
       "      <th>id</th>\n",
       "      <th>name</th>\n",
       "      <th>pACT</th>\n",
       "      <th>smiles</th>\n",
       "      <th>active</th>\n",
       "      <th>fpt</th>\n",
       "      <th>set</th>\n",
       "    </tr>\n",
       "  </thead>\n",
       "  <tbody>\n",
       "    <tr>\n",
       "      <th>30114</th>\n",
       "      <td>CHEMBL4441606</td>\n",
       "      <td>NaN</td>\n",
       "      <td>8.40</td>\n",
       "      <td>C=CC(=O)Nc1cc(Nc2nccc(-c3cn(C)c4ccccc34)n2)c(O...</td>\n",
       "      <td>True</td>\n",
       "      <td>[0, 0, 0, 0, 0, 0, 0, 0, 0, 0, 0, 0, 0, 0, 0, ...</td>\n",
       "      <td>training</td>\n",
       "    </tr>\n",
       "    <tr>\n",
       "      <th>25938</th>\n",
       "      <td>CHEMBL4439632</td>\n",
       "      <td>NaN</td>\n",
       "      <td>8.00</td>\n",
       "      <td>C=C(Cl)C(=O)Nc1cc(Nc2nc(C)cc(-c3cn(C)c4ccccc34...</td>\n",
       "      <td>True</td>\n",
       "      <td>[0, 0, 0, 0, 0, 0, 0, 0, 0, 0, 0, 0, 0, 0, 0, ...</td>\n",
       "      <td>training</td>\n",
       "    </tr>\n",
       "    <tr>\n",
       "      <th>11765</th>\n",
       "      <td>CHEMBL1630109</td>\n",
       "      <td>NaN</td>\n",
       "      <td>7.75</td>\n",
       "      <td>O=C(/C=C/c1cccc(-c2ccc3ncnc(Nc4ccc(OCc5cccc(F)...</td>\n",
       "      <td>True</td>\n",
       "      <td>[0, 0, 0, 0, 0, 0, 0, 0, 0, 0, 0, 0, 0, 0, 0, ...</td>\n",
       "      <td>training</td>\n",
       "    </tr>\n",
       "    <tr>\n",
       "      <th>8958</th>\n",
       "      <td>CHEMBL4074601</td>\n",
       "      <td>NaN</td>\n",
       "      <td>7.92</td>\n",
       "      <td>CC(=O)N1CC[C@H](N2C(=O)N(c3ccccc3Cl)Cc3cnc(Nc4...</td>\n",
       "      <td>True</td>\n",
       "      <td>[0, 0, 0, 0, 0, 0, 0, 0, 0, 0, 0, 0, 0, 0, 0, ...</td>\n",
       "      <td>training</td>\n",
       "    </tr>\n",
       "    <tr>\n",
       "      <th>29417</th>\n",
       "      <td>CHEMBL4776012</td>\n",
       "      <td>NaN</td>\n",
       "      <td>8.49</td>\n",
       "      <td>C=C(Cl)C(=O)Nc1cccc(Nc2nc(Nc3ccc(N4CCN(C(C)=O)...</td>\n",
       "      <td>True</td>\n",
       "      <td>[0, 0, 0, 0, 0, 0, 0, 0, 0, 0, 0, 0, 0, 0, 0, ...</td>\n",
       "      <td>training</td>\n",
       "    </tr>\n",
       "  </tbody>\n",
       "</table>\n",
       "</div>"
      ],
      "text/plain": [
       "                  id name  pACT  \\\n",
       "30114  CHEMBL4441606  NaN  8.40   \n",
       "25938  CHEMBL4439632  NaN  8.00   \n",
       "11765  CHEMBL1630109  NaN  7.75   \n",
       "8958   CHEMBL4074601  NaN  7.92   \n",
       "29417  CHEMBL4776012  NaN  8.49   \n",
       "\n",
       "                                                  smiles active  \\\n",
       "30114  C=CC(=O)Nc1cc(Nc2nccc(-c3cn(C)c4ccccc34)n2)c(O...   True   \n",
       "25938  C=C(Cl)C(=O)Nc1cc(Nc2nc(C)cc(-c3cn(C)c4ccccc34...   True   \n",
       "11765  O=C(/C=C/c1cccc(-c2ccc3ncnc(Nc4ccc(OCc5cccc(F)...   True   \n",
       "8958   CC(=O)N1CC[C@H](N2C(=O)N(c3ccccc3Cl)Cc3cnc(Nc4...   True   \n",
       "29417  C=C(Cl)C(=O)Nc1cccc(Nc2nc(Nc3ccc(N4CCN(C(C)=O)...   True   \n",
       "\n",
       "                                                     fpt       set  \n",
       "30114  [0, 0, 0, 0, 0, 0, 0, 0, 0, 0, 0, 0, 0, 0, 0, ...  training  \n",
       "25938  [0, 0, 0, 0, 0, 0, 0, 0, 0, 0, 0, 0, 0, 0, 0, ...  training  \n",
       "11765  [0, 0, 0, 0, 0, 0, 0, 0, 0, 0, 0, 0, 0, 0, 0, ...  training  \n",
       "8958   [0, 0, 0, 0, 0, 0, 0, 0, 0, 0, 0, 0, 0, 0, 0, ...  training  \n",
       "29417  [0, 0, 0, 0, 0, 0, 0, 0, 0, 0, 0, 0, 0, 0, 0, ...  training  "
      ]
     },
     "execution_count": 8,
     "metadata": {},
     "output_type": "execute_result"
    }
   ],
   "source": [
    "np.random.seed(0)\n",
    "mask = np.random.rand(data.shape[0]) < 0.8\n",
    "\n",
    "data[\"set\"] = \"test\"\n",
    "data.loc[mask, \"set\"] = \"training\" \n",
    "\n",
    "print(data[\"set\"].value_counts())\n",
    "\n",
    "data.head()"
   ]
  },
  {
   "cell_type": "markdown",
   "id": "5e520349-8713-45a2-a382-0b6a792cf268",
   "metadata": {},
   "source": [
    "Ja nomès ens queda separar l'entrada i la sortida del model per a cada un dels sets, construir el model i entrenar-lo. <br> \n",
    "En aquest exemple farem servir la mateixa arquitectura que en l'exemple de la classificació de xifres, però la sortida en aquest cas serà binària: 0(inactiu) o 1 (actiu)"
   ]
  },
  {
   "cell_type": "code",
   "execution_count": 9,
   "id": "3bc680fa-7c2c-4769-91b0-ceadf27eb543",
   "metadata": {
    "tags": []
   },
   "outputs": [
    {
     "name": "stdout",
     "output_type": "stream",
     "text": [
      "Dimensions del tensor d'entrada (train): (8028, 167)\n",
      "Dimensions del tensor de sortida (train): (8028,)\n",
      "\n",
      "Dimensions del tensor d'entrada (test): (1972, 167)\n",
      "Dimensions del tensor de sortida (test): (1972,)\n"
     ]
    }
   ],
   "source": [
    "x_train = np.array([np.array(fpt) for fpt in data.loc[data[\"set\"] == \"training\", \"fpt\"]])\n",
    "y_train = np.array(data.loc[data[\"set\"] == \"training\", \"active\"].values, dtype=int)\n",
    "\n",
    "x_test = np.array([np.array(fpt) for fpt in data.loc[data[\"set\"] == \"test\", \"fpt\"]])\n",
    "y_test = np.array(data.loc[data[\"set\"] == \"test\", \"active\"].values, dtype=int)\n",
    "\n",
    "print(f\"Dimensions del tensor d'entrada (train): {x_train.shape}\")\n",
    "print(f\"Dimensions del tensor de sortida (train): {y_train.shape}\")\n",
    "print()\n",
    "print(f\"Dimensions del tensor d'entrada (test): {x_test.shape}\")\n",
    "print(f\"Dimensions del tensor de sortida (test): {y_test.shape}\")"
   ]
  },
  {
   "cell_type": "code",
   "execution_count": 10,
   "id": "28cbe56e-6e33-4fc8-b1b1-028dd6aad49c",
   "metadata": {
    "tags": []
   },
   "outputs": [
    {
     "name": "stderr",
     "output_type": "stream",
     "text": [
      "C:\\Users\\300034\\AppData\\Local\\miniconda3\\envs\\tensorflow\\lib\\site-packages\\tensorflow\\python\\framework\\dtypes.py:516: FutureWarning: Passing (type, 1) or '1type' as a synonym of type is deprecated; in a future version of numpy, it will be understood as (type, (1,)) / '(1,)type'.\n",
      "  _np_qint8 = np.dtype([(\"qint8\", np.int8, 1)])\n",
      "C:\\Users\\300034\\AppData\\Local\\miniconda3\\envs\\tensorflow\\lib\\site-packages\\tensorflow\\python\\framework\\dtypes.py:517: FutureWarning: Passing (type, 1) or '1type' as a synonym of type is deprecated; in a future version of numpy, it will be understood as (type, (1,)) / '(1,)type'.\n",
      "  _np_quint8 = np.dtype([(\"quint8\", np.uint8, 1)])\n",
      "C:\\Users\\300034\\AppData\\Local\\miniconda3\\envs\\tensorflow\\lib\\site-packages\\tensorflow\\python\\framework\\dtypes.py:518: FutureWarning: Passing (type, 1) or '1type' as a synonym of type is deprecated; in a future version of numpy, it will be understood as (type, (1,)) / '(1,)type'.\n",
      "  _np_qint16 = np.dtype([(\"qint16\", np.int16, 1)])\n",
      "C:\\Users\\300034\\AppData\\Local\\miniconda3\\envs\\tensorflow\\lib\\site-packages\\tensorflow\\python\\framework\\dtypes.py:519: FutureWarning: Passing (type, 1) or '1type' as a synonym of type is deprecated; in a future version of numpy, it will be understood as (type, (1,)) / '(1,)type'.\n",
      "  _np_quint16 = np.dtype([(\"quint16\", np.uint16, 1)])\n",
      "C:\\Users\\300034\\AppData\\Local\\miniconda3\\envs\\tensorflow\\lib\\site-packages\\tensorflow\\python\\framework\\dtypes.py:520: FutureWarning: Passing (type, 1) or '1type' as a synonym of type is deprecated; in a future version of numpy, it will be understood as (type, (1,)) / '(1,)type'.\n",
      "  _np_qint32 = np.dtype([(\"qint32\", np.int32, 1)])\n",
      "C:\\Users\\300034\\AppData\\Local\\miniconda3\\envs\\tensorflow\\lib\\site-packages\\tensorflow\\python\\framework\\dtypes.py:525: FutureWarning: Passing (type, 1) or '1type' as a synonym of type is deprecated; in a future version of numpy, it will be understood as (type, (1,)) / '(1,)type'.\n",
      "  np_resource = np.dtype([(\"resource\", np.ubyte, 1)])\n",
      "C:\\Users\\300034\\AppData\\Local\\miniconda3\\envs\\tensorflow\\lib\\site-packages\\tensorboard\\compat\\tensorflow_stub\\dtypes.py:541: FutureWarning: Passing (type, 1) or '1type' as a synonym of type is deprecated; in a future version of numpy, it will be understood as (type, (1,)) / '(1,)type'.\n",
      "  _np_qint8 = np.dtype([(\"qint8\", np.int8, 1)])\n",
      "C:\\Users\\300034\\AppData\\Local\\miniconda3\\envs\\tensorflow\\lib\\site-packages\\tensorboard\\compat\\tensorflow_stub\\dtypes.py:542: FutureWarning: Passing (type, 1) or '1type' as a synonym of type is deprecated; in a future version of numpy, it will be understood as (type, (1,)) / '(1,)type'.\n",
      "  _np_quint8 = np.dtype([(\"quint8\", np.uint8, 1)])\n",
      "C:\\Users\\300034\\AppData\\Local\\miniconda3\\envs\\tensorflow\\lib\\site-packages\\tensorboard\\compat\\tensorflow_stub\\dtypes.py:543: FutureWarning: Passing (type, 1) or '1type' as a synonym of type is deprecated; in a future version of numpy, it will be understood as (type, (1,)) / '(1,)type'.\n",
      "  _np_qint16 = np.dtype([(\"qint16\", np.int16, 1)])\n",
      "C:\\Users\\300034\\AppData\\Local\\miniconda3\\envs\\tensorflow\\lib\\site-packages\\tensorboard\\compat\\tensorflow_stub\\dtypes.py:544: FutureWarning: Passing (type, 1) or '1type' as a synonym of type is deprecated; in a future version of numpy, it will be understood as (type, (1,)) / '(1,)type'.\n",
      "  _np_quint16 = np.dtype([(\"quint16\", np.uint16, 1)])\n",
      "C:\\Users\\300034\\AppData\\Local\\miniconda3\\envs\\tensorflow\\lib\\site-packages\\tensorboard\\compat\\tensorflow_stub\\dtypes.py:545: FutureWarning: Passing (type, 1) or '1type' as a synonym of type is deprecated; in a future version of numpy, it will be understood as (type, (1,)) / '(1,)type'.\n",
      "  _np_qint32 = np.dtype([(\"qint32\", np.int32, 1)])\n",
      "C:\\Users\\300034\\AppData\\Local\\miniconda3\\envs\\tensorflow\\lib\\site-packages\\tensorboard\\compat\\tensorflow_stub\\dtypes.py:550: FutureWarning: Passing (type, 1) or '1type' as a synonym of type is deprecated; in a future version of numpy, it will be understood as (type, (1,)) / '(1,)type'.\n",
      "  np_resource = np.dtype([(\"resource\", np.ubyte, 1)])\n"
     ]
    }
   ],
   "source": [
    "import tensorflow as tf\n",
    "from tensorflow import keras\n",
    "from tensorflow.keras import layers"
   ]
  },
  {
   "cell_type": "code",
   "execution_count": 11,
   "id": "1b533b23-8aac-4a14-ba5d-5189f86ed643",
   "metadata": {
    "tags": []
   },
   "outputs": [
    {
     "name": "stdout",
     "output_type": "stream",
     "text": [
      "WARNING:tensorflow:From C:\\Users\\300034\\AppData\\Local\\miniconda3\\envs\\tensorflow\\lib\\site-packages\\tensorflow\\python\\ops\\init_ops.py:1251: calling VarianceScaling.__init__ (from tensorflow.python.ops.init_ops) with dtype is deprecated and will be removed in a future version.\n",
      "Instructions for updating:\n",
      "Call initializer instance with the dtype argument instead of passing it to the constructor\n",
      "Model: \"sequential\"\n",
      "_________________________________________________________________\n",
      "Layer (type)                 Output Shape              Param #   \n",
      "=================================================================\n",
      "flatten (Flatten)            (None, 167)               0         \n",
      "_________________________________________________________________\n",
      "dense (Dense)                (None, 128)               21504     \n",
      "_________________________________________________________________\n",
      "dropout (Dropout)            (None, 128)               0         \n",
      "_________________________________________________________________\n",
      "dense_1 (Dense)              (None, 1)                 129       \n",
      "=================================================================\n",
      "Total params: 21,633\n",
      "Trainable params: 21,633\n",
      "Non-trainable params: 0\n",
      "_________________________________________________________________\n"
     ]
    }
   ],
   "source": [
    "model = tf.keras.models.Sequential([\n",
    "  tf.keras.layers.Flatten(input_shape=(167,)),\n",
    "  tf.keras.layers.Dense(128, activation='relu'),\n",
    "  tf.keras.layers.Dropout(0.2),\n",
    "  tf.keras.layers.Dense(1, activation=\"sigmoid\")\n",
    "])\n",
    "\n",
    "model.summary()"
   ]
  },
  {
   "cell_type": "code",
   "execution_count": 12,
   "id": "8953e2c3-3273-4b52-a37b-11ed7f167241",
   "metadata": {
    "tags": []
   },
   "outputs": [
    {
     "name": "stdout",
     "output_type": "stream",
     "text": [
      "WARNING:tensorflow:From C:\\Users\\300034\\AppData\\Local\\miniconda3\\envs\\tensorflow\\lib\\site-packages\\tensorflow\\python\\ops\\nn_impl.py:180: add_dispatch_support.<locals>.wrapper (from tensorflow.python.ops.array_ops) is deprecated and will be removed in a future version.\n",
      "Instructions for updating:\n",
      "Use tf.where in 2.0, which has the same broadcast rule as np.where\n"
     ]
    }
   ],
   "source": [
    "loss_fn = tf.keras.losses.BinaryCrossentropy(from_logits=True)\n",
    "model.compile(optimizer='adam',\n",
    "              loss=loss_fn,\n",
    "              metrics=['accuracy'])"
   ]
  },
  {
   "cell_type": "code",
   "execution_count": 13,
   "id": "f48c1530-d9ab-4585-8b1b-a5382fd2d770",
   "metadata": {
    "tags": []
   },
   "outputs": [
    {
     "name": "stdout",
     "output_type": "stream",
     "text": [
      "Epoch 1/5\n",
      "8028/8028 [==============================] - 0s 49us/sample - loss: 0.5954 - acc: 0.8247\n",
      "Epoch 2/5\n",
      "8028/8028 [==============================] - 0s 29us/sample - loss: 0.5601 - acc: 0.8861\n",
      "Epoch 3/5\n",
      "8028/8028 [==============================] - 0s 29us/sample - loss: 0.5551 - acc: 0.8921\n",
      "Epoch 4/5\n",
      "8028/8028 [==============================] - 0s 32us/sample - loss: 0.5522 - acc: 0.8969\n",
      "Epoch 5/5\n",
      "8028/8028 [==============================] - 0s 29us/sample - loss: 0.5500 - acc: 0.9010\n"
     ]
    },
    {
     "data": {
      "text/plain": [
       "<tensorflow.python.keras.callbacks.History at 0x1eef08e2e08>"
      ]
     },
     "execution_count": 13,
     "metadata": {},
     "output_type": "execute_result"
    }
   ],
   "source": [
    "model.fit(x_train, y_train, epochs=5)"
   ]
  },
  {
   "cell_type": "code",
   "execution_count": 14,
   "id": "30532de1-45e0-4734-8db9-1f66a0bfbe7d",
   "metadata": {
    "tags": []
   },
   "outputs": [
    {
     "name": "stdout",
     "output_type": "stream",
     "text": [
      "1972/1972 - 0s - loss: 0.5523 - acc: 0.8808\n"
     ]
    },
    {
     "data": {
      "text/plain": [
       "[0.5522734209683555, 0.88083166]"
      ]
     },
     "execution_count": 14,
     "metadata": {},
     "output_type": "execute_result"
    }
   ],
   "source": [
    "model.evaluate(x_test,  y_test, verbose=2)"
   ]
  },
  {
   "cell_type": "markdown",
   "id": "67f66aa9-0545-4b1c-a032-802fbdad8b41",
   "metadata": {},
   "source": [
    "Sembla que el model s'ha entrenat correctament, amb una exactitud al voltant del 90% al set de test.\n",
    "\n",
    "Per veure com s'aplica el model per fer noves prediccions, l'aplicarem primer a una sola mol·ècula, i després totes les dades que tenim. Veiem que el model ens retorna un sol valor de 0 a 1. Tallem a 0.5 per separar prediccions actives de inactives.\n"
   ]
  },
  {
   "cell_type": "code",
   "execution_count": 15,
   "id": "fad4a801-e085-426b-a457-8546e497879f",
   "metadata": {
    "tags": []
   },
   "outputs": [
    {
     "data": {
      "text/plain": [
       "array([[0.9989229]], dtype=float32)"
      ]
     },
     "execution_count": 15,
     "metadata": {},
     "output_type": "execute_result"
    }
   ],
   "source": [
    "x = np.array([x for x in data[\"fpt\"][0]]).reshape(1, -1)\n",
    "model.predict(x)"
   ]
  },
  {
   "cell_type": "code",
   "execution_count": 16,
   "id": "fe2cfaf2-d4d7-44f2-a1d1-419cdaad99ed",
   "metadata": {
    "tags": []
   },
   "outputs": [
    {
     "data": {
      "text/html": [
       "<div>\n",
       "<style scoped>\n",
       "    .dataframe tbody tr th:only-of-type {\n",
       "        vertical-align: middle;\n",
       "    }\n",
       "\n",
       "    .dataframe tbody tr th {\n",
       "        vertical-align: top;\n",
       "    }\n",
       "\n",
       "    .dataframe thead th {\n",
       "        text-align: right;\n",
       "    }\n",
       "</style>\n",
       "<table border=\"1\" class=\"dataframe\">\n",
       "  <thead>\n",
       "    <tr style=\"text-align: right;\">\n",
       "      <th></th>\n",
       "      <th>id</th>\n",
       "      <th>name</th>\n",
       "      <th>pACT</th>\n",
       "      <th>smiles</th>\n",
       "      <th>active</th>\n",
       "      <th>fpt</th>\n",
       "      <th>set</th>\n",
       "      <th>predicted</th>\n",
       "    </tr>\n",
       "  </thead>\n",
       "  <tbody>\n",
       "    <tr>\n",
       "      <th>30114</th>\n",
       "      <td>CHEMBL4441606</td>\n",
       "      <td>NaN</td>\n",
       "      <td>8.40</td>\n",
       "      <td>C=CC(=O)Nc1cc(Nc2nccc(-c3cn(C)c4ccccc34)n2)c(O...</td>\n",
       "      <td>True</td>\n",
       "      <td>[0, 0, 0, 0, 0, 0, 0, 0, 0, 0, 0, 0, 0, 0, 0, ...</td>\n",
       "      <td>training</td>\n",
       "      <td>True</td>\n",
       "    </tr>\n",
       "    <tr>\n",
       "      <th>25938</th>\n",
       "      <td>CHEMBL4439632</td>\n",
       "      <td>NaN</td>\n",
       "      <td>8.00</td>\n",
       "      <td>C=C(Cl)C(=O)Nc1cc(Nc2nc(C)cc(-c3cn(C)c4ccccc34...</td>\n",
       "      <td>True</td>\n",
       "      <td>[0, 0, 0, 0, 0, 0, 0, 0, 0, 0, 0, 0, 0, 0, 0, ...</td>\n",
       "      <td>training</td>\n",
       "      <td>True</td>\n",
       "    </tr>\n",
       "    <tr>\n",
       "      <th>11765</th>\n",
       "      <td>CHEMBL1630109</td>\n",
       "      <td>NaN</td>\n",
       "      <td>7.75</td>\n",
       "      <td>O=C(/C=C/c1cccc(-c2ccc3ncnc(Nc4ccc(OCc5cccc(F)...</td>\n",
       "      <td>True</td>\n",
       "      <td>[0, 0, 0, 0, 0, 0, 0, 0, 0, 0, 0, 0, 0, 0, 0, ...</td>\n",
       "      <td>training</td>\n",
       "      <td>True</td>\n",
       "    </tr>\n",
       "    <tr>\n",
       "      <th>8958</th>\n",
       "      <td>CHEMBL4074601</td>\n",
       "      <td>NaN</td>\n",
       "      <td>7.92</td>\n",
       "      <td>CC(=O)N1CC[C@H](N2C(=O)N(c3ccccc3Cl)Cc3cnc(Nc4...</td>\n",
       "      <td>True</td>\n",
       "      <td>[0, 0, 0, 0, 0, 0, 0, 0, 0, 0, 0, 0, 0, 0, 0, ...</td>\n",
       "      <td>training</td>\n",
       "      <td>True</td>\n",
       "    </tr>\n",
       "    <tr>\n",
       "      <th>29417</th>\n",
       "      <td>CHEMBL4776012</td>\n",
       "      <td>NaN</td>\n",
       "      <td>8.49</td>\n",
       "      <td>C=C(Cl)C(=O)Nc1cccc(Nc2nc(Nc3ccc(N4CCN(C(C)=O)...</td>\n",
       "      <td>True</td>\n",
       "      <td>[0, 0, 0, 0, 0, 0, 0, 0, 0, 0, 0, 0, 0, 0, 0, ...</td>\n",
       "      <td>training</td>\n",
       "      <td>True</td>\n",
       "    </tr>\n",
       "  </tbody>\n",
       "</table>\n",
       "</div>"
      ],
      "text/plain": [
       "                  id name  pACT  \\\n",
       "30114  CHEMBL4441606  NaN  8.40   \n",
       "25938  CHEMBL4439632  NaN  8.00   \n",
       "11765  CHEMBL1630109  NaN  7.75   \n",
       "8958   CHEMBL4074601  NaN  7.92   \n",
       "29417  CHEMBL4776012  NaN  8.49   \n",
       "\n",
       "                                                  smiles active  \\\n",
       "30114  C=CC(=O)Nc1cc(Nc2nccc(-c3cn(C)c4ccccc34)n2)c(O...   True   \n",
       "25938  C=C(Cl)C(=O)Nc1cc(Nc2nc(C)cc(-c3cn(C)c4ccccc34...   True   \n",
       "11765  O=C(/C=C/c1cccc(-c2ccc3ncnc(Nc4ccc(OCc5cccc(F)...   True   \n",
       "8958   CC(=O)N1CC[C@H](N2C(=O)N(c3ccccc3Cl)Cc3cnc(Nc4...   True   \n",
       "29417  C=C(Cl)C(=O)Nc1cccc(Nc2nc(Nc3ccc(N4CCN(C(C)=O)...   True   \n",
       "\n",
       "                                                     fpt       set  predicted  \n",
       "30114  [0, 0, 0, 0, 0, 0, 0, 0, 0, 0, 0, 0, 0, 0, 0, ...  training       True  \n",
       "25938  [0, 0, 0, 0, 0, 0, 0, 0, 0, 0, 0, 0, 0, 0, 0, ...  training       True  \n",
       "11765  [0, 0, 0, 0, 0, 0, 0, 0, 0, 0, 0, 0, 0, 0, 0, ...  training       True  \n",
       "8958   [0, 0, 0, 0, 0, 0, 0, 0, 0, 0, 0, 0, 0, 0, 0, ...  training       True  \n",
       "29417  [0, 0, 0, 0, 0, 0, 0, 0, 0, 0, 0, 0, 0, 0, 0, ...  training       True  "
      ]
     },
     "execution_count": 16,
     "metadata": {},
     "output_type": "execute_result"
    }
   ],
   "source": [
    "x = np.array([x for  x in data[\"fpt\"]])\n",
    "data[\"predicted\"] = model.predict(x) > 0.5\n",
    "\n",
    "data.head()"
   ]
  },
  {
   "cell_type": "markdown",
   "id": "eacbdf83-befd-4712-96a2-1e71b88b5866",
   "metadata": {},
   "source": [
    "<mark> **Pregunta 7**: Agafem un subset random del test set de 100 compostos. Quina és la **precisió**, **recall**, i **F1-measure** del model en aquests 100 compostos ? </mark>"
   ]
  },
  {
   "cell_type": "markdown",
   "id": "53dc3c65-81d0-458c-9d1f-427a8c7f413f",
   "metadata": {},
   "source": [
    "Precisió = True Positives / (True Positives + False Positives)\n",
    "\n",
    "Recall = True Positives / (True Positives + False Negatives)\n",
    "\n",
    "F1-measure = 2 * (Precisió * Recall) / (Precisió + Recall)"
   ]
  },
  {
   "cell_type": "code",
   "execution_count": 17,
   "id": "e80ee310-8cc5-4472-8c81-e40366f8a75e",
   "metadata": {},
   "outputs": [],
   "source": [
    "from sklearn.metrics import precision_score, recall_score, f1_score"
   ]
  },
  {
   "cell_type": "code",
   "execution_count": 19,
   "id": "a95ac086-c228-443e-b57d-f7bfb293d5bd",
   "metadata": {},
   "outputs": [
    {
     "data": {
      "text/html": [
       "<div>\n",
       "<style scoped>\n",
       "    .dataframe tbody tr th:only-of-type {\n",
       "        vertical-align: middle;\n",
       "    }\n",
       "\n",
       "    .dataframe tbody tr th {\n",
       "        vertical-align: top;\n",
       "    }\n",
       "\n",
       "    .dataframe thead th {\n",
       "        text-align: right;\n",
       "    }\n",
       "</style>\n",
       "<table border=\"1\" class=\"dataframe\">\n",
       "  <thead>\n",
       "    <tr style=\"text-align: right;\">\n",
       "      <th></th>\n",
       "      <th>id</th>\n",
       "      <th>name</th>\n",
       "      <th>pACT</th>\n",
       "      <th>smiles</th>\n",
       "      <th>active</th>\n",
       "      <th>fpt</th>\n",
       "      <th>set</th>\n",
       "      <th>predicted</th>\n",
       "    </tr>\n",
       "  </thead>\n",
       "  <tbody>\n",
       "    <tr>\n",
       "      <th>23279</th>\n",
       "      <td>CHEMBL3979366</td>\n",
       "      <td>NaN</td>\n",
       "      <td>8.18</td>\n",
       "      <td>C=CC(=O)N1CC[C@H](Oc2cc3c(Nc4ccc(F)c(Cl)c4F)nc...</td>\n",
       "      <td>True</td>\n",
       "      <td>[0, 0, 0, 0, 0, 0, 0, 0, 0, 0, 0, 0, 0, 0, 0, ...</td>\n",
       "      <td>test</td>\n",
       "      <td>True</td>\n",
       "    </tr>\n",
       "    <tr>\n",
       "      <th>1612216</th>\n",
       "      <td>CHEMBL2347560</td>\n",
       "      <td>NaN</td>\n",
       "      <td>NaN</td>\n",
       "      <td>O=S(=O)(c1ccc(-c2ccc3ncnc(Nc4ccc(OCc5cccc(Br)c...</td>\n",
       "      <td>False</td>\n",
       "      <td>[0, 0, 0, 0, 0, 0, 0, 0, 0, 0, 0, 0, 0, 0, 0, ...</td>\n",
       "      <td>test</td>\n",
       "      <td>True</td>\n",
       "    </tr>\n",
       "    <tr>\n",
       "      <th>1656</th>\n",
       "      <td>CHEMBL3815161</td>\n",
       "      <td>NaN</td>\n",
       "      <td>8.54</td>\n",
       "      <td>O=C(NCCN1CCOCC1)Nc1ccc2ncnc(Nc3ccc(F)c(Cl)c3)c2c1</td>\n",
       "      <td>True</td>\n",
       "      <td>[0, 0, 0, 0, 0, 0, 0, 0, 0, 0, 0, 0, 0, 0, 0, ...</td>\n",
       "      <td>test</td>\n",
       "      <td>False</td>\n",
       "    </tr>\n",
       "    <tr>\n",
       "      <th>4068</th>\n",
       "      <td>CHEMBL3671542</td>\n",
       "      <td>NaN</td>\n",
       "      <td>6.99</td>\n",
       "      <td>C=CC(=O)Nc1cc2c(Nc3ccc(Br)cc3F)ncnc2cc1OCCNC(=...</td>\n",
       "      <td>True</td>\n",
       "      <td>[0, 0, 0, 0, 0, 0, 0, 0, 0, 0, 0, 0, 0, 0, 0, ...</td>\n",
       "      <td>test</td>\n",
       "      <td>True</td>\n",
       "    </tr>\n",
       "    <tr>\n",
       "      <th>10202</th>\n",
       "      <td>CHEMBL3813728</td>\n",
       "      <td>NaN</td>\n",
       "      <td>8.65</td>\n",
       "      <td>Fc1cccc(COc2ccc(Nc3ncnc4ccc(NC(=S)NCCN5CCOCC5)...</td>\n",
       "      <td>True</td>\n",
       "      <td>[0, 0, 0, 0, 0, 0, 0, 0, 0, 0, 0, 0, 0, 0, 0, ...</td>\n",
       "      <td>test</td>\n",
       "      <td>True</td>\n",
       "    </tr>\n",
       "  </tbody>\n",
       "</table>\n",
       "</div>"
      ],
      "text/plain": [
       "                    id name  pACT  \\\n",
       "23279    CHEMBL3979366  NaN  8.18   \n",
       "1612216  CHEMBL2347560  NaN   NaN   \n",
       "1656     CHEMBL3815161  NaN  8.54   \n",
       "4068     CHEMBL3671542  NaN  6.99   \n",
       "10202    CHEMBL3813728  NaN  8.65   \n",
       "\n",
       "                                                    smiles active  \\\n",
       "23279    C=CC(=O)N1CC[C@H](Oc2cc3c(Nc4ccc(F)c(Cl)c4F)nc...   True   \n",
       "1612216  O=S(=O)(c1ccc(-c2ccc3ncnc(Nc4ccc(OCc5cccc(Br)c...  False   \n",
       "1656     O=C(NCCN1CCOCC1)Nc1ccc2ncnc(Nc3ccc(F)c(Cl)c3)c2c1   True   \n",
       "4068     C=CC(=O)Nc1cc2c(Nc3ccc(Br)cc3F)ncnc2cc1OCCNC(=...   True   \n",
       "10202    Fc1cccc(COc2ccc(Nc3ncnc4ccc(NC(=S)NCCN5CCOCC5)...   True   \n",
       "\n",
       "                                                       fpt   set  predicted  \n",
       "23279    [0, 0, 0, 0, 0, 0, 0, 0, 0, 0, 0, 0, 0, 0, 0, ...  test       True  \n",
       "1612216  [0, 0, 0, 0, 0, 0, 0, 0, 0, 0, 0, 0, 0, 0, 0, ...  test       True  \n",
       "1656     [0, 0, 0, 0, 0, 0, 0, 0, 0, 0, 0, 0, 0, 0, 0, ...  test      False  \n",
       "4068     [0, 0, 0, 0, 0, 0, 0, 0, 0, 0, 0, 0, 0, 0, 0, ...  test       True  \n",
       "10202    [0, 0, 0, 0, 0, 0, 0, 0, 0, 0, 0, 0, 0, 0, 0, ...  test       True  "
      ]
     },
     "execution_count": 19,
     "metadata": {},
     "output_type": "execute_result"
    }
   ],
   "source": [
    "subset = data[data[\"set\"] == \"test\"].sample(100)\n",
    "subset.head()"
   ]
  },
  {
   "cell_type": "code",
   "execution_count": 26,
   "id": "e5c963e0-52ad-4350-91ba-86223ba3e011",
   "metadata": {},
   "outputs": [
    {
     "name": "stdout",
     "output_type": "stream",
     "text": [
      "Precisió: 0.9534883720930233\n",
      "Recall: 0.7592592592592593\n",
      "F1-measure: 0.845360824742268\n"
     ]
    }
   ],
   "source": [
    "true_labels = subset[\"active\"]\n",
    "precision = subset[\"predicted\"]\n",
    "\n",
    "true_labels = true_labels.astype(int)\n",
    "precision = precision.astype(int)\n",
    "\n",
    "# Càlcul de les mètriques\n",
    "precision = precision_score(true_labels, predictions)\n",
    "recall = recall_score(true_labels, predictions)\n",
    "f1 = f1_score(true_labels, predictions)\n",
    "\n",
    "print(\"Precisió:\", precision)\n",
    "print(\"Recall:\", recall)\n",
    "print(\"F1-measure:\", f1)"
   ]
  }
 ],
 "metadata": {
  "kernelspec": {
   "display_name": "tensorflow",
   "language": "python",
   "name": "tensorflow"
  },
  "language_info": {
   "codemirror_mode": {
    "name": "ipython",
    "version": 3
   },
   "file_extension": ".py",
   "mimetype": "text/x-python",
   "name": "python",
   "nbconvert_exporter": "python",
   "pygments_lexer": "ipython3",
   "version": "3.7.16"
  }
 },
 "nbformat": 4,
 "nbformat_minor": 5
}
