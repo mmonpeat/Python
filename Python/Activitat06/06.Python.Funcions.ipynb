{
 "cells": [
  {
   "cell_type": "markdown",
   "metadata": {},
   "source": [
    "# **6. Python: Construcció de Funcions**\n"
   ]
  },
  {
   "cell_type": "markdown",
   "metadata": {},
   "source": [
    "### Why Functions ? *(ThinkPython Book)*\n",
    "\n",
    "It may not be clear why it is worth the trouble to divide a program into functions. There\n",
    "are several reasons:\n",
    "\n",
    "+ Creating a new function gives you an opportunity to name a **group of statements**, which makes your program **easier** to **read** and **debug**.\n",
    "\n",
    "+ Functions can make a program smaller by **eliminating repetitive code**. Later, if you make a change, you only have to make it in one place.\n",
    "\n",
    "+ Dividing a long program into functions allows you to **debug** the parts **one at a time** and then assemble them into a working whole.\n",
    "\n",
    "+ Well-designed functions are often useful for many programs. Once you write and debug one, you can **reuse** it.\n"
   ]
  },
  {
   "cell_type": "markdown",
   "metadata": {},
   "source": [
    "# 6.1 Definir una funció\n",
    "\n",
    "Les funcions són part del que anomenem **programació estructurada**. Una funció és un bloc de codi que té un **nom** associat, que pot rebre uns **arguments** d'entrada per tal d'executar un codi desitjat i finalment **retornar** uns valors determinats (poden ser de qualsevol tipus, string, float, llista, diccionari, etc). \n",
    "\n",
    "Les característiques de les funcions són:\n",
    "- **Modulables**: permet segmentar un script complex en mòduls més simples, millorant així l'organització i l'estructura de la programació. \n",
    "\n",
    "- **Reutilitzables**: una funció pot ser utilitzada tantes vegades com sigui necessari, canviant els arguments. \n",
    "\n",
    "Les funcions poden contenir, dins dels seus blocs, totes les sentències i estructures que hem après fins ara. Les funcions poden ser simples o molt complexes i, fins i tot, es poden fer servir una dins d’una altra. \n",
    "\n",
    "\n",
    "\n",
    "### **Estructura per a definir funció**\n",
    "\n",
    "Una funció és un bloc de codi reutilitzable. La seva missió principal és generar una acció o un canvi i que aquest es pugui dur a terme només invocant la funció sense tenir la necessitat de tornar escriure el codi. \n",
    "\n",
    "L'estructura d'una funció a python és la següent:\n",
    "\n",
    "```python\n",
    "def NomFunció (paràmetres):\n",
    "    \"\"\"Què fa aquesta funció?\"\"\"\n",
    "     codi de la funció\n",
    "     return(output)\n",
    "```\n",
    "\n",
    "> <img src=\"https://icon-library.com/images/tip-icon/tip-icon-23.jpg\" alt=\"tip\" width=\"30\"/> Recorda que la identació és important com a la resta d'estructures de control, per tant, tot el que formi part de la funció haurà d'estar correctament identat."
   ]
  },
  {
   "cell_type": "code",
   "execution_count": 1,
   "metadata": {},
   "outputs": [],
   "source": [
    "def duplicar(x): \n",
    "    \"\"\"\n",
    "    Aquesta funció s’encarrega de calcular el doble de x\n",
    "    \"\"\"\n",
    "    y = x * 2 \n",
    "    return(y)"
   ]
  },
  {
   "cell_type": "markdown",
   "metadata": {},
   "source": [
    "Analitzem la composició d’una funció:\n",
    "+ La sentència `def` defineix que l’objecte és una funció.\n",
    "+ *duplicar* és el nom de la funció, tot i que podria ser qualsevol altre.\n",
    "+ (x) és un paràmetre de la funció que després fa servir en el codi.\n",
    "+ `return()` és l'output que s'obtindrà cada cop que s'utilitzi la funció"
   ]
  },
  {
   "cell_type": "markdown",
   "metadata": {},
   "source": [
    "### **Cridar una funció**\n",
    "\n",
    "Per tal que s’executi el codi de la funció, cal cridar-la. Al definir una funció, les variables que requereix s'anomenen **paràmetres**, però quan cridem la funció amb valors concrets per aquestes variables s'anomenen **arguments**. És important incloure el mateix nombre d'arguments com paràmetres que s'han definit a la funció \n"
   ]
  },
  {
   "cell_type": "code",
   "execution_count": 2,
   "metadata": {},
   "outputs": [
    {
     "data": {
      "text/plain": [
       "10"
      ]
     },
     "execution_count": 2,
     "metadata": {},
     "output_type": "execute_result"
    }
   ],
   "source": [
    "duplicar(5)"
   ]
  },
  {
   "cell_type": "code",
   "execution_count": null,
   "metadata": {},
   "outputs": [],
   "source": [
    "#També podem guardar el resultat en una variable\n",
    "out = duplicar(28)\n",
    "print(out)"
   ]
  },
  {
   "cell_type": "markdown",
   "metadata": {},
   "source": [
    "### **Definir els arguments per posició**\n",
    "\n",
    "Els arguments es relacionen amb els paràmetres, generalment pel mateix ordre dels paràmetres definits."
   ]
  },
  {
   "cell_type": "code",
   "execution_count": 3,
   "metadata": {},
   "outputs": [],
   "source": [
    "def resta(a, b):\n",
    "    solucio = a - b\n",
    "    return(solucio)"
   ]
  },
  {
   "cell_type": "code",
   "execution_count": 4,
   "metadata": {},
   "outputs": [
    {
     "data": {
      "text/plain": [
       "5"
      ]
     },
     "execution_count": 4,
     "metadata": {},
     "output_type": "execute_result"
    }
   ],
   "source": [
    "resta(8, 3)"
   ]
  },
  {
   "cell_type": "code",
   "execution_count": 5,
   "metadata": {},
   "outputs": [
    {
     "data": {
      "text/plain": [
       "-5"
      ]
     },
     "execution_count": 5,
     "metadata": {},
     "output_type": "execute_result"
    }
   ],
   "source": [
    "resta(3,8)"
   ]
  },
  {
   "cell_type": "markdown",
   "metadata": {},
   "source": [
    "### **Definir els arguments per nom**\n",
    "\n",
    "Si volguèssim canviar l'ordre, seria possible definint el nom del paràmetre per a donar el seu argument"
   ]
  },
  {
   "cell_type": "code",
   "execution_count": 6,
   "metadata": {},
   "outputs": [
    {
     "data": {
      "text/plain": [
       "5"
      ]
     },
     "execution_count": 6,
     "metadata": {},
     "output_type": "execute_result"
    }
   ],
   "source": [
    "resta(b=3, a=8)"
   ]
  },
  {
   "cell_type": "markdown",
   "metadata": {},
   "source": [
    "### **Valors per defecte dels paràmetres**\n",
    "\n",
    "També podem determinar els valors per defecte que ens evitaran errors si oblidem algún dels arguments. Es poden modificar si al cridar la funció determinem nous arguments. "
   ]
  },
  {
   "cell_type": "code",
   "execution_count": 9,
   "metadata": {},
   "outputs": [],
   "source": [
    "def resta(a=5, b=0):\n",
    "    solucio = a - b\n",
    "    return(solucio)"
   ]
  },
  {
   "cell_type": "code",
   "execution_count": 10,
   "metadata": {},
   "outputs": [
    {
     "data": {
      "text/plain": [
       "5"
      ]
     },
     "execution_count": 10,
     "metadata": {},
     "output_type": "execute_result"
    }
   ],
   "source": [
    "#Agafarà els valors per defecte definits per als paràmetres a i b\n",
    "resta()"
   ]
  },
  {
   "cell_type": "code",
   "execution_count": 11,
   "metadata": {},
   "outputs": [
    {
     "data": {
      "text/plain": [
       "7"
      ]
     },
     "execution_count": 11,
     "metadata": {},
     "output_type": "execute_result"
    }
   ],
   "source": [
    "#Agafarà per defecte el valor definit per al paràmetre b\n",
    "resta(7)"
   ]
  },
  {
   "cell_type": "code",
   "execution_count": 12,
   "metadata": {},
   "outputs": [
    {
     "data": {
      "text/plain": [
       "4"
      ]
     },
     "execution_count": 12,
     "metadata": {},
     "output_type": "execute_result"
    }
   ],
   "source": [
    "#Introduim nous arguments\n",
    "resta(7,3)"
   ]
  },
  {
   "cell_type": "markdown",
   "metadata": {},
   "source": [
    "### **Exemples**\n",
    "\n",
    "El codi que pot contenir una funció pot ser tan complex com sigui necessari. I el retorn podem determinar diferents estructures. A continuació, fem alguns exemples:\n",
    "\n",
    "**1.** En aquest cas, estem realitzant una assignació de variables múltiple, cada variable pendrà el valor d'un element de l'output"
   ]
  },
  {
   "cell_type": "code",
   "execution_count": 13,
   "metadata": {},
   "outputs": [],
   "source": [
    "def analisi_llistes(llista):\n",
    "    \"\"\"Aquesta funció retorna la longitud, el mínim, el màxim i ordena una llista\"\"\"\n",
    "    \n",
    "    longitud = len(llista)\n",
    "    minim = min(llista)\n",
    "    maxim = max(llista)\n",
    "    ordenada = sorted(llista)\n",
    "    \n",
    "    return longitud, minim, maxim, ordenada"
   ]
  },
  {
   "cell_type": "code",
   "execution_count": 14,
   "metadata": {},
   "outputs": [
    {
     "name": "stdout",
     "output_type": "stream",
     "text": [
      "longitud 7 \n",
      "minim 3 \n",
      "maxim 9 \n",
      "llista [3, 4, 5, 6, 8, 8, 9]\n"
     ]
    }
   ],
   "source": [
    "numeros = [5,8,9,6,3,4,8]\n",
    "long, minim, maxim, numsort = analisi_llistes(numeros)\n",
    "print(\"longitud\", long, \"\\nminim\", minim, \"\\nmaxim\", maxim, \"\\nllista\", numsort)"
   ]
  },
  {
   "cell_type": "code",
   "execution_count": 15,
   "metadata": {},
   "outputs": [
    {
     "name": "stdout",
     "output_type": "stream",
     "text": [
      "longitud 5 \n",
      "minim a \n",
      "maxim z \n",
      "llista ['a', 'c', 'j', 'm', 'z']\n"
     ]
    }
   ],
   "source": [
    "lletres = [\"a\", \"j\", \"c\", \"z\", \"m\"]\n",
    "long, minim, maxim, numsort = analisi_llistes(lletres)\n",
    "print(\"longitud\", long, \"\\nminim\", minim, \"\\nmaxim\", maxim, \"\\nllista\", numsort)"
   ]
  },
  {
   "cell_type": "markdown",
   "metadata": {},
   "source": [
    "> <img src=\"https://icon-library.com/images/tip-icon/tip-icon-23.jpg\" alt=\"tip\" width=\"30\"/> A diferència d'altres llenguatges de programació, les funcions en python poden retornar diversos valors."
   ]
  },
  {
   "cell_type": "markdown",
   "metadata": {},
   "source": [
    "**2.** En aquest exemple, introduim els condicionals al cos de la funció per a generar un diccionari. Com a input requerirà una llista"
   ]
  },
  {
   "cell_type": "code",
   "execution_count": 17,
   "metadata": {},
   "outputs": [],
   "source": [
    "def analitica_sang(dades):\n",
    "    \"\"\"Analitza els valors d'una anàlisi de sang en funció dels paràmetres obtinguts\n",
    "    Input: llista de tres elements corresponent a nom, glucosa i triglicerids del pacient\"\"\"\n",
    "    \n",
    "    pacient = {}\n",
    "    pacient[\"Nom\"] = dades[0]\n",
    "    \n",
    "    if dades[1] <= 110:\n",
    "        pacient[\"glucosa\"] = \"normal\"\n",
    "    else:\n",
    "        pacient[\"glucosa\"] = \"alt\"\n",
    "        \n",
    "    if dades[2] <= 160:\n",
    "        pacient[\"triglicerids\"] = \"normal\"\n",
    "    else:\n",
    "        pacient[\"triglicerids\"] = \"alt\"\n",
    "    \n",
    "    return(pacient)\n"
   ]
  },
  {
   "cell_type": "code",
   "execution_count": 18,
   "metadata": {},
   "outputs": [
    {
     "data": {
      "text/plain": [
       "{'Nom': 'Adrià', 'glucosa': 'normal', 'triglicerids': 'alt'}"
      ]
     },
     "execution_count": 18,
     "metadata": {},
     "output_type": "execute_result"
    }
   ],
   "source": [
    "analitica_sang([\"Adrià\", 90, 210])"
   ]
  },
  {
   "cell_type": "markdown",
   "metadata": {},
   "source": [
    "**3.** Ara construirem una funció amb més d’un paràmetre amb diferents tipus de variables. En aquest cas, no hi ha cap retorn, sinó un print amb el resultat"
   ]
  },
  {
   "cell_type": "code",
   "execution_count": 19,
   "metadata": {},
   "outputs": [],
   "source": [
    "def notes_alumnes(nom,edat,llista_notes): \n",
    "    \"\"\"Fa la mitjana per alumne\"\"\"\n",
    "    \n",
    "    if edat >= 18:\n",
    "        estatus = \"major d'edat\"\n",
    "    else:\n",
    "        estatus = \"menor d'edat\"\n",
    "    \n",
    "    nota = sum(llista_notes)/len(llista_notes)\n",
    "    if nota >= 5:\n",
    "        resultat_nota = \"aprovat\"\n",
    "    else:\n",
    "        resultat_nota = \"suspès\"\n",
    "    \n",
    "    print(\"{} és {} i ha {} bioinformàtica\".format(nom, estatus, resultat_nota))"
   ]
  },
  {
   "cell_type": "code",
   "execution_count": 20,
   "metadata": {},
   "outputs": [
    {
     "name": "stdout",
     "output_type": "stream",
     "text": [
      "Ivet és major d'edat i ha aprovat bioinformàtica\n"
     ]
    }
   ],
   "source": [
    "notes_alumnes(\"Ivet\",19,[4.3,6,7.2,3.1,8.9]) "
   ]
  },
  {
   "cell_type": "markdown",
   "metadata": {},
   "source": [
    "**4.** Ara farem que el retorn d’una funció sigui el valor del paràmetre d’una altra funció:"
   ]
  },
  {
   "cell_type": "code",
   "execution_count": 21,
   "metadata": {
    "tags": []
   },
   "outputs": [],
   "source": [
    "#Definim una funció\n",
    "def operacio_1(x):\n",
    "    \"\"\"Calcula el triple d'un valor més 6\"\"\"\n",
    "    return x*3 + 6 "
   ]
  },
  {
   "cell_type": "code",
   "execution_count": 22,
   "metadata": {},
   "outputs": [
    {
     "data": {
      "text/plain": [
       "21"
      ]
     },
     "execution_count": 22,
     "metadata": {},
     "output_type": "execute_result"
    }
   ],
   "source": [
    "#Cridem la funció\n",
    "operacio_1(5)"
   ]
  },
  {
   "cell_type": "code",
   "execution_count": 23,
   "metadata": {},
   "outputs": [],
   "source": [
    "#Definim una segona funció\n",
    "def operacio_2(x): \n",
    "    \"\"\"Calcula un terç d'un valor menys 6. El retorn és un float\"\"\"\n",
    "    return x/3 - 6\n",
    "        "
   ]
  },
  {
   "cell_type": "code",
   "execution_count": 24,
   "metadata": {},
   "outputs": [
    {
     "data": {
      "text/plain": [
       "1.0"
      ]
     },
     "execution_count": 24,
     "metadata": {},
     "output_type": "execute_result"
    }
   ],
   "source": [
    "#Cridem les dues funcions combinades, de forma que l'output de la primera serà l'input de la segona\n",
    "operacio_2(operacio_1(5))   "
   ]
  },
  {
   "cell_type": "markdown",
   "metadata": {},
   "source": [
    "**5.** Recorda que a Python tot són objectes i, per tant, les funcions també. Això vol dir que podem guardar la funció sencera en una variable (i no només el resultat que hi genera)."
   ]
  },
  {
   "cell_type": "code",
   "execution_count": 25,
   "metadata": {},
   "outputs": [
    {
     "name": "stdout",
     "output_type": "stream",
     "text": [
      "18\n"
     ]
    }
   ],
   "source": [
    "def operacio_1(x): \n",
    "    return x*3 + 6 \n",
    "\n",
    "f = operacio_1 \n",
    "\n",
    "print(f(4))"
   ]
  },
  {
   "cell_type": "markdown",
   "metadata": {},
   "source": [
    "**6.** Veiem altres exemples:"
   ]
  },
  {
   "cell_type": "code",
   "execution_count": 26,
   "metadata": {},
   "outputs": [],
   "source": [
    "# Definició de la funció per calcular la sèrie de Fibonacci\n",
    "\n",
    "def fibonacci(n):\n",
    "    \"\"\"\n",
    "    Retorna una llista que conté la sèrie de Fibonacci fins a n.\n",
    "    \"\"\"\n",
    "    \n",
    "    resultat = []\n",
    "    a, b = 0, 1\n",
    "    while a < n:\n",
    "        resultat.append(a)\n",
    "        a, b = b, a+b\n",
    "        \n",
    "    return resultat"
   ]
  },
  {
   "cell_type": "code",
   "execution_count": 27,
   "metadata": {},
   "outputs": [
    {
     "data": {
      "text/plain": [
       "[0, 1, 1, 2, 3, 5, 8, 13, 21, 34, 55, 89]"
      ]
     },
     "execution_count": 27,
     "metadata": {},
     "output_type": "execute_result"
    }
   ],
   "source": [
    "# Utilizació de la funció\n",
    "\n",
    "fibonacci(100)"
   ]
  },
  {
   "cell_type": "markdown",
   "metadata": {},
   "source": [
    "# 6.2 Funcions sense nom (funcions lambda)\n",
    "\n",
    "En Python també podem crear funcions sense nom en una sola línia, utilitzant la paraua clau `lambda`:"
   ]
  },
  {
   "cell_type": "code",
   "execution_count": 28,
   "metadata": {},
   "outputs": [
    {
     "data": {
      "text/plain": [
       "9"
      ]
     },
     "execution_count": 28,
     "metadata": {},
     "output_type": "execute_result"
    }
   ],
   "source": [
    "f1 = lambda x: x**2\n",
    "f1(3)"
   ]
  },
  {
   "cell_type": "code",
   "execution_count": 29,
   "metadata": {},
   "outputs": [
    {
     "data": {
      "text/plain": [
       "9"
      ]
     },
     "execution_count": 29,
     "metadata": {},
     "output_type": "execute_result"
    }
   ],
   "source": [
    "# és equivalent a dir:\n",
    "\n",
    "def f2(x):\n",
    "    return x**2\n",
    "f2(3)"
   ]
  },
  {
   "cell_type": "markdown",
   "metadata": {},
   "source": [
    "Poden tenir qualsevol nombre d'arguments, però solament una sola expressió i no poden tenir assignacions. És especialment útil quan volem una funció anònima que farem servir molt poques vegades i per un propòsit molt concret.\n",
    "\n",
    "Habitualment es fan servir com a arguments d'altres funcions que tenen una funció com a paràmetre, com per exemple la funció `list.sort()`"
   ]
  },
  {
   "cell_type": "code",
   "execution_count": 30,
   "metadata": {},
   "outputs": [
    {
     "data": {
      "text/plain": [
       "[121, 32, 423, 213, 43, 94, 5, 109]"
      ]
     },
     "execution_count": 30,
     "metadata": {},
     "output_type": "execute_result"
    }
   ],
   "source": [
    "llista = [5, 423, 213, 32, 109, 43, 121, 94]\n",
    "\n",
    "# Volem ordenar aquesta llista d'enters segons en nombre en que acaben\n",
    "llista.sort(key=lambda num: str(num)[-1])\n",
    "llista"
   ]
  },
  {
   "cell_type": "markdown",
   "metadata": {},
   "source": [
    "# 6.3 Gestió d'Errors i Exepcions \n",
    "\n",
    "Els errors detectats durant l'execució s'anomenen en python `exceptions` i es poden capturar amb els blocs `try`i `except`:\n",
    "\n",
    "```python\n",
    "try:\n",
    "  aquí va el codi normal\n",
    "except Error:\n",
    "  el codi per manipular l'error va aquí\n",
    "  Aquest codi no s'executa a menys que el codi anterior generi un error\n",
    "```\n",
    "    \n",
    "*Python starts by executing the try clause. If all goes well, it skips the except clause and proceeds. If an exception occurs, it jumps out of the try clause and executes the except clause.*\n",
    "\n",
    "Les funcions predefinides a python ja tenen els seus propis codis d'error gestionats !"
   ]
  },
  {
   "cell_type": "markdown",
   "metadata": {},
   "source": [
    "> <img src=\"https://icon-library.com/images/tip-icon/tip-icon-23.jpg\" alt=\"tip\" width=\"30\"/> És recomanable capturar errors com més específics millor. A la documentació hi teniu la llista dels [errors predefinits](https://docs.python.org/3/library/exceptions.html#exception-hierarchy). També es poden crear tipus d'errors nous."
   ]
  },
  {
   "cell_type": "code",
   "execution_count": 31,
   "metadata": {},
   "outputs": [
    {
     "data": {
      "text/plain": [
       "3"
      ]
     },
     "execution_count": 31,
     "metadata": {},
     "output_type": "execute_result"
    }
   ],
   "source": [
    "llista = [1,2,3,4]\n",
    "llista[2]"
   ]
  },
  {
   "cell_type": "code",
   "execution_count": 32,
   "metadata": {},
   "outputs": [
    {
     "name": "stdout",
     "output_type": "stream",
     "text": [
      "ERROR\n"
     ]
    }
   ],
   "source": [
    "try:\n",
    "    print(llista[5])\n",
    "except IndexError:\n",
    "    print(\"ERROR\")"
   ]
  },
  {
   "cell_type": "code",
   "execution_count": 33,
   "metadata": {
    "tags": []
   },
   "outputs": [
    {
     "name": "stdout",
     "output_type": "stream",
     "text": [
      "ERROR: list index out of range\n"
     ]
    }
   ],
   "source": [
    "try:\n",
    "    print(llista[4])\n",
    "except IndexError as e:\n",
    "    print(\"ERROR: \" + str(e))"
   ]
  },
  {
   "cell_type": "markdown",
   "metadata": {},
   "source": [
    "## **Exercici 17**\n",
    "\n",
    "Escriu una funció que verifiqui si un nombre és entre 1-4 o 10-15. L'output ha de ser  `True` o `False` o bé un print"
   ]
  },
  {
   "cell_type": "code",
   "execution_count": 36,
   "metadata": {},
   "outputs": [
    {
     "name": "stdout",
     "output_type": "stream",
     "text": [
      "El nombre està fora del rang.\n"
     ]
    }
   ],
   "source": [
    "def verifica_numero(num):\n",
    "    if (1 <= num <= 4) or (10 <= num <= 15):\n",
    "        return True\n",
    "    else:\n",
    "        return False\n",
    "\n",
    "# Exemple d'ús\n",
    "numero = 7\n",
    "if verifica_numero(numero):\n",
    "    print(\"El nombre es troba dins del rang.\")\n",
    "else:\n",
    "    print(\"El nombre està fora del rang.\")"
   ]
  },
  {
   "cell_type": "markdown",
   "metadata": {},
   "source": [
    "## **Exercici 18**\n",
    "\n",
    "Escriu una funció que retorni el màxim nombre d'una llista sense fer servir la funció `max`"
   ]
  },
  {
   "cell_type": "code",
   "execution_count": 38,
   "metadata": {},
   "outputs": [
    {
     "name": "stdout",
     "output_type": "stream",
     "text": [
      "88\n"
     ]
    }
   ],
   "source": [
    "def is_max(llista):\n",
    "    i = 0\n",
    "    num = 0\n",
    "    while (i < len(llista)):\n",
    "        if (num < llista[i]):\n",
    "            num = llista[i]\n",
    "        i += 1\n",
    "    return (num)\n",
    "\n",
    "list = [5, 7, 9, 23, 77, 88, 12]\n",
    "res = is_max(list)\n",
    "print(res)"
   ]
  },
  {
   "cell_type": "markdown",
   "metadata": {},
   "source": [
    "## **Exercici 19**\n",
    "\n",
    "Escriu una funció que compti la freqüència de caràcters (les vegades que es repeteix cada lletra) que conté un string."
   ]
  },
  {
   "cell_type": "code",
   "execution_count": 42,
   "metadata": {},
   "outputs": [
    {
     "name": "stdout",
     "output_type": "stream",
     "text": [
      "{'H': 1, 'o': 1, 'l': 2, 'a': 2, ',': 1, ' ': 4, 'i': 1, 'x': 2, 'ò': 1, 'é': 1, 's': 1, 'u': 1, 'n': 1, 'e': 3, 'm': 1, 'p': 1, '.': 1}\n"
     ]
    }
   ],
   "source": [
    "def count_lletres(str):\n",
    "    i = 0\n",
    "    frequencies = {}\n",
    "    while (i < len(str)):\n",
    "        char = str[i]\n",
    "        times = 0\n",
    "        j = 0\n",
    "        while (j < len(str)):\n",
    "            if (char == str[j]):\n",
    "                times += 1\n",
    "            j+= 1\n",
    "        if char not in frequencies:\n",
    "            frequencies[char] = times\n",
    "        i+= 1\n",
    "    return (frequencies)\n",
    "\n",
    "cadena = \"Hola, això és un exemple.\"\n",
    "resultat = count_lletres(cadena)\n",
    "print(resultat)"
   ]
  },
  {
   "cell_type": "markdown",
   "metadata": {},
   "source": [
    "## **Exercici 20**\n",
    "\n",
    "Escriu una funció que agafi un llistat de números i que retorni la suma acumulada, és a dir, una nova llista on el primer element és el mateix, el segon element és la suma del primer amb el segon, el tercer element és la suma del resultat anterior amb el seguent element i així succesivament. \n",
    "\n",
    "*Per exemple, la suma acumulada de [1,2,3] és [1, 3, 6]*"
   ]
  },
  {
   "cell_type": "code",
   "execution_count": 43,
   "metadata": {},
   "outputs": [
    {
     "name": "stdout",
     "output_type": "stream",
     "text": [
      "[1, 3, 6]\n"
     ]
    }
   ],
   "source": [
    "def suma_acumulada(llista):\n",
    "    suma = 0\n",
    "    suma_acumulada = []\n",
    "    for num in llista:\n",
    "        suma += num\n",
    "        suma_acumulada.append(suma)\n",
    "    return suma_acumulada\n",
    "\n",
    "llista = [1, 2, 3]\n",
    "resultat = suma_acumulada(llista)\n",
    "print(resultat)"
   ]
  },
  {
   "cell_type": "markdown",
   "metadata": {},
   "source": [
    "## **Exercici 21**\n",
    "\n",
    "Realitza una funció `separar`que prengui un llistat de nombres enters i torni dues llistes ordenades. La primera amb els nombres parells i la segona amb els nombres imparells. "
   ]
  },
  {
   "cell_type": "code",
   "execution_count": 47,
   "metadata": {},
   "outputs": [
    {
     "name": "stdout",
     "output_type": "stream",
     "text": [
      "Nombres parells: [2, 4, 6]\n",
      "Nombres imparells: [1, 1, 3, 3, 5, 5, 5, 9]\n"
     ]
    }
   ],
   "source": [
    "def separar_num(llista):\n",
    "    llista.sort()\n",
    "    pars = []\n",
    "    impars = []\n",
    "    for num in llista:\n",
    "        if (num % 2 == 0):\n",
    "            pars.append(num)\n",
    "        else:\n",
    "            impars.append(num)\n",
    "    return (pars, impars)\n",
    "\n",
    "llista = [3, 1, 4, 1, 5, 9, 2, 6, 5, 3, 5]\n",
    "parells, imparells = separar_num(llista)\n",
    "print(\"Nombres parells:\", parells)\n",
    "print(\"Nombres imparells:\", imparells)"
   ]
  },
  {
   "cell_type": "markdown",
   "metadata": {},
   "source": [
    "## **Exercici 22**\n",
    "\n",
    "Completa la funció retornant l'arrel quadrada d'un nombre capturant l'error del tipus ValueError i mostrant un missatge d'error pertinent. Nota: proveu l'error posant un nombre negatiu"
   ]
  },
  {
   "cell_type": "code",
   "execution_count": 53,
   "metadata": {},
   "outputs": [
    {
     "name": "stdout",
     "output_type": "stream",
     "text": [
      "1.4142135623730951\n",
      "Error: No es pot calcular l'arrel quadrada d'un nombre negatiu.\n"
     ]
    }
   ],
   "source": [
    "import math\n",
    "\n",
    "def ArrelQuadrada(numero):\n",
    "    try:\n",
    "        if numero < 0:\n",
    "            raise ValueError(\"No es pot calcular l'arrel quadrada d'un nombre negatiu.\")\n",
    "        else:\n",
    "            return math.sqrt(numero)\n",
    "    except ValueError as error:\n",
    "        return f\"Error: {error}\"\n",
    "\n",
    "# Exemple d'ús\n",
    "resultat = ArrelQuadrada(2)\n",
    "print(resultat)\n",
    "\n",
    "resultat_error = ArrelQuadrada(-2)\n",
    "print(resultat_error)"
   ]
  },
  {
   "cell_type": "code",
   "execution_count": 58,
   "metadata": {},
   "outputs": [
    {
     "name": "stdout",
     "output_type": "stream",
     "text": [
      "Retrieving notices: ...working... done\n",
      "Note: you may need to restart the kernel to use updated packages.\n"
     ]
    },
    {
     "name": "stderr",
     "output_type": "stream",
     "text": [
      "\n",
      "\n",
      "==> WARNING: A newer version of conda exists. <==\n",
      "  current version: 23.5.2\n",
      "  latest version: 23.9.0\n",
      "\n",
      "Please update conda by running\n",
      "\n",
      "    $ conda update -n base -c defaults conda\n",
      "\n",
      "Or to minimize the number of packages updated during conda update use\n",
      "\n",
      "     conda install conda=23.9.0\n",
      "\n",
      "\n"
     ]
    },
    {
     "name": "stdout",
     "output_type": "stream",
     "text": [
      "\n",
      "Collecting package metadata (current_repodata.json): ...working... done\n",
      "Solving environment: ...working... done\n",
      "\n",
      "## Package Plan ##\n",
      "\n",
      "  environment location: C:\\Users\\300034\\AppData\\Local\\miniconda3\\envs\\jupyter\n",
      "\n",
      "  added / updated specs:\n",
      "    - numpy\n",
      "\n",
      "\n",
      "The following packages will be downloaded:\n",
      "\n",
      "    package                    |            build\n",
      "    ---------------------------|-----------------\n",
      "    blas-1.0                   |              mkl           6 KB\n",
      "    certifi-2023.7.22          |  py310haa95532_0         154 KB\n",
      "    intel-openmp-2023.1.0      |   h59b6b97_46319         2.7 MB\n",
      "    mkl-2023.1.0               |   h6b88ed4_46357       155.6 MB\n",
      "    mkl-service-2.4.0          |  py310h2bbff1b_1          44 KB\n",
      "    mkl_fft-1.3.8              |  py310h2bbff1b_0         170 KB\n",
      "    mkl_random-1.2.4           |  py310h59b6b97_0         227 KB\n",
      "    numpy-1.26.0               |  py310h055cbcc_0          10 KB\n",
      "    numpy-base-1.26.0          |  py310h65a83cf_0         6.1 MB\n",
      "    tbb-2021.8.0               |       h59b6b97_0         149 KB\n",
      "    ------------------------------------------------------------\n",
      "                                           Total:       165.1 MB\n",
      "\n",
      "The following NEW packages will be INSTALLED:\n",
      "\n",
      "  blas               pkgs/main/win-64::blas-1.0-mkl \n",
      "  intel-openmp       pkgs/main/win-64::intel-openmp-2023.1.0-h59b6b97_46319 \n",
      "  mkl                pkgs/main/win-64::mkl-2023.1.0-h6b88ed4_46357 \n",
      "  mkl-service        pkgs/main/win-64::mkl-service-2.4.0-py310h2bbff1b_1 \n",
      "  mkl_fft            pkgs/main/win-64::mkl_fft-1.3.8-py310h2bbff1b_0 \n",
      "  mkl_random         pkgs/main/win-64::mkl_random-1.2.4-py310h59b6b97_0 \n",
      "  numpy              pkgs/main/win-64::numpy-1.26.0-py310h055cbcc_0 \n",
      "  numpy-base         pkgs/main/win-64::numpy-base-1.26.0-py310h65a83cf_0 \n",
      "  tbb                pkgs/main/win-64::tbb-2021.8.0-h59b6b97_0 \n",
      "\n",
      "The following packages will be UPDATED:\n",
      "\n",
      "  ca-certificates    conda-forge::ca-certificates-2023.7.2~ --> pkgs/main::ca-certificates-2023.08.22-haa95532_0 \n",
      "\n",
      "The following packages will be SUPERSEDED by a higher-priority channel:\n",
      "\n",
      "  certifi            conda-forge/noarch::certifi-2023.7.22~ --> pkgs/main/win-64::certifi-2023.7.22-py310haa95532_0 \n",
      "\n",
      "\n",
      "\n",
      "Downloading and Extracting Packages\n",
      "\n",
      "certifi-2023.7.22    | 154 KB    |            |   0% \n",
      "\n",
      "numpy-base-1.26.0    | 6.1 MB    |            |   0% \u001b[A\n",
      "\n",
      "\n",
      "mkl_fft-1.3.8        | 170 KB    |            |   0% \u001b[A\u001b[A\n",
      "\n",
      "\n",
      "\n",
      "mkl-2023.1.0         | 155.6 MB  |            |   0% \u001b[A\u001b[A\u001b[A\n",
      "\n",
      "\n",
      "\n",
      "\n",
      "blas-1.0             | 6 KB      |            |   0% \u001b[A\u001b[A\u001b[A\u001b[A\n",
      "\n",
      "\n",
      "\n",
      "\n",
      "\n",
      "intel-openmp-2023.1. | 2.7 MB    |            |   0% \u001b[A\u001b[A\u001b[A\u001b[A\u001b[A\n",
      "\n",
      "\n",
      "\n",
      "\n",
      "\n",
      "\n",
      "mkl_random-1.2.4     | 227 KB    |            |   0% \u001b[A\u001b[A\u001b[A\u001b[A\u001b[A\u001b[A\n",
      "\n",
      "\n",
      "\n",
      "\n",
      "\n",
      "\n",
      "\n",
      "numpy-1.26.0         | 10 KB     |            |   0% \u001b[A\u001b[A\u001b[A\u001b[A\u001b[A\u001b[A\u001b[A\n",
      "\n",
      "\n",
      "\n",
      "\n",
      "\n",
      "\n",
      "\n",
      "\n",
      "tbb-2021.8.0         | 149 KB    |            |   0% \u001b[A\u001b[A\u001b[A\u001b[A\u001b[A\u001b[A\u001b[A\u001b[A\n",
      "\n",
      "\n",
      "\n",
      "\n",
      "\n",
      "\n",
      "\n",
      "\n",
      "\n",
      "mkl-service-2.4.0    | 44 KB     |            |   0% \u001b[A\u001b[A\u001b[A\u001b[A\u001b[A\u001b[A\u001b[A\u001b[A\u001b[A\n",
      "\n",
      "\n",
      "\n",
      "\n",
      "blas-1.0             | 6 KB      | ########## | 100% \u001b[A\u001b[A\u001b[A\u001b[A\n",
      "\n",
      "\n",
      "\n",
      "mkl-2023.1.0         | 155.6 MB  |            |   0% \u001b[A\u001b[A\u001b[A\n",
      "\n",
      "\n",
      "mkl_fft-1.3.8        | 170 KB    | 9          |   9% \u001b[A\u001b[A\n",
      "certifi-2023.7.22    | 154 KB    | #          |  10% \n",
      "\n",
      "numpy-base-1.26.0    | 6.1 MB    |            |   0% \u001b[A\n",
      "\n",
      "\n",
      "\n",
      "\n",
      "\n",
      "intel-openmp-2023.1. | 2.7 MB    |            |   1% \u001b[A\u001b[A\u001b[A\u001b[A\u001b[A\n",
      "\n",
      "\n",
      "\n",
      "mkl-2023.1.0         | 155.6 MB  | 1          |   1% \u001b[A\u001b[A\u001b[A\n",
      "\n",
      "numpy-base-1.26.0    | 6.1 MB    | ###4       |  35% \u001b[A\n",
      "\n",
      "\n",
      "\n",
      "\n",
      "\n",
      "\n",
      "mkl_random-1.2.4     | 227 KB    | 7          |   7% \u001b[A\u001b[A\u001b[A\u001b[A\u001b[A\u001b[A\n",
      "\n",
      "\n",
      "\n",
      "\n",
      "\n",
      "\n",
      "\n",
      "numpy-1.26.0         | 10 KB     | ########## | 100% \u001b[A\u001b[A\u001b[A\u001b[A\u001b[A\u001b[A\u001b[A\n",
      "\n",
      "\n",
      "\n",
      "\n",
      "blas-1.0             | 6 KB      | ########## | 100% \u001b[A\u001b[A\u001b[A\u001b[A\n",
      "\n",
      "\n",
      "\n",
      "\n",
      "\n",
      "intel-openmp-2023.1. | 2.7 MB    | ##6        |  26% \u001b[A\u001b[A\u001b[A\u001b[A\u001b[A\n",
      "\n",
      "\n",
      "\n",
      "\n",
      "\n",
      "\n",
      "\n",
      "\n",
      "tbb-2021.8.0         | 149 KB    | #          |  11% \u001b[A\u001b[A\u001b[A\u001b[A\u001b[A\u001b[A\u001b[A\u001b[A\n",
      "\n",
      "\n",
      "\n",
      "\n",
      "\n",
      "\n",
      "\n",
      "\n",
      "\n",
      "mkl-service-2.4.0    | 44 KB     | ###6       |  36% \u001b[A\u001b[A\u001b[A\u001b[A\u001b[A\u001b[A\u001b[A\u001b[A\u001b[A\n",
      "certifi-2023.7.22    | 154 KB    | ########## | 100% \n",
      "certifi-2023.7.22    | 154 KB    | ########## | 100% \n",
      "\n",
      "numpy-base-1.26.0    | 6.1 MB    | #########2 |  92% \u001b[A\n",
      "\n",
      "\n",
      "\n",
      "mkl-2023.1.0         | 155.6 MB  | 3          |   4% \u001b[A\u001b[A\u001b[A\n",
      "\n",
      "\n",
      "\n",
      "\n",
      "\n",
      "\n",
      "\n",
      "numpy-1.26.0         | 10 KB     | ########## | 100% \u001b[A\u001b[A\u001b[A\u001b[A\u001b[A\u001b[A\u001b[A\n",
      "\n",
      "\n",
      "mkl_fft-1.3.8        | 170 KB    | ########## | 100% \u001b[A\u001b[A\n",
      "\n",
      "\n",
      "mkl_fft-1.3.8        | 170 KB    | ########## | 100% \u001b[A\u001b[A\n",
      "\n",
      "\n",
      "\n",
      "\n",
      "\n",
      "intel-openmp-2023.1. | 2.7 MB    | #########7 |  97% \u001b[A\u001b[A\u001b[A\u001b[A\u001b[A\n",
      "\n",
      "\n",
      "\n",
      "\n",
      "\n",
      "\n",
      "mkl_random-1.2.4     | 227 KB    | ########## | 100% \u001b[A\u001b[A\u001b[A\u001b[A\u001b[A\u001b[A\n",
      "\n",
      "\n",
      "\n",
      "\n",
      "\n",
      "\n",
      "mkl_random-1.2.4     | 227 KB    | ########## | 100% \u001b[A\u001b[A\u001b[A\u001b[A\u001b[A\u001b[A\n",
      "\n",
      "\n",
      "\n",
      "\n",
      "\n",
      "\n",
      "\n",
      "\n",
      "tbb-2021.8.0         | 149 KB    | ########## | 100% \u001b[A\u001b[A\u001b[A\u001b[A\u001b[A\u001b[A\u001b[A\u001b[A\n",
      "\n",
      "\n",
      "\n",
      "\n",
      "\n",
      "\n",
      "\n",
      "\n",
      "tbb-2021.8.0         | 149 KB    | ########## | 100% \u001b[A\u001b[A\u001b[A\u001b[A\u001b[A\u001b[A\u001b[A\u001b[A\n",
      "\n",
      "\n",
      "\n",
      "\n",
      "\n",
      "\n",
      "\n",
      "\n",
      "\n",
      "mkl-service-2.4.0    | 44 KB     | ########## | 100% \u001b[A\u001b[A\u001b[A\u001b[A\u001b[A\u001b[A\u001b[A\u001b[A\u001b[A\n",
      "\n",
      "\n",
      "\n",
      "\n",
      "\n",
      "\n",
      "\n",
      "\n",
      "\n",
      "mkl-service-2.4.0    | 44 KB     | ########## | 100% \u001b[A\u001b[A\u001b[A\u001b[A\u001b[A\u001b[A\u001b[A\u001b[A\u001b[A\n",
      "\n",
      "\n",
      "\n",
      "mkl-2023.1.0         | 155.6 MB  | 7          |   7% \u001b[A\u001b[A\u001b[A\n",
      "\n",
      "\n",
      "\n",
      "mkl-2023.1.0         | 155.6 MB  | #1         |  11% \u001b[A\u001b[A\u001b[A\n",
      "\n",
      "\n",
      "\n",
      "\n",
      "\n",
      "intel-openmp-2023.1. | 2.7 MB    | ########## | 100% \u001b[A\u001b[A\u001b[A\u001b[A\u001b[A\n",
      "\n",
      "\n",
      "\n",
      "mkl-2023.1.0         | 155.6 MB  | #6         |  16% \u001b[A\u001b[A\u001b[A\n",
      "\n",
      "\n",
      "\n",
      "mkl-2023.1.0         | 155.6 MB  | ##1        |  21% \u001b[A\u001b[A\u001b[A\n",
      "\n",
      "\n",
      "\n",
      "mkl-2023.1.0         | 155.6 MB  | ##5        |  26% \u001b[A\u001b[A\u001b[A\n",
      "\n",
      "\n",
      "\n",
      "mkl-2023.1.0         | 155.6 MB  | ##9        |  30% \u001b[A\u001b[A\u001b[A\n",
      "\n",
      "\n",
      "\n",
      "mkl-2023.1.0         | 155.6 MB  | ###4       |  35% \u001b[A\u001b[A\u001b[A\n",
      "\n",
      "\n",
      "\n",
      "mkl-2023.1.0         | 155.6 MB  | ###9       |  40% \u001b[A\u001b[A\u001b[A\n",
      "\n",
      "\n",
      "\n",
      "mkl-2023.1.0         | 155.6 MB  | ####4      |  45% \u001b[A\u001b[A\u001b[A\n",
      "\n",
      "\n",
      "\n",
      "mkl-2023.1.0         | 155.6 MB  | ####9      |  49% \u001b[A\u001b[A\u001b[A\n",
      "\n",
      "\n",
      "\n",
      "mkl-2023.1.0         | 155.6 MB  | #####3     |  54% \u001b[A\u001b[A\u001b[A\n",
      "\n",
      "\n",
      "\n",
      "mkl-2023.1.0         | 155.6 MB  | #####8     |  59% \u001b[A\u001b[A\u001b[A\n",
      "\n",
      "\n",
      "\n",
      "mkl-2023.1.0         | 155.6 MB  | ######3    |  63% \u001b[A\u001b[A\u001b[A\n",
      "\n",
      "\n",
      "\n",
      "mkl-2023.1.0         | 155.6 MB  | ######8    |  68% \u001b[A\u001b[A\u001b[A\n",
      "\n",
      "\n",
      "\n",
      "mkl-2023.1.0         | 155.6 MB  | #######2   |  73% \u001b[A\u001b[A\u001b[A\n",
      "\n",
      "\n",
      "\n",
      "mkl-2023.1.0         | 155.6 MB  | #######7   |  77% \u001b[A\u001b[A\u001b[A\n",
      "\n",
      "\n",
      "\n",
      "mkl-2023.1.0         | 155.6 MB  | ########2  |  82% \u001b[A\u001b[A\u001b[A\n",
      "\n",
      "\n",
      "\n",
      "mkl-2023.1.0         | 155.6 MB  | ########6  |  87% \u001b[A\u001b[A\u001b[A\n",
      "\n",
      "numpy-base-1.26.0    | 6.1 MB    | ########## | 100% \u001b[A\n",
      "\n",
      "\n",
      "\n",
      "mkl-2023.1.0         | 155.6 MB  | #########1 |  92% \u001b[A\u001b[A\u001b[A\n",
      "\n",
      "\n",
      "\n",
      "mkl-2023.1.0         | 155.6 MB  | #########6 |  96% \u001b[A\u001b[A\u001b[A\n",
      "\n",
      "\n",
      "\n",
      "mkl-2023.1.0         | 155.6 MB  | ########## | 100% \u001b[A\u001b[A\u001b[A\n",
      "                                                     \n",
      "\n",
      "\n",
      "                                                     \u001b[A\n",
      "\n",
      "\n",
      "                                                     \u001b[A\u001b[A\n",
      "\n",
      "\n",
      "\n",
      "                                                     \u001b[A\u001b[A\u001b[A\n",
      "\n",
      "\n",
      "\n",
      "\n",
      "                                                     \u001b[A\u001b[A\u001b[A\u001b[A\n",
      "\n",
      "\n",
      "\n",
      "\n",
      "\n",
      "                                                     \u001b[A\u001b[A\u001b[A\u001b[A\u001b[A\n",
      "\n",
      "\n",
      "\n",
      "\n",
      "\n",
      "\n",
      "                                                     \u001b[A\u001b[A\u001b[A\u001b[A\u001b[A\u001b[A\n",
      "\n",
      "\n",
      "\n",
      "\n",
      "\n",
      "\n",
      "\n",
      "                                                     \u001b[A\u001b[A\u001b[A\u001b[A\u001b[A\u001b[A\u001b[A\n",
      "\n",
      "\n",
      "\n",
      "\n",
      "\n",
      "\n",
      "\n",
      "\n",
      "                                                     \u001b[A\u001b[A\u001b[A\u001b[A\u001b[A\u001b[A\u001b[A\u001b[A\n",
      "\n",
      "\n",
      "\n",
      "\n",
      "\n",
      "\n",
      "\n",
      "\n",
      "\n",
      "                                                     \u001b[A\u001b[A\u001b[A\u001b[A\u001b[A\u001b[A\u001b[A\u001b[A\u001b[A\n",
      "\n",
      "Preparing transaction: ...working... done\n",
      "Verifying transaction: ...working... done\n",
      "Executing transaction: ...working... done\n"
     ]
    }
   ],
   "source": [
    "#Per instalar la llibraria numpy posem aquesta comanda, és pot posar en aquestes cel·les com en la terminal de jupyterLab, detecta que és bash\n",
    "conda install numpy"
   ]
  },
  {
   "cell_type": "code",
   "execution_count": 60,
   "metadata": {},
   "outputs": [],
   "source": [
    "import numpy as np"
   ]
  }
 ],
 "metadata": {
  "kernelspec": {
   "display_name": "Python 3 (ipykernel)",
   "language": "python",
   "name": "python3"
  },
  "language_info": {
   "codemirror_mode": {
    "name": "ipython",
    "version": 3
   },
   "file_extension": ".py",
   "mimetype": "text/x-python",
   "name": "python",
   "nbconvert_exporter": "python",
   "pygments_lexer": "ipython3",
   "version": "3.10.12"
  }
 },
 "nbformat": 4,
 "nbformat_minor": 4
}
