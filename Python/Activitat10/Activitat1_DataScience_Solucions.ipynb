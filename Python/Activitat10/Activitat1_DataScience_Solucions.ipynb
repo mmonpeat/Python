{
 "cells": [
  {
   "cell_type": "markdown",
   "metadata": {},
   "source": [
    "# Activitat 1: Python i DataScience\n",
    "\n",
    "# **Exploració de la base de dades DrugCentral**\n",
    "\n",
    "## Bioinformàtica - UF3 \n",
    "\n",
    "    \n",
    "+ **Nom alumn@:**\n",
    "+ **Data d'entrega:** \n",
    "\n",
    "*NOTA1: Per cada dia d'entrega més tard es descomptarà un 10% de la nota de la pràctica.*\n",
    "\n",
    "*NOTA2: L'script s'ha d'executar sense errors i produir els resultats, fitxers i figures que es demanen. És aconsellable abans d'entregar reiniciar el kernel del notebook (Kernel > Restart Kernel) i comprovar que totes les cel·les del notebook s'executen sense errors una rere l'altre.* \n",
    "***"
   ]
  },
  {
   "cell_type": "markdown",
   "metadata": {},
   "source": [
    "[DrugCentral](https://drugcentral.org/)  és  una  base  de  dades  que  conté  informació  sobre  fàrmacs  elaborada  i mantinguda per la Divisió d’Informàtica Translacional de la Universitat de Nou Mèxic. Entre les seves dades, ens podem descarregar el fitxer `drug_target_interaction.tsv` (el teniu al MOODLE a l’apartat de l’Activitat 1). Aquesta taula conté dades d’interacció entre els fàrmacs i el seu lloc d'unió molecular, que són les proteïnes, a més d'altres camps com a quin organisme s'ha testejat, codis d'accès, etc. \n",
    "\n",
    "Els fàrmacs són molècules petites que per a realitzar la seva funció interaccionen amb unes macromolècules pròpies del cos anomenades proteïnes. Les proteïnes són molt diverses i participen en moltes funcions, entre les quals destaquen l'acceleració de reaccions (enzims) i reconeixement de substàncies (anticossos i receptors). \n",
    "\n",
    "L’objectiu d’aquesta activitat és utilitzar les llibreries de python que hem après per a explorar el contingut d’aquesta base de dades i extreure’n informació. Recordeu  que  jupyter-lab  permet crear cel·les  en  markdown  on  podeu explicar què esteu fent i quins resultats que heu obtingut. A algunes solucions es poden arribar aplicant diferents estratègies. "
   ]
  },
  {
   "cell_type": "code",
   "execution_count": 1,
   "metadata": {},
   "outputs": [],
   "source": [
    "#Importació dels mòduls\n",
    "import pandas as pd\n",
    "import numpy as np\n",
    "import matplotlib.pyplot as plt"
   ]
  },
  {
   "cell_type": "markdown",
   "metadata": {},
   "source": [
    "## 1. Neteja i preparació de la base de dades\n",
    "\n",
    "**a) Importar el _dataframe_ amb el qual es treballarà les dades de DrugCentral**"
   ]
  },
  {
   "cell_type": "code",
   "execution_count": 2,
   "metadata": {},
   "outputs": [
    {
     "data": {
      "text/html": [
       "<div>\n",
       "<style scoped>\n",
       "    .dataframe tbody tr th:only-of-type {\n",
       "        vertical-align: middle;\n",
       "    }\n",
       "\n",
       "    .dataframe tbody tr th {\n",
       "        vertical-align: top;\n",
       "    }\n",
       "\n",
       "    .dataframe thead th {\n",
       "        text-align: right;\n",
       "    }\n",
       "</style>\n",
       "<table border=\"1\" class=\"dataframe\">\n",
       "  <thead>\n",
       "    <tr style=\"text-align: right;\">\n",
       "      <th></th>\n",
       "      <th>DRUG_NAME</th>\n",
       "      <th>STRUCT_ID</th>\n",
       "      <th>TARGET_NAME</th>\n",
       "      <th>TARGET_CLASS</th>\n",
       "      <th>ACCESSION</th>\n",
       "      <th>GENE</th>\n",
       "      <th>SWISSPROT</th>\n",
       "      <th>ACT_VALUE</th>\n",
       "      <th>ACT_UNIT</th>\n",
       "      <th>ACT_TYPE</th>\n",
       "      <th>ACT_COMMENT</th>\n",
       "      <th>ACT_SOURCE</th>\n",
       "      <th>RELATION</th>\n",
       "      <th>MOA</th>\n",
       "      <th>MOA_SOURCE</th>\n",
       "      <th>ACT_SOURCE_URL</th>\n",
       "      <th>MOA_SOURCE_URL</th>\n",
       "      <th>ACTION_TYPE</th>\n",
       "      <th>TDL</th>\n",
       "      <th>ORGANISM</th>\n",
       "    </tr>\n",
       "  </thead>\n",
       "  <tbody>\n",
       "    <tr>\n",
       "      <th>0</th>\n",
       "      <td>levobupivacaine</td>\n",
       "      <td>4</td>\n",
       "      <td>Sodium channel protein type 4 subunit alpha</td>\n",
       "      <td>Ion channel</td>\n",
       "      <td>P35499</td>\n",
       "      <td>SCN4A</td>\n",
       "      <td>SCN4A_HUMAN</td>\n",
       "      <td>NaN</td>\n",
       "      <td>NaN</td>\n",
       "      <td>NaN</td>\n",
       "      <td>NaN</td>\n",
       "      <td>WOMBAT-PK</td>\n",
       "      <td>NaN</td>\n",
       "      <td>1.0</td>\n",
       "      <td>CHEMBL</td>\n",
       "      <td>NaN</td>\n",
       "      <td>https://www.ebi.ac.uk/chembl/compound/inspect/...</td>\n",
       "      <td>BLOCKER</td>\n",
       "      <td>Tclin</td>\n",
       "      <td>Homo sapiens</td>\n",
       "    </tr>\n",
       "    <tr>\n",
       "      <th>1</th>\n",
       "      <td>levobupivacaine</td>\n",
       "      <td>4</td>\n",
       "      <td>Cytochrome P450 2D6</td>\n",
       "      <td>Enzyme</td>\n",
       "      <td>P10635</td>\n",
       "      <td>CYP2D6</td>\n",
       "      <td>CP2D6_HUMAN</td>\n",
       "      <td>6.706859</td>\n",
       "      <td>NaN</td>\n",
       "      <td>IC50</td>\n",
       "      <td>DRUGMATRIX: CYP450, 2D6 enzyme inhibition (sub...</td>\n",
       "      <td>DRUG MATRIX</td>\n",
       "      <td>=</td>\n",
       "      <td>NaN</td>\n",
       "      <td>NaN</td>\n",
       "      <td>NaN</td>\n",
       "      <td>NaN</td>\n",
       "      <td>NaN</td>\n",
       "      <td>Tclin</td>\n",
       "      <td>Homo sapiens</td>\n",
       "    </tr>\n",
       "    <tr>\n",
       "      <th>2</th>\n",
       "      <td>levobupivacaine</td>\n",
       "      <td>4</td>\n",
       "      <td>Potassium voltage-gated channel subfamily H me...</td>\n",
       "      <td>Ion channel</td>\n",
       "      <td>Q12809</td>\n",
       "      <td>KCNH2</td>\n",
       "      <td>KCNH2_HUMAN</td>\n",
       "      <td>4.890000</td>\n",
       "      <td>NaN</td>\n",
       "      <td>IC50</td>\n",
       "      <td>Inhibition of wild-type human ERG channel expr...</td>\n",
       "      <td>CHEMBL</td>\n",
       "      <td>=</td>\n",
       "      <td>NaN</td>\n",
       "      <td>NaN</td>\n",
       "      <td>https://www.ebi.ac.uk/chembl/compound/inspect/...</td>\n",
       "      <td>NaN</td>\n",
       "      <td>NaN</td>\n",
       "      <td>Tclin</td>\n",
       "      <td>Homo sapiens</td>\n",
       "    </tr>\n",
       "    <tr>\n",
       "      <th>3</th>\n",
       "      <td>levobupivacaine</td>\n",
       "      <td>4</td>\n",
       "      <td>Potassium voltage-gated channel subfamily D me...</td>\n",
       "      <td>Ion channel</td>\n",
       "      <td>Q9UK17</td>\n",
       "      <td>KCND3</td>\n",
       "      <td>KCND3_HUMAN</td>\n",
       "      <td>4.500000</td>\n",
       "      <td>NaN</td>\n",
       "      <td>IC50</td>\n",
       "      <td>NaN</td>\n",
       "      <td>WOMBAT-PK</td>\n",
       "      <td>=</td>\n",
       "      <td>NaN</td>\n",
       "      <td>NaN</td>\n",
       "      <td>NaN</td>\n",
       "      <td>NaN</td>\n",
       "      <td>NaN</td>\n",
       "      <td>Tclin</td>\n",
       "      <td>Homo sapiens</td>\n",
       "    </tr>\n",
       "    <tr>\n",
       "      <th>4</th>\n",
       "      <td>levobupivacaine</td>\n",
       "      <td>4</td>\n",
       "      <td>Prostaglandin E2 receptor EP1 subtype</td>\n",
       "      <td>GPCR</td>\n",
       "      <td>P34995</td>\n",
       "      <td>PTGER1</td>\n",
       "      <td>PE2R1_HUMAN</td>\n",
       "      <td>NaN</td>\n",
       "      <td>NaN</td>\n",
       "      <td>NaN</td>\n",
       "      <td>NaN</td>\n",
       "      <td>WOMBAT-PK</td>\n",
       "      <td>NaN</td>\n",
       "      <td>NaN</td>\n",
       "      <td>NaN</td>\n",
       "      <td>NaN</td>\n",
       "      <td>NaN</td>\n",
       "      <td>NaN</td>\n",
       "      <td>Tclin</td>\n",
       "      <td>Homo sapiens</td>\n",
       "    </tr>\n",
       "  </tbody>\n",
       "</table>\n",
       "</div>"
      ],
      "text/plain": [
       "         DRUG_NAME  STRUCT_ID  \\\n",
       "0  levobupivacaine          4   \n",
       "1  levobupivacaine          4   \n",
       "2  levobupivacaine          4   \n",
       "3  levobupivacaine          4   \n",
       "4  levobupivacaine          4   \n",
       "\n",
       "                                         TARGET_NAME TARGET_CLASS ACCESSION  \\\n",
       "0        Sodium channel protein type 4 subunit alpha  Ion channel    P35499   \n",
       "1                                Cytochrome P450 2D6       Enzyme    P10635   \n",
       "2  Potassium voltage-gated channel subfamily H me...  Ion channel    Q12809   \n",
       "3  Potassium voltage-gated channel subfamily D me...  Ion channel    Q9UK17   \n",
       "4              Prostaglandin E2 receptor EP1 subtype         GPCR    P34995   \n",
       "\n",
       "     GENE    SWISSPROT  ACT_VALUE  ACT_UNIT ACT_TYPE  \\\n",
       "0   SCN4A  SCN4A_HUMAN        NaN       NaN      NaN   \n",
       "1  CYP2D6  CP2D6_HUMAN   6.706859       NaN     IC50   \n",
       "2   KCNH2  KCNH2_HUMAN   4.890000       NaN     IC50   \n",
       "3   KCND3  KCND3_HUMAN   4.500000       NaN     IC50   \n",
       "4  PTGER1  PE2R1_HUMAN        NaN       NaN      NaN   \n",
       "\n",
       "                                         ACT_COMMENT   ACT_SOURCE RELATION  \\\n",
       "0                                                NaN    WOMBAT-PK      NaN   \n",
       "1  DRUGMATRIX: CYP450, 2D6 enzyme inhibition (sub...  DRUG MATRIX        =   \n",
       "2  Inhibition of wild-type human ERG channel expr...       CHEMBL        =   \n",
       "3                                                NaN    WOMBAT-PK        =   \n",
       "4                                                NaN    WOMBAT-PK      NaN   \n",
       "\n",
       "   MOA MOA_SOURCE                                     ACT_SOURCE_URL  \\\n",
       "0  1.0     CHEMBL                                                NaN   \n",
       "1  NaN        NaN                                                NaN   \n",
       "2  NaN        NaN  https://www.ebi.ac.uk/chembl/compound/inspect/...   \n",
       "3  NaN        NaN                                                NaN   \n",
       "4  NaN        NaN                                                NaN   \n",
       "\n",
       "                                      MOA_SOURCE_URL ACTION_TYPE    TDL  \\\n",
       "0  https://www.ebi.ac.uk/chembl/compound/inspect/...     BLOCKER  Tclin   \n",
       "1                                                NaN         NaN  Tclin   \n",
       "2                                                NaN         NaN  Tclin   \n",
       "3                                                NaN         NaN  Tclin   \n",
       "4                                                NaN         NaN  Tclin   \n",
       "\n",
       "       ORGANISM  \n",
       "0  Homo sapiens  \n",
       "1  Homo sapiens  \n",
       "2  Homo sapiens  \n",
       "3  Homo sapiens  \n",
       "4  Homo sapiens  "
      ]
     },
     "execution_count": 2,
     "metadata": {},
     "output_type": "execute_result"
    }
   ],
   "source": [
    "df = pd.read_csv(\"drug_target_interaction.tsv\", sep=\"\\t\")\n",
    "df.head()"
   ]
  },
  {
   "cell_type": "markdown",
   "metadata": {},
   "source": [
    "**b) Mostra la següent informació:** [0.5 punts]\n",
    "- Nombre de files i columnes.\n",
    "- Nom de les variables.\n",
    "- Nombre de _missing values (NA)_ a cada una de les columnes."
   ]
  },
  {
   "cell_type": "code",
   "execution_count": 3,
   "metadata": {},
   "outputs": [
    {
     "name": "stdout",
     "output_type": "stream",
     "text": [
      "files: 17390\n",
      "columnes: 20\n"
     ]
    }
   ],
   "source": [
    "print(\"files:\", df.shape[0])\n",
    "print(\"columnes:\", df.shape[1])"
   ]
  },
  {
   "cell_type": "code",
   "execution_count": 4,
   "metadata": {},
   "outputs": [
    {
     "name": "stdout",
     "output_type": "stream",
     "text": [
      "variables: ['DRUG_NAME', 'STRUCT_ID', 'TARGET_NAME', 'TARGET_CLASS', 'ACCESSION', 'GENE', 'SWISSPROT', 'ACT_VALUE', 'ACT_UNIT', 'ACT_TYPE', 'ACT_COMMENT', 'ACT_SOURCE', 'RELATION', 'MOA', 'MOA_SOURCE', 'ACT_SOURCE_URL', 'MOA_SOURCE_URL', 'ACTION_TYPE', 'TDL', 'ORGANISM']\n"
     ]
    }
   ],
   "source": [
    "print(\"variables:\", df.columns.tolist())"
   ]
  },
  {
   "cell_type": "code",
   "execution_count": 5,
   "metadata": {},
   "outputs": [
    {
     "name": "stdout",
     "output_type": "stream",
     "text": [
      "Missing values per columnes\n"
     ]
    },
    {
     "data": {
      "text/plain": [
       "DRUG_NAME             0\n",
       "STRUCT_ID             0\n",
       "TARGET_NAME           0\n",
       "TARGET_CLASS          0\n",
       "ACCESSION           139\n",
       "GENE                464\n",
       "SWISSPROT           139\n",
       "ACT_VALUE          1722\n",
       "ACT_UNIT          17390\n",
       "ACT_TYPE           1721\n",
       "ACT_COMMENT        5738\n",
       "ACT_SOURCE            0\n",
       "RELATION           1978\n",
       "MOA               14638\n",
       "MOA_SOURCE        14638\n",
       "ACT_SOURCE_URL     6139\n",
       "MOA_SOURCE_URL    14649\n",
       "ACTION_TYPE       13391\n",
       "TDL                4722\n",
       "ORGANISM            139\n",
       "dtype: int64"
      ]
     },
     "execution_count": 5,
     "metadata": {},
     "output_type": "execute_result"
    }
   ],
   "source": [
    "print(\"Missing values per columnes\")\n",
    "df.isna().sum()"
   ]
  },
  {
   "cell_type": "markdown",
   "metadata": {},
   "source": [
    "**c) De la base de dades DrugCentral, només considerarem les proteïnes humanes i els fàrmacs que tinguin definit un valor d’activitat (columna = `ACT_VALUE`). Mostra el nombre de files i columnes un cop filtrat.** _Nota: la resta d'exercicis es faran a partir del resultat d'aquest filtre_ [0.5 punts]"
   ]
  },
  {
   "cell_type": "code",
   "execution_count": 6,
   "metadata": {},
   "outputs": [
    {
     "data": {
      "text/plain": [
       "(11391, 20)"
      ]
     },
     "execution_count": 6,
     "metadata": {},
     "output_type": "execute_result"
    }
   ],
   "source": [
    "#Seleccionem aquelles files que corresponen a proteïnes humanes. Informació a la columna \"ORGANISM\"\n",
    "human = df[\"ORGANISM\"] == \"Homo sapiens\"\n",
    "#Eliminem aquelles files que no tenen valor d'activitats, és a dir, eliminem els missing values. \n",
    "bioact = pd.notnull(df[\"ACT_VALUE\"]) #També és possible fer servir la funció isnull o dropna\n",
    "#Apliquem les condicions anteriors a la taula per a filtrar-la\n",
    "df_ha = df[bioact & human]\n",
    "df_ha.shape"
   ]
  },
  {
   "cell_type": "code",
   "execution_count": 7,
   "metadata": {},
   "outputs": [
    {
     "data": {
      "text/plain": [
       "(11391, 20)"
      ]
     },
     "execution_count": 7,
     "metadata": {},
     "output_type": "execute_result"
    }
   ],
   "source": [
    "#També ho podem fer tot en una sola línia\n",
    "df_ha = df[(df[\"ORGANISM\"] == \"Homo sapiens\") & (pd.notnull(df[\"ACT_VALUE\"]))]\n",
    "df_ha.shape"
   ]
  },
  {
   "cell_type": "markdown",
   "metadata": {},
   "source": [
    "**d) Per quants fàrmacs (_drugs_) hi ha dades? I per a quantes proteïnes (_target_)?** [0.5 punts] "
   ]
  },
  {
   "cell_type": "code",
   "execution_count": 8,
   "metadata": {},
   "outputs": [
    {
     "data": {
      "text/plain": [
       "1767"
      ]
     },
     "execution_count": 8,
     "metadata": {},
     "output_type": "execute_result"
    }
   ],
   "source": [
    "# nº de fàrmacs\n",
    "len(set(df_ha[\"DRUG_NAME\"]))"
   ]
  },
  {
   "cell_type": "code",
   "execution_count": 9,
   "metadata": {},
   "outputs": [
    {
     "data": {
      "text/plain": [
       "1357"
      ]
     },
     "execution_count": 9,
     "metadata": {},
     "output_type": "execute_result"
    }
   ],
   "source": [
    "# nº de proteïnes\n",
    "len(set(df_ha[\"TARGET_NAME\"]))"
   ]
  },
  {
   "cell_type": "code",
   "execution_count": 10,
   "metadata": {},
   "outputs": [
    {
     "name": "stdout",
     "output_type": "stream",
     "text": [
      "Hi ha dades per 1,767 fàrmacs i 1,357 proteïnes\n"
     ]
    }
   ],
   "source": [
    "print(\"Hi ha dades per {:,} fàrmacs i {:,} proteïnes\".format(df_ha.nunique()[\"DRUG_NAME\"],\n",
    "                                                             df_ha.nunique()[\"TARGET_NAME\"]))                                                                        "
   ]
  },
  {
   "cell_type": "markdown",
   "metadata": {},
   "source": [
    "## 2. Exploració de la base de dades\n",
    "\n",
    "**a) Quin és el fàrmac amb més interaccions? Cerqueu per a què serveix aquest fàrmac** [0.5 punts] \n",
    "\n",
    "Considerem cada interacció quan es testeja un fàrmac amb una proteïna diferent. Com més alt és el valor d'afinitat (unitats en -log[M]), voldrà dir que la interacció és més forta i per tant, que el fàrmac té una forta atracció per la proteïna. "
   ]
  },
  {
   "cell_type": "code",
   "execution_count": 11,
   "metadata": {},
   "outputs": [
    {
     "name": "stdout",
     "output_type": "stream",
     "text": [
      "El fàrmac amb més interaccions és sunitinib, que interacciona amb 263 proteïnes\n"
     ]
    }
   ],
   "source": [
    "#El fàrmac amb més interaccions\n",
    "counts = df_ha[\"DRUG_NAME\"].value_counts()\n",
    "idxmax = counts.idxmax()\n",
    "\n",
    "print (\"El fàrmac amb més interaccions és {drug}, que interacciona amb {ntargets:,} proteïnes\".format(\n",
    "    drug=idxmax, ntargets=counts[idxmax]))\n"
   ]
  },
  {
   "cell_type": "markdown",
   "metadata": {},
   "source": [
    "El **sunitinib** es una pequeña molécula, de administración oral, con múltiples dianas, constituidos por los receptores de tirosina quinasa (RTK). Este inhibidor fue aprobado por la FDA para el tratamiento del carcinoma de células renales (CCR) y tumores del estroma gastrointestinal (GIST)."
   ]
  },
  {
   "cell_type": "markdown",
   "metadata": {},
   "source": [
    "**b) I la proteïna amb més fàrmacs associats? Cerqueu què fa aquesta proteïna al nostre organisme.** [0.5 punts] "
   ]
  },
  {
   "cell_type": "code",
   "execution_count": 12,
   "metadata": {},
   "outputs": [
    {
     "name": "stdout",
     "output_type": "stream",
     "text": [
      "La proteïna amb més fàrmacs associats és 5-hydroxytryptamine receptor 2A que interacciona amb 169 drugs reconeguts\n"
     ]
    }
   ],
   "source": [
    "#La proteïna amb més fàrmacs associats\n",
    "target = df_ha.groupby(\"TARGET_NAME\").size().sort_values(ascending=False)\n",
    "print(\"La proteïna amb més fàrmacs associats és {} que interacciona amb {} drugs reconeguts\".format(target.idxmax(), target.iloc[0]))"
   ]
  },
  {
   "cell_type": "markdown",
   "metadata": {},
   "source": [
    "**5-hydroxytryptamine receptor 2A** és una GPCR on s'uneix la serotonina per a modular diferents processos biològics i neurològics com l'agresió, l'ansietat, la gana, l'aprenentatge, la memòria, la son o la termoregulació. Com a dada curiosa, és el target del LSD."
   ]
  },
  {
   "cell_type": "markdown",
   "metadata": {},
   "source": [
    "**c) Les interaccions es classifiquen segons si estan involucrades en el __mecanisme d’acció__ del fàrmac, és a dir, si aquesta interacció és la responsable del seu efecte terapèutic. A la columna `MOA` (Mechanism Of Action) s'indica amb un 1 si la interacció correspont a l'efecte terapèutic. Per tant, repetiu els dos apartats anteriors per a determinar quin fàrmac i proteïna tenen més interaccions si només tenim en compte les interaccions involucrades en el `MOA`.** [1 punt]"
   ]
  },
  {
   "cell_type": "code",
   "execution_count": 13,
   "metadata": {
    "tags": []
   },
   "outputs": [
    {
     "name": "stdout",
     "output_type": "stream",
     "text": [
      "(1642, 20)\n"
     ]
    },
    {
     "data": {
      "text/html": [
       "<div>\n",
       "<style scoped>\n",
       "    .dataframe tbody tr th:only-of-type {\n",
       "        vertical-align: middle;\n",
       "    }\n",
       "\n",
       "    .dataframe tbody tr th {\n",
       "        vertical-align: top;\n",
       "    }\n",
       "\n",
       "    .dataframe thead th {\n",
       "        text-align: right;\n",
       "    }\n",
       "</style>\n",
       "<table border=\"1\" class=\"dataframe\">\n",
       "  <thead>\n",
       "    <tr style=\"text-align: right;\">\n",
       "      <th></th>\n",
       "      <th>DRUG_NAME</th>\n",
       "      <th>STRUCT_ID</th>\n",
       "      <th>TARGET_NAME</th>\n",
       "      <th>TARGET_CLASS</th>\n",
       "      <th>ACCESSION</th>\n",
       "      <th>GENE</th>\n",
       "      <th>SWISSPROT</th>\n",
       "      <th>ACT_VALUE</th>\n",
       "      <th>ACT_UNIT</th>\n",
       "      <th>ACT_TYPE</th>\n",
       "      <th>ACT_COMMENT</th>\n",
       "      <th>ACT_SOURCE</th>\n",
       "      <th>RELATION</th>\n",
       "      <th>MOA</th>\n",
       "      <th>MOA_SOURCE</th>\n",
       "      <th>ACT_SOURCE_URL</th>\n",
       "      <th>MOA_SOURCE_URL</th>\n",
       "      <th>ACTION_TYPE</th>\n",
       "      <th>TDL</th>\n",
       "      <th>ORGANISM</th>\n",
       "    </tr>\n",
       "  </thead>\n",
       "  <tbody>\n",
       "    <tr>\n",
       "      <th>0</th>\n",
       "      <td>(S)-nitrendipine</td>\n",
       "      <td>6</td>\n",
       "      <td>Voltage-dependent L-type calcium channel subun...</td>\n",
       "      <td>Ion channel</td>\n",
       "      <td>Q01668</td>\n",
       "      <td>CACNA1D</td>\n",
       "      <td>CAC1D_HUMAN</td>\n",
       "      <td>8.400000</td>\n",
       "      <td>NaN</td>\n",
       "      <td>IC50</td>\n",
       "      <td>Recombinant Cav1.3 calcium channel complexes e...</td>\n",
       "      <td>IUPHAR</td>\n",
       "      <td>=</td>\n",
       "      <td>1.0</td>\n",
       "      <td>IUPHAR</td>\n",
       "      <td>NaN</td>\n",
       "      <td>NaN</td>\n",
       "      <td>GATING INHIBITOR</td>\n",
       "      <td>Tclin</td>\n",
       "      <td>Homo sapiens</td>\n",
       "    </tr>\n",
       "    <tr>\n",
       "      <th>1</th>\n",
       "      <td>abarelix</td>\n",
       "      <td>35</td>\n",
       "      <td>Gonadotropin-releasing hormone receptor</td>\n",
       "      <td>GPCR</td>\n",
       "      <td>P30968</td>\n",
       "      <td>GNRHR</td>\n",
       "      <td>GNRHR_HUMAN</td>\n",
       "      <td>9.490000</td>\n",
       "      <td>NaN</td>\n",
       "      <td>Ki</td>\n",
       "      <td>NaN</td>\n",
       "      <td>IUPHAR</td>\n",
       "      <td>=</td>\n",
       "      <td>1.0</td>\n",
       "      <td>CHEMBL</td>\n",
       "      <td>http://www.guidetopharmacology.org/GRAC/Ligand...</td>\n",
       "      <td>https://www.ebi.ac.uk/chembl/compound/inspect/...</td>\n",
       "      <td>ANTAGONIST</td>\n",
       "      <td>Tclin</td>\n",
       "      <td>Homo sapiens</td>\n",
       "    </tr>\n",
       "    <tr>\n",
       "      <th>2</th>\n",
       "      <td>acarbose</td>\n",
       "      <td>39</td>\n",
       "      <td>Maltase-glucoamylase, intestinal</td>\n",
       "      <td>Enzyme</td>\n",
       "      <td>O43451</td>\n",
       "      <td>MGAM</td>\n",
       "      <td>MGA_HUMAN</td>\n",
       "      <td>5.696800</td>\n",
       "      <td>NaN</td>\n",
       "      <td>IC50</td>\n",
       "      <td>NaN</td>\n",
       "      <td>WOMBAT-PK</td>\n",
       "      <td>=</td>\n",
       "      <td>1.0</td>\n",
       "      <td>CHEMBL</td>\n",
       "      <td>NaN</td>\n",
       "      <td>https://www.ebi.ac.uk/chembl/compound/inspect/...</td>\n",
       "      <td>INHIBITOR</td>\n",
       "      <td>Tclin</td>\n",
       "      <td>Homo sapiens</td>\n",
       "    </tr>\n",
       "    <tr>\n",
       "      <th>3</th>\n",
       "      <td>acebutolol</td>\n",
       "      <td>40</td>\n",
       "      <td>Beta-1 adrenergic receptor</td>\n",
       "      <td>GPCR</td>\n",
       "      <td>P08588</td>\n",
       "      <td>ADRB1</td>\n",
       "      <td>ADRB1_HUMAN</td>\n",
       "      <td>7.300000</td>\n",
       "      <td>NaN</td>\n",
       "      <td>Ki</td>\n",
       "      <td>NaN</td>\n",
       "      <td>WOMBAT-PK</td>\n",
       "      <td>=</td>\n",
       "      <td>1.0</td>\n",
       "      <td>CHEMBL</td>\n",
       "      <td>NaN</td>\n",
       "      <td>https://www.ebi.ac.uk/chembl/compound/inspect/...</td>\n",
       "      <td>ANTAGONIST</td>\n",
       "      <td>Tclin</td>\n",
       "      <td>Homo sapiens</td>\n",
       "    </tr>\n",
       "    <tr>\n",
       "      <th>4</th>\n",
       "      <td>acenocoumarol</td>\n",
       "      <td>48</td>\n",
       "      <td>Vitamin K epoxide reductase complex subunit 1</td>\n",
       "      <td>Enzyme</td>\n",
       "      <td>Q9BQB6</td>\n",
       "      <td>VKORC1</td>\n",
       "      <td>VKOR1_HUMAN</td>\n",
       "      <td>6.113509</td>\n",
       "      <td>NaN</td>\n",
       "      <td>IC50</td>\n",
       "      <td>NaN</td>\n",
       "      <td>SCIENTIFIC LITERATURE</td>\n",
       "      <td>=</td>\n",
       "      <td>1.0</td>\n",
       "      <td>SCIENTIFIC LITERATURE</td>\n",
       "      <td>http://www.ncbi.nlm.nih.gov/pubmed/17275317</td>\n",
       "      <td>http://www.ncbi.nlm.nih.gov/pubmed/3207986</td>\n",
       "      <td>INHIBITOR</td>\n",
       "      <td>Tclin</td>\n",
       "      <td>Homo sapiens</td>\n",
       "    </tr>\n",
       "  </tbody>\n",
       "</table>\n",
       "</div>"
      ],
      "text/plain": [
       "          DRUG_NAME  STRUCT_ID  \\\n",
       "0  (S)-nitrendipine          6   \n",
       "1          abarelix         35   \n",
       "2          acarbose         39   \n",
       "3        acebutolol         40   \n",
       "4     acenocoumarol         48   \n",
       "\n",
       "                                         TARGET_NAME TARGET_CLASS ACCESSION  \\\n",
       "0  Voltage-dependent L-type calcium channel subun...  Ion channel    Q01668   \n",
       "1            Gonadotropin-releasing hormone receptor         GPCR    P30968   \n",
       "2                   Maltase-glucoamylase, intestinal       Enzyme    O43451   \n",
       "3                         Beta-1 adrenergic receptor         GPCR    P08588   \n",
       "4      Vitamin K epoxide reductase complex subunit 1       Enzyme    Q9BQB6   \n",
       "\n",
       "      GENE    SWISSPROT  ACT_VALUE  ACT_UNIT ACT_TYPE  \\\n",
       "0  CACNA1D  CAC1D_HUMAN   8.400000       NaN     IC50   \n",
       "1    GNRHR  GNRHR_HUMAN   9.490000       NaN       Ki   \n",
       "2     MGAM    MGA_HUMAN   5.696800       NaN     IC50   \n",
       "3    ADRB1  ADRB1_HUMAN   7.300000       NaN       Ki   \n",
       "4   VKORC1  VKOR1_HUMAN   6.113509       NaN     IC50   \n",
       "\n",
       "                                         ACT_COMMENT             ACT_SOURCE  \\\n",
       "0  Recombinant Cav1.3 calcium channel complexes e...                 IUPHAR   \n",
       "1                                                NaN                 IUPHAR   \n",
       "2                                                NaN              WOMBAT-PK   \n",
       "3                                                NaN              WOMBAT-PK   \n",
       "4                                                NaN  SCIENTIFIC LITERATURE   \n",
       "\n",
       "  RELATION  MOA             MOA_SOURCE  \\\n",
       "0        =  1.0                 IUPHAR   \n",
       "1        =  1.0                 CHEMBL   \n",
       "2        =  1.0                 CHEMBL   \n",
       "3        =  1.0                 CHEMBL   \n",
       "4        =  1.0  SCIENTIFIC LITERATURE   \n",
       "\n",
       "                                      ACT_SOURCE_URL  \\\n",
       "0                                                NaN   \n",
       "1  http://www.guidetopharmacology.org/GRAC/Ligand...   \n",
       "2                                                NaN   \n",
       "3                                                NaN   \n",
       "4        http://www.ncbi.nlm.nih.gov/pubmed/17275317   \n",
       "\n",
       "                                      MOA_SOURCE_URL       ACTION_TYPE    TDL  \\\n",
       "0                                                NaN  GATING INHIBITOR  Tclin   \n",
       "1  https://www.ebi.ac.uk/chembl/compound/inspect/...        ANTAGONIST  Tclin   \n",
       "2  https://www.ebi.ac.uk/chembl/compound/inspect/...         INHIBITOR  Tclin   \n",
       "3  https://www.ebi.ac.uk/chembl/compound/inspect/...        ANTAGONIST  Tclin   \n",
       "4         http://www.ncbi.nlm.nih.gov/pubmed/3207986         INHIBITOR  Tclin   \n",
       "\n",
       "       ORGANISM  \n",
       "0  Homo sapiens  \n",
       "1  Homo sapiens  \n",
       "2  Homo sapiens  \n",
       "3  Homo sapiens  \n",
       "4  Homo sapiens  "
      ]
     },
     "execution_count": 13,
     "metadata": {},
     "output_type": "execute_result"
    }
   ],
   "source": [
    "#Seleccionem les files que tenen valor per a la columna MOA, per tant, eliminem missing values de la columna \"MOA\"\n",
    "dfmoa = df_ha.dropna(subset=[\"MOA\"])\n",
    "dfmoa = dfmoa.reset_index(drop=True)\n",
    "print(dfmoa.shape)\n",
    "dfmoa.head()"
   ]
  },
  {
   "cell_type": "code",
   "execution_count": 14,
   "metadata": {},
   "outputs": [
    {
     "name": "stdout",
     "output_type": "stream",
     "text": [
      "El fàrmac amb més interaccions és ethoxzolamide que interacciona amb 13 targets reconeguts\n"
     ]
    }
   ],
   "source": [
    "#Fàrmacs que interaccionen en el MOA\n",
    "drug = dfmoa.groupby(\"DRUG_NAME\").size().sort_values(ascending=False)\n",
    "print(\"El fàrmac amb més interaccions és {} que interacciona amb {} targets reconeguts\".format(drug.idxmax(), drug.iloc[0]))"
   ]
  },
  {
   "cell_type": "code",
   "execution_count": 15,
   "metadata": {},
   "outputs": [
    {
     "name": "stdout",
     "output_type": "stream",
     "text": [
      "La proteïna amb més fàrmacs associats és D(2) dopamine receptor que interacciona amb 54 drugs reconeguts\n"
     ]
    }
   ],
   "source": [
    "#Proteïnes associades a fàrmacs que interaccionen en el MOA\n",
    "target = dfmoa.groupby(\"TARGET_NAME\").size().sort_values(ascending=False)\n",
    "print(\"La proteïna amb més fàrmacs associats és {} que interacciona amb {} drugs reconeguts\".format(target.idxmax(), target.iloc[0]))"
   ]
  },
  {
   "cell_type": "markdown",
   "metadata": {},
   "source": [
    "**d) Cada proteïna, segons la seva funció, està assignada a una classe (columna=`TARGET_CLASS`). Quantes classes hi ha i quines són? Quantes proteïnes té assignada cada classe (noms de les proteïnes sense repetir)?** [1 punt]"
   ]
  },
  {
   "cell_type": "code",
   "execution_count": 16,
   "metadata": {},
   "outputs": [
    {
     "data": {
      "text/plain": [
       "array(['Enzyme', 'Ion channel', 'GPCR', 'Kinase', 'Secreted',\n",
       "       'Cytosolic other', 'Unclassified', 'Surface antigen',\n",
       "       'Transporter', 'Nuclear hormone receptor', 'Membrane receptor',\n",
       "       'Cytokine', 'Structural', 'Transcription factor',\n",
       "       'Tumour-associated antigen', 'Adhesion', 'Membrane other',\n",
       "       'Nuclear other', 'Antibody', 'CD molecules', 'Glycoprotein'],\n",
       "      dtype=object)"
      ]
     },
     "execution_count": 16,
     "metadata": {},
     "output_type": "execute_result"
    }
   ],
   "source": [
    "df_ha[\"TARGET_CLASS\"].unique()"
   ]
  },
  {
   "cell_type": "code",
   "execution_count": 17,
   "metadata": {},
   "outputs": [
    {
     "data": {
      "text/plain": [
       "21"
      ]
     },
     "execution_count": 17,
     "metadata": {},
     "output_type": "execute_result"
    }
   ],
   "source": [
    "df_ha[\"TARGET_CLASS\"].nunique()"
   ]
  },
  {
   "cell_type": "code",
   "execution_count": 18,
   "metadata": {},
   "outputs": [
    {
     "name": "stdout",
     "output_type": "stream",
     "text": [
      "Hi ha 21 classes de proteïnes segons la seva funció i són: ['Enzyme' 'Ion channel' 'GPCR' 'Kinase' 'Secreted' 'Cytosolic other'\n",
      " 'Unclassified' 'Surface antigen' 'Transporter' 'Nuclear hormone receptor'\n",
      " 'Membrane receptor' 'Cytokine' 'Structural' 'Transcription factor'\n",
      " 'Tumour-associated antigen' 'Adhesion' 'Membrane other' 'Nuclear other'\n",
      " 'Antibody' 'CD molecules' 'Glycoprotein']\n"
     ]
    }
   ],
   "source": [
    "print(\"Hi ha {} classes de proteïnes segons la seva funció i són: {}\".format(df_ha[\"TARGET_CLASS\"].nunique(), df_ha[\"TARGET_CLASS\"].unique()))"
   ]
  },
  {
   "cell_type": "code",
   "execution_count": 19,
   "metadata": {},
   "outputs": [
    {
     "data": {
      "text/html": [
       "<div>\n",
       "<style scoped>\n",
       "    .dataframe tbody tr th:only-of-type {\n",
       "        vertical-align: middle;\n",
       "    }\n",
       "\n",
       "    .dataframe tbody tr th {\n",
       "        vertical-align: top;\n",
       "    }\n",
       "\n",
       "    .dataframe thead th {\n",
       "        text-align: right;\n",
       "    }\n",
       "</style>\n",
       "<table border=\"1\" class=\"dataframe\">\n",
       "  <thead>\n",
       "    <tr style=\"text-align: right;\">\n",
       "      <th></th>\n",
       "      <th>TARGET_NAME</th>\n",
       "    </tr>\n",
       "    <tr>\n",
       "      <th>TARGET_CLASS</th>\n",
       "      <th></th>\n",
       "    </tr>\n",
       "  </thead>\n",
       "  <tbody>\n",
       "    <tr>\n",
       "      <th>Kinase</th>\n",
       "      <td>405</td>\n",
       "    </tr>\n",
       "    <tr>\n",
       "      <th>Enzyme</th>\n",
       "      <td>377</td>\n",
       "    </tr>\n",
       "    <tr>\n",
       "      <th>GPCR</th>\n",
       "      <td>174</td>\n",
       "    </tr>\n",
       "    <tr>\n",
       "      <th>Ion channel</th>\n",
       "      <td>160</td>\n",
       "    </tr>\n",
       "    <tr>\n",
       "      <th>Transporter</th>\n",
       "      <td>63</td>\n",
       "    </tr>\n",
       "    <tr>\n",
       "      <th>Unclassified</th>\n",
       "      <td>53</td>\n",
       "    </tr>\n",
       "    <tr>\n",
       "      <th>Nuclear hormone receptor</th>\n",
       "      <td>28</td>\n",
       "    </tr>\n",
       "    <tr>\n",
       "      <th>Membrane receptor</th>\n",
       "      <td>20</td>\n",
       "    </tr>\n",
       "    <tr>\n",
       "      <th>Cytosolic other</th>\n",
       "      <td>19</td>\n",
       "    </tr>\n",
       "    <tr>\n",
       "      <th>Cytokine</th>\n",
       "      <td>14</td>\n",
       "    </tr>\n",
       "    <tr>\n",
       "      <th>Secreted</th>\n",
       "      <td>12</td>\n",
       "    </tr>\n",
       "    <tr>\n",
       "      <th>Transcription factor</th>\n",
       "      <td>6</td>\n",
       "    </tr>\n",
       "    <tr>\n",
       "      <th>Surface antigen</th>\n",
       "      <td>6</td>\n",
       "    </tr>\n",
       "    <tr>\n",
       "      <th>Structural</th>\n",
       "      <td>6</td>\n",
       "    </tr>\n",
       "    <tr>\n",
       "      <th>Adhesion</th>\n",
       "      <td>5</td>\n",
       "    </tr>\n",
       "    <tr>\n",
       "      <th>Tumour-associated antigen</th>\n",
       "      <td>3</td>\n",
       "    </tr>\n",
       "    <tr>\n",
       "      <th>Nuclear other</th>\n",
       "      <td>2</td>\n",
       "    </tr>\n",
       "    <tr>\n",
       "      <th>Antibody</th>\n",
       "      <td>1</td>\n",
       "    </tr>\n",
       "    <tr>\n",
       "      <th>Glycoprotein</th>\n",
       "      <td>1</td>\n",
       "    </tr>\n",
       "    <tr>\n",
       "      <th>CD molecules</th>\n",
       "      <td>1</td>\n",
       "    </tr>\n",
       "    <tr>\n",
       "      <th>Membrane other</th>\n",
       "      <td>1</td>\n",
       "    </tr>\n",
       "  </tbody>\n",
       "</table>\n",
       "</div>"
      ],
      "text/plain": [
       "                           TARGET_NAME\n",
       "TARGET_CLASS                          \n",
       "Kinase                             405\n",
       "Enzyme                             377\n",
       "GPCR                               174\n",
       "Ion channel                        160\n",
       "Transporter                         63\n",
       "Unclassified                        53\n",
       "Nuclear hormone receptor            28\n",
       "Membrane receptor                   20\n",
       "Cytosolic other                     19\n",
       "Cytokine                            14\n",
       "Secreted                            12\n",
       "Transcription factor                 6\n",
       "Surface antigen                      6\n",
       "Structural                           6\n",
       "Adhesion                             5\n",
       "Tumour-associated antigen            3\n",
       "Nuclear other                        2\n",
       "Antibody                             1\n",
       "Glycoprotein                         1\n",
       "CD molecules                         1\n",
       "Membrane other                       1"
      ]
     },
     "execution_count": 19,
     "metadata": {},
     "output_type": "execute_result"
    }
   ],
   "source": [
    "df_ha.groupby(\"TARGET_CLASS\")[['TARGET_NAME']].nunique().sort_values(\"TARGET_NAME\", ascending=False)"
   ]
  },
  {
   "cell_type": "markdown",
   "metadata": {},
   "source": [
    "**e) Feu un gràfic de barres (bar plot) on es mostri aquesta informació (x=TARGET_CLASS; y = nº de proteïnes corresponent a cada classe).** Recordeu que un gràfic s'ha de poder interpretar per si mateix, així que incloeu totes les etiquetes que considereu necessàries i formatejeu-lo al vostre gust.  [1 punt]"
   ]
  },
  {
   "cell_type": "code",
   "execution_count": 20,
   "metadata": {},
   "outputs": [],
   "source": [
    "dfclass = df_ha.groupby(\"TARGET_CLASS\")[['TARGET_NAME']].nunique().sort_values(\"TARGET_NAME\", ascending=False)"
   ]
  },
  {
   "cell_type": "code",
   "execution_count": 21,
   "metadata": {},
   "outputs": [
    {
     "data": {
      "image/png": "[encoded data removed]",
      "text/plain": [
       "<Figure size 800x800 with 1 Axes>"
      ]
     },
     "metadata": {},
     "output_type": "display_data"
    }
   ],
   "source": [
    "plt.figure(figsize=(8,8))\n",
    "plt.bar(dfclass.index, dfclass[\"TARGET_NAME\"], color=\"gold\", edgecolor=\"grey\")\n",
    "plt.xticks(rotation=90)\n",
    "plt.title(\"DrugCentral: PROTEINS BY TARGET CLASS\", fontsize=18)\n",
    "plt.ylabel(\"number of proteins\", fontsize=14)\n",
    "plt.show()"
   ]
  },
  {
   "cell_type": "markdown",
   "metadata": {},
   "source": [
    "## 3. Manipulació de les dades\n",
    "\n",
    "**a) És conegut que els fàrmacs generalment interaccionen amb més d’una proteïna, una de les raons per la qual tots els fàrmacs poden tenir efectes secundaris. Amb quantes proteïnes de mitjana interaccionen els fàrmacs? És el mateix valor per a totes les classes de proteïna ?**  _Nota: Per obtenir el valor mitjà per una determinada cada classe considereu únicament les interaccions que involucren a aquella classe._ [1.5 punt]"
   ]
  },
  {
   "cell_type": "code",
   "execution_count": 22,
   "metadata": {},
   "outputs": [
    {
     "data": {
      "text/plain": [
       "TARGET_NAME    6.44652\n",
       "dtype: float64"
      ]
     },
     "execution_count": 22,
     "metadata": {},
     "output_type": "execute_result"
    }
   ],
   "source": [
    "#Opció 1\n",
    "df_ha.groupby(\"DRUG_NAME\")[['TARGET_NAME']].nunique().mean()"
   ]
  },
  {
   "cell_type": "code",
   "execution_count": 23,
   "metadata": {},
   "outputs": [
    {
     "name": "stdout",
     "output_type": "stream",
     "text": [
      "Cada fàrmac interacciona amb una mitjana de 6.45 proteïnes.\n"
     ]
    }
   ],
   "source": [
    "#Opció 2\n",
    "interactionMEAN = df_ha.groupby(\"DRUG_NAME\").apply(lambda x: len(x[\"TARGET_NAME\"].unique())).mean()\n",
    "print(\"Cada fàrmac interacciona amb una mitjana de {} proteïnes.\".format(round(interactionMEAN,2)))"
   ]
  },
  {
   "cell_type": "code",
   "execution_count": 24,
   "metadata": {},
   "outputs": [
    {
     "name": "stdout",
     "output_type": "stream",
     "text": [
      "TARGET_CLASS\n",
      "Adhesion                     [eptifibatide, lovastatin, tirofiban, efalizum...\n",
      "Antibody                                                          [omalizumab]\n",
      "CD molecules                                                    [atezolizumab]\n",
      "Cytokine                     [beclometasone dipropionate, budesonide, budes...\n",
      "Cytosolic other              [paracetamol, aprindine, astemizole, bezafibra...\n",
      "Enzyme                       [levobupivacaine, aminopterin, phenylbutanoic ...\n",
      "GPCR                         [abarelix, acebutolol, acebutolol, acefylline,...\n",
      "Glycoprotein                                                     [romosozumab]\n",
      "Ion channel                  [levobupivacaine, levobupivacaine, levobupivac...\n",
      "Kinase                       [aceclofenac, adenine, adenosine, adenosine, a...\n",
      "Membrane other                                                     [ezetimibe]\n",
      "Membrane receptor            [alexidine, amantadine, amiodarone, amitriptyl...\n",
      "Nuclear hormone receptor     [adapalene, adapalene, adapalene, aldosterone,...\n",
      "Nuclear other                                           [sirolimus, selinexor]\n",
      "Secreted                     [aceclofenac, aldosterone, aldosterone, andros...\n",
      "Structural                   [colchicine, colchicine, lansoprazole, methylt...\n",
      "Surface antigen              [acepromazine, chloroquine, chlorpromazine, im...\n",
      "Transcription factor         [deferoxamine, digitoxin, digoxin, niclosamide...\n",
      "Transporter                  [acitretin, adinazolam, alfentanil, aliskiren,...\n",
      "Tumour-associated antigen    [docetaxel, paclitaxel, vinblastine, quercetin...\n",
      "Unclassified                 [paracetamol, racecadotril, adenosine triphosp...\n",
      "dtype: object\n"
     ]
    }
   ],
   "source": [
    "#Per a veure si la mitjana és la mateixa a totes les classes, obtenim una llista amb els fàrmacs assignats a cada classe\n",
    "df_class = df_ha.groupby(\"TARGET_CLASS\")\n",
    "df_class_drug = df_class.apply(lambda x: x[\"DRUG_NAME\"].values)\n",
    "print(df_class_drug)"
   ]
  },
  {
   "cell_type": "code",
   "execution_count": 25,
   "metadata": {},
   "outputs": [
    {
     "name": "stdout",
     "output_type": "stream",
     "text": [
      "Adhesion 1.0\n",
      "Antibody 1.0\n",
      "CD molecules 1.0\n",
      "Cytokine 1.2608695652173914\n",
      "Cytosolic other 1.2105263157894737\n",
      "Enzyme 2.7150192554557124\n",
      "GPCR 5.319790301441677\n",
      "Glycoprotein 1.0\n",
      "Ion channel 2.2375979112271542\n",
      "Kinase 14.435233160621761\n",
      "Membrane other 1.0\n",
      "Membrane receptor 1.0416666666666667\n",
      "Nuclear hormone receptor 2.018292682926829\n",
      "Nuclear other 1.0\n",
      "Secreted 1.3389830508474576\n",
      "Structural 1.25\n",
      "Surface antigen 1.1538461538461537\n",
      "Transcription factor 1.1818181818181819\n",
      "Transporter 2.112565445026178\n",
      "Tumour-associated antigen 1.0\n",
      "Unclassified 1.2372881355932204\n"
     ]
    }
   ],
   "source": [
    "#Calculem la mitjana de targets en cada classe (en cada grup)\n",
    "for t_class, drug in df_class:\n",
    "    mean = drug.groupby(\"DRUG_NAME\").apply(lambda x: len(x[\"TARGET_NAME\"].unique())).mean()\n",
    "    print(t_class, mean)"
   ]
  },
  {
   "cell_type": "code",
   "execution_count": 26,
   "metadata": {},
   "outputs": [
    {
     "data": {
      "text/plain": [
       "TARGET_CLASS\n",
       "Kinase                       14.435233\n",
       "GPCR                          5.319790\n",
       "Enzyme                        2.715019\n",
       "Ion channel                   2.237598\n",
       "Transporter                   2.112565\n",
       "Nuclear hormone receptor      2.018293\n",
       "Secreted                      1.338983\n",
       "Cytokine                      1.260870\n",
       "Structural                    1.250000\n",
       "Unclassified                  1.237288\n",
       "Cytosolic other               1.210526\n",
       "Transcription factor          1.181818\n",
       "Surface antigen               1.153846\n",
       "Membrane receptor             1.041667\n",
       "Tumour-associated antigen     1.000000\n",
       "Adhesion                      1.000000\n",
       "Nuclear other                 1.000000\n",
       "Antibody                      1.000000\n",
       "Glycoprotein                  1.000000\n",
       "CD molecules                  1.000000\n",
       "Membrane other                1.000000\n",
       "dtype: float64"
      ]
     },
     "execution_count": 26,
     "metadata": {},
     "output_type": "execute_result"
    }
   ],
   "source": [
    "# Alternativament, una mica rebuscat\n",
    "df_ha.groupby([\"TARGET_CLASS\"]).apply(lambda df: df.groupby(\"DRUG_NAME\")['TARGET_NAME'].nunique().mean()).sort_values(ascending=False)"
   ]
  },
  {
   "cell_type": "markdown",
   "metadata": {},
   "source": [
    "**b) Quin és el perfil dels valors d’afinitat que hi ha en les interaccions (column = `ACT_VALUE`)? Hi ha alguna diferència entre les interaccions involucrades en el mecanisme d’acció dels fàrmacs i la resta (output de la pregunta 2.C)? Il·lustreu-ho amb un gràfic, per exemple, un histograma on es mostri el perfil dels valors d'afinitat generals i els valors implicats en el MOA.** [1 punt]"
   ]
  },
  {
   "cell_type": "code",
   "execution_count": 27,
   "metadata": {},
   "outputs": [
    {
     "data": {
      "image/png": "[encoded data removed]",
      "text/plain": [
       "<Figure size 800x800 with 1 Axes>"
      ]
     },
     "metadata": {},
     "output_type": "display_data"
    }
   ],
   "source": [
    "plt.figure(figsize=(8,8))\n",
    "\n",
    "plt.hist(df_ha[\"ACT_VALUE\"], bins=50, alpha=0.6, color='yellow', label=\"DrugCentral GENERAL\") #Valors d'activitat general\n",
    "plt.hist(dfmoa[\"ACT_VALUE\"], bins=50, alpha=0.8, color=\"green\", label=\"DrugCentral MOA\") #Valors d'activitat de les interaccions implicades en el MOA\n",
    "\n",
    "plt.title(\"DrugCental: Valors d'afinitat entre fàrmacs i proteïnes\", fontsize = 18)\n",
    "plt.xlabel(\"Activity value\", fontsize = 14)\n",
    "plt.ylabel(\"Number of interactions\", fontsize = 14)\n",
    "plt.yticks(np.arange(0,950,100))\n",
    "\n",
    "plt.grid(True)\n",
    "plt.legend()\n",
    "plt.show()"
   ]
  },
  {
   "cell_type": "markdown",
   "metadata": {},
   "source": [
    "## 4. Anàlisi d'una proteïna\n",
    "\n",
    "**S’ha observat que els fàrmacs que actuen sobre una proteïna anomenada hERG (gen KCNH2) poden produir efectes adversos seriosos. Aquesta proteïna és un canal de ions de potassi i alterar la seva funció pot produir el que es coneix com _torsade des pointes_, una alteració de l’electrocardiograma que pot degenerar en fibril·lació ventricular i mort sobtada.**\n",
    "\n",
    "**a) Quants fàrmacs hi ha amb activitat per aquesta proteïna? (columna = `GENE`)** [0.5 punts]"
   ]
  },
  {
   "cell_type": "code",
   "execution_count": 28,
   "metadata": {},
   "outputs": [
    {
     "name": "stdout",
     "output_type": "stream",
     "text": [
      "Hi ha 152 fàrmacs que interaccionen amb la proteïna hERG.\n"
     ]
    }
   ],
   "source": [
    "#seleccionem les files que corresponen al gen d'interès\n",
    "herg = df_ha[df_ha[\"GENE\"] == \"KCNH2\"]\n",
    "print(\"Hi ha {} fàrmacs que interaccionen amb la proteïna hERG.\".format(herg.nunique()[\"DRUG_NAME\"]))"
   ]
  },
  {
   "cell_type": "markdown",
   "metadata": {},
   "source": [
    "**b) Com a regla general sabem que una activitat pot començar a ser rellevant si és superior a 5 (equivalent a 10 μM) (Recordem que com més alt és el logaritme del valor d'activitat, més forta és la interacció). Genereu un fitxer amb les interaccions sospitoses (activitat >=5) de produir _torsade des pointes_ ordenat per la seva afinitat pel canal hERG de més gran a més petit.** [1 punt]"
   ]
  },
  {
   "cell_type": "code",
   "execution_count": 29,
   "metadata": {},
   "outputs": [
    {
     "name": "stdout",
     "output_type": "stream",
     "text": [
      "Hi ha 115 fàrmacs amb una afinitat >= 5 per a hERG\n"
     ]
    },
    {
     "data": {
      "text/html": [
       "<div>\n",
       "<style scoped>\n",
       "    .dataframe tbody tr th:only-of-type {\n",
       "        vertical-align: middle;\n",
       "    }\n",
       "\n",
       "    .dataframe tbody tr th {\n",
       "        vertical-align: top;\n",
       "    }\n",
       "\n",
       "    .dataframe thead th {\n",
       "        text-align: right;\n",
       "    }\n",
       "</style>\n",
       "<table border=\"1\" class=\"dataframe\">\n",
       "  <thead>\n",
       "    <tr style=\"text-align: right;\">\n",
       "      <th></th>\n",
       "      <th>DRUG_NAME</th>\n",
       "      <th>STRUCT_ID</th>\n",
       "      <th>TARGET_NAME</th>\n",
       "      <th>TARGET_CLASS</th>\n",
       "      <th>ACCESSION</th>\n",
       "      <th>GENE</th>\n",
       "      <th>SWISSPROT</th>\n",
       "      <th>ACT_VALUE</th>\n",
       "      <th>ACT_UNIT</th>\n",
       "      <th>ACT_TYPE</th>\n",
       "      <th>ACT_COMMENT</th>\n",
       "      <th>ACT_SOURCE</th>\n",
       "      <th>RELATION</th>\n",
       "      <th>MOA</th>\n",
       "      <th>MOA_SOURCE</th>\n",
       "      <th>ACT_SOURCE_URL</th>\n",
       "      <th>MOA_SOURCE_URL</th>\n",
       "      <th>ACTION_TYPE</th>\n",
       "      <th>TDL</th>\n",
       "      <th>ORGANISM</th>\n",
       "    </tr>\n",
       "  </thead>\n",
       "  <tbody>\n",
       "    <tr>\n",
       "      <th>829</th>\n",
       "      <td>astemizole</td>\n",
       "      <td>249</td>\n",
       "      <td>Potassium voltage-gated channel subfamily H me...</td>\n",
       "      <td>Ion channel</td>\n",
       "      <td>Q12809</td>\n",
       "      <td>KCNH2</td>\n",
       "      <td>KCNH2_HUMAN</td>\n",
       "      <td>9.0458</td>\n",
       "      <td>NaN</td>\n",
       "      <td>IC50</td>\n",
       "      <td>NaN</td>\n",
       "      <td>WOMBAT-PK</td>\n",
       "      <td>=</td>\n",
       "      <td>NaN</td>\n",
       "      <td>NaN</td>\n",
       "      <td>NaN</td>\n",
       "      <td>NaN</td>\n",
       "      <td>NaN</td>\n",
       "      <td>Tclin</td>\n",
       "      <td>Homo sapiens</td>\n",
       "    </tr>\n",
       "    <tr>\n",
       "      <th>10391</th>\n",
       "      <td>sertindole</td>\n",
       "      <td>2435</td>\n",
       "      <td>Potassium voltage-gated channel subfamily H me...</td>\n",
       "      <td>Ion channel</td>\n",
       "      <td>Q12809</td>\n",
       "      <td>KCNH2</td>\n",
       "      <td>KCNH2_HUMAN</td>\n",
       "      <td>8.5700</td>\n",
       "      <td>NaN</td>\n",
       "      <td>IC50</td>\n",
       "      <td>Inhibition of human cloned ERG expressed in CH...</td>\n",
       "      <td>CHEMBL</td>\n",
       "      <td>=</td>\n",
       "      <td>NaN</td>\n",
       "      <td>NaN</td>\n",
       "      <td>https://www.ebi.ac.uk/chembl/compound/inspect/...</td>\n",
       "      <td>NaN</td>\n",
       "      <td>NaN</td>\n",
       "      <td>Tclin</td>\n",
       "      <td>Homo sapiens</td>\n",
       "    </tr>\n",
       "    <tr>\n",
       "      <th>993</th>\n",
       "      <td>benperidol</td>\n",
       "      <td>312</td>\n",
       "      <td>Potassium voltage-gated channel subfamily H me...</td>\n",
       "      <td>Ion channel</td>\n",
       "      <td>Q12809</td>\n",
       "      <td>KCNH2</td>\n",
       "      <td>KCNH2_HUMAN</td>\n",
       "      <td>8.4700</td>\n",
       "      <td>NaN</td>\n",
       "      <td>IC50</td>\n",
       "      <td>NaN</td>\n",
       "      <td>WOMBAT-PK</td>\n",
       "      <td>=</td>\n",
       "      <td>NaN</td>\n",
       "      <td>NaN</td>\n",
       "      <td>NaN</td>\n",
       "      <td>NaN</td>\n",
       "      <td>NaN</td>\n",
       "      <td>Tclin</td>\n",
       "      <td>Homo sapiens</td>\n",
       "    </tr>\n",
       "    <tr>\n",
       "      <th>3818</th>\n",
       "      <td>dofetilide</td>\n",
       "      <td>942</td>\n",
       "      <td>Potassium voltage-gated channel subfamily H me...</td>\n",
       "      <td>Ion channel</td>\n",
       "      <td>Q12809</td>\n",
       "      <td>KCNH2</td>\n",
       "      <td>KCNH2_HUMAN</td>\n",
       "      <td>8.1900</td>\n",
       "      <td>NaN</td>\n",
       "      <td>Ki</td>\n",
       "      <td>Displacement of [3H]dofetilide from hERG expre...</td>\n",
       "      <td>CHEMBL</td>\n",
       "      <td>=</td>\n",
       "      <td>1.0</td>\n",
       "      <td>CHEMBL</td>\n",
       "      <td>https://www.ebi.ac.uk/chembl/compound/inspect/...</td>\n",
       "      <td>https://www.ebi.ac.uk/chembl/compound/inspect/...</td>\n",
       "      <td>BLOCKER</td>\n",
       "      <td>Tclin</td>\n",
       "      <td>Homo sapiens</td>\n",
       "    </tr>\n",
       "    <tr>\n",
       "      <th>2179</th>\n",
       "      <td>cisapride</td>\n",
       "      <td>660</td>\n",
       "      <td>Potassium voltage-gated channel subfamily H me...</td>\n",
       "      <td>Ion channel</td>\n",
       "      <td>Q12809</td>\n",
       "      <td>KCNH2</td>\n",
       "      <td>KCNH2_HUMAN</td>\n",
       "      <td>8.1900</td>\n",
       "      <td>NaN</td>\n",
       "      <td>IC50</td>\n",
       "      <td>Inhibition of human ERG in MCF7 cells</td>\n",
       "      <td>CHEMBL</td>\n",
       "      <td>=</td>\n",
       "      <td>NaN</td>\n",
       "      <td>NaN</td>\n",
       "      <td>https://www.ebi.ac.uk/chembl/compound/inspect/...</td>\n",
       "      <td>NaN</td>\n",
       "      <td>NaN</td>\n",
       "      <td>Tclin</td>\n",
       "      <td>Homo sapiens</td>\n",
       "    </tr>\n",
       "  </tbody>\n",
       "</table>\n",
       "</div>"
      ],
      "text/plain": [
       "        DRUG_NAME  STRUCT_ID  \\\n",
       "829    astemizole        249   \n",
       "10391  sertindole       2435   \n",
       "993    benperidol        312   \n",
       "3818   dofetilide        942   \n",
       "2179    cisapride        660   \n",
       "\n",
       "                                             TARGET_NAME TARGET_CLASS  \\\n",
       "829    Potassium voltage-gated channel subfamily H me...  Ion channel   \n",
       "10391  Potassium voltage-gated channel subfamily H me...  Ion channel   \n",
       "993    Potassium voltage-gated channel subfamily H me...  Ion channel   \n",
       "3818   Potassium voltage-gated channel subfamily H me...  Ion channel   \n",
       "2179   Potassium voltage-gated channel subfamily H me...  Ion channel   \n",
       "\n",
       "      ACCESSION   GENE    SWISSPROT  ACT_VALUE  ACT_UNIT ACT_TYPE  \\\n",
       "829      Q12809  KCNH2  KCNH2_HUMAN     9.0458       NaN     IC50   \n",
       "10391    Q12809  KCNH2  KCNH2_HUMAN     8.5700       NaN     IC50   \n",
       "993      Q12809  KCNH2  KCNH2_HUMAN     8.4700       NaN     IC50   \n",
       "3818     Q12809  KCNH2  KCNH2_HUMAN     8.1900       NaN       Ki   \n",
       "2179     Q12809  KCNH2  KCNH2_HUMAN     8.1900       NaN     IC50   \n",
       "\n",
       "                                             ACT_COMMENT ACT_SOURCE RELATION  \\\n",
       "829                                                  NaN  WOMBAT-PK        =   \n",
       "10391  Inhibition of human cloned ERG expressed in CH...     CHEMBL        =   \n",
       "993                                                  NaN  WOMBAT-PK        =   \n",
       "3818   Displacement of [3H]dofetilide from hERG expre...     CHEMBL        =   \n",
       "2179               Inhibition of human ERG in MCF7 cells     CHEMBL        =   \n",
       "\n",
       "       MOA MOA_SOURCE                                     ACT_SOURCE_URL  \\\n",
       "829    NaN        NaN                                                NaN   \n",
       "10391  NaN        NaN  https://www.ebi.ac.uk/chembl/compound/inspect/...   \n",
       "993    NaN        NaN                                                NaN   \n",
       "3818   1.0     CHEMBL  https://www.ebi.ac.uk/chembl/compound/inspect/...   \n",
       "2179   NaN        NaN  https://www.ebi.ac.uk/chembl/compound/inspect/...   \n",
       "\n",
       "                                          MOA_SOURCE_URL ACTION_TYPE    TDL  \\\n",
       "829                                                  NaN         NaN  Tclin   \n",
       "10391                                                NaN         NaN  Tclin   \n",
       "993                                                  NaN         NaN  Tclin   \n",
       "3818   https://www.ebi.ac.uk/chembl/compound/inspect/...     BLOCKER  Tclin   \n",
       "2179                                                 NaN         NaN  Tclin   \n",
       "\n",
       "           ORGANISM  \n",
       "829    Homo sapiens  \n",
       "10391  Homo sapiens  \n",
       "993    Homo sapiens  \n",
       "3818   Homo sapiens  \n",
       "2179   Homo sapiens  "
      ]
     },
     "execution_count": 29,
     "metadata": {},
     "output_type": "execute_result"
    }
   ],
   "source": [
    "#Seleccionem aquelles files on la interacció entre hERG i el fàrmac és més gran de 5s\n",
    "herg_potent = herg[herg[\"ACT_VALUE\"] >= 5].sort_values(\"ACT_VALUE\", ascending=False)\n",
    "print (\"Hi ha {} fàrmacs amb una afinitat >= 5 per a hERG\".format(herg_potent.nunique()[\"DRUG_NAME\"]))\n",
    "herg_potent.head()"
   ]
  },
  {
   "cell_type": "code",
   "execution_count": 30,
   "metadata": {},
   "outputs": [],
   "source": [
    "#Generar un fitxer amb les interaccions sospitoses de la taula anterior\n",
    "herg_potent.to_csv(\"herg.csv\", sep=\",\")"
   ]
  },
  {
   "cell_type": "markdown",
   "metadata": {},
   "source": [
    "**c) Comproveu si és veritat per als tres primers fàrmacs obtinguts cercant bibliografia.** [0.5 punts]"
   ]
  },
  {
   "cell_type": "markdown",
   "metadata": {},
   "source": [
    "**Astemizole**: Antagonista del receptor de la histamina. S'utilitza en el tractament de l'al·lèrgia. S'ha descrit àmpliament *torsade des pointes* com possible afecte adverse.\n",
    "* https://pubchem.ncbi.nlm.nih.gov/compound/astemizole#section=Mechanism-of-Action\n",
    "* https://www.mayoclinicproceedings.org/article/S0025-6196(12)62252-6/fulltext\n",
    "* https://pubmed.ncbi.nlm.nih.gov/8189766/\n",
    "\n",
    "**Sertindole**: Antagonista del receptor de la dopamina, serotonina i adrenèrgic A1. S'utilitza per al tractament de l'esquizofrènia.\n",
    "S'ha documentat que causa *torsade des pointes* i va ser retirat del mercat al cap de dos anys d'aprovar-se.\n",
    " * https://pubmed.ncbi.nlm.nih.gov/11691681/\n",
    " * https://en.wikipedia.org/wiki/Sertindole\n",
    "\n",
    "**Benperidol**: Antagonista del receptor de la dopamina, serotonina i adrenèrgic A1. S'utilitza per al tractament de l'esquizofrènia i l'ansietat. Tot i que hi ha indicis que pot produïr *torsade des pointes* com a efecte advers sembla que es menys habitual que en altres fàrmacs de la mateixa família.\n",
    "* https://www.medscape.co.uk/drug/benperidol-68523-68523 \n",
    "* https://pubmed.ncbi.nlm.nih.gov/28791627/\n"
   ]
  }
 ],
 "metadata": {
  "kernelspec": {
   "display_name": "maria",
   "language": "python",
   "name": "maria"
  },
  "language_info": {
   "codemirror_mode": {
    "name": "ipython",
    "version": 3
   },
   "file_extension": ".py",
   "mimetype": "text/x-python",
   "name": "python",
   "nbconvert_exporter": "python",
   "pygments_lexer": "ipython3",
   "version": "3.11.5"
  }
 },
 "nbformat": 4,
 "nbformat_minor": 4
}
