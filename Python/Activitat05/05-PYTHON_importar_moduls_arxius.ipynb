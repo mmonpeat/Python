{
 "cells": [
  {
   "cell_type": "markdown",
   "metadata": {},
   "source": [
    "# **05. Python: Importar i Exportar**\n",
    "\n",
    "# 5.1 Importar Mòduls\n",
    "\n",
    "La majoria de la funcionalitat en Python es proveeix per *mòduls*. La llibreria estandard de Python és una gran col·lecció de mòduls que proveeixen implementacions *multiplataforma* de recursos tals com, l'accés al sistema operatiu, entrada/sortida d'arxius (file I/O), utilització de cadenes, comuncació en xarxes, i molt més.\n",
    "\n",
    "Els mòduls en python són fitxers amb extensó `.py` que defineixen variables, funcions o classes. Podem importar mòduls des d'altres mòduls fent servir la comanda `import` seguida del nom del mòduld. Hi ha mòduls determinats que han de ser importats a l'inici de l'script per a fer servir unes funcions determinades. \n",
    "\n",
    "Per exemple, per importar el mòdul `math`, que conté molte funcions matemàtiques estandard, podem utilitzar:\n"
   ]
  },
  {
   "cell_type": "code",
   "execution_count": 1,
   "metadata": {},
   "outputs": [],
   "source": [
    "#Això inclou el mòdul sencer i el deixa disponible pel seu ús en el programa. \n",
    "import math"
   ]
  },
  {
   "cell_type": "code",
   "execution_count": 2,
   "metadata": {},
   "outputs": [
    {
     "name": "stdout",
     "output_type": "stream",
     "text": [
      "1.0\n"
     ]
    }
   ],
   "source": [
    "x = math.cos(2 * math.pi)\n",
    "\n",
    "print(x)"
   ]
  },
  {
   "cell_type": "markdown",
   "metadata": {},
   "source": [
    "Quan es fan servir funcions del el mòdul importat, és necessari indicar prèviament el nom del mòdul seguit d'un punt. \n",
    "\n",
    "Alternativament, podem escollir importar tots els símbols (funcions i variables) en un mòdul al espai de noms (namespace) actual (de manera que no necessitem utilitzar el prefix `math`cada vegada que utilizem). Ho farem indicant `from modul import *`"
   ]
  },
  {
   "cell_type": "code",
   "execution_count": 3,
   "metadata": {},
   "outputs": [
    {
     "name": "stdout",
     "output_type": "stream",
     "text": [
      "1.0\n"
     ]
    }
   ],
   "source": [
    "from math import *\n",
    "\n",
    "x = cos(2 * pi)\n",
    "\n",
    "print(x)"
   ]
  },
  {
   "cell_type": "markdown",
   "metadata": {},
   "source": [
    "Aquesta manera de procedir pot ser convenient, però en programes llargs, que inclouen molts mòduls, és bona idea mantenir els símbols de cada mòdul amb els seus propis espais de noms, utilitzant `import math`. Això elimina potencials confusions amb eventuals colisions de noms.\n",
    "\n",
    "Com a tercera alternativa, enlloc d'utilitzar el caràcter`*`, podem importar només alguns símbols seleccionats des d'un mòdul, llistant explícitament aquells símbols que volem importar. Ho farem indicant `from modul import funcions`\n"
   ]
  },
  {
   "cell_type": "code",
   "execution_count": 4,
   "metadata": {},
   "outputs": [
    {
     "name": "stdout",
     "output_type": "stream",
     "text": [
      "1.0\n"
     ]
    }
   ],
   "source": [
    "from math import cos, pi\n",
    "\n",
    "x = cos(2 * pi)\n",
    "\n",
    "print(x)"
   ]
  },
  {
   "cell_type": "markdown",
   "metadata": {},
   "source": [
    "> <img src=\"https://icon-library.com/images/tip-icon/tip-icon-23.jpg\" alt=\"tip\" width=\"30\"/> Amb les funcions `dir`i `help` podem llistar les funcions que conté un mòdul o bé obtenir una descripció d'una funció determinada, respectivament."
   ]
  },
  {
   "cell_type": "code",
   "execution_count": 5,
   "metadata": {},
   "outputs": [
    {
     "data": {
      "text/plain": [
       "['__doc__',\n",
       " '__loader__',\n",
       " '__name__',\n",
       " '__package__',\n",
       " '__spec__',\n",
       " 'acos',\n",
       " 'acosh',\n",
       " 'asin',\n",
       " 'asinh',\n",
       " 'atan',\n",
       " 'atan2',\n",
       " 'atanh',\n",
       " 'cbrt',\n",
       " 'ceil',\n",
       " 'comb',\n",
       " 'copysign',\n",
       " 'cos',\n",
       " 'cosh',\n",
       " 'degrees',\n",
       " 'dist',\n",
       " 'e',\n",
       " 'erf',\n",
       " 'erfc',\n",
       " 'exp',\n",
       " 'exp2',\n",
       " 'expm1',\n",
       " 'fabs',\n",
       " 'factorial',\n",
       " 'floor',\n",
       " 'fmod',\n",
       " 'frexp',\n",
       " 'fsum',\n",
       " 'gamma',\n",
       " 'gcd',\n",
       " 'hypot',\n",
       " 'inf',\n",
       " 'isclose',\n",
       " 'isfinite',\n",
       " 'isinf',\n",
       " 'isnan',\n",
       " 'isqrt',\n",
       " 'lcm',\n",
       " 'ldexp',\n",
       " 'lgamma',\n",
       " 'log',\n",
       " 'log10',\n",
       " 'log1p',\n",
       " 'log2',\n",
       " 'modf',\n",
       " 'nan',\n",
       " 'nextafter',\n",
       " 'perm',\n",
       " 'pi',\n",
       " 'pow',\n",
       " 'prod',\n",
       " 'radians',\n",
       " 'remainder',\n",
       " 'sin',\n",
       " 'sinh',\n",
       " 'sqrt',\n",
       " 'tan',\n",
       " 'tanh',\n",
       " 'tau',\n",
       " 'trunc',\n",
       " 'ulp']"
      ]
     },
     "execution_count": 5,
     "metadata": {},
     "output_type": "execute_result"
    }
   ],
   "source": [
    "dir(math)"
   ]
  },
  {
   "cell_type": "code",
   "execution_count": 6,
   "metadata": {},
   "outputs": [
    {
     "name": "stdout",
     "output_type": "stream",
     "text": [
      "Help on built-in function isfinite in module math:\n",
      "\n",
      "isfinite(x, /)\n",
      "    Return True if x is neither an infinity nor a NaN, and False otherwise.\n",
      "\n"
     ]
    }
   ],
   "source": [
    "help(math.isfinite)"
   ]
  },
  {
   "cell_type": "markdown",
   "metadata": {},
   "source": [
    "Alguns mòduls molt útils de la llibreria estandard de Python són: \n",
    "+ `os`(interfaç amb el sistema operatiu)\n",
    "+ `sys`(paràmetres i funcions específiques del sistema)\n",
    "+ `math`(funcions matemàtiques)\n",
    "+ `shutil`(operacions amb arxius)\n",
    "+ `subprocess` (és capaç d'executar línies de comandes de bash)\n",
    "+ `multiprocessing` (paral·lelitza càlculs)\n",
    "+ `glob` (fa llistes amb strings que cumpleixen un patró)\n",
    "\n",
    "Una llista completa dels mòduls estandard per Python 2 i 3 està disponible (en anglès) a: \n",
    "[http://docs.python.org/2/library/](http://docs.python.org/2/library/) i [http://docs.python.org/3/library/](http://docs.python.org/3/library/), respectivament. \n",
    "\n",
    "Una versió en espanyol està disponible a: [http://pyspanishdoc.sourceforge.net/lib/lib.html](http://pyspanishdoc.sourceforge.net/lib/lib.html).\n",
    "\n",
    "A continuació es mostren alguns exemples de l'ús d'aquests mòduls, n'hi ha molts més! (penseu que donarà error ja que els paths no són correctes!)"
   ]
  },
  {
   "cell_type": "code",
   "execution_count": 7,
   "metadata": {},
   "outputs": [
    {
     "ename": "FileNotFoundError",
     "evalue": "[WinError 3] El sistema no puede encontrar la ruta especificada: '/home/usuari/Documents/test/'",
     "output_type": "error",
     "traceback": [
      "\u001b[1;31m---------------------------------------------------------------------------\u001b[0m",
      "\u001b[1;31mFileNotFoundError\u001b[0m                         Traceback (most recent call last)",
      "Cell \u001b[1;32mIn[7], line 12\u001b[0m\n\u001b[0;32m     10\u001b[0m directory \u001b[38;5;241m=\u001b[39m \u001b[38;5;124m\"\u001b[39m\u001b[38;5;124m/home/usuari/Documents/test/\u001b[39m\u001b[38;5;124m\"\u001b[39m\n\u001b[0;32m     11\u001b[0m \u001b[38;5;28;01mif\u001b[39;00m \u001b[38;5;129;01mnot\u001b[39;00m os\u001b[38;5;241m.\u001b[39mpath\u001b[38;5;241m.\u001b[39mexists(directory):\n\u001b[1;32m---> 12\u001b[0m     os\u001b[38;5;241m.\u001b[39mmkdir(directory)\n\u001b[0;32m     14\u001b[0m \u001b[38;5;66;03m#El mòdul glob permet seleccionar tot els arxius que contenen un patró determinat\u001b[39;00m\n\u001b[0;32m     15\u001b[0m files \u001b[38;5;241m=\u001b[39m glob(\u001b[38;5;124m\"\u001b[39m\u001b[38;5;124m/home/usuari/*.txt\u001b[39m\u001b[38;5;124m\"\u001b[39m)\n",
      "\u001b[1;31mFileNotFoundError\u001b[0m: [WinError 3] El sistema no puede encontrar la ruta especificada: '/home/usuari/Documents/test/'"
     ]
    }
   ],
   "source": [
    "\"\"\"\"L'script següent ens permet \n",
    "en primer lloc comprovar si existeix una carpeta i crear-la en cas negatiu.\n",
    "A continuació, engloba tots els arxius que siguin txt de la carpeta personal. \n",
    "Comprimeix cadascun dels arxius i els mou a la carpeta que hem creat a l'inici\"\"\"\n",
    "\n",
    "import subprocess,  os, shutil\n",
    "from glob import glob\n",
    "\n",
    "#El mòdul os permet treballar amb directoris\n",
    "directory = \"/home/usuari/Documents/test/\"\n",
    "if not os.path.exists(directory):\n",
    "    os.mkdir(directory)\n",
    "    \n",
    "#El mòdul glob permet seleccionar tot els arxius que contenen un patró determinat\n",
    "files = glob(\"/home/usuari/*.txt\")\n",
    "for file in files:\n",
    "    compress = \"gzip \" + file \n",
    "    #El mòdul subprocess permet llençar comandes de bash\n",
    "    subprocess.call(compress.split())\n",
    "    #El mòdul shutil permet moure els fitxers d'una carpeta a una altra\n",
    "    shutil.move(file.replace(\".txt\", \".txt.gz\"), directory)"
   ]
  },
  {
   "cell_type": "markdown",
   "metadata": {},
   "source": [
    "# 5.2 Importar/exportar arxius\n",
    "\n",
    "Per treballar amb fitxers, python ens ofereix l'objecte `file`. La funció `open(path_to_file)`ens retorna un objecte `file`, que té una serie de mètodes com `read`, `write` ... i ens permeten treballar amb ell.\n",
    "\n",
    "+ ‘r’ : read, lectura. Obre l'arxiu en mode lectura. L'arxiu ha d'existir prèviament, en cas contrari es llençarà una excepció del tipus IOError .\n",
    "+ ‘w’ : write, escriptura. Obre l'arxiu en mode esriptura. Si l'arxiu no existeix, aquest es crea. Si existeix, sobreescriu el contingut.\n",
    "+ ‘a’ : append, afegir. Obre l'arxiu en mode esriptura. Es diferencia del model ‘w’ en que en aquest cas no se sobreescriu el contingut de l'arxiu, sinó que es comença a escriure al final de l'arxiu.\n",
    "+ ‘b’ : arxiu binari.\n",
    "+ ‘+’ : permet lectura i escriptura simultànies.\n",
    "+ ‘U’ : universal newline, salts de línia universals. "
   ]
  },
  {
   "cell_type": "code",
   "execution_count": 8,
   "metadata": {},
   "outputs": [
    {
     "ename": "FileNotFoundError",
     "evalue": "[Errno 2] No such file or directory: 'UF3.txt'",
     "output_type": "error",
     "traceback": [
      "\u001b[1;31m---------------------------------------------------------------------------\u001b[0m",
      "\u001b[1;31mFileNotFoundError\u001b[0m                         Traceback (most recent call last)",
      "Cell \u001b[1;32mIn[8], line 2\u001b[0m\n\u001b[0;32m      1\u001b[0m \u001b[38;5;124;03m\"\"\"\"Obtenim un error ja que aquest arxiu encara no existeix\"\"\"\u001b[39;00m\n\u001b[1;32m----> 2\u001b[0m f \u001b[38;5;241m=\u001b[39m \u001b[38;5;28mopen\u001b[39m (\u001b[38;5;124m'\u001b[39m\u001b[38;5;124mUF3.txt\u001b[39m\u001b[38;5;124m'\u001b[39m, \u001b[38;5;124m'\u001b[39m\u001b[38;5;124mr\u001b[39m\u001b[38;5;124m'\u001b[39m)\n",
      "File \u001b[1;32m~\\AppData\\Local\\miniconda3\\envs\\maria\\Lib\\site-packages\\IPython\\core\\interactiveshell.py:286\u001b[0m, in \u001b[0;36m_modified_open\u001b[1;34m(file, *args, **kwargs)\u001b[0m\n\u001b[0;32m    279\u001b[0m \u001b[38;5;28;01mif\u001b[39;00m file \u001b[38;5;129;01min\u001b[39;00m {\u001b[38;5;241m0\u001b[39m, \u001b[38;5;241m1\u001b[39m, \u001b[38;5;241m2\u001b[39m}:\n\u001b[0;32m    280\u001b[0m     \u001b[38;5;28;01mraise\u001b[39;00m \u001b[38;5;167;01mValueError\u001b[39;00m(\n\u001b[0;32m    281\u001b[0m         \u001b[38;5;124mf\u001b[39m\u001b[38;5;124m\"\u001b[39m\u001b[38;5;124mIPython won\u001b[39m\u001b[38;5;124m'\u001b[39m\u001b[38;5;124mt let you open fd=\u001b[39m\u001b[38;5;132;01m{\u001b[39;00mfile\u001b[38;5;132;01m}\u001b[39;00m\u001b[38;5;124m by default \u001b[39m\u001b[38;5;124m\"\u001b[39m\n\u001b[0;32m    282\u001b[0m         \u001b[38;5;124m\"\u001b[39m\u001b[38;5;124mas it is likely to crash IPython. If you know what you are doing, \u001b[39m\u001b[38;5;124m\"\u001b[39m\n\u001b[0;32m    283\u001b[0m         \u001b[38;5;124m\"\u001b[39m\u001b[38;5;124myou can use builtins\u001b[39m\u001b[38;5;124m'\u001b[39m\u001b[38;5;124m open.\u001b[39m\u001b[38;5;124m\"\u001b[39m\n\u001b[0;32m    284\u001b[0m     )\n\u001b[1;32m--> 286\u001b[0m \u001b[38;5;28;01mreturn\u001b[39;00m io_open(file, \u001b[38;5;241m*\u001b[39margs, \u001b[38;5;241m*\u001b[39m\u001b[38;5;241m*\u001b[39mkwargs)\n",
      "\u001b[1;31mFileNotFoundError\u001b[0m: [Errno 2] No such file or directory: 'UF3.txt'"
     ]
    }
   ],
   "source": [
    "\"\"\"\"Obtenim un error ja que aquest arxiu encara no existeix\"\"\"\n",
    "f = open ('UF3.txt', 'r')"
   ]
  },
  {
   "cell_type": "markdown",
   "metadata": {},
   "source": [
    "+ **Lectura d'arxius**\n",
    "\n",
    "El mètode `read`retorna una cadena amb el contingut de tot l'arxiu.\n",
    "\n",
    "El mètodo `readline` retorna les línies dels arxius una per una. \n",
    "\n",
    "El mètode `readlines` retorna una llista amb totes les línies de l'arxiu.\n",
    "\n",
    "```python\n",
    "arxiu = f.read()\n",
    "linia = f.readline()\n",
    "linies = f.readlines()\n",
    "```"
   ]
  },
  {
   "cell_type": "markdown",
   "metadata": {},
   "source": [
    "+ **Escriptura d'arxius**\n",
    "\n",
    "El mètode `write` accepta una cadena de text com a paràmetre. \n",
    "\n",
    "El mètode `writelines` accepta una llista amb les línies que volem escriure al fitxer. "
   ]
  },
  {
   "cell_type": "code",
   "execution_count": 9,
   "metadata": {},
   "outputs": [],
   "source": [
    "#Creem i sobreecrivim un arxiu\n",
    "f = open ('UF3.txt','w')\n",
    "f.write('Hola a Tothom')\n",
    "f.writelines([\"\\nAvui estem aprenent\", \"\\ncom escriure arxius\", \"\\nen Python\"])\n",
    "f.close()"
   ]
  },
  {
   "cell_type": "markdown",
   "metadata": {},
   "source": [
    "> <img src=\"https://icon-library.com/images/tip-icon/tip-icon-23.jpg\" alt=\"tip\" width=\"30\"/> Podem fer servir `\\n` per a generar un salt de línia o `\\t` per a introduir una tabulació"
   ]
  },
  {
   "cell_type": "code",
   "execution_count": 10,
   "metadata": {},
   "outputs": [
    {
     "name": "stdout",
     "output_type": "stream",
     "text": [
      "Hola a Tothom\n",
      "\n",
      "Avui estem aprenent\n",
      "\n",
      "com escriure arxius\n",
      "\n",
      "en Python\n"
     ]
    }
   ],
   "source": [
    "#Llegim l'arxiu que hem creat abans\n",
    "arxiu = open('UF3.txt',  'r') #Cal donar el path de l'arxiu o bé crear-lo a la mateixa carpeta que aquest notebook, sinó donarà error\n",
    "for line in arxiu:\n",
    "    print(line)\n",
    "arxiu.close()"
   ]
  },
  {
   "cell_type": "code",
   "execution_count": null,
   "metadata": {},
   "outputs": [],
   "source": [
    "#Afegim informació a l'arxiu, però no esborrem el que ja hi havia\n",
    "f = open ('UF3.txt','a')\n",
    "f.write('\\nEstem afegint una línia nova')\n",
    "f.close()"
   ]
  },
  {
   "cell_type": "markdown",
   "metadata": {},
   "source": [
    "Una altra forma eficient d'obrir els arxius és amb el `while`, d'aquesta forma evitem haver de tancar els arxius"
   ]
  },
  {
   "cell_type": "code",
   "execution_count": 11,
   "metadata": {},
   "outputs": [
    {
     "name": "stdout",
     "output_type": "stream",
     "text": [
      "Hola a Tothom\n",
      "\n",
      "Avui estem aprenent\n",
      "\n",
      "com escriure arxius\n",
      "\n",
      "en Python\n"
     ]
    }
   ],
   "source": [
    "with open('UF3.txt',  'r') as file: #Cal donar el path de l'arxiu o bé crear-lo a la mateixa carpeta que aquest notebook, sinó donarà error\n",
    "    for line in file:\n",
    "        print(line)"
   ]
  },
  {
   "cell_type": "markdown",
   "metadata": {},
   "source": [
    "> <img src=\"https://icon-library.com/images/tip-icon/tip-icon-23.jpg\" alt=\"tip\" width=\"30\"/> Finalment, és important tancar l'arxiu amb el mètode `close`"
   ]
  },
  {
   "cell_type": "markdown",
   "metadata": {},
   "source": [
    "## **Exercici 16**\n",
    "\n",
    "Pensa en l'estratègia que faràs servir per a fer cadascun dels punts següents\n",
    "\n",
    "1. Crea un arxiu en el que cada línia contingui el nom d'una fruita (almenys posa'n 5). Mostra el contingut de l'arxiu.\n",
    "2. En aquest arxiu, afegeix el nom de varies verdures (sense borrar el contingut prèvi). Mostra el contingut de l'arxiu\n",
    "3. Modicar alguna de les línies de l'arxiu anterior, afegint una condició.\n",
    "4. Llegir l'arxiu i guardar el contingut de cada línia en una llista."
   ]
  },
  {
   "cell_type": "code",
   "execution_count": 12,
   "metadata": {},
   "outputs": [
    {
     "name": "stdout",
     "output_type": "stream",
     "text": [
      "Mandarina\n",
      "Platan\n",
      "Pera\n",
      "Meduixa\n",
      "Poma\n",
      "\n"
     ]
    }
   ],
   "source": [
    "f = open( 'ex6.txt', 'w')\n",
    "f.writelines([\"Mandarina\\n\", \"Platan\\n\", \"Pera\\n\", \"Meduixa\\n\", \"Poma\\n\"])\n",
    "f.close()\n",
    "\n",
    "with open('ex6.txt', 'r') as f:\n",
    "    content = f.read()\n",
    "    print(content)"
   ]
  },
  {
   "cell_type": "code",
   "execution_count": 13,
   "metadata": {},
   "outputs": [
    {
     "name": "stdout",
     "output_type": "stream",
     "text": [
      "Mandarina\n",
      "Platan\n",
      "Pera\n",
      "Meduixa\n",
      "Poma\n",
      "Bresquilla\n",
      "Enciam\n",
      "Pastanaga\n",
      "\n"
     ]
    }
   ],
   "source": [
    "f = open('ex6.txt', 'a')  # Obrir l'arxiu en mode afegir ('a')\n",
    "vegetables = [\"Bresquilla\", \"Enciam\", \"Pastanaga\"]\n",
    "for vegetable in vegetables:\n",
    "    f.write(vegetable + \"\\n\")  # Escriu cada verdura seguida d'un salt de línia\n",
    "f.close()  # Tanca l'arxiu\n",
    "\n",
    "with open('ex6.txt', 'r') as f:\n",
    "    content = f.read()\n",
    "    print(content)"
   ]
  },
  {
   "cell_type": "code",
   "execution_count": 17,
   "metadata": {},
   "outputs": [],
   "source": [
    "with open('ex6.txt', 'r') as f:\n",
    "    lines = f.readlines()\n",
    "\n",
    "# Modificar la segona línia (índex 1) afegint una condició\n",
    "lines[1] = \"Platan (madur)\\n\"\n",
    "\n",
    "with open('ex6.txt', 'w') as f:\n",
    "    f.writelines(lines)"
   ]
  },
  {
   "cell_type": "code",
   "execution_count": 16,
   "metadata": {},
   "outputs": [
    {
     "name": "stdout",
     "output_type": "stream",
     "text": [
      "['Mandarina\\n', 'Platan (madur)\\n', 'Pera\\n', 'Meduixa\\n', 'Poma\\n', 'Bresquilla\\n', 'Enciam\\n', 'Pastanaga\\n']\n"
     ]
    }
   ],
   "source": [
    "with open('ex6.txt', 'r') as f:\n",
    "    lines = f.readlines()\n",
    "print(lines)"
   ]
  }
 ],
 "metadata": {
  "kernelspec": {
   "display_name": "maria",
   "language": "python",
   "name": "maria"
  },
  "language_info": {
   "codemirror_mode": {
    "name": "ipython",
    "version": 3
   },
   "file_extension": ".py",
   "mimetype": "text/x-python",
   "name": "python",
   "nbconvert_exporter": "python",
   "pygments_lexer": "ipython3",
   "version": "3.11.5"
  }
 },
 "nbformat": 4,
 "nbformat_minor": 4
}
