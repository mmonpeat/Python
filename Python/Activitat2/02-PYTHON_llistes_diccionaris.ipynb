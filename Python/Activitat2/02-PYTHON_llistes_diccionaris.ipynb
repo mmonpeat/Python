{
 "cells": [
  {
   "cell_type": "markdown",
   "metadata": {},
   "source": [
    "# **2. Python: Col·leccions**"
   ]
  },
  {
   "cell_type": "markdown",
   "metadata": {
    "tags": []
   },
   "source": [
    "# 2.1 Llistes\n",
    "\n",
    "Les llistes són similars als *Strings*, excepte que:\n",
    "\n",
    "- Cada element pot ser d'un tipus de **variable diferent**\n",
    "- Les llistes **són mutables**, és a dir, es pot canviar els seu contingut \n",
    "\n",
    "La sintaxis per crear llistes en Python es determina amb els claudàtors i cada element separat per una coma\n",
    "\n",
    "```python\n",
    "llista = [\"E1\",\"E2\",\"E3\"]\n",
    "\n",
    "```\n",
    "\n",
    "Les llistes, doncs, són una col·lecció de dades (objectes) que permeten emmagatzemar qualsevol tipus de dades de Python: int, float, string, boolean i qualsevol altre objecte. Recorda, a Python tot són objectes.\n"
   ]
  },
  {
   "cell_type": "code",
   "execution_count": 1,
   "metadata": {},
   "outputs": [
    {
     "name": "stdout",
     "output_type": "stream",
     "text": [
      "[]\n",
      "['a', 'b', 'c', 'd', 'e']\n",
      "['2020', 'covid19', ['virus', 'RNA']]\n"
     ]
    }
   ],
   "source": [
    "llista1 = [] #llista buida\n",
    "llista2 = ['a', 'b', 'c', 'd', 'e'] #llista amb elements\n",
    "llista3 = ['2020', 'covid19', ['virus', 'RNA']] # una llista niada (anidada) dins una altre llista !!\n",
    "                                                 # Si una llista conté una altre llista lligada, \n",
    "                                                 # aquesta compta com a un sol element\n",
    "print(llista1)\n",
    "print(llista2)\n",
    "print(llista3)"
   ]
  },
  {
   "cell_type": "markdown",
   "metadata": {},
   "source": [
    "Les llistes són emmagatzemades a la memòria, quan són assignades a una variable. A\n",
    "continuació, s’exposa una llista amb una col·lecció de números enters (int), la qual és\n",
    "assignada a una variable anomenada `llista_enters`:\n",
    "\n",
    "> <img src=\"https://icon-library.com/images/tip-icon/tip-icon-23.jpg\" alt=\"tip\" width=\"50\"/> Recordeu que si només ho definim, queda guardat en memòria, però si volem conéixer el contigut haurem de \"printar\" la variable"
   ]
  },
  {
   "cell_type": "code",
   "execution_count": 2,
   "metadata": {},
   "outputs": [],
   "source": [
    "llista_enters = [4,6,3,7,8]"
   ]
  },
  {
   "cell_type": "markdown",
   "metadata": {},
   "source": [
    "Les llistes exposen les seves dades separades per comes i la col·lecció sencera ha d’estar\n",
    "dins de dos claudàtors: un a l’inici i l’altre al final. Aquí es mostra un altre exemple. En aquest\n",
    "cas, la mateixa llista inclou dades de diferents tipus."
   ]
  },
  {
   "cell_type": "code",
   "execution_count": 3,
   "metadata": {},
   "outputs": [
    {
     "data": {
      "text/plain": [
       "[-4, 7.8, 'hola', False]"
      ]
     },
     "execution_count": 3,
     "metadata": {},
     "output_type": "execute_result"
    }
   ],
   "source": [
    "llista_mixta = [-4, 7.8, 'hola', False]\n",
    "llista_mixta"
   ]
  },
  {
   "cell_type": "markdown",
   "metadata": {},
   "source": [
    "### **Selecció d'elements de la llista**\n",
    "\n",
    "Per a accedir a UN element de la llista, farem servir l'estructura següent:\n",
    "\n",
    "```python\n",
    "llista[position_element]\n",
    "\n",
    "```\n",
    "En cas que volguem accedir a UNA SÈRIE d'elements, farem servir la següent estructura:\n",
    "\n",
    "```python\n",
    "llista[begin:end:step]\n",
    "\n",
    "```\n",
    "Elements de llista des de `begin`(inclòs) fins a `end` (no inclòs) cada `step`."
   ]
  },
  {
   "cell_type": "markdown",
   "metadata": {},
   "source": [
    "Cada element de dins d’una llista té assignada una posició. La primera posició és la que està\n",
    "més a l’esquerra i el seu índex és 0, la següent posició és 1, després 2 i així successivament\n",
    "fins a l’última dada que es troba més a la dreta. \n",
    "\n",
    "> <img src=\"https://icon-library.com/images/tip-icon/tip-icon-23.jpg\" alt=\"tip\" width=\"50\"/> **Important: la primera posició és sempre 0 i no pas 1.**"
   ]
  },
  {
   "cell_type": "code",
   "execution_count": 4,
   "metadata": {},
   "outputs": [
    {
     "data": {
      "text/plain": [
       "['a', 'b', 'c', 'd', 'e', 'f', 'g']"
      ]
     },
     "execution_count": 4,
     "metadata": {},
     "output_type": "execute_result"
    }
   ],
   "source": [
    "# Slicing: Les llistes es poden identificar com els strings, és a dir, accedint pel seu índex\n",
    "lletres = ['a', 'b', 'c', 'd', 'e','f', 'g']\n",
    "lletres"
   ]
  },
  {
   "cell_type": "code",
   "execution_count": 5,
   "metadata": {},
   "outputs": [
    {
     "name": "stdout",
     "output_type": "stream",
     "text": [
      "a\n",
      "g\n",
      "['a', 'b']\n"
     ]
    }
   ],
   "source": [
    "# Primer element de la llista\n",
    "print(lletres[0])\n",
    "# Últim element de la llista\n",
    "print(lletres[6])\n",
    "# Primer i segon element de la llista\n",
    "print(lletres[0:2])"
   ]
  },
  {
   "cell_type": "markdown",
   "metadata": {},
   "source": [
    "Si l’índex de la dreta el deixem en blanc, l’intèrpret entendrà que ha d’agafar totes les dades\n",
    "des de la posició de l’esquerra fins al final. \n",
    "\n",
    "Si, en canvi, deixem en blanc l’índex de l’esquerra, la còpia començarà des de la posició 0."
   ]
  },
  {
   "cell_type": "code",
   "execution_count": 6,
   "metadata": {},
   "outputs": [
    {
     "name": "stdout",
     "output_type": "stream",
     "text": [
      "['c', 'd', 'e', 'f', 'g']\n",
      "['a', 'b', 'c']\n",
      "['a', 'c', 'e', 'g']\n",
      "['a', 'b', 'c', 'd', 'e', 'f', 'g']\n"
     ]
    }
   ],
   "source": [
    "# Des del tercer element fins al final \n",
    "print(lletres[2:])\n",
    "# Des del principi fins al tercer element. \n",
    "# Recorda que l'últim valor no queda inclós per tant, haurem de posar sumar un si volem que aparegui\n",
    "print(lletres[:3])\n",
    "# Des del principi al final cada dos elements\n",
    "print(lletres[0::2])\n",
    "# Tota la llista\n",
    "print(lletres[::])"
   ]
  },
  {
   "cell_type": "markdown",
   "metadata": {},
   "source": [
    "Aquesta selecció també es pot fer indicant l’índex corresponent començant des de la dreta.\n",
    "En aquest cas, s’utilitzen números negatius. L’última posició té assignat l’índex -1. A partir\n",
    "d’aquí, cap a l’esquerra, els índexs són -2, -3, etc.\n",
    "Per exemple, si volem extreure de `lletres` l'element `d` , ho podem fer d’aquestes dues\n",
    "maneres:"
   ]
  },
  {
   "cell_type": "code",
   "execution_count": 7,
   "metadata": {},
   "outputs": [
    {
     "name": "stdout",
     "output_type": "stream",
     "text": [
      "d\n",
      "d\n"
     ]
    }
   ],
   "source": [
    "print(lletres[3])\n",
    "print(lletres[-4])"
   ]
  },
  {
   "cell_type": "code",
   "execution_count": 8,
   "metadata": {},
   "outputs": [
    {
     "name": "stdout",
     "output_type": "stream",
     "text": [
      "g\n",
      "['a', 'b', 'c', 'd', 'e', 'f']\n",
      "['e', 'f']\n"
     ]
    }
   ],
   "source": [
    "# Últim element de la llista\n",
    "print(lletres[-1])\n",
    "# Des del principi al final (recordant que el final no està inclós)\n",
    "print(lletres[:-1])\n",
    "# Les tres últimes posicions (recordant que el final no està inclós)\n",
    "print(lletres[-3:-1])"
   ]
  },
  {
   "cell_type": "code",
   "execution_count": 9,
   "metadata": {},
   "outputs": [
    {
     "name": "stdout",
     "output_type": "stream",
     "text": [
      "['f', 'e', 'd', 'c', 'b']\n",
      "['f', 'e', 'd', 'c', 'b']\n"
     ]
    }
   ],
   "source": [
    "print(lletres[5:0:-1])\n",
    "print(lletres[-2:-7:-1])"
   ]
  },
  {
   "cell_type": "markdown",
   "metadata": {},
   "source": [
    "Per poder accedir a un element de la col·lecció i guardar-la en una variable que ens permeti fer-ho servir més tard, ho assignem de la següent manera:"
   ]
  },
  {
   "cell_type": "code",
   "execution_count": 10,
   "metadata": {
    "tags": []
   },
   "outputs": [
    {
     "name": "stdout",
     "output_type": "stream",
     "text": [
      "Anna\n",
      "[7.8, 3.5, 6, -1]\n"
     ]
    }
   ],
   "source": [
    "bio_notes = [7.8, 3.5, 6, -1,'Anna'] \n",
    "\n",
    "nom_alumne = bio_notes[-1]\n",
    "notes_alumne = bio_notes[:-1] \n",
    "#També seria correcte les següents opcions:\n",
    "nom_alumne = bio_notes[4]\n",
    "notes_alumne = bio_notes[0:4]\n",
    "\n",
    "print(nom_alumne)\n",
    "print(notes_alumne)"
   ]
  },
  {
   "cell_type": "markdown",
   "metadata": {},
   "source": [
    "#### **ARA PROVA-HO TU**\n",
    "\n",
    "1. Crea una llista que contingui els següents colors: blau, vermell, groc, verd, negre, blanc, lila, taronja\n",
    "2. Selecciona el color verd\n",
    "3. Mostra els colors que es troben en tercera, quarta i cinquena posició\n",
    "4. Selecciona l'últim color\n",
    "5. Mostra només el vermell, verd i el blanc"
   ]
  },
  {
   "cell_type": "code",
   "execution_count": 11,
   "metadata": {},
   "outputs": [
    {
     "name": "stdout",
     "output_type": "stream",
     "text": [
      "verd\n",
      "['groc', 'verd', 'negre']\n",
      "taronja\n",
      "['vermell', 'verd', 'blanc']\n"
     ]
    }
   ],
   "source": [
    "colors = ['blau', 'vermell', 'groc', 'verd', 'negre','blanc', 'lila', 'taronja']\n",
    "print(colors[3])\n",
    "print(colors[2:5])\n",
    "print(colors[-1])\n",
    "#crem un llista aux\n",
    "colors_seleccionats = []\n",
    "for color in colors:\n",
    "    if color in ['vermell', 'verd', 'blanc']:\n",
    "        colors_seleccionats.append(color)\n",
    "print(colors_seleccionats)"
   ]
  },
  {
   "cell_type": "markdown",
   "metadata": {},
   "source": [
    "### **Funcions per a modificar una llista**\n",
    "\n",
    "Com hem dit, les llistes són mutables i per tant, podem canviar el contingut dels elements, eliminar-los o afegir-ne. \n",
    "\n",
    "+ **Canviar el contingut dels elements de la llista**: \n",
    "\n",
    "Per a això, seleccionarem la posició que volem modificar i donarem un nou valor mitjantçant `=`"
   ]
  },
  {
   "cell_type": "code",
   "execution_count": 12,
   "metadata": {},
   "outputs": [
    {
     "name": "stdout",
     "output_type": "stream",
     "text": [
      "['Anna', 7.8, 3.5, 6, -1]\n",
      "['Anna', 7.8, 9.2, 6, -1]\n"
     ]
    }
   ],
   "source": [
    "bio_notes = ['Anna', 7.8, 3.5, 6, -1]\n",
    "print(bio_notes) #Notes antigues\n",
    "\n",
    "# L'Anna ha recuperat la nota del segon examen i per tant, cal canviar el seu llistat\n",
    "\n",
    "bio_notes[2] = 9.2\n",
    "print(bio_notes) #Notes actualitzades"
   ]
  },
  {
   "cell_type": "markdown",
   "metadata": {},
   "source": [
    "També podem modificar una sèrie d'elements al mateix temps per altres elements, o bé buidar la llista:"
   ]
  },
  {
   "cell_type": "code",
   "execution_count": 13,
   "metadata": {},
   "outputs": [
    {
     "name": "stdout",
     "output_type": "stream",
     "text": [
      "['Anna', 5, 6.3, 7.1]\n",
      "['Anna']\n"
     ]
    }
   ],
   "source": [
    "# Canvi de notes\n",
    "bio_notes[1:] = [5, 6.3, 7.1]\n",
    "print(bio_notes)\n",
    "# Buidar la llista\n",
    "bio_notes[1:] = []\n",
    "print(bio_notes)"
   ]
  },
  {
   "cell_type": "markdown",
   "metadata": {},
   "source": [
    "- **Afegir un nou element – `append()`**:\n",
    "\n",
    "La funció `append()` indica l’acció d’afegir una sola dada al final de la llista.\n",
    "\n",
    "> <img src=\"https://icon-library.com/images/tip-icon/tip-icon-23.jpg\" alt=\"tip\" width=\"50\"/>**Important:** la dada o objecte afegit a una llista mitjançant _append()_ sempre es col·locarà en\n",
    "l’última posició (la que està més a la dreta)."
   ]
  },
  {
   "cell_type": "code",
   "execution_count": 14,
   "metadata": {},
   "outputs": [
    {
     "name": "stdout",
     "output_type": "stream",
     "text": [
      "['Anna', 8.4]\n"
     ]
    }
   ],
   "source": [
    "# L'Anna ha fet un treball en grup, de forma que cal introduir la nota\n",
    "bio_notes.append(8.4)\n",
    "\n",
    "print(bio_notes)"
   ]
  },
  {
   "cell_type": "markdown",
   "metadata": {},
   "source": [
    "- **Afegir un conjunt d'elements – `extend()`:**\n",
    "\n",
    "La funció `extend()` itera el seu argument afegint cada element a la llista, ampliant-ne la llista tants arguments com hi hagi a la funció\n"
   ]
  },
  {
   "cell_type": "code",
   "execution_count": 15,
   "metadata": {},
   "outputs": [
    {
     "name": "stdout",
     "output_type": "stream",
     "text": [
      "['a', 'b', 'c', 'd', 'e', 'f', 'g', 'h']\n"
     ]
    }
   ],
   "source": [
    "lletres = ['a', 'b', 'c', 'd', 'e']\n",
    "lletres.extend(['f', 'g', 'h'])\n",
    "print(lletres)"
   ]
  },
  {
   "cell_type": "markdown",
   "metadata": {},
   "source": [
    "Fixa't que quan fem servir la funció `append` utilitzant una llista, el resultat és una llista anidada i per tant, comptarà com un sol element. En canvi, `extend` ens permet introduir els elements a la nostra llista de forma independent. Compara l'output anterior amb el següent:"
   ]
  },
  {
   "cell_type": "code",
   "execution_count": 16,
   "metadata": {},
   "outputs": [
    {
     "name": "stdout",
     "output_type": "stream",
     "text": [
      "['a', 'b', 'c', 'd', 'e', 'f', 'g', 'h', ['f', 'g', 'h']]\n"
     ]
    }
   ],
   "source": [
    "lletres.append(['f', 'g', 'h'])\n",
    "print(lletres)"
   ]
  },
  {
   "cell_type": "markdown",
   "metadata": {},
   "source": [
    "- **Afegir un conjunt d'elements en una posició determinada – `insert()`:**\n",
    "\n",
    "Per a afegir un element en qualsevol altra posició, podem fer servir la funció `insert()`. El primer argument indica la posició no volem afegir-ho i el segon argument el contingut."
   ]
  },
  {
   "cell_type": "code",
   "execution_count": 17,
   "metadata": {},
   "outputs": [
    {
     "name": "stdout",
     "output_type": "stream",
     "text": [
      "['INICI', 'a', 'b', 'c', 'd', 'e', 'f', 'g', 'h', ['f', 'g', 'h']]\n",
      "['INICI', 'a', 'b', 'c', 'd', 'AL MIG', 'e', 'f', 'g', 'h', ['f', 'g', 'h']]\n"
     ]
    }
   ],
   "source": [
    "lletres.insert(0, \"INICI\")\n",
    "print(lletres)\n",
    "lletres.insert(5, \"AL MIG\")\n",
    "print(lletres)"
   ]
  },
  {
   "cell_type": "markdown",
   "metadata": {
    "tags": []
   },
   "source": [
    "- **Extreure l’última dada – `pop()`:**\n",
    "\n",
    "Per eliminar l’última dada afegida, cridarem la funció `pop()`, seguint la mateixa sintaxi que amb la funció `append()`, tot i que, per a aquesta nova funció, no cal afegir res en els parèntesis."
   ]
  },
  {
   "cell_type": "code",
   "execution_count": 18,
   "metadata": {},
   "outputs": [
    {
     "name": "stdout",
     "output_type": "stream",
     "text": [
      "['INICI', 'a', 'b', 'c', 'd', 'AL MIG', 'e', 'f', 'g', 'h']\n",
      "['INICI', 'b', 'c', 'd', 'AL MIG', 'e', 'f', 'g', 'h']\n",
      "d\n",
      "['INICI', 'b', 'c', 'AL MIG', 'e', 'f', 'g', 'h']\n"
     ]
    }
   ],
   "source": [
    "lletres.pop()\n",
    "print(lletres)\n",
    "\n",
    "#O bé, esborrem un element concret de la llista d'acord amb la seva posició\n",
    "lletres.pop(1)\n",
    "print(lletres)\n",
    "\n",
    "#També podem guardar aquest element en una variable nova\n",
    "e = lletres.pop(3)\n",
    "print(e)\n",
    "print(lletres)"
   ]
  },
  {
   "cell_type": "markdown",
   "metadata": {
    "tags": []
   },
   "source": [
    "- **Extreure un element pel seu valor –`remove()` :**\n",
    "\n",
    "Amb la funció `remove()` borrem un element de la llista pel seu contingut i no per la seva posició"
   ]
  },
  {
   "cell_type": "code",
   "execution_count": 19,
   "metadata": {
    "tags": []
   },
   "outputs": [
    {
     "name": "stdout",
     "output_type": "stream",
     "text": [
      "['INICI', 'b', 'c', 'e', 'f', 'g', 'h']\n"
     ]
    }
   ],
   "source": [
    "lletres.remove(\"AL MIG\")\n",
    "print(lletres)"
   ]
  },
  {
   "cell_type": "markdown",
   "metadata": {},
   "source": [
    "### **Funcions per a gestionar una llista**"
   ]
  },
  {
   "cell_type": "markdown",
   "metadata": {},
   "source": [
    "+ **Quantitat d'elements d'una llista – `len()`:**\n",
    "\n",
    "La funció `len()` indica quants elements té una llista. Indiquem entre parèntesi el nom de la variable que fa referència a la llista "
   ]
  },
  {
   "cell_type": "code",
   "execution_count": 20,
   "metadata": {},
   "outputs": [
    {
     "name": "stdout",
     "output_type": "stream",
     "text": [
      "5\n"
     ]
    }
   ],
   "source": [
    "cotxes = ['Audi', 'Volvo', 'Seat', 'Tesla', 'Renault']\n",
    "print(len(cotxes))"
   ]
  },
  {
   "cell_type": "markdown",
   "metadata": {},
   "source": [
    "+ **Saber si un element es troba a la llista**: \n",
    "\n",
    "L'operador `in` ens indica amb un booleà (True o False) si un element determinat està a la llista"
   ]
  },
  {
   "cell_type": "code",
   "execution_count": 21,
   "metadata": {},
   "outputs": [
    {
     "name": "stdout",
     "output_type": "stream",
     "text": [
      "True\n",
      "False\n"
     ]
    }
   ],
   "source": [
    "#És important respectar majúscules i minúscules dels strings\n",
    "print('Volvo' in cotxes)\n",
    "print('Fiat' in cotxes)"
   ]
  },
  {
   "cell_type": "markdown",
   "metadata": {},
   "source": [
    "- **Comptar quantes vegades apareix un element – `count()`:**\n",
    "\n",
    "La funció `count`ens indica quantes vegades es repeteix un element en la llista"
   ]
  },
  {
   "cell_type": "code",
   "execution_count": 22,
   "metadata": {},
   "outputs": [
    {
     "name": "stdout",
     "output_type": "stream",
     "text": [
      "6\n"
     ]
    }
   ],
   "source": [
    "nombres = [8,9,6,5,6,8,3,7,4,1,2,3,3,3,6,3,5,9,9,8,6,5,9,9,6,5,7,5,4,9]\n",
    "print(nombres.count(9))\n",
    "# El número 9 apareix 5 vegades a la llista nombres"
   ]
  },
  {
   "cell_type": "markdown",
   "metadata": {},
   "source": [
    "- **Identificar la posició d’una dada – `index()`:**\n",
    "\n",
    "La funció `index`retorna la posició que ocupa un element dins la llista. Recorda que a python s'inicia a comptar en 0!"
   ]
  },
  {
   "cell_type": "code",
   "execution_count": 23,
   "metadata": {},
   "outputs": [
    {
     "name": "stdout",
     "output_type": "stream",
     "text": [
      "3\n"
     ]
    }
   ],
   "source": [
    "print(cotxes.index('Tesla')) "
   ]
  },
  {
   "cell_type": "markdown",
   "metadata": {},
   "source": [
    "- **Concatenar dues llistes**\n",
    "\n",
    "Per a unir dues llistes, podem utilitzar el símbol de la suma"
   ]
  },
  {
   "cell_type": "code",
   "execution_count": 24,
   "metadata": {},
   "outputs": [
    {
     "name": "stdout",
     "output_type": "stream",
     "text": [
      "['Audi', 'Volvo', 'Seat', 'Tesla', 'Renault', 'Honda', 'Yamaha', 'Vespa']\n"
     ]
    }
   ],
   "source": [
    "#Concatenar llistes\n",
    "motos = [\"Honda\", \"Yamaha\", \"Vespa\"]\n",
    "marques = cotxes + motos\n",
    "print(marques)"
   ]
  },
  {
   "cell_type": "markdown",
   "metadata": {},
   "source": [
    "+ **Suma dels elements numèrics – `sum()`**\n",
    "\n",
    "Si la llista és de nombres enters (integers) o decimals (float) podem sumar els valors dels elements. Si són strings, donarà error. "
   ]
  },
  {
   "cell_type": "code",
   "execution_count": 25,
   "metadata": {},
   "outputs": [
    {
     "data": {
      "text/plain": [
       "42.6"
      ]
     },
     "execution_count": 25,
     "metadata": {},
     "output_type": "execute_result"
    }
   ],
   "source": [
    "bio_notes = [5.2,6.8,7,8.9,9.6,3.1,2]\n",
    "sum(bio_notes)"
   ]
  },
  {
   "cell_type": "code",
   "execution_count": 26,
   "metadata": {},
   "outputs": [
    {
     "data": {
      "text/plain": [
       "6.085714285714286"
      ]
     },
     "execution_count": 26,
     "metadata": {},
     "output_type": "execute_result"
    }
   ],
   "source": [
    "# També podem combinar amb altres operacions o funcions. Per exemple per a fer la mitjana\n",
    "sum(bio_notes)/len(bio_notes)"
   ]
  },
  {
   "cell_type": "markdown",
   "metadata": {},
   "source": [
    "#### **ARA PROVA-HO TU**\n",
    "\n",
    "Amb la llista de colors que havíem creat abans:\n",
    "\n",
    "1. Afegeix 3 colors més\n",
    "2. Elimina el colors `negre`\n",
    "3. Indica la posició del colors `verd`\n",
    "4. Canvia el color `groc` pel `gris`\n",
    "5. Determina si el color `magenta` i el color `blanc` es troben a la teva llista\n",
    "6. Crea una nova llista de 2 colors i concatena-la a l'anterior\n",
    "7. Indica quants elements té aquesta nova llista"
   ]
  },
  {
   "cell_type": "code",
   "execution_count": 27,
   "metadata": {},
   "outputs": [
    {
     "name": "stdout",
     "output_type": "stream",
     "text": [
      "['blau', 'vermell', 'groc', 'verd', 'negre', 'blanc', 'lila', 'taronja', 'purpura', 'veix', 'caqui']\n",
      "['blau', 'vermell', 'groc', 'verd', 'blanc', 'lila', 'taronja', 'purpura', 'veix', 'caqui']\n",
      "3\n",
      "['blau', 'vermell', 'gris', 'verd', 'blanc', 'lila', 'taronja', 'purpura', 'veix', 'caqui']\n",
      "False\n",
      "True\n",
      "['blau', 'vermell', 'gris', 'verd', 'blanc', 'lila', 'taronja', 'purpura', 'veix', 'caqui', 'plata', 'or']\n",
      "12\n"
     ]
    }
   ],
   "source": [
    "colors = ['blau', 'vermell', 'groc', 'verd', 'negre','blanc', 'lila', 'taronja']\n",
    "colors.extend(['purpura', 'veix', 'caqui'])\n",
    "print(colors)\n",
    "colors.remove(\"negre\")\n",
    "print(colors)\n",
    "print(colors.index('verd'))\n",
    "posicio = colors.index('groc')\n",
    "colors[posicio] = \"gris\"\n",
    "print(colors)\n",
    "print('magenta' in colors)\n",
    "print('blanc' in colors)\n",
    "new = ['plata', 'or']\n",
    "aux = colors + new\n",
    "print(aux)\n",
    "print(len(aux))"
   ]
  },
  {
   "cell_type": "markdown",
   "metadata": {
    "tags": []
   },
   "source": [
    "### **Funcions per a ordenar una llista**\n",
    "\n",
    "+ La funció `sort()` permet ordenar les llistes numèriques en ordre ascendent i les que contenen strings en ordre alfabètic"
   ]
  },
  {
   "cell_type": "code",
   "execution_count": 28,
   "metadata": {
    "tags": []
   },
   "outputs": [
    {
     "data": {
      "text/plain": [
       "[1, 2, 3, 4, 5, 6, 7, 8, 9, 10]"
      ]
     },
     "execution_count": 28,
     "metadata": {},
     "output_type": "execute_result"
    }
   ],
   "source": [
    "nombres = [6, 7, 8, 9, 10, 1, 2, 3, 4, 5]\n",
    "nombres.sort()\n",
    "nombres"
   ]
  },
  {
   "cell_type": "code",
   "execution_count": 29,
   "metadata": {},
   "outputs": [
    {
     "data": {
      "text/plain": [
       "['Bilbao', 'Granada', 'Menorca', 'Tarragona', 'Tenerife']"
      ]
     },
     "execution_count": 29,
     "metadata": {},
     "output_type": "execute_result"
    }
   ],
   "source": [
    "ciutats = [\"Granada\", \"Bilbao\", \"Tarragona\", \"Menorca\", \"Tenerife\"]\n",
    "ciutats.sort()\n",
    "ciutats"
   ]
  },
  {
   "cell_type": "markdown",
   "metadata": {},
   "source": [
    "Per a ordenar-los a la inversa, tenim dues opcions:\n",
    "- Fer servir l'argument `reverse=True` dins la funció `sort()`\n",
    "- Fer servir la funció `reverse`"
   ]
  },
  {
   "cell_type": "code",
   "execution_count": 30,
   "metadata": {
    "scrolled": true,
    "tags": []
   },
   "outputs": [
    {
     "name": "stdout",
     "output_type": "stream",
     "text": [
      "[10, 9, 8, 7, 6, 5, 4, 3, 2, 1]\n",
      "['Tenerife', 'Tarragona', 'Menorca', 'Granada', 'Bilbao']\n"
     ]
    }
   ],
   "source": [
    "#L'argument reverse de la funció sort(), ordena a la inversa\n",
    "nombres.sort(reverse=True)\n",
    "print(nombres)\n",
    "\n",
    "#També es pot fer amb la funció reverse()\n",
    "ciutats.reverse()\n",
    "print(ciutats)"
   ]
  },
  {
   "cell_type": "markdown",
   "metadata": {},
   "source": [
    "+ **Màxims i mínims d'una llista – `max() i min()`**\n",
    "\n",
    "Necessàriament llistes numèriques"
   ]
  },
  {
   "cell_type": "code",
   "execution_count": 31,
   "metadata": {
    "tags": []
   },
   "outputs": [
    {
     "name": "stdout",
     "output_type": "stream",
     "text": [
      "10\n",
      "1\n"
     ]
    }
   ],
   "source": [
    "#Màxims i mínims d'una llista\n",
    "print(max(nombres))\n",
    "print(min(nombres))"
   ]
  },
  {
   "cell_type": "markdown",
   "metadata": {},
   "source": [
    "### **Enumerar els elements d'una llista**\n",
    "\n",
    "La manera de passar a través d'una llista, igual que amb els strings, és amb el bucle `for`, això ens permet accedir als elements d'una llista un a un. D'aquesta manera podem accedir a cada element de la llista o bé enumerar cada element. Aquesta estructura permet aplicar la mateixa funció a cadascun dels elements d'una llista. Ho veiem amb aquests dos exemples: "
   ]
  },
  {
   "cell_type": "code",
   "execution_count": 32,
   "metadata": {},
   "outputs": [
    {
     "name": "stdout",
     "output_type": "stream",
     "text": [
      "P\n",
      "h\n",
      "y\n",
      "t\n",
      "o\n",
      "n\n"
     ]
    }
   ],
   "source": [
    "#En aquest cas fem servir la funció print per a cada element\n",
    "python = ['P', 'h', 'y', 't', 'o', 'n']\n",
    "for element in python:\n",
    "    print(element) #Fixa't que s'ha d'identar el contingut del for"
   ]
  },
  {
   "cell_type": "code",
   "execution_count": 33,
   "metadata": {},
   "outputs": [
    {
     "name": "stdout",
     "output_type": "stream",
     "text": [
      "10\n",
      "8\n",
      "4\n",
      "2\n"
     ]
    }
   ],
   "source": [
    "# En aquest cas multiplicarem per 2 cadascun dels elements d'una llista\n",
    "nombres = [5, 4, 2, 1]\n",
    "#Aquest bucle recorre la llista i multiplica cada element per 2\n",
    "for i in nombres:\n",
    "    multiplicacio = i * 2\n",
    "    print(multiplicacio)"
   ]
  },
  {
   "cell_type": "markdown",
   "metadata": {},
   "source": [
    "Si volguèssim guardar el resultat d'aquesta operació per a accedir-hi més tard, una estratègia seria guardar el resultat en una nova llista buida que haurem creat abans."
   ]
  },
  {
   "cell_type": "code",
   "execution_count": 34,
   "metadata": {},
   "outputs": [
    {
     "name": "stdout",
     "output_type": "stream",
     "text": [
      "[10, 8, 4, 2]\n"
     ]
    }
   ],
   "source": [
    "# En aquest cas multiplicarem per 2 cadascun dels elements d'una llista\n",
    "nombres = [5, 4, 2, 1]\n",
    "llista_multiplicacio = []\n",
    "\n",
    "#Aquest bucle recorre la llista, multiplica cada element per 2 i ho guarda en una nova llista\n",
    "for i in nombres:\n",
    "    multiplicacio = i * 2\n",
    "    llista_multiplicacio.append(multiplicacio)\n",
    "\n",
    "print(llista_multiplicacio)"
   ]
  },
  {
   "cell_type": "markdown",
   "metadata": {},
   "source": [
    "La funció `enumerate` en un bucle `for` permet obtenir alhora l'índex i el valor de cada element. És una funció molt útil i utilitzada. "
   ]
  },
  {
   "cell_type": "code",
   "execution_count": 35,
   "metadata": {},
   "outputs": [
    {
     "name": "stdout",
     "output_type": "stream",
     "text": [
      "0 P\n",
      "1 h\n",
      "2 y\n",
      "3 t\n",
      "4 o\n",
      "5 n\n"
     ]
    }
   ],
   "source": [
    "for index, element in enumerate(python):\n",
    "    print(index, element)"
   ]
  },
  {
   "cell_type": "markdown",
   "metadata": {},
   "source": [
    "## **Exercici 4**\n",
    "\n",
    "Busca les paraules de la sopa de lletres. Pista: \n",
    "1. Defineix una variable per a cada línia horitzontal de la sopa de lletres\n",
    "2. Després selecciona les lletres que necessites per formar la paraula.\n",
    "\n",
    "<img src=\"https://i.pinimg.com/originals/9e/6d/9c/9e6d9c692398dee013348106e6b8be70.jpg\"   \n",
    "alt=\"Sopa de lletres\" width=\"200\" height=\"200\" align=\"left\">"
   ]
  },
  {
   "cell_type": "code",
   "execution_count": 52,
   "metadata": {},
   "outputs": [
    {
     "name": "stdout",
     "output_type": "stream",
     "text": [
      "CERDO\n",
      "CONEJO\n",
      "GALLINA\n",
      "OVEJA\n",
      "PATO\n",
      "PAVO\n",
      "POLLO\n",
      "VACA\n"
     ]
    }
   ],
   "source": [
    "fila0 = ['A', 'C', 'A', 'V', 'D', 'C', 'K', 'C']\n",
    "fila1 = ['O', 'Y', 'W', 'L', 'O', 'B', 'A', 'E']\n",
    "fila2 = ['V', 'S', 'M', 'N', 'Z', 'N', 'K', 'R']\n",
    "fila3 = ['A', 'O', 'E', 'P', 'I', 'P', 'O', 'D']\n",
    "fila4 = ['P', 'J', 'V', 'L', 'O', 'T', 'U', 'O']\n",
    "fila5 = ['O', 'W', 'L', 'E', 'A', 'L', 'P', 'E']\n",
    "fila6 = ['O', 'A', 'Q', 'P', 'J', 'T', 'L', 'W']\n",
    "fila7 = ['G', 'J', 'Q', 'I', 'T', 'A', 'E', 'O']\n",
    "\n",
    "paraula0 = fila0[7] + fila1[7] + fila2[7] + fila3[7] + fila4[7] # CERDO\n",
    "paraula1 = fila0[5] + fila1[4] + fila2[3] + fila3[2] + fila4[1] + fila5[0]  # CONEJO\n",
    "paraula2 = fila7[0] + fila6[1] + fila5[2] + fila4[3] + fila3[4] + fila2[5] + fila1[6] # GALLINA\n",
    "paraula3 = fila3[1] + fila4[2] + fila5[3] + fila6[4] + fila7[5]  # OVEJA\n",
    "paraula4 = fila6[3] + fila5[4] + fila4[5] + fila3[6]  # PATO\n",
    "paraula5 = fila4[0] + fila3[0] + fila2[0] + fila1[0]  # PAVO\n",
    "paraula6 = fila3[3] + fila4[4] + fila5[5] + fila6[6] + fila7[7] # POLLO\n",
    "paraula7 = fila0[3] + fila0[2] + fila0[1] + fila0[0]  # VACA\n",
    "\n",
    "print(paraula0)\n",
    "print(paraula1)\n",
    "print(paraula2)\n",
    "print(paraula3)\n",
    "print(paraula4)\n",
    "print(paraula5)\n",
    "print(paraula6)\n",
    "print(paraula7)"
   ]
  },
  {
   "cell_type": "markdown",
   "metadata": {},
   "source": [
    "# 2.2 Set\n",
    "\n",
    "Els `sets` són també una seqüència d'elements, però tenen altres característiques diferents a les llistes:\n",
    "\n",
    "- **Desordenats**: no podrem accedir als elements utilitzant la posició (índex) o a part del contingut\n",
    "\n",
    "- **Elements únics**, per tant, no trobarem duplicats\n",
    "\n",
    "- Els elements d'un set són **immutables** (no es poden modificar), però el set en si, sí és mutable i per tant, podrem afegir i eliminar elements. \n",
    "\n",
    "La sintaxis per crear sets en Python es determina amb la paraula set, els parèntesis i una llista dels elements\n",
    "\n",
    "```python\n",
    "set = set([\"E1\",\"E2\",\"E3\"])\n",
    "\n",
    "```\n",
    "Algunes de les funcions que fem servir per a les llistes es poden aplicar als sets"
   ]
  },
  {
   "cell_type": "code",
   "execution_count": 64,
   "metadata": {},
   "outputs": [
    {
     "name": "stdout",
     "output_type": "stream",
     "text": [
      "[8, 9, 6, 5, 6, 8, 3, 7, 3, 3, 3, 6, 3, 5, 9, 9, 8, 6, 5, 9, 9, 6, 5, 7, 5]\n",
      "{3, 5, 6, 7, 8, 9}\n"
     ]
    }
   ],
   "source": [
    "nombres_list = [8,9,6,5,6,8,3,7,3,3,3,6,3,5,9,9,8,6,5,9,9,6,5,7,5]\n",
    "print(nombres_list)\n",
    "nombres_set = set(nombres_list)\n",
    "print(nombres_set) "
   ]
  },
  {
   "cell_type": "markdown",
   "metadata": {},
   "source": [
    "Observem que s'han eliminat els duplicats de la llista `nombres_list`. "
   ]
  },
  {
   "cell_type": "markdown",
   "metadata": {
    "tags": []
   },
   "source": [
    "+ **Saber si un element es troba al set**: \n",
    "\n",
    "Els sets són estructures desordenades i per tant, no podem accedir a la seva posició (donarà error). Per tant, per a saber si un element hi és farem servir l'operador `in` que ens indica amb un booleà (True o False) si un element determinat està al set"
   ]
  },
  {
   "cell_type": "code",
   "execution_count": 65,
   "metadata": {
    "tags": []
   },
   "outputs": [
    {
     "ename": "TypeError",
     "evalue": "'set' object is not subscriptable",
     "output_type": "error",
     "traceback": [
      "\u001b[1;31m---------------------------------------------------------------------------\u001b[0m",
      "\u001b[1;31mTypeError\u001b[0m                                 Traceback (most recent call last)",
      "Cell \u001b[1;32mIn[65], line 2\u001b[0m\n\u001b[0;32m      1\u001b[0m \u001b[38;5;66;03m#Els sets són col·leccions desordenades, per tant, no podem seleccionar una posició\u001b[39;00m\n\u001b[1;32m----> 2\u001b[0m \u001b[43mnombres_set\u001b[49m\u001b[43m[\u001b[49m\u001b[38;5;241;43m0\u001b[39;49m\u001b[43m]\u001b[49m\n",
      "\u001b[1;31mTypeError\u001b[0m: 'set' object is not subscriptable"
     ]
    }
   ],
   "source": [
    "#Els sets són col·leccions desordenades, per tant, no podem seleccionar una posició\n",
    "nombres_set[0]"
   ]
  },
  {
   "cell_type": "code",
   "execution_count": null,
   "metadata": {},
   "outputs": [],
   "source": [
    "print(156 in nombres_set)\n",
    "print(9 in nombres_set)"
   ]
  },
  {
   "cell_type": "markdown",
   "metadata": {},
   "source": [
    "- **Afegir elements al set  – `add()` i `update()`**\n",
    "\n",
    "La funció `add()` afegeix un sol element, mentre que `update()` permet afegir més d'un element ja sigui una llista o un string. Però en tots dos casos, els elements repetits s'obviaran. "
   ]
  },
  {
   "cell_type": "code",
   "execution_count": null,
   "metadata": {},
   "outputs": [],
   "source": [
    "nombres_set.add(1)\n",
    "print(nombres_set)\n",
    "\n",
    "nombres_set.update([1,5,3,2,4,6])\n",
    "print(nombres_set)"
   ]
  },
  {
   "cell_type": "markdown",
   "metadata": {},
   "source": [
    "- **Eliminar elements al set  – `remove()` i `discard()`**\n",
    "\n",
    "Les funcions `remove()` i `discard()` permeten eliminar un element, la diferència entre aquestes dues és que `discard()` mantindrà el set sense canvis si l'element no està present en el set. En canvi, `remove()` donarà un error en aquesta mateixa circumstància."
   ]
  },
  {
   "cell_type": "code",
   "execution_count": null,
   "metadata": {},
   "outputs": [],
   "source": [
    "nombres_set.remove(1)\n",
    "print(nombres_set)\n",
    "\n",
    "nombres_set.discard(1)\n",
    "print(nombres_set)"
   ]
  },
  {
   "cell_type": "code",
   "execution_count": null,
   "metadata": {},
   "outputs": [],
   "source": [
    "#Si intentem esborrar amb la funció remove un element que no hi és a la llista, donarà error\n",
    "nombres_set.discard(2)\n",
    "print(nombres_set)\n",
    "\n",
    "nombres_set.remove(2)\n",
    "print(nombres_set)"
   ]
  },
  {
   "cell_type": "markdown",
   "metadata": {},
   "source": [
    "# 2.3 Tuples\n",
    "\n",
    "Les tuples són una seqüència de valors, els valors poden ser de qualsevol tipus, i estàn indexats per enters, fins aquí molt semblant a les llistes que acabem de veure. La diferència més important respecte les llistes, és que les tuples són inmutables, és a dir, les seves dades no poden ser modificades un cop han estat creades. Es fan servir en el disseny de software o d'scripts, quan no volem que altres usuaris modifiquin el contingut. \n",
    "\n",
    "La sintaxis per crear tuples en Python es determina amb els parèntesis i cada element separat per una coma\n",
    "\n",
    "```python\n",
    "tupla = (\"E1\",\"E2\",\"E3\")\n",
    "\n",
    "```\n",
    "\n",
    "Molts dels operadors que funcionen amb les llistes, també ho fan amb els tuples."
   ]
  },
  {
   "cell_type": "code",
   "execution_count": null,
   "metadata": {},
   "outputs": [],
   "source": [
    "punt = (10, 20, 40)\n",
    "\n",
    "print(punt, type(punt))"
   ]
  },
  {
   "cell_type": "code",
   "execution_count": null,
   "metadata": {},
   "outputs": [],
   "source": [
    "#Si intenteu modificar un element, us donarà error\n",
    "punt[0] = 30"
   ]
  },
  {
   "cell_type": "markdown",
   "metadata": {},
   "source": [
    "# 2.4 Diccionaris\n",
    "\n",
    "Els diccionaris són una col·lecció de dades que permeten relacionar dos conceptes mitjançant una _clau_ i un _valor_. El primer valor corresponent a la `clau` (key) que permet identificar l'entrada al diccionari del `valor` (value) associat.  \n",
    "\n",
    "La sintaxis per crear diccionaris en Python es determina amb les claus i associant la clau i el valor a través dels dos punts:\n",
    "\n",
    "```python\n",
    "diccionari = {\"clau1\": \"valor1\", \"clau2\": \"valor2\",\"clau3\": \"valor3\"}\n",
    "\n",
    "```\n",
    "Els diccionaris tenen les següents característiques:\n",
    "\n",
    "* La *clau* (Key) és inmutable (números, strings, booleans, tuples, però no llistes)\n",
    "* Els elements que formen el diccionari no es troben ordenats (no hi ha índex), sinó que s'accedeix mitjançant la referència a la *clau*\n",
    "\n",
    "A continuació, es mostra un exemple per veure l’estructura i com es pot escriure un diccionari."
   ]
  },
  {
   "cell_type": "code",
   "execution_count": null,
   "metadata": {},
   "outputs": [],
   "source": [
    "pelis = {\"La boda de Rosa\": \"Iciar Bollain\",\n",
    "         \"Alcarràs\": \"Carla Simón\",\n",
    "         \"Carmen y Lola\": \"Arantxa Echevarría\",\n",
    "         \"Tu vida en 65 minutos\": \"Maria Ripoll\"}"
   ]
  },
  {
   "cell_type": "markdown",
   "metadata": {},
   "source": [
    "En aquest exemple, la variable `pelis` guada el diccionari on es relaciona el títol d'una pel·lícula (`clau`) amb la seva directora (`valor`). Les claus doncs són `La boda de Rosa, Alcarràs, Carmen y Lola i Tu vida en 65 minutos`, mentre que els valors són `Iciar Bollain, Carla Simón, Arantxa Echevarría i Maria Ripoll`. "
   ]
  },
  {
   "cell_type": "markdown",
   "metadata": {},
   "source": [
    "> <img src=\"https://icon-library.com/images/tip-icon/tip-icon-23.jpg\" alt=\"tip\" width=\"50\"/>**Important:** els diccionaris accepten qualsevol tipus de variable com a valors. Per a les claus, en canvi, normalment es fan servir strings o números enters. També veiem que per obrir i tancar un diccionari, es fan servir els caràcters { }. Les llistes, en canvi, recorda que fan servir els claudàtors [ ]. "
   ]
  },
  {
   "cell_type": "markdown",
   "metadata": {},
   "source": [
    "- **Consultar els valors del diccionari  – `get()`**\n",
    "\n",
    "Per a conéixer un valor determinat, ho farem accedint a través de la seva clau. Per a això, tenim dues opcions:\n",
    "\n",
    "```python\n",
    "nom_diccionari[nom_clau]\n",
    "\n",
    "```"
   ]
  },
  {
   "cell_type": "code",
   "execution_count": null,
   "metadata": {},
   "outputs": [],
   "source": [
    "pelis[\"La boda de Rosa\"]"
   ]
  },
  {
   "cell_type": "markdown",
   "metadata": {},
   "source": [
    "També podem accedir al valor d’una clau determinada fent ús de la funció `get()`\n",
    "```python\n",
    "nom_diccionari.get(nom_clau)\n",
    "```"
   ]
  },
  {
   "cell_type": "code",
   "execution_count": null,
   "metadata": {},
   "outputs": [],
   "source": [
    "pelis.get(\"La boda de Rosa\")"
   ]
  },
  {
   "cell_type": "markdown",
   "metadata": {},
   "source": [
    "- **Afegir nous elements al diccionari**\n",
    "\n",
    "Si volem afegir una nova parella clau-valor, ho farem amb l'estructura següent:\n",
    "\n",
    "```python\n",
    "nom_diccionari[nom_clau] = valor\n",
    "```"
   ]
  },
  {
   "cell_type": "code",
   "execution_count": null,
   "metadata": {},
   "outputs": [],
   "source": [
    "pelis['Las niñas'] = \"Pilar Palomero\"\n",
    "pelis"
   ]
  },
  {
   "cell_type": "markdown",
   "metadata": {
    "tags": []
   },
   "source": [
    "- **Eliminar una clau del diccionar  – `del` i `pop()`**\n",
    "\n",
    "Per tal d’eliminar una parella clau-valor del diccionari, ho podem fer a través de la funció `del` o bé la funció `pop()`. Fixa't bé com s'utilitza cadascuna"
   ]
  },
  {
   "cell_type": "code",
   "execution_count": null,
   "metadata": {},
   "outputs": [],
   "source": [
    "del pelis['Las niñas']\n",
    "pelis"
   ]
  },
  {
   "cell_type": "code",
   "execution_count": null,
   "metadata": {},
   "outputs": [],
   "source": [
    "pelis.pop(\"Tu vida en 65 minutos\")\n",
    "pelis"
   ]
  },
  {
   "cell_type": "markdown",
   "metadata": {},
   "source": [
    "- **Quantitat d'elements del diccionari  – `len()`**\n",
    "\n",
    "Per saber el número de registres de clau-valor que conté un diccionari, ho podem fer de la mateixa\n",
    "manera que amb les llistes: hem de cridar la funció `len()` i posar a dins dels parèntesis el nom\n",
    "de la variable que conté el diccionari:"
   ]
  },
  {
   "cell_type": "code",
   "execution_count": null,
   "metadata": {},
   "outputs": [],
   "source": [
    "len(pelis)"
   ]
  },
  {
   "cell_type": "markdown",
   "metadata": {},
   "source": [
    "- **Llistat de les claus del diccionari  – `keys()`**\n",
    "\n",
    "\n",
    "la funció `keys()` extreu la col·lecció de claus"
   ]
  },
  {
   "cell_type": "code",
   "execution_count": null,
   "metadata": {},
   "outputs": [],
   "source": [
    "titols = pelis.keys()\n",
    "print(titols)"
   ]
  },
  {
   "cell_type": "markdown",
   "metadata": {},
   "source": [
    "> <img src=\"https://icon-library.com/images/tip-icon/tip-icon-23.jpg\" alt=\"tip\" width=\"50\"/>Si volguèssim aquesta variable en forma de llista, podem fer servir la funció `list()`. Aquesta funció es pot fer servir sempre que volem transformar una variable en una llista. D'aquesta forma, estem fent un canvi de tipus d’objecte de la mateixa manera que ho hem fet abans entre\n",
    "dades del tipus int i float. "
   ]
  },
  {
   "cell_type": "code",
   "execution_count": null,
   "metadata": {},
   "outputs": [],
   "source": [
    "titols_list = list(titols)\n",
    "print(titols_list)"
   ]
  },
  {
   "cell_type": "markdown",
   "metadata": {},
   "source": [
    "- **Llistat dels valors del diccionari  – `values()`**\n",
    "\n",
    "També es pot generar una llista amb la col·lecció de valors. Ho farem de la mateixa manera\n",
    "que amb les claus, però en lloc de fer-ho cridant la funció `keys()`, cridarem la funció `values()`:"
   ]
  },
  {
   "cell_type": "code",
   "execution_count": null,
   "metadata": {},
   "outputs": [],
   "source": [
    "directores = pelis.values()\n",
    "directores_list = list(directores)\n",
    "print(directores_list)"
   ]
  },
  {
   "cell_type": "markdown",
   "metadata": {},
   "source": [
    "- **Llistat dels registres clau-valor del diccionari  – `items()`**\n",
    "\n",
    "Per tal de generar una llista amb les parelles clau-valor, ho podrem fer cridant la funció `items()`"
   ]
  },
  {
   "cell_type": "code",
   "execution_count": null,
   "metadata": {
    "tags": []
   },
   "outputs": [],
   "source": [
    "titol_directora = pelis.items()\n",
    "print(titol_directora)"
   ]
  },
  {
   "cell_type": "code",
   "execution_count": null,
   "metadata": {},
   "outputs": [],
   "source": [
    "#Podem fer una llista anidada\n",
    "titol_directora = list(titol_directora)\n",
    "print(titol_directora)\n",
    "#Visualitzem la segona parella de clau-valor\n",
    "print(titol_directora[1])\n",
    "#Visualitzem el títol de la segona parella de clau-valor\n",
    "print(titol_directora[1][0])"
   ]
  },
  {
   "cell_type": "markdown",
   "metadata": {},
   "source": [
    "- **Saber si una clau es troba al diccionari**\n",
    "\n",
    "Per saber si una CLAU es troba en un diccionari o no, podem fer servir l'operador `in` que ens donarà com a sortida un boleà (`True` si està present i `False`si no ho està)"
   ]
  },
  {
   "cell_type": "code",
   "execution_count": null,
   "metadata": {},
   "outputs": [],
   "source": [
    "print('Julia ist' in pelis)\n",
    "print(\"Carmen y Lola\" in pelis)"
   ]
  },
  {
   "cell_type": "markdown",
   "metadata": {},
   "source": [
    "- **Utilitzar diferents tipus d'objectes com a valors d'un diccionari**\n",
    "\n",
    "Recorda que els valors poden ser qualsevol tipus d’objecte i els diccionaris també són un tipus d’objecte, per tant, un diccionari pot tenir una clau que el seu valor sigui un altre diccionari. \n",
    "Per exemple:"
   ]
  },
  {
   "cell_type": "code",
   "execution_count": null,
   "metadata": {},
   "outputs": [],
   "source": [
    "nested_dict = {'a': 1, 'b': 2, 'c': {'c1': 3, 'c2': 4}, 'd': 5}\n",
    "nested_dict"
   ]
  },
  {
   "cell_type": "markdown",
   "metadata": {},
   "source": [
    "I molt útil, una llista també pot ser un valor d’una clau d’un diccionari:"
   ]
  },
  {
   "cell_type": "code",
   "execution_count": null,
   "metadata": {},
   "outputs": [],
   "source": [
    "nested_dict2 = {'a': 1, 'b': 2, 'c': [3,4,5,6], 'd': 7}\n",
    "nested_dict2"
   ]
  },
  {
   "cell_type": "markdown",
   "metadata": {},
   "source": [
    "Si volem accedir i imprimir el valor a la tercera posició de la llista, que és el valor de la clau ‘c’, es\n",
    "podria fer així:"
   ]
  },
  {
   "cell_type": "code",
   "execution_count": null,
   "metadata": {},
   "outputs": [],
   "source": [
    "print(nested_dict2['c'][2])"
   ]
  },
  {
   "cell_type": "markdown",
   "metadata": {},
   "source": [
    "Primer, accedim a la llista mitjançant la clau ‘c’ i, després, accedim a la posició de la llista\n",
    "que ens interessi escrivint l’índex que correspongui.\n",
    "\n",
    "### **Enumerar els elements d'un diccionari**\n",
    "\n",
    "L'iteració d'un diccionari es fa de la mateixa manera que amb les llistes. Per tant, farem servir el bucle `for` per a accedir a cadascuna de les claus una a una: "
   ]
  },
  {
   "cell_type": "code",
   "execution_count": null,
   "metadata": {},
   "outputs": [],
   "source": [
    "for titol in pelis:\n",
    "    print(\"TITOL:\", titol, \"DIRECTORA:\", pelis[titol])"
   ]
  },
  {
   "cell_type": "markdown",
   "metadata": {},
   "source": [
    "Una altra forma correcta de fer-ho és combinar les funcions que hem vist fins ara, per exemple:"
   ]
  },
  {
   "cell_type": "code",
   "execution_count": null,
   "metadata": {},
   "outputs": [],
   "source": [
    "for titol, directora in pelis.items():\n",
    "    print(\"TITOL:\", titol, \"DIRECTORA:\", directora)"
   ]
  },
  {
   "cell_type": "markdown",
   "metadata": {},
   "source": [
    "#### **ARA PROVA-HO TU**\n",
    "\n",
    "Ara que arriba l'hivern, volem arreglar l'armari, així que organitzarem les samarretes en funció del color, i així sabrem de quin color comprarem la propera. Per a això, creem un diccionari del color de les samarretes com a `clau` i del número que en tenim com a `valor`.\n"
   ]
  },
  {
   "cell_type": "code",
   "execution_count": 60,
   "metadata": {},
   "outputs": [],
   "source": [
    "samarretes = {'vermelles': 1, 'blanques': 5, 'blaves': 2, 'negres': 3}"
   ]
  },
  {
   "cell_type": "markdown",
   "metadata": {},
   "source": [
    "Imagina que ha passat un temps i no trobes una samarreta de color groc. Així que vas al diccionari de samarretes i comproves si en tenies alguna de color groc. Com ho fem per saber-ho?\n",
    "\n",
    "Bé, hem de conèixer si cap de les claus correspon a ‘grogues’. Com ho podríem fer?"
   ]
  },
  {
   "cell_type": "code",
   "execution_count": 61,
   "metadata": {},
   "outputs": [
    {
     "name": "stdout",
     "output_type": "stream",
     "text": [
      "No tenim samarretes de color groc.\n"
     ]
    }
   ],
   "source": [
    "if 'grogues' in samarretes:\n",
    "    print(\"Tenim samarretes de color groc.\")\n",
    "else:\n",
    "    print(\"No tenim samarretes de color groc.\")"
   ]
  },
  {
   "cell_type": "markdown",
   "metadata": {},
   "source": [
    "Després de veure que no tens cap camiseta groga a l’armari i que creus que et combinarà genial amb un texans, et proposes comprar-ne dues i afegir-les al diccionari. Recordes com fer-ho?"
   ]
  },
  {
   "cell_type": "code",
   "execution_count": 62,
   "metadata": {},
   "outputs": [
    {
     "name": "stdout",
     "output_type": "stream",
     "text": [
      "{'vermelles': 1, 'blanques': 5, 'blaves': 2, 'negres': 3, 'grogues': 2}\n"
     ]
    }
   ],
   "source": [
    "samarretes['grogues'] = 2\n",
    "print(samarretes)"
   ]
  },
  {
   "cell_type": "markdown",
   "metadata": {},
   "source": [
    "Comprovem, ara, que efectivament tenim ‘grogues’ inclosa a la llista que conté les claus del diccionari:"
   ]
  },
  {
   "cell_type": "code",
   "execution_count": 63,
   "metadata": {},
   "outputs": [
    {
     "name": "stdout",
     "output_type": "stream",
     "text": [
      "Tenim samarretes de color groc.\n"
     ]
    }
   ],
   "source": [
    "if 'grogues' in samarretes:\n",
    "    print(\"Tenim samarretes de color groc.\")\n",
    "else:\n",
    "    print(\"No tenim samarretes de color groc.\")"
   ]
  },
  {
   "cell_type": "markdown",
   "metadata": {},
   "source": [
    "Fixa’t que hem hagut de tornar al mateix codi una altra vegada. Quan dominis la part de funcions, no et caldrà fer-ho, però a poc a poc. Tot arriba!\n",
    "\n",
    "Fes memòria, i recorda que volen dir els booleans. Veus que en la primera comprovació s’imprimeix `False`, però en la segona obtenim `True`?"
   ]
  },
  {
   "cell_type": "markdown",
   "metadata": {},
   "source": [
    "La samarreta vermella trobes que està molt descolorida, així que decideixes portar-la al contenidor de reciclatge. Per tant, haurem d'eliminar aquesta samarreta del nostre diccionari.."
   ]
  },
  {
   "cell_type": "code",
   "execution_count": 69,
   "metadata": {},
   "outputs": [
    {
     "name": "stdout",
     "output_type": "stream",
     "text": [
      "{'blanques': 5, 'blaves': 2, 'negres': 3, 'grogues': 2}\n"
     ]
    }
   ],
   "source": [
    "del samarretes['vermelles']\n",
    "print(samarretes)"
   ]
  },
  {
   "cell_type": "markdown",
   "metadata": {},
   "source": [
    "Anem a sumar el número de samarretes (valors) sense necessitat de fer-ho manualment d’una en una. Recorda que les llistes ens permeten sumar els seus valors en un sol pas."
   ]
  },
  {
   "cell_type": "code",
   "execution_count": 70,
   "metadata": {},
   "outputs": [
    {
     "name": "stdout",
     "output_type": "stream",
     "text": [
      "Total de samarretes: 12\n"
     ]
    }
   ],
   "source": [
    "valors = [valor for valor in samarretes.values()]\n",
    "total_samarretes = sum(valors)\n",
    "print(\"Total de samarretes:\", total_samarretes)"
   ]
  },
  {
   "cell_type": "markdown",
   "metadata": {},
   "source": [
    "## **Exercici 5**\n",
    "\n",
    "Suposem que hem fet una compra en un fruiteria. Les fruites i el seu import ens apareix en el tiquet de la manera següent:\n",
    "\n",
    "- Pomes: 3,56 €\n",
    "- Mandarines: 4,35 €\n",
    "- Síndria: 6,23 €\n",
    "- Maduixes: 4,28 €\n",
    "- Peres: 2,86 €\n",
    "- Taronges: 3,48 €\n",
    "\n",
    "Guarda la llista de la compra en forma de diccionari (pots ometre les unitats). Escriu el codi per tal de resoldre les qüestions següents:\n",
    "\n",
    "- Podries calcular la suma de la compra accedint als valors de les claus? Procura posar només dos decimals.\n",
    "- Podries copiar i guardar en una nova variable la llista dels imports sense tenir en compte els dos últims?\n",
    "- Podries comprovar si hem comprat llimones?"
   ]
  },
  {
   "cell_type": "code",
   "execution_count": 73,
   "metadata": {},
   "outputs": [
    {
     "name": "stdout",
     "output_type": "stream",
     "text": [
      "La suma de la compra és: 24.76 €\n",
      "Imports sense els dos últims: [3.56, 4.35, 6.23, 4.28]\n",
      "No, no hem comprat llimones.\n"
     ]
    }
   ],
   "source": [
    "compra = {'Pomes': 3.56, 'Mandarines': 4.35, 'Síndria': 6.23, 'Maduixes': 4.28, 'Peres': 2.86, 'Taronges': 3.48 }\n",
    "suma_compra = sum(compra.values())\n",
    "print(\"La suma de la compra és: {:.2f} €\".format(suma_compra))\n",
    "imports_sense_ultims = list(compra.values())[:-2]\n",
    "print(\"Imports sense els dos últims:\", imports_sense_ultims)\n",
    "hem_comprat_llimones = 'Llimones' in compra\n",
    "if hem_comprat_llimones:\n",
    "    print(\"Sí, hem comprat llimones.\")\n",
    "else:\n",
    "    print(\"No, no hem comprat llimones.\")"
   ]
  },
  {
   "cell_type": "markdown",
   "metadata": {},
   "source": [
    "## **Exercici 6**\n",
    "\n",
    "Crea un diccionari amb 6 països com a clau associa la capital com a valor. A continuació, fes els exercicis següents:\n",
    "+ Afegeix dos països més.\n",
    "+ Elimina un país\n",
    "+ Quants elements conté el teu diccionari?\n",
    "+ Mostra la capital d'un dels països\n",
    "+ Per a cada element del diccionari, imprimeix el missatge \"La capital de [país] és [capital]. \n",
    "+ Es troba Suïssa en el teu diccionari?\n",
    "+ Crea una variable que contingui un llistat de les capitals i una altra amb un llistat dels països\n"
   ]
  },
  {
   "cell_type": "code",
   "execution_count": 85,
   "metadata": {},
   "outputs": [
    {
     "name": "stdout",
     "output_type": "stream",
     "text": [
      "{'Espanya': 'Madrid', 'França': 'París', 'Itàlia': 'Roma', 'Alemanya': 'Berlín', 'Regne Unit': 'Londres', 'Portugal': 'Lisboa'}\n",
      "\n",
      "Diccionari amb dos països afegits:\n",
      "{'Espanya': 'Madrid', 'França': 'París', 'Itàlia': 'Roma', 'Alemanya': 'Berlín', 'Regne Unit': 'Londres', 'Portugal': 'Lisboa', 'Grècia': 'Atenes', 'Suècia': 'Estocolm'}\n",
      "\n",
      "Diccionari amb Portugal eliminat:\n",
      "{'Espanya': 'Madrid', 'França': 'París', 'Itàlia': 'Roma', 'Alemanya': 'Berlín', 'Regne Unit': 'Londres', 'Grècia': 'Atenes', 'Suècia': 'Estocolm'}\n",
      "\n",
      "Diccionari té els seguents paissos:\n",
      "7\n",
      "\n",
      "La capital de un dels paisos:\n",
      "Berlín\n",
      "La capital de Espanya és Madrid\n",
      "La capital de França és París\n",
      "La capital de Itàlia és Roma\n",
      "La capital de Alemanya és Berlín\n",
      "La capital de Regne Unit és Londres\n",
      "La capital de Grècia és Atenes\n",
      "La capital de Suècia és Estocolm\n",
      "\n",
      " False\n",
      "\n",
      " ['Madrid', 'París', 'Roma', 'Berlín', 'Londres', 'Atenes', 'Estocolm']\n",
      "\n",
      "Llistat de països: ['Espanya', 'França', 'Itàlia', 'Alemanya', 'Regne Unit', 'Grècia', 'Suècia']\n"
     ]
    }
   ],
   "source": [
    "paisos_i_capitals = {\n",
    "    'Espanya': 'Madrid',\n",
    "    'França': 'París',\n",
    "    'Itàlia': 'Roma',\n",
    "    'Alemanya': 'Berlín',\n",
    "    'Regne Unit': 'Londres',\n",
    "    'Portugal': 'Lisboa'\n",
    "}\n",
    "print(paisos_i_capitals)\n",
    "\n",
    "paisos_i_capitals['Grècia'] = 'Atenes'\n",
    "paisos_i_capitals['Suècia'] = 'Estocolm'\n",
    "print(\"\\nDiccionari amb dos països afegits:\")\n",
    "print(paisos_i_capitals)\n",
    "\n",
    "del paisos_i_capitals['Portugal']\n",
    "print(\"\\nDiccionari amb Portugal eliminat:\")\n",
    "print(paisos_i_capitals)\n",
    "\n",
    "num_elements = len(paisos_i_capitals)\n",
    "print(\"\\nDiccionari té els seguents paissos:\")\n",
    "print(num_elements)\n",
    "\n",
    "capital = paisos_i_capitals['Alemanya']\n",
    "print(\"\\nLa capital de un dels paisos:\")\n",
    "print(capital)\n",
    "\n",
    "for pais, capital in paisos_i_capitals.items():\n",
    "    print(\"La capital de\", pais, \"és\", capital)\n",
    "\n",
    "suissa_present = 'Suïssa' in paisos_i_capitals\n",
    "print(\"\\n\", suissa_present)\n",
    "\n",
    "capitals = list(paisos_i_capitals.values())\n",
    "print(\"\\n\", capitals)\n",
    "\n",
    "països = list(paisos_i_capitals.keys())\n",
    "print(\"\\nLlistat de països:\", països)"
   ]
  },
  {
   "cell_type": "markdown",
   "metadata": {},
   "source": [
    "## **Exercici 7**\n",
    "\n",
    "Una de les capacitats que guanyem quan programem és el noble art de cercar a google!!! i cercar bé a vegades no és tan fàcil com sembla...\n",
    "\n",
    "**Aquest exercici és un repte!**\n",
    "\n",
    "Del llistat de noms, selecciona aquells que comencin per M i ordena'ls per ordre alfabètic. \n",
    "\n",
    "Caldrà que combinis funcions que hem fet servir... i potser comencem a mirar què són els condicionals.. i sobretot pensar pas a pas què volem fer! Compararem estratègies a classe, recorda que no hi ha una única manera d'arribar a la solució!!"
   ]
  },
  {
   "cell_type": "code",
   "execution_count": 90,
   "metadata": {},
   "outputs": [
    {
     "name": "stdout",
     "output_type": "stream",
     "text": [
      "['Manolo', 'Margarita', 'María', 'Miriam', 'Mónica']\n"
     ]
    }
   ],
   "source": [
    "noms = [\"María\", \"Pedro\", \"Alfredo\", \"Juan\", \"Mónica\", \"Adrián\", \"Miriam\", \"Manolo\", \"Esther\", \"Margarita\", \"Irene\", \"David\"]\n",
    "new = []\n",
    "for nom in noms:\n",
    "    if nom.startswith('M'):\n",
    "        new.append(nom)\n",
    "new.sort()\n",
    "print(new)"
   ]
  },
  {
   "cell_type": "code",
   "execution_count": null,
   "metadata": {},
   "outputs": [],
   "source": []
  }
 ],
 "metadata": {
  "kernelspec": {
   "display_name": "Python 3 (ipykernel)",
   "language": "python",
   "name": "python3"
  },
  "language_info": {
   "codemirror_mode": {
    "name": "ipython",
    "version": 3
   },
   "file_extension": ".py",
   "mimetype": "text/x-python",
   "name": "python",
   "nbconvert_exporter": "python",
   "pygments_lexer": "ipython3",
   "version": "3.10.12"
  }
 },
 "nbformat": 4,
 "nbformat_minor": 4
}
