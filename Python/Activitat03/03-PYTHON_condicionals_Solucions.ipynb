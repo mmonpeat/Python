{
 "cells": [
  {
   "cell_type": "markdown",
   "metadata": {},
   "source": [
    "# **03. Python: Condicionals**\n",
    "\n",
    "## Solucions dels exercicis \n",
    "\n",
    "## **Exercici 8**\n",
    "\n",
    "Les notes de la Rocio en Bioinformàtica han estat 4, 8, 3.5, 6.1, 3. Calula la mitjana i si és més gran d'un 5, indica que l'alumna ha aprovat o si és menor, indica que ha suspès."
   ]
  },
  {
   "cell_type": "code",
   "execution_count": 1,
   "metadata": {},
   "outputs": [
    {
     "name": "stdout",
     "output_type": "stream",
     "text": [
      "4.92\n",
      "oooh has suspès :(\n"
     ]
    }
   ],
   "source": [
    "notes = [4, 8, 3.5, 6.1, 3]\n",
    "mitjana = sum(notes)/len(notes)\n",
    "print(mitjana)\n",
    "if mitjana >= 5:\n",
    "    print(\"has aprovat!! :)\")\n",
    "else:\n",
    "    print(\"oooh has suspès :(\")"
   ]
  },
  {
   "cell_type": "markdown",
   "metadata": {},
   "source": [
    "## **Exercici 9**\n",
    "\n",
    "**Crearem un programa que ens guardi les sèries que hem vist i les que tenim pendents.** \n",
    "\n",
    "En primer lloc, preguntarà per pantalla: quina sèrie t'interessa? I permetrà que l'usuari introdueixi el títol de la sèrie (tingueu en compte majúscules i minúscules!)\n",
    "\n",
    "Si la sèrie es troba en una llista de les que ja hem vist, dirà: ja l'has vist! \n",
    "\n",
    "Si la sèrie no es troba a la llista, tornarà a preguntar: Estàs seguint la sèrie?\n",
    "\n",
    "Si la resposta és sí, es guardarà en la llista anterior de sèries vistes, si la resposta és no és guardarà en una nova llista de sèries pendents i sortirà per pantalla: aquestes són les teves sèries pendents. \n",
    "\n",
    "Si la resposta és qualsevol altra, dirà: No t'he entès.. "
   ]
  },
  {
   "cell_type": "code",
   "execution_count": 2,
   "metadata": {
    "tags": []
   },
   "outputs": [],
   "source": [
    "series_vistes = [\"sex education\", \"atypical\", \"girls\", \"it's a sin\"]\n",
    "series_pendents = [\"peaky blinders\", \"euphoria\"]"
   ]
  },
  {
   "cell_type": "code",
   "execution_count": 3,
   "metadata": {},
   "outputs": [
    {
     "name": "stdout",
     "output_type": "stream",
     "text": [
      "Quina sèrie t'interessa?\n"
     ]
    },
    {
     "name": "stdin",
     "output_type": "stream",
     "text": [
      " El cuento de la Criada\n"
     ]
    },
    {
     "name": "stdout",
     "output_type": "stream",
     "text": [
      "estàs seguint la sèrie?\n"
     ]
    },
    {
     "name": "stdin",
     "output_type": "stream",
     "text": [
      " no\n"
     ]
    },
    {
     "name": "stdout",
     "output_type": "stream",
     "text": [
      "Aquestes són les teves sèries pendents: ['peaky blinders', 'euphoria', 'el cuento de la criada']\n"
     ]
    }
   ],
   "source": [
    "print(\"Quina sèrie t'interessa?\")\n",
    "resposta1 = input()\n",
    "resposta1 = resposta1.lower()\n",
    "if resposta1 in series_vistes:\n",
    "    print(\"ja l'has vist!\")\n",
    "else:\n",
    "    print(\"estàs seguint la sèrie?\")\n",
    "    resposta2 = input()\n",
    "    resposta2 = resposta2.lower()\n",
    "    if resposta2 == \"si\":\n",
    "        series_vistes.append(resposta1)\n",
    "    elif resposta2 == \"no\":\n",
    "        if resposta1 not in series_pendents:\n",
    "            series_pendents.append(resposta1)\n",
    "        print(\"Aquestes són les teves sèries pendents:\", [serie for serie in series_pendents])\n",
    "    else:\n",
    "        print(\"No t'he entès..\")"
   ]
  },
  {
   "cell_type": "markdown",
   "metadata": {},
   "source": [
    "> <img src=\"https://icon-library.com/images/tip-icon/tip-icon-23.jpg\" alt=\"tip\" width=\"30\"/> **Important:** Recordeu sempre comprovar que el vostre script funciona, si funcionen totes les condicions que heu definit. \n",
    "\n",
    "Fixeu-vos que hem creat les llistes de sèries en una cel·la independent, això ens permet que cada cop que executem la pregunta a l'usuari, no tornem a definir les llistes i per tant, se'ns queden guardades les respostes que anem contestant (i per tant, les sèries que hem vist o tenim pendents). \n",
    "Al tema de funcions, aprendrem com fer que el bucle torni a començar a preguntar i no s'acabi en una sola pregunta ( i per tant, no caldrà executar-lo cada cop). "
   ]
  },
  {
   "cell_type": "markdown",
   "metadata": {},
   "source": [
    "## **Exercici 10**\n",
    "\n",
    "**Donada la longitud dels tres costats d'un triangle, digues si és equilàter, isòsceles o escalè.**"
   ]
  },
  {
   "cell_type": "code",
   "execution_count": 9,
   "metadata": {},
   "outputs": [
    {
     "name": "stdin",
     "output_type": "stream",
     "text": [
      "1r costat del triangle: 4\n",
      "2n costat del triangle: 6\n",
      "3r costat del triangle: 6\n"
     ]
    }
   ],
   "source": [
    "s1 = int(input(\"1r costat del triangle:\"))\n",
    "s2 = int(input(\"2n costat del triangle:\"))\n",
    "s3 = int(input(\"3r costat del triangle:\"))"
   ]
  },
  {
   "cell_type": "code",
   "execution_count": 11,
   "metadata": {},
   "outputs": [
    {
     "name": "stdout",
     "output_type": "stream",
     "text": [
      "Isòsceles\n"
     ]
    }
   ],
   "source": [
    "#Opció fàcil\n",
    "if s1==s2 and s2==s3:\n",
    "    print(\"Equilàter\")\n",
    "elif s1!=s2 and s1!=s3 and s2!=s3:\n",
    "    print(\"Escalè\")\n",
    "else:\n",
    "    print(\"Isòsceles\")"
   ]
  },
  {
   "cell_type": "code",
   "execution_count": 10,
   "metadata": {},
   "outputs": [
    {
     "name": "stdout",
     "output_type": "stream",
     "text": [
      "Isòsceles\n"
     ]
    }
   ],
   "source": [
    "#Opció més complicada\n",
    "if s1==s2 and s2==s3:\n",
    "    print(\"Equilàter\")\n",
    "elif s1!=s2 and s1!=s3 and s2!=s3:\n",
    "    print(\"Escalè\")\n",
    "elif (s1==s2 and s2!=s3) or (s2==s3 and s2!=s1) or (s1==s3 and s1!=s2):\n",
    "    print(\"Isòsceles\")"
   ]
  },
  {
   "cell_type": "code",
   "execution_count": null,
   "metadata": {},
   "outputs": [],
   "source": []
  }
 ],
 "metadata": {
  "kernelspec": {
   "display_name": "Python 3",
   "language": "python",
   "name": "python3"
  },
  "language_info": {
   "codemirror_mode": {
    "name": "ipython",
    "version": 3
   },
   "file_extension": ".py",
   "mimetype": "text/x-python",
   "name": "python",
   "nbconvert_exporter": "python",
   "pygments_lexer": "ipython3",
   "version": "3.9.5"
  }
 },
 "nbformat": 4,
 "nbformat_minor": 4
}
