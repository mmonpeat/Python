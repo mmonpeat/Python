{
 "cells": [
  {
   "cell_type": "markdown",
   "metadata": {},
   "source": [
    "# **3. Python: Condicionals**\n",
    "\n",
    "Les sentències condicionals són blocs de codi que ens serveixen per executar una sèrie d’accions o unes altres, depenent d’unes determinades condicions. Aquestes estructures fan possible dissenyar algoritmes capaços de resoldre problemes molt complexos.\n"
   ]
  },
  {
   "cell_type": "markdown",
   "metadata": {},
   "source": [
    "# 3.1 Expressions de comparació\n",
    "\n",
    "A continuació, introduirem els operadors comparatius, que emeten un resultat de `True` (cert) o `False` (fals), segons si es compleix la condició o no. Quan comparem dos objectes, podem fer-ho amb qualsevol tipus de variables:\n",
    "\n",
    "+ `==` (igual)\n",
    "+ `!=` (diferent)\n",
    "+ `>` (més gran)\n",
    "+ `<` (més petit)\n",
    "+ `>=` (més gran o igual)\n",
    "+ `<=` (més petit o igual)"
   ]
  },
  {
   "cell_type": "code",
   "execution_count": 1,
   "metadata": {},
   "outputs": [
    {
     "data": {
      "text/plain": [
       "True"
      ]
     },
     "execution_count": 1,
     "metadata": {},
     "output_type": "execute_result"
    }
   ],
   "source": [
    "2 <= 5"
   ]
  },
  {
   "cell_type": "code",
   "execution_count": 2,
   "metadata": {},
   "outputs": [
    {
     "data": {
      "text/plain": [
       "False"
      ]
     },
     "execution_count": 2,
     "metadata": {},
     "output_type": "execute_result"
    }
   ],
   "source": [
    "2 == 3"
   ]
  },
  {
   "cell_type": "code",
   "execution_count": 3,
   "metadata": {},
   "outputs": [
    {
     "data": {
      "text/plain": [
       "True"
      ]
     },
     "execution_count": 3,
     "metadata": {},
     "output_type": "execute_result"
    }
   ],
   "source": [
    "'python' == 'python'"
   ]
  },
  {
   "cell_type": "markdown",
   "metadata": {},
   "source": [
    "> <img src=\"https://icon-library.com/images/tip-icon/tip-icon-23.jpg\" alt=\"tip\" width=\"30\"/> Python reconeix i diferencia entre majúscules i minúscules "
   ]
  },
  {
   "cell_type": "code",
   "execution_count": 4,
   "metadata": {},
   "outputs": [
    {
     "data": {
      "text/plain": [
       "True"
      ]
     },
     "execution_count": 4,
     "metadata": {},
     "output_type": "execute_result"
    }
   ],
   "source": [
    "\"bioinformatica\" != \"Bioinformatica\""
   ]
  },
  {
   "cell_type": "markdown",
   "metadata": {},
   "source": [
    "> <img src=\"https://icon-library.com/images/tip-icon/tip-icon-23.jpg\" alt=\"tip\" width=\"30\"/> Vigila amb el tipus de variable que estem considerant!"
   ]
  },
  {
   "cell_type": "code",
   "execution_count": 5,
   "metadata": {},
   "outputs": [
    {
     "data": {
      "text/plain": [
       "False"
      ]
     },
     "execution_count": 5,
     "metadata": {},
     "output_type": "execute_result"
    }
   ],
   "source": [
    "'1' == 1"
   ]
  },
  {
   "cell_type": "markdown",
   "metadata": {},
   "source": [
    "També podem comparar variables guardades:"
   ]
  },
  {
   "cell_type": "code",
   "execution_count": 6,
   "metadata": {},
   "outputs": [
    {
     "name": "stdout",
     "output_type": "stream",
     "text": [
      "False\n"
     ]
    }
   ],
   "source": [
    "n = 10\n",
    "s = 50\n",
    "print(s < n)"
   ]
  },
  {
   "cell_type": "markdown",
   "metadata": {
    "tags": []
   },
   "source": [
    "# 3.2 Operadors lògics\n",
    "\n",
    "+ `and` (es compleix A i B?)\n",
    "+ `or` (es compleix A o B?)\n",
    "+ `not` (no A)\n"
   ]
  },
  {
   "cell_type": "code",
   "execution_count": 7,
   "metadata": {
    "tags": []
   },
   "outputs": [
    {
     "data": {
      "text/plain": [
       "False"
      ]
     },
     "execution_count": 7,
     "metadata": {},
     "output_type": "execute_result"
    }
   ],
   "source": [
    "# S'han de complir les dues condicions\n",
    "x = 12\n",
    "x > 0 and x < 10"
   ]
  },
  {
   "cell_type": "code",
   "execution_count": 8,
   "metadata": {
    "tags": []
   },
   "outputs": [
    {
     "data": {
      "text/plain": [
       "True"
      ]
     },
     "execution_count": 8,
     "metadata": {},
     "output_type": "execute_result"
    }
   ],
   "source": [
    "# Es compleix o una condició o l'altre\n",
    "x = 12\n",
    "x > 0 or x < 10"
   ]
  },
  {
   "cell_type": "code",
   "execution_count": 9,
   "metadata": {},
   "outputs": [
    {
     "data": {
      "text/plain": [
       "True"
      ]
     },
     "execution_count": 9,
     "metadata": {},
     "output_type": "execute_result"
    }
   ],
   "source": [
    "# Determinar si un element NO es troba present\n",
    "colors = [\"groc\", \"blau\", \"vermell\", \"verd\"]\n",
    "\"negre\" not in colors"
   ]
  },
  {
   "cell_type": "markdown",
   "metadata": {},
   "source": [
    "# 3.3 Sentències condicionals\n",
    "\n",
    "Les sentències condicionals permeten executar una sèrie de funcions o unes altres, depenent del compliment, o no, d’una condició prèvia. L'estructura general dels condicionals seria la següent:\n",
    "\n",
    "```python\n",
    "IF condition1 == TRUE:\n",
    "    then DO something\n",
    "ELIF condition2 == TRUE:\n",
    "    then DO something else\n",
    "ELSE:\n",
    "    then DO this\n",
    "```\n",
    "\n",
    "Les sentències `if`, `elif` i `else` sempre acaben en `:` i el codi que s'executarà en cas que la condició sigui `TRUE` serà identat (fent servir el tabulador). A diferència d’altres llenguatges de programació, les condicions no van entre parèntesis i els blocs de codi no s’han de posar entre ‘{}’, només s’han d’identar.\n",
    "\n",
    "La sentència `if` sempre va en primer lloc.\n",
    "\n",
    "Les sentències `elif` (una o més d’una) van en segon lloc.\n",
    "\n",
    "La sentència `else` sempre va al final.\n",
    "\n",
    "> <img src=\"https://icon-library.com/images/tip-icon/tip-icon-23.jpg\" alt=\"tip\" width=\"50\"/>El `if`serà l'element obligatori per a iniciar una condició, però el `elif` i l'`else` són opcionals en cas que volguem una alternativa si la condició primera no es compleix. Podem fer servir tants `elif` com necessitem, però un sol `if` i `else` per a cada sentència.  \n",
    "\n",
    "Aquí s’exposa un exemple senzill de com s’escriu una estructura condicional:\n"
   ]
  },
  {
   "cell_type": "code",
   "execution_count": 10,
   "metadata": {},
   "outputs": [
    {
     "name": "stdout",
     "output_type": "stream",
     "text": [
      "menor que 10\n"
     ]
    }
   ],
   "source": [
    "import random\n",
    "n = random.random()\n",
    "if n > 10: \n",
    "    print('major que 10') \n",
    "elif n < 10: \n",
    "    print('menor que 10') \n",
    "else: \n",
    "    print('igual que 10')"
   ]
  },
  {
   "cell_type": "markdown",
   "metadata": {},
   "source": [
    "En aquest cas, hem realitzat una condició en què si la variable `n` és més gran que 10, imprimirem `és més gran de 10`. Si no es cumpleix aquesta sentència, avaluarem la següent en que si la variable`n`és més petita de 10 imprimirem `és més petit de 10`. Finalment, si les dues condicions anteriors no s'han complert, accedirem a la tercera en què només ens queda suposar que `és igual a 10`. "
   ]
  },
  {
   "cell_type": "markdown",
   "metadata": {},
   "source": [
    "+ **La importància d'identar correctament**\n",
    "\n",
    "Aquelles funcions que es troben identades s'executaran si es compleix la condició, però les que no ho estiguin s'executaran igualment. A l'exemple següent, només si `x` és un 5 se li sumarà 2 i printarà el nou valor de `x`. Al segon exemple, si `x` és diferent de 5, no li sumarà 2, però printarà el valor de `x` igualment. "
   ]
  },
  {
   "cell_type": "code",
   "execution_count": 11,
   "metadata": {},
   "outputs": [],
   "source": [
    "#Provem a veure el resultat amb la x=5 i la x=3\n",
    "x = 4\n",
    "if x == 5:\n",
    "    x += 2\n",
    "    print(x)"
   ]
  },
  {
   "cell_type": "code",
   "execution_count": 12,
   "metadata": {},
   "outputs": [
    {
     "name": "stdout",
     "output_type": "stream",
     "text": [
      "7\n"
     ]
    }
   ],
   "source": [
    "#Provem a veure el resultat amb la x=5 i la x=3\n",
    "x = 5\n",
    "if x == 5:\n",
    "    x += 2\n",
    "print(x)"
   ]
  },
  {
   "cell_type": "markdown",
   "metadata": {},
   "source": [
    "+ **Condicionals treballant amb llistes:**\n",
    "\n",
    "Podem fer servir les estructures que hem vist amb les llistes per a comprovar alguna condició d'interès."
   ]
  },
  {
   "cell_type": "code",
   "execution_count": 13,
   "metadata": {},
   "outputs": [
    {
     "name": "stdout",
     "output_type": "stream",
     "text": [
      "nom correcte\n"
     ]
    }
   ],
   "source": [
    "noms = ['Ernest', 'Laura', 'Miquel', 'Maria'] \n",
    "\n",
    "if noms[1] == 'Laura': \n",
    "    print('nom correcte') \n",
    "else: \n",
    "    print('nom incorrecte')"
   ]
  },
  {
   "cell_type": "markdown",
   "metadata": {},
   "source": [
    "En aquest cas, estem comprovant si el nom de la posició 1 de la llista noms és ‘Laura’. En cas afirmatiu, s’ha d’imprimir ‘nom correcte’ i, en cas contrari, s’ha d’imprimir ‘nom incorrecte’.\n",
    "\n",
    "La sentència `in` també ens permet comprovar si un element determinat es troba inclós a la llista. Ho podem incloure en una condició per a fer una sèrie d'accions en cas que es compleixi. "
   ]
  },
  {
   "cell_type": "code",
   "execution_count": 14,
   "metadata": {},
   "outputs": [
    {
     "name": "stdout",
     "output_type": "stream",
     "text": [
      "Julia no està present en la llista\n",
      "['Ernest', 'Laura', 'Miquel', 'Maria', 'Julia']\n"
     ]
    }
   ],
   "source": [
    "noms = ['Ernest', 'Laura', 'Miquel', 'Maria'] \n",
    "alumne = \"Julia\"\n",
    "if not alumne in noms: \n",
    "    noms.append(alumne)\n",
    "    print(alumne, 'no està present en la llista') \n",
    "else: \n",
    "    print(alumne, 'no està present en la llista')\n",
    "print(noms)"
   ]
  },
  {
   "cell_type": "markdown",
   "metadata": {},
   "source": [
    "Aquí estem fent servir la sentència *in* com a condició, el resultat de la qual determinarà si s’executa un codi o un altre.\n",
    "\n",
    "**Nota:** dins de la funció *print()*, les comes serveixen per encadenar strings, afegint-hi un espai !\n",
    "\n",
    "Vegem un altre exemple. En aquest cas, fent ús de números per veure operadors comparatius:"
   ]
  },
  {
   "cell_type": "code",
   "execution_count": 15,
   "metadata": {},
   "outputs": [
    {
     "name": "stdin",
     "output_type": "stream",
     "text": [
      " 6\n"
     ]
    },
    {
     "name": "stdout",
     "output_type": "stream",
     "text": [
      "major que 5 i menor que 20\n"
     ]
    }
   ],
   "source": [
    "n = float(input())\n",
    "\n",
    "if n >= 20: \n",
    "    print('major o igual que 20') \n",
    "elif n <= 5: \n",
    "    print('menor o igual que 5') \n",
    "else: \n",
    "    print('major que 5 i menor que 20')"
   ]
  },
  {
   "cell_type": "markdown",
   "metadata": {},
   "source": [
    "Vegem una estructura condicional que doni peu a executar un codi més complex:"
   ]
  },
  {
   "cell_type": "code",
   "execution_count": 16,
   "metadata": {},
   "outputs": [
    {
     "name": "stdout",
     "output_type": "stream",
     "text": [
      "A qui vols introduir a la llista?\n"
     ]
    },
    {
     "name": "stdin",
     "output_type": "stream",
     "text": [
      " Martí\n"
     ]
    },
    {
     "name": "stdout",
     "output_type": "stream",
     "text": [
      "Quina edat té?\n"
     ]
    },
    {
     "name": "stdin",
     "output_type": "stream",
     "text": [
      " 22\n"
     ]
    },
    {
     "name": "stdout",
     "output_type": "stream",
     "text": [
      "aquesta és la llista definitiva: ['Ernest', 'Laura', 'Miquel']\n"
     ]
    }
   ],
   "source": [
    "print('A qui vols introduir a la llista?')\n",
    "nom_nou = input()\n",
    "\n",
    "print('Quina edat té?')\n",
    "n = int(input()) \n",
    "\n",
    "noms = ['Ernest', 'Laura', 'Miquel', 'Maria']\n",
    "\n",
    "if n <= 20: \n",
    "    noms.append(nom_nou) \n",
    "else: \n",
    "    noms.pop()\n",
    "#la funció pop elimia l'últim de la llista\n",
    "print('aquesta és la llista definitiva:', sorted(noms))"
   ]
  },
  {
   "cell_type": "markdown",
   "metadata": {},
   "source": [
    "El que estem fent aquí és, primer, introduir per teclat un nou nom i un número. \n",
    "\n",
    "Recorda que tots els inputs són strings (per això fem ús de la funció int() per fer el canvi a número enter). Després, el número introduït el posem com a condició i, segons si aquest número és menor o igual que 20, s’afegirà a la llista el nou nom o, en el cas contrari, s’eliminarà el de l’última posició.\n",
    "\n",
    "> <img src=\"https://icon-library.com/images/tip-icon/tip-icon-23.jpg\" alt=\"tip\" width=\"50\"/>La diferència entre fer servir `sorted(list)` i `list.sort()` és que en el primer cas, ordenem la llista, però aquest canvi no queda registrat si no ho guardem en una nova variable, per tant, no es modifica el contingut de la llista inicial. En canvi, al segon cas, la llista queda ordenada internament, sense necessitat de guardar-la un altre cop.  "
   ]
  },
  {
   "cell_type": "code",
   "execution_count": 17,
   "metadata": {},
   "outputs": [
    {
     "name": "stdout",
     "output_type": "stream",
     "text": [
      "[1, 3, 4, 4, 5, 8, 9]\n"
     ]
    }
   ],
   "source": [
    "l = [5,1,4,8,3,4,9]\n",
    "l.sort()\n",
    "print(l)"
   ]
  },
  {
   "cell_type": "code",
   "execution_count": 18,
   "metadata": {},
   "outputs": [
    {
     "name": "stdout",
     "output_type": "stream",
     "text": [
      "[5, 1, 4, 8, 3, 4, 9]\n"
     ]
    }
   ],
   "source": [
    "l = [5,1,4,8,3,4,9]\n",
    "sorted(l)\n",
    "print(l)"
   ]
  },
  {
   "cell_type": "markdown",
   "metadata": {},
   "source": [
    "+ **Condicionals treballant amb diccionaris:**\n",
    "\n",
    "Novament, els condicionals ens permeten treballar les estructures que hem vist sobre els diccionaris per a aplicar-hi condicions i fer modificacions sobre aquests."
   ]
  },
  {
   "cell_type": "code",
   "execution_count": 19,
   "metadata": {},
   "outputs": [
    {
     "name": "stdout",
     "output_type": "stream",
     "text": [
      "{'nom': 'Miquel', 'ciutat': 'Barcelona', 'edat': 28}\n",
      "{'nom': 'Miquel', 'ciutat': 'Barcelona', 'edat': 28, 'comunitat': 'Catalunya', 'categoria': 'Jove', 'grup sanguini': 'Sense determinar'}\n"
     ]
    }
   ],
   "source": [
    "dades = {'nom': 'Miquel', 'ciutat': 'Barcelona', 'edat': 28} \n",
    "\n",
    "print (dades)\n",
    "\n",
    "if dades['ciutat'] == 'Barcelona': \n",
    "    dades['comunitat'] = 'Catalunya' \n",
    "    \n",
    "if dades['edat'] < 30: \n",
    "    dades['categoria'] = 'Jove' \n",
    "    \n",
    "if not 'grup sanguini' in dades:\n",
    "    dades['grup sanguini'] = 'Sense determinar'\n",
    "\n",
    "print(dades)"
   ]
  },
  {
   "cell_type": "markdown",
   "metadata": {},
   "source": [
    "Aquí estem avaluant tres valors de dues claus diferents del diccionari. En el cas que la ciutat sigui Barcelona, s’afegirà una nova clau-valor (`‘comunitat’: ‘Catalunya’`). A més, també s’avalua si l’edat és menor que 30 i, en el cas que sigui així, el diccionari tindrà una altra parella clau-valor (`‘categoria’: ‘Jove’`). I finalment, si no s'ha afegit prèviament el `grup sanguini` al diccionari, quedarà `sense determinar`. "
   ]
  },
  {
   "cell_type": "markdown",
   "metadata": {},
   "source": [
    "+ **Condicionals consecutius**\n",
    "\n",
    "Podem escriure condicions que s'avaluin després d'una condició prèvia. El més important en aquest cas és ser ordenat amb la identació (tabuladors) per aplicar les funcions de forma correcta. "
   ]
  },
  {
   "cell_type": "code",
   "execution_count": 1,
   "metadata": {},
   "outputs": [
    {
     "name": "stdin",
     "output_type": "stream",
     "text": [
      "Número:  23\n"
     ]
    }
   ],
   "source": [
    "x = int(input(\"Número: \"))"
   ]
  },
  {
   "cell_type": "code",
   "execution_count": 2,
   "metadata": {},
   "outputs": [
    {
     "name": "stdout",
     "output_type": "stream",
     "text": [
      "Número positiu\n"
     ]
    }
   ],
   "source": [
    "if x > 0:\n",
    "    print(\"Número positiu\")\n",
    "else:\n",
    "    if x == 0:\n",
    "        print(\"Igual a 0\")\n",
    "    else:\n",
    "        print(\"Número negatiu\")"
   ]
  },
  {
   "cell_type": "markdown",
   "metadata": {},
   "source": [
    "**Finalment, recorda:**\n",
    "\n",
    "Els condicionals es poden complicar o ser molt més complexos, però l’estructura sempre serà la mateixa. \n",
    "\n",
    "+ La primera condició comença amb un `if` o amb un `if not`.\n",
    "+ Si no es compleix la primera condició, podem fer servir `elif` per a determinar una altra situació (en pots posar tants com necessitis).\n",
    "+ Finalment, escriuràs `else` per tal d’executar aquell codi quan no es compleixi cap de les condicions prèvies (no és sempre necessari).\n",
    "+ Les condicions no van dins de parèntesis.\n",
    "+ Les sentències acaben amb dos punts.\n",
    "+ El codi per executar dins del bloc de la condició ha d’anar indexat una posició cap a la dreta."
   ]
  },
  {
   "cell_type": "markdown",
   "metadata": {
    "tags": []
   },
   "source": [
    "# 3.4 Control flow\n",
    "\n",
    "Com en `C`, `break` trenca el loop més intern on s'executa i finalitzem el bucle. En canvi, `continue` salta la iteració en cas que cumpleixi la condició, i segueix amb la següent del bucle. "
   ]
  },
  {
   "cell_type": "code",
   "execution_count": 3,
   "metadata": {},
   "outputs": [
    {
     "name": "stdout",
     "output_type": "stream",
     "text": [
      "0\n",
      "1\n",
      "2\n",
      "3\n",
      "4\n"
     ]
    }
   ],
   "source": [
    "for i in range(10):   \n",
    "    if i == 5:\n",
    "        break\n",
    "    print(i)"
   ]
  },
  {
   "cell_type": "code",
   "execution_count": 4,
   "metadata": {},
   "outputs": [
    {
     "name": "stdout",
     "output_type": "stream",
     "text": [
      "0\n",
      "1\n",
      "2\n",
      "3\n",
      "4\n",
      "6\n",
      "7\n",
      "8\n",
      "9\n"
     ]
    }
   ],
   "source": [
    "for i in range(10):   \n",
    "    if i == 5:\n",
    "        continue\n",
    "    print(i)"
   ]
  },
  {
   "cell_type": "markdown",
   "metadata": {},
   "source": [
    "## **Exercici 8**\n",
    "\n",
    "Les notes de la Rocio en Bioinformàtica han estat 4, 8, 3.5, 6.1, 3. Calula la mitjana i si és més gran d'un 5, indica que l'alumna ha aprovat o si és menor, indica que ha suspès. "
   ]
  },
  {
   "cell_type": "code",
   "execution_count": 10,
   "metadata": {},
   "outputs": [
    {
     "name": "stdout",
     "output_type": "stream",
     "text": [
      "Has suspés amb un:  4.92\n"
     ]
    }
   ],
   "source": [
    "mitjana = 4 + 8 + 3.5 + 6.1 + 3\n",
    "mitjana /= 5\n",
    "\n",
    "if mitjana >= 5:\n",
    "    print(\"FELICITATS !! Has aprovat amb un: \", mitjana)\n",
    "else:\n",
    "    print(\"Has suspés amb un: \", mitjana)"
   ]
  },
  {
   "cell_type": "markdown",
   "metadata": {},
   "source": [
    "## **Exercici 9**\n",
    "\n",
    "**Crearem un programa que ens guardi les sèries que hem vist i les que tenim pendents.** \n",
    "\n",
    "En primer lloc, preguntarà per pantalla: quina sèrie t'interessa? I permetrà que l'usuari introdueixi el títol de la sèrie (tingueu en compte majúscules i minúscules!)\n",
    "\n",
    "Si la sèrie es troba en una llista de les que ja hem vist, dirà: ja l'has vist! \n",
    "\n",
    "Si la sèrie no es troba a la llista, tornarà a preguntar: Estàs seguint la sèrie?\n",
    "\n",
    "Si la resposta és sí, es guardarà en la llista anterior de sèries vistes, si la resposta és no és guardarà en una nova llista de sèries pendents i sortirà per pantalla: aquestes són les teves sèries pendents. \n",
    "\n",
    "Si la resposta és qualsevol altra, dirà: No t'he entès.. "
   ]
  },
  {
   "cell_type": "code",
   "execution_count": 3,
   "metadata": {},
   "outputs": [],
   "source": [
    "series_vistes = {'Winx', 'Les espies de veritat'}\n",
    "series_pendents = {} #per crear una llistra vuida cal ficar-ho amb [] i dicionaris amb {}"
   ]
  },
  {
   "cell_type": "code",
   "execution_count": 8,
   "metadata": {},
   "outputs": [
    {
     "name": "stdin",
     "output_type": "stream",
     "text": [
      "Quina sèrie t'interessa? Introdueix el títol:  dadas\n",
      "Estàs seguint la sèrie? si/no no\n"
     ]
    },
    {
     "name": "stdout",
     "output_type": "stream",
     "text": [
      "Aquestes són les teves sèries pendents: 'dadas'\n"
     ]
    }
   ],
   "source": [
    "serie = str(input(\"Quina sèrie t'interessa? Introdueix el títol: \"))\n",
    "if serie in series_vistes:\n",
    "    print(f\"Ja has vist la sèrie '{serie}'!\")\n",
    "else:\n",
    "    res = str(input(\"Estàs seguint la sèrie? si/no\"))\n",
    "    if res == 'si':\n",
    "        series_vistes.add(serie)#add i no append per que es uj conjunt, ja te coses\n",
    "        #print(series_vistes)\n",
    "    elif res == 'no':\n",
    "        series_pendents.append(serie)\n",
    "        print(f\"Aquestes són les teves sèries pendents: '{', '.join(series_pendents)}'\")\n",
    "        #He utilitzat .join() per imprimir les sèries pendents com una cadena separada per comes en el cas de múltiples sèries pendents.\n",
    "    else:\n",
    "        print(\"No t'he entès..\")"
   ]
  },
  {
   "cell_type": "code",
   "execution_count": 11,
   "metadata": {},
   "outputs": [
    {
     "name": "stdin",
     "output_type": "stream",
     "text": [
      "Quina sèrie t'interessa? Introdueix el títol:  hjdtgj\n",
      "Estàs seguint la sèrie? si/no  si\n"
     ]
    }
   ],
   "source": [
    "series_vistes = {'Winx', 'Les espies de veritat'}\n",
    "series_pendents = {}\n",
    "\n",
    "serie = input(\"Quina sèrie t'interessa? Introdueix el títol: \")\n",
    "\n",
    "if serie in series_vistes:\n",
    "    print(f\"Ja has vist la sèrie '{serie}'!\")\n",
    "else:\n",
    "    res = input(\"Estàs seguint la sèrie? si/no \")\n",
    "    if res.lower() == 'si':\n",
    "        series_vistes.add(serie)\n",
    "        # print(series_vistes) # Potser vols descomentar aquesta línia per veure la llista actualitzada de series_vistes\n",
    "    elif res.lower() == 'no':\n",
    "        series_pendents[serie] = None\n",
    "        print(f\"Aquestes són les teves sèries pendents: {', '.join(series_pendents.keys())}\")\n",
    "    else:\n",
    "        print(\"No t'he entès..\")\n"
   ]
  },
  {
   "cell_type": "markdown",
   "metadata": {},
   "source": [
    "## **Exercici 10**\n",
    "\n",
    "**Donada la longitud dels tres costats d'un triangle, digues si és equilàter, isòsceles o escalè.**"
   ]
  },
  {
   "cell_type": "code",
   "execution_count": 24,
   "metadata": {},
   "outputs": [
    {
     "name": "stdin",
     "output_type": "stream",
     "text": [
      "Introdueix la longitud del costat 1:  3\n",
      "Introdueix la longitud del costat 2:  3\n",
      "Introdueix la longitud del costat 3:  2\n"
     ]
    },
    {
     "name": "stdout",
     "output_type": "stream",
     "text": [
      "És un triangle isòsceles.\n"
     ]
    }
   ],
   "source": [
    "costat1 = float(input(\"Introdueix la longitud del costat 1: \"))\n",
    "costat2 = float(input(\"Introdueix la longitud del costat 2: \"))\n",
    "costat3 = float(input(\"Introdueix la longitud del costat 3: \"))\n",
    "\n",
    "# Comprova si és un triangle equilàter (tots els costats iguals)\n",
    "if costat1 == costat2 == costat3:\n",
    "    print(\"És un triangle equilàter.\")\n",
    "# Comprova si és un triangle isòsceles (almenys dos costats iguals)\n",
    "elif costat1 == costat2 or costat1 == costat3 or costat2 == costat3:\n",
    "    print(\"És un triangle isòsceles.\")\n",
    "# Si no és equilàter ni isòsceles, ha de ser un triangle escalè (cap costat igual)\n",
    "else:\n",
    "    print(\"És un triangle escalè.\")"
   ]
  }
 ],
 "metadata": {
  "kernelspec": {
   "display_name": "Python 3 (ipykernel)",
   "language": "python",
   "name": "python3"
  },
  "language_info": {
   "codemirror_mode": {
    "name": "ipython",
    "version": 3
   },
   "file_extension": ".py",
   "mimetype": "text/x-python",
   "name": "python",
   "nbconvert_exporter": "python",
   "pygments_lexer": "ipython3",
   "version": "3.10.12"
  }
 },
 "nbformat": 4,
 "nbformat_minor": 4
}
