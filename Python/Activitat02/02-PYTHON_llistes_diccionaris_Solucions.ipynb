{
 "cells": [
  {
   "cell_type": "markdown",
   "metadata": {},
   "source": [
    "# **02. Python: Llistes i Diccionaris**\n",
    "\n",
    "## Solucions dels exercicis "
   ]
  },
  {
   "cell_type": "markdown",
   "metadata": {},
   "source": [
    "#### **ARA PROVA-HO TU**\n",
    "\n",
    "1. Crea una llista que contingui els següents colors: blau, vermell, groc, verd, negre, blanc, lila, taronja\n",
    "\n",
    "**Recorda**: Els strings sempre van entre cometes simples o dobles"
   ]
  },
  {
   "cell_type": "code",
   "execution_count": 2,
   "metadata": {},
   "outputs": [
    {
     "name": "stdout",
     "output_type": "stream",
     "text": [
      "['blau', 'vermell', 'groc', 'verd', 'negre', 'blanc', 'lila', 'taronja']\n"
     ]
    }
   ],
   "source": [
    "colors = [\"blau\", \"vermell\", \"groc\", \"verd\", \"negre\", \"blanc\", \"lila\", \"taronja\"]\n",
    "print(colors)"
   ]
  },
  {
   "cell_type": "markdown",
   "metadata": {},
   "source": [
    "2. Selecciona el color verd\n",
    "\n",
    "**Recorda**: Les llistes en python sempre comencem a comptar des de 0"
   ]
  },
  {
   "cell_type": "code",
   "execution_count": 3,
   "metadata": {},
   "outputs": [
    {
     "ename": "TypeError",
     "evalue": "list indices must be integers or slices, not str",
     "output_type": "error",
     "traceback": [
      "\u001b[1;31m---------------------------------------------------------------------------\u001b[0m",
      "\u001b[1;31mTypeError\u001b[0m                                 Traceback (most recent call last)",
      "Input \u001b[1;32mIn [3]\u001b[0m, in \u001b[0;36m<cell line: 1>\u001b[1;34m()\u001b[0m\n\u001b[1;32m----> 1\u001b[0m verd \u001b[38;5;241m=\u001b[39m \u001b[43mcolors\u001b[49m\u001b[43m[\u001b[49m\u001b[38;5;124;43m\"\u001b[39;49m\u001b[38;5;124;43mverd\u001b[39;49m\u001b[38;5;124;43m\"\u001b[39;49m\u001b[43m]\u001b[49m\n\u001b[0;32m      2\u001b[0m \u001b[38;5;28mprint\u001b[39m(verd)\n",
      "\u001b[1;31mTypeError\u001b[0m: list indices must be integers or slices, not str"
     ]
    }
   ],
   "source": [
    "verd = colors[\"verd\"]\n",
    "print(verd)"
   ]
  },
  {
   "cell_type": "markdown",
   "metadata": {},
   "source": [
    "3. Mostra els colors que es troben en tercera, quarta i cinquena posició"
   ]
  },
  {
   "cell_type": "code",
   "execution_count": 3,
   "metadata": {},
   "outputs": [
    {
     "name": "stdout",
     "output_type": "stream",
     "text": [
      "['groc', 'verd', 'negre']\n"
     ]
    }
   ],
   "source": [
    "seleccio = colors[2:5]\n",
    "print(seleccio)"
   ]
  },
  {
   "cell_type": "markdown",
   "metadata": {},
   "source": [
    "4. Selecciona l'últim color\n",
    "\n",
    "**Recorda**: l'última posició ho podem fer comptant per la dreta o bé per l'esquerra"
   ]
  },
  {
   "cell_type": "code",
   "execution_count": 4,
   "metadata": {},
   "outputs": [
    {
     "name": "stdout",
     "output_type": "stream",
     "text": [
      "taronja taronja\n"
     ]
    }
   ],
   "source": [
    "ultim1 = colors[-1]\n",
    "ultim2 = colors[7]\n",
    "print(ultim1, ultim2)"
   ]
  },
  {
   "cell_type": "markdown",
   "metadata": {},
   "source": [
    "5. Mostra només el vermell, verd i el blanc\n",
    "\n",
    "**Recorda**: [inici:final:salt] i recorda que la posició del final no queda inclosa en la selecció"
   ]
  },
  {
   "cell_type": "code",
   "execution_count": 5,
   "metadata": {},
   "outputs": [
    {
     "name": "stdout",
     "output_type": "stream",
     "text": [
      "['vermell', 'verd', 'blanc']\n"
     ]
    }
   ],
   "source": [
    "seleccio = colors[1:6:2]\n",
    "print(seleccio)"
   ]
  },
  {
   "cell_type": "markdown",
   "metadata": {},
   "source": [
    "#### **ARA PROVA-HO TU**\n",
    "\n",
    "Amb la llista de colors que havíem creat abans:\n",
    "\n",
    "1. Afegeix 3 colors més\n",
    "\n",
    "Ho podem fer de vàries maneres, la més ideal en aquest cas seria `extend` ja que ens permet incorporar els tres colors d'un sol cop. La funció `append` ho hauríem de fer un a un, mentre que `insert` ens permet escollir la posició, però en aquest cas, ens dóna igual. De totes formes, us deixem totes les alternatives "
   ]
  },
  {
   "cell_type": "code",
   "execution_count": 6,
   "metadata": {},
   "outputs": [
    {
     "name": "stdout",
     "output_type": "stream",
     "text": [
      "['blau', 'vermell', 'groc', 'verd', 'negre', 'blanc', 'lila', 'taronja', 'gris', 'marro', 'cyan']\n"
     ]
    }
   ],
   "source": [
    "colors.extend([\"gris\", \"marro\", \"cyan\"])\n",
    "print(colors)"
   ]
  },
  {
   "cell_type": "markdown",
   "metadata": {},
   "source": [
    "2. Elimina el colors `negre`\n",
    "\n",
    "Podem fer-ho amb la funció `pop` seleccionant en aquest cas la posició o bé amb la funció `remove` indicant l'element"
   ]
  },
  {
   "cell_type": "code",
   "execution_count": 7,
   "metadata": {},
   "outputs": [
    {
     "name": "stdout",
     "output_type": "stream",
     "text": [
      "['blau', 'vermell', 'groc', 'verd', 'blanc', 'lila', 'taronja', 'gris', 'marro', 'cyan']\n"
     ]
    }
   ],
   "source": [
    "colors.pop(4)\n",
    "#colors.remove(\"negre\")\n",
    "print(colors)"
   ]
  },
  {
   "cell_type": "markdown",
   "metadata": {},
   "source": [
    "3. Indica la posició del colors `verd`"
   ]
  },
  {
   "cell_type": "code",
   "execution_count": 8,
   "metadata": {},
   "outputs": [
    {
     "name": "stdout",
     "output_type": "stream",
     "text": [
      "3\n"
     ]
    }
   ],
   "source": [
    "print(colors.index(\"verd\"))"
   ]
  },
  {
   "cell_type": "markdown",
   "metadata": {
    "tags": []
   },
   "source": [
    "4. Canvia el color `groc` pel `gris`"
   ]
  },
  {
   "cell_type": "code",
   "execution_count": 9,
   "metadata": {},
   "outputs": [
    {
     "name": "stdout",
     "output_type": "stream",
     "text": [
      "['blau', 'vermell', 'gris', 'verd', 'blanc', 'lila', 'taronja', 'gris', 'marro', 'cyan']\n"
     ]
    }
   ],
   "source": [
    "colors[2] = \"gris\"\n",
    "print(colors)"
   ]
  },
  {
   "cell_type": "markdown",
   "metadata": {
    "tags": []
   },
   "source": [
    "5. Determina si el color `magenta` i el color `blanc` es troben a la teva llista"
   ]
  },
  {
   "cell_type": "code",
   "execution_count": 10,
   "metadata": {},
   "outputs": [
    {
     "name": "stdout",
     "output_type": "stream",
     "text": [
      "False\n",
      "True\n"
     ]
    }
   ],
   "source": [
    "print(\"magenta\" in colors)\n",
    "print(\"blanc\" in colors)"
   ]
  },
  {
   "cell_type": "markdown",
   "metadata": {
    "tags": []
   },
   "source": [
    "6. Crea una nova llista de 2 colors i concatena-la a l'anterior"
   ]
  },
  {
   "cell_type": "code",
   "execution_count": 11,
   "metadata": {},
   "outputs": [
    {
     "name": "stdout",
     "output_type": "stream",
     "text": [
      "['magenta', 'turquesa', 'blau', 'vermell', 'gris', 'verd', 'blanc', 'lila', 'taronja', 'gris', 'marro', 'cyan']\n"
     ]
    }
   ],
   "source": [
    "new_colors = [\"magenta\", \"turquesa\"]\n",
    "all_colors = new_colors + colors\n",
    "print(all_colors)"
   ]
  },
  {
   "cell_type": "markdown",
   "metadata": {
    "tags": []
   },
   "source": [
    "7. Indica quants elements té aquesta nova llista"
   ]
  },
  {
   "cell_type": "code",
   "execution_count": 12,
   "metadata": {},
   "outputs": [
    {
     "data": {
      "text/plain": [
       "12"
      ]
     },
     "execution_count": 12,
     "metadata": {},
     "output_type": "execute_result"
    }
   ],
   "source": [
    "len(all_colors)"
   ]
  },
  {
   "cell_type": "markdown",
   "metadata": {},
   "source": [
    "## **Exercici 4**\n",
    "\n",
    "\n",
    "Busca les paraules de la sopa de lletres. Pista: primer defineix una variable de cada línia horitzontal de la sopa de lletres i després selecciona les lletres que necessites per formar la paraula.\n",
    "\n",
    "<img src=\"https://i.pinimg.com/originals/9e/6d/9c/9e6d9c692398dee013348106e6b8be70.jpg\" \n",
    "alt=\"Sopa de lletres\" width=\"200\" height=\"200\" align=\"left\">"
   ]
  },
  {
   "cell_type": "markdown",
   "metadata": {},
   "source": [
    "Per fer una cerca automàtica que busqui exhaustivament tant en horitzontal, veritcal i diagonal s'escapa una mica al nivell actual, se us ha indicat de sols fer cerca en horitzontal/vertical mitjançant _in_.\n",
    "\n",
    "Primer, cal definir les files i columnes, així com el sentit revers."
   ]
  },
  {
   "cell_type": "code",
   "execution_count": 1,
   "metadata": {},
   "outputs": [],
   "source": [
    "f1='acavdckc'\n",
    "f2='oywlobae'\n",
    "f3='vsmnznkr'\n",
    "f4='aoepipod'\n",
    "f5='pjvlotuo'\n",
    "f6='owlealpe'\n",
    "f7='oaqpjtlw'\n",
    "f8='gjqitaeo'\n",
    "\n",
    "c1='aovapoog'\n",
    "c2='cysojwaj'\n",
    "c3='awmevlqq'\n",
    "c4='vlnplepi'\n",
    "c5='dozioajt'\n",
    "c6='cbnptlta'\n",
    "c7='kakouple'\n",
    "c8='cerdoewo'\n",
    "\n",
    "f1_r=f1[::-1]\n",
    "f2_r=f2[::-1]\n",
    "f3_r=f3[::-1]\n",
    "f4_r=f4[::-1]\n",
    "f5_r=f5[::-1]\n",
    "f6_r=f6[::-1]\n",
    "f7_r=f7[::-1]\n",
    "f8_r=f8[::-1]\n",
    "\n",
    "c1_r=c1[::-1]\n",
    "c2_r=c2[::-1]\n",
    "c3_r=c3[::-1]\n",
    "c4_r=c4[::-1]\n",
    "c5_r=c5[::-1]\n",
    "c6_r=c6[::-1]\n",
    "c7_r=c7[::-1]\n",
    "c8_r=c8[::-1]"
   ]
  },
  {
   "cell_type": "markdown",
   "metadata": {},
   "source": [
    "Per cercar una paraula en concret, podem introduir una nova variable amb _input_."
   ]
  },
  {
   "cell_type": "code",
   "execution_count": 7,
   "metadata": {},
   "outputs": [
    {
     "name": "stdout",
     "output_type": "stream",
     "text": [
      "Entra la nova paraula a cercar: \n",
      "CERDO\n"
     ]
    }
   ],
   "source": [
    "print('Entra la nova paraula a cercar: ')\n",
    "paraula = input().lower()"
   ]
  },
  {
   "cell_type": "markdown",
   "metadata": {},
   "source": [
    "Mitjançant _loops_ es podria iterar al llarg de totes les files i columnes (incloent la seva forma reversa). Aquest tipus de codi el veurem més endavant. De moment podem cercar en una fila o columna en concret:"
   ]
  },
  {
   "cell_type": "code",
   "execution_count": 8,
   "metadata": {
    "scrolled": true
   },
   "outputs": [
    {
     "name": "stdout",
     "output_type": "stream",
     "text": [
      "True\n"
     ]
    }
   ],
   "source": [
    "print(paraula in c8 or paraula in c8_r)"
   ]
  },
  {
   "cell_type": "markdown",
   "metadata": {},
   "source": [
    "## **Exercici 5**\n",
    "\n",
    "Primer de tot, hem de construir el nostre diccionari segons la llista de productes que tenim a\n",
    "la llista. Així que el diccionari s’escriuria així:"
   ]
  },
  {
   "cell_type": "code",
   "execution_count": 1,
   "metadata": {},
   "outputs": [],
   "source": [
    "compra = {'pomes': 3.56, \n",
    "          'mandarines': 4.35, \n",
    "          'sindria': 6.23,\n",
    "          'maduixes': 4.28, \n",
    "          'peres': 2.86, \n",
    "          'taronges': 3.48}"
   ]
  },
  {
   "cell_type": "markdown",
   "metadata": {},
   "source": [
    "Recorda, els diccionaris s’escriuen com una col·lecció de claus-valors i amb `{ }`, a diferència\n",
    "de les llistes que van amb `[ ]`. Les claus sempre són la part de la parella que està a l’esquerra\n",
    "dels `:` i els valors són a la dreta.\n",
    "\n",
    "Aquest diccionari, tal com es mostra, el guardem en una variable anomenada `compra`. En\n",
    "aquest cas, les fruites són `strings` i els valors són `floats`.\n",
    "\n",
    "- Podries calcular la suma de la compra accedint als valors de les claus? Procura posar només dos decimals.\n",
    "\n",
    "L’estratègia a seguir seria passar tots els valors a una llista, després sumar-la"
   ]
  },
  {
   "cell_type": "code",
   "execution_count": 16,
   "metadata": {},
   "outputs": [],
   "source": [
    "valors = list(compra.values())\n",
    "suma = sum(valors)"
   ]
  },
  {
   "cell_type": "markdown",
   "metadata": {},
   "source": [
    "Fixa’t que hem guardat la llista dels valors en una variable que hem anomenat valors.\n",
    "Si imprimim aquesta mitjana, veiem el resultat:"
   ]
  },
  {
   "cell_type": "code",
   "execution_count": 17,
   "metadata": {},
   "outputs": [
    {
     "name": "stdout",
     "output_type": "stream",
     "text": [
      "La suma de la compra és 24.76\n"
     ]
    }
   ],
   "source": [
    "print('La suma de la compra és {:.2f}'.format(suma))"
   ]
  },
  {
   "cell_type": "markdown",
   "metadata": {},
   "source": [
    "- Podries copiar i guardar en una nova variable la llista dels imports sense tenir en compte els dos últims?"
   ]
  },
  {
   "cell_type": "code",
   "execution_count": 18,
   "metadata": {},
   "outputs": [
    {
     "name": "stdout",
     "output_type": "stream",
     "text": [
      "[3.56, 4.35, 6.23, 4.28]\n"
     ]
    }
   ],
   "source": [
    "nou_valors = valors[:-2]\n",
    "print(nou_valors)"
   ]
  },
  {
   "cell_type": "markdown",
   "metadata": {},
   "source": [
    "Recorda que una llista pot generar una còpia seva d’uns determinats índexs, fent ús dels\n",
    "claudàtors [index_inicial: index_final(no inclòs)]. Si l’índex inicial és omès, la posició inicial és\n",
    "0 i, si l’índex final s’omet, es copiaran tots els valors fins a la posició final inclosa.\n",
    "\n",
    "- Podries saber com comprovar si hem comprat llimones?\n",
    "Per fer-ho, recorda que només ens cal mirar si les llimones estan a la llista de les claus del diccionari. El primer pas, doncs, és convertir totes les claus en una llista."
   ]
  },
  {
   "cell_type": "code",
   "execution_count": 19,
   "metadata": {},
   "outputs": [
    {
     "name": "stdout",
     "output_type": "stream",
     "text": [
      "False\n"
     ]
    }
   ],
   "source": [
    "print('llimones' in list(compra.keys()))"
   ]
  },
  {
   "cell_type": "markdown",
   "metadata": {},
   "source": [
    "Fixa’t que aquí hem resolt la qüestió en una sola línia de codi. En els exercicis anteriors,\n",
    "n’havíem necessitat més d’una. Amb Python, les funcions es poden executar una dins d’una\n",
    "altra. A mesura que vagis assolint més experiència, aquesta habilitat et serà molt útil per\n",
    "escriure codi més net i més ràpid.\n",
    "\n",
    "Si vols saber si una fruita que entres per teclat està dins de la llista, el codi només canviaria\n",
    "d’aquesta manera:"
   ]
  },
  {
   "cell_type": "code",
   "execution_count": 20,
   "metadata": {},
   "outputs": [
    {
     "name": "stdout",
     "output_type": "stream",
     "text": [
      "Entra la nova fruita: \n"
     ]
    },
    {
     "name": "stdin",
     "output_type": "stream",
     "text": [
      " raïm\n"
     ]
    },
    {
     "name": "stdout",
     "output_type": "stream",
     "text": [
      "False\n"
     ]
    }
   ],
   "source": [
    "print('Entra la nova fruita: ')\n",
    "fruita = input()\n",
    "print(fruita in list(compra.keys()))"
   ]
  },
  {
   "cell_type": "markdown",
   "metadata": {},
   "source": [
    "En aquest cas, l’intèrpret avaluarà si la dada que conté la variable fruita està dins de la llista.\n",
    "I, com que hem assignat a fruita el valor de l’entrada per teclat, estarem avaluant aquella\n",
    "fruita que nosaltres hem escrit."
   ]
  },
  {
   "cell_type": "markdown",
   "metadata": {},
   "source": [
    "## **Exercici 6**\n",
    "\n",
    "Crea un diccionari amb 6 països com a clau associa la capital com a valor. A continuació, fes els exercicis següents:\n",
    "+ Afegeix dos països més.\n",
    "+ Elimina un país\n",
    "+ Quants elements conté el teu diccionari?\n",
    "+ Mostra la capital d'un dels païssos\n",
    "+ Per a cada element del diccionari, imprimeix el missatge \"La capital de \"país\" és \"capital\". \n",
    "+ Es troba Suïssa en el teu diccionari?\n",
    "+ Crea una variable que contingui un llistat de les capitals i una altra amb un llistat dels països\n"
   ]
  },
  {
   "cell_type": "code",
   "execution_count": 1,
   "metadata": {},
   "outputs": [
    {
     "data": {
      "text/plain": [
       "{'Alemanya': 'Berlín',\n",
       " 'Polonia': 'Varsovia',\n",
       " 'Hungria': 'Budapest',\n",
       " 'Irlanda': 'Dublín',\n",
       " 'Bosnia': 'Sarajevo',\n",
       " 'China': 'Pekín'}"
      ]
     },
     "execution_count": 1,
     "metadata": {},
     "output_type": "execute_result"
    }
   ],
   "source": [
    "capitals = {'Alemanya':\"Berlín\",\n",
    "           'Polonia':'Varsovia',\n",
    "           'Hungria':'Budapest',\n",
    "           'Irlanda':'Dublín',\n",
    "           'Bosnia':'Sarajevo',\n",
    "           'China':'Pekín'}\n",
    "capitals"
   ]
  },
  {
   "cell_type": "code",
   "execution_count": 2,
   "metadata": {},
   "outputs": [
    {
     "data": {
      "text/plain": [
       "{'Alemanya': 'Berlín',\n",
       " 'Polonia': 'Varsovia',\n",
       " 'Hungria': 'Budapest',\n",
       " 'Irlanda': 'Dublín',\n",
       " 'Bosnia': 'Sarajevo',\n",
       " 'China': 'Pekín',\n",
       " 'Argentina': 'Buenos Aires',\n",
       " 'Marroc': 'Rabat'}"
      ]
     },
     "execution_count": 2,
     "metadata": {},
     "output_type": "execute_result"
    }
   ],
   "source": [
    "#Afegeix dos països més\n",
    "capitals[\"Argentina\"] = \"Buenos Aires\"\n",
    "capitals[\"Marroc\"] = \"Rabat\"\n",
    "capitals"
   ]
  },
  {
   "cell_type": "code",
   "execution_count": 3,
   "metadata": {},
   "outputs": [
    {
     "data": {
      "text/plain": [
       "{'Alemanya': 'Berlín',\n",
       " 'Polonia': 'Varsovia',\n",
       " 'Hungria': 'Budapest',\n",
       " 'Irlanda': 'Dublín',\n",
       " 'Bosnia': 'Sarajevo',\n",
       " 'China': 'Pekín',\n",
       " 'Marroc': 'Rabat'}"
      ]
     },
     "execution_count": 3,
     "metadata": {},
     "output_type": "execute_result"
    }
   ],
   "source": [
    "#Elimina un país: es pot fer amb la funció pop amb del\n",
    "capitals.pop(\"Argentina\")\n",
    "capitals"
   ]
  },
  {
   "cell_type": "code",
   "execution_count": 24,
   "metadata": {},
   "outputs": [
    {
     "data": {
      "text/plain": [
       "7"
      ]
     },
     "execution_count": 24,
     "metadata": {},
     "output_type": "execute_result"
    }
   ],
   "source": [
    "#Quants elements conté el teu diccionari?\n",
    "len(capitals)"
   ]
  },
  {
   "cell_type": "code",
   "execution_count": 4,
   "metadata": {},
   "outputs": [
    {
     "name": "stdout",
     "output_type": "stream",
     "text": [
      "Dublín\n",
      "Sarajevo\n"
     ]
    }
   ],
   "source": [
    "#Mostra la capital d'un país del diccionari\n",
    "print(capitals[\"Irlanda\"])\n",
    "print(capitals.get(\"Bosnia\"))"
   ]
  },
  {
   "cell_type": "code",
   "execution_count": 6,
   "metadata": {},
   "outputs": [
    {
     "name": "stdout",
     "output_type": "stream",
     "text": [
      "Alemanya Berlín\n",
      "Polonia Varsovia\n",
      "Hungria Budapest\n",
      "Irlanda Dublín\n",
      "Bosnia Sarajevo\n",
      "China Pekín\n",
      "Marroc Rabat\n"
     ]
    }
   ],
   "source": [
    "#Per a cada element del diccionari, imprimeix el missatge \"La capital de \"país\" és \"capital\"\n",
    "for pais in capitals:\n",
    "    print(pais, capitals[pais])"
   ]
  },
  {
   "cell_type": "code",
   "execution_count": 27,
   "metadata": {},
   "outputs": [
    {
     "data": {
      "text/plain": [
       "False"
      ]
     },
     "execution_count": 27,
     "metadata": {},
     "output_type": "execute_result"
    }
   ],
   "source": [
    "#Es troba Suïssa en el teu diccionari?\n",
    "\"Suissa\" in capitals"
   ]
  },
  {
   "cell_type": "code",
   "execution_count": 28,
   "metadata": {},
   "outputs": [
    {
     "name": "stdout",
     "output_type": "stream",
     "text": [
      "PAISOS: ['Alemanya', 'Polonia', 'Hungria', 'Irlanda', 'Bosnia', 'China', 'Marroc']\n",
      "CIUTATS: ['Berlín', 'Varsovia', 'Budapest', 'Dublín', 'Sarajevo', 'Pekín', 'Rabat']\n"
     ]
    }
   ],
   "source": [
    "#Crea una variable que contingui un llistat de les capitals i una altra amb un llistat dels països\n",
    "paisos = list(capitals.keys())\n",
    "ciutats = list(capitals.values())\n",
    "print(\"PAISOS:\", [pais for pais in paisos])\n",
    "print(\"CIUTATS:\", [ciutat for ciutat in ciutats])"
   ]
  },
  {
   "cell_type": "markdown",
   "metadata": {},
   "source": [
    "## **Exercici 7**\n",
    "\n",
    "Del llistat de noms, selecciona aquells que comencin per M i ordena'ls per ordre alfabètic.\n",
    "\n",
    "Fixeu-vos que l'estrategia que proposem és la següent: \n",
    "\n",
    "Crear una llista buida on s'afegiran aquells noms que cumpleixen la condició, és a dir, que comencen per `M`. Per tant, analitzant cada element de la llista (bucle `for`), mirem si l'string comença amb M, si és així, s'afegeix. Finalment, amb la funció `sort`, s'ordena la nova llista per ordre alfabètic"
   ]
  },
  {
   "cell_type": "code",
   "execution_count": 29,
   "metadata": {},
   "outputs": [
    {
     "name": "stdout",
     "output_type": "stream",
     "text": [
      "['Manolo', 'Margarita', 'María', 'Miriam', 'Mónica']\n"
     ]
    }
   ],
   "source": [
    "noms = [\"María\", \"Pedro\", \"Alfredo\", \"Juan\", \"Mónica\", \"Adrián\", \"Miriam\", \"Manolo\", \"Esther\", \"Margarita\", \"Irene\", \"David\"]\n",
    "\n",
    "start_m = []\n",
    "\n",
    "for name in noms:\n",
    "    if name.startswith(\"M\"): #També pot ser name[0] == \"M\"\n",
    "        start_m.append(name)\n",
    "        \n",
    "start_m.sort()\n",
    "print(start_m)"
   ]
  },
  {
   "cell_type": "code",
   "execution_count": null,
   "metadata": {},
   "outputs": [],
   "source": []
  }
 ],
 "metadata": {
  "kernelspec": {
   "display_name": "Python 3 (ipykernel)",
   "language": "python",
   "name": "python3"
  },
  "language_info": {
   "codemirror_mode": {
    "name": "ipython",
    "version": 3
   },
   "file_extension": ".py",
   "mimetype": "text/x-python",
   "name": "python",
   "nbconvert_exporter": "python",
   "pygments_lexer": "ipython3",
   "version": "3.9.12"
  }
 },
 "nbformat": 4,
 "nbformat_minor": 4
}
