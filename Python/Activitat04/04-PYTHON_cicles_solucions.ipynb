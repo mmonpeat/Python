{
 "cells": [
  {
   "cell_type": "markdown",
   "metadata": {},
   "source": [
    "# **04. Python: Estructura de cicles - Exercicis resolts** "
   ]
  },
  {
   "cell_type": "markdown",
   "metadata": {
    "tags": []
   },
   "source": [
    "### **Exercici 11**\n",
    "\n",
    "Genera una seqüència iterable formada per una llista de 10 números enters majors que 0 i menors que 20. Procura que tots els números d’aquesta llista els entris per teclat. Una vegada tinguis la llista, realitza les accions següents:\n",
    "\n",
    "+ Fes que tots els elements siguin multiplicats per 3, si són menors que 10; i multiplicats per 2, si són majors que 10.\n",
    "+ Imprimeix la llista.\n",
    "+ A continuació, imprimeix només els cinc primers números. Fes ús de l’estructura while.\n",
    "\n",
    "Si vols, i de manera opcional, intenta fer aquest últim pas:\n",
    "\n",
    "Torna a fer les accions anteriors, però en lloc d’introduir els números per teclat, fes-ho important el mòdul random i fent ús de la funció *randint()*."
   ]
  },
  {
   "cell_type": "code",
   "execution_count": 4,
   "metadata": {},
   "outputs": [
    {
     "name": "stdout",
     "output_type": "stream",
     "text": [
      "Introdueix posició 0\n"
     ]
    },
    {
     "name": "stdin",
     "output_type": "stream",
     "text": [
      " 1\n"
     ]
    },
    {
     "name": "stdout",
     "output_type": "stream",
     "text": [
      "Introdueix posició 1\n"
     ]
    },
    {
     "name": "stdin",
     "output_type": "stream",
     "text": [
      " 3\n"
     ]
    },
    {
     "name": "stdout",
     "output_type": "stream",
     "text": [
      "Introdueix posició 2\n"
     ]
    },
    {
     "name": "stdin",
     "output_type": "stream",
     "text": [
      " 5\n"
     ]
    },
    {
     "name": "stdout",
     "output_type": "stream",
     "text": [
      "Introdueix posició 3\n"
     ]
    },
    {
     "name": "stdin",
     "output_type": "stream",
     "text": [
      " 12\n"
     ]
    },
    {
     "name": "stdout",
     "output_type": "stream",
     "text": [
      "Introdueix posició 4\n"
     ]
    },
    {
     "name": "stdin",
     "output_type": "stream",
     "text": [
      " 4\n"
     ]
    },
    {
     "name": "stdout",
     "output_type": "stream",
     "text": [
      "Introdueix posició 5\n"
     ]
    },
    {
     "name": "stdin",
     "output_type": "stream",
     "text": [
      " 18\n"
     ]
    },
    {
     "name": "stdout",
     "output_type": "stream",
     "text": [
      "Introdueix posició 6\n"
     ]
    },
    {
     "name": "stdin",
     "output_type": "stream",
     "text": [
      " 11\n"
     ]
    },
    {
     "name": "stdout",
     "output_type": "stream",
     "text": [
      "Introdueix posició 7\n"
     ]
    },
    {
     "name": "stdin",
     "output_type": "stream",
     "text": [
      " 3\n"
     ]
    },
    {
     "name": "stdout",
     "output_type": "stream",
     "text": [
      "Introdueix posició 8\n"
     ]
    },
    {
     "name": "stdin",
     "output_type": "stream",
     "text": [
      " 15\n"
     ]
    },
    {
     "name": "stdout",
     "output_type": "stream",
     "text": [
      "Introdueix posició 9\n"
     ]
    },
    {
     "name": "stdin",
     "output_type": "stream",
     "text": [
      " 9\n"
     ]
    },
    {
     "name": "stdout",
     "output_type": "stream",
     "text": [
      "La llista de nombres és: [1, 3, 5, 12, 4, 18, 11, 3, 15, 9]\n",
      "La llista de nombres modificada és: [3, 9, 15, 24, 12, 36, 22, 9, 30, 27]\n",
      "3\n",
      "9\n",
      "15\n",
      "24\n",
      "12\n"
     ]
    }
   ],
   "source": [
    "### print('Introdueix 10 numeros:')\n",
    "\n",
    "# Inicialitzem la llist on guardarem els valors que entrem per teclat.\n",
    "nombres = []\n",
    "\n",
    "\n",
    "# Per introduir 10 valors fem un cicle for sobre la seqüència iterable generada per la funció range().\n",
    "for i in range(10):\n",
    "    \n",
    "    # A cada iteració s'executa tot el codi del bloc\n",
    "    print('Introdueix posició', i) \n",
    "    \n",
    "    # Com que la funció input retorna strings cal fer un cast a int.\n",
    "    nombres.append(int(input())) \n",
    "\n",
    "# Mostrem la llista sencera una vegada plena\n",
    "print(f\"La llista de nombres és: {nombres}\" )\n",
    "\n",
    "# Per poder modificar els elements de la llista hi haurem d'accedir per la seva posició. \n",
    "# Fem servir la funció range per iterar sobre les posicions de la llista.\n",
    "\n",
    "for i in range(len(nombres)):\n",
    "    \n",
    "    if nombres[i] > 10:\n",
    "        nombres[i] = nombres[i] * 2\n",
    "\n",
    "    if nombres[i] < 10:\n",
    "        nombres[i] = nombres[i] * 3\n",
    "    \n",
    "    # En aquest cas si el nombre és exactament 10 no fem res.\n",
    "\n",
    "# Mostrem la llista sencera de nou per mostrar que els valors han canviat\n",
    "print(f\"La llista de nombres modificada és: {nombres}\" )\n",
    "\n",
    "# Per imprimir els cinc primers valors amb un cicle while farem servir i com a index de la llista.\n",
    "\n",
    "i = 0 \n",
    "while i < 5: \n",
    "    print(nombres[i]) \n",
    "    i = i + 1"
   ]
  },
  {
   "cell_type": "markdown",
   "metadata": {},
   "source": [
    "Per a generar la llista random fem servir la funció del mòdul `random` `randint()` per substituir l'`input`per teclat. \n",
    "```python\n",
    "random.randint(a, b)\n",
    "```\n"
   ]
  },
  {
   "cell_type": "code",
   "execution_count": 11,
   "metadata": {},
   "outputs": [
    {
     "name": "stdout",
     "output_type": "stream",
     "text": [
      "La llista de nombres és: [9, 9, 3, 4, 6, 4, 5, 17, 6, 12]\n",
      "27\n",
      "27\n",
      "9\n",
      "12\n",
      "18\n"
     ]
    }
   ],
   "source": [
    "import random\n",
    "\n",
    "nombres = []\n",
    "for i in range(10): \n",
    "    nombres.append(random.randint(1,19)) \n",
    "print(f\"La llista de nombres és: {nombres}\" )\n",
    "\n",
    "# La resta és idèntica al què havíem fet abans.\n",
    "for i in range(len(nombres)):\n",
    "    \n",
    "    if nombres[i] > 10:\n",
    "        nombres[i] = nombres[i] * 2\n",
    "\n",
    "    if nombres[i] < 10:\n",
    "        nombres[i] = nombres[i] * 3\n",
    "        \n",
    "i = 0 \n",
    "while i < 5: \n",
    "    print(nombres[i]) \n",
    "    i = i + 1"
   ]
  },
  {
   "cell_type": "markdown",
   "metadata": {},
   "source": [
    "### **Exercici 12**\n",
    "\n",
    "Transformeu el següent bloc de codi en una sola línia:"
   ]
  },
  {
   "cell_type": "code",
   "execution_count": 12,
   "metadata": {},
   "outputs": [
    {
     "name": "stdout",
     "output_type": "stream",
     "text": [
      "[2, 6, 10]\n"
     ]
    }
   ],
   "source": [
    "numbers = [1, 2, 3, 4, 5]\n",
    "doubled_odds = []\n",
    "for n in numbers:\n",
    "    if n % 2 == 1:\n",
    "        doubled_odds.append(n*2)\n",
    "print(doubled_odds)"
   ]
  },
  {
   "cell_type": "markdown",
   "metadata": {},
   "source": [
    "Aplicant la sintaxi de *list comprehension* tenim:"
   ]
  },
  {
   "cell_type": "code",
   "execution_count": 13,
   "metadata": {},
   "outputs": [
    {
     "data": {
      "text/plain": [
       "[2, 6, 10]"
      ]
     },
     "execution_count": 13,
     "metadata": {},
     "output_type": "execute_result"
    }
   ],
   "source": [
    "[ n * 2 for n in range(1, 6) if n % 2 != 0 ]"
   ]
  },
  {
   "cell_type": "markdown",
   "metadata": {},
   "source": [
    "### **Exercici 13**\n",
    "Utilitza la funció range per obtenir les següents seqüències:\n",
    "\n",
    "* [1, 2, 3, 4, 5]\n",
    "* [10, 9, 8, 7, 6, 5, 4, 3, 2, 1, 0]\n",
    "* [50, 60, 70, 80, 90]\n",
    "* [-100, -75, -50, -25, 0, 25, 50, 75, 100]\n",
    "\n",
    "**NOTA**: fent un *cast* al tipus `list` del que retorna la funció `range` podem obtenir-ne tots els elements de la seqüència en una llista\n",
    "```python\n",
    "list(range(10))\n",
    "```\n",
    "    "
   ]
  },
  {
   "cell_type": "markdown",
   "metadata": {},
   "source": [
    "Per a aquest exercici en cal tenir en compte els paràmetres que accepta la funció `range` i que inclou *start* però no *end*.\n",
    "```python\n",
    "range(start, stop, step) \n",
    "```"
   ]
  },
  {
   "cell_type": "code",
   "execution_count": 14,
   "metadata": {},
   "outputs": [
    {
     "data": {
      "text/plain": [
       "[1, 2, 3, 4, 5]"
      ]
     },
     "execution_count": 14,
     "metadata": {},
     "output_type": "execute_result"
    }
   ],
   "source": [
    "list(range(1,6))"
   ]
  },
  {
   "cell_type": "code",
   "execution_count": 15,
   "metadata": {},
   "outputs": [
    {
     "data": {
      "text/plain": [
       "[10, 9, 8, 7, 6, 5, 4, 3, 2, 1, 0]"
      ]
     },
     "execution_count": 15,
     "metadata": {},
     "output_type": "execute_result"
    }
   ],
   "source": [
    "list(range(10, -1, -1))"
   ]
  },
  {
   "cell_type": "code",
   "execution_count": 16,
   "metadata": {},
   "outputs": [
    {
     "data": {
      "text/plain": [
       "[50, 60, 70, 80, 90]"
      ]
     },
     "execution_count": 16,
     "metadata": {},
     "output_type": "execute_result"
    }
   ],
   "source": [
    "list(range(50,100, 10))"
   ]
  },
  {
   "cell_type": "code",
   "execution_count": 19,
   "metadata": {},
   "outputs": [
    {
     "data": {
      "text/plain": [
       "[-100, -75, -50, -25, 0, 25, 50, 75, 100]"
      ]
     },
     "execution_count": 19,
     "metadata": {},
     "output_type": "execute_result"
    }
   ],
   "source": [
    "list(range(-100, 125, 25))"
   ]
  },
  {
   "cell_type": "markdown",
   "metadata": {},
   "source": [
    "### **Exercici 14**\n",
    "Utilitza la sintaxis de *list comprehension* per obtenir:\n",
    "\n",
    "* Tots els nombres del 1 al 100 divisibles per 8\n",
    "* Tots els nombres del 1 al 100 que tenen un 8\n",
    "* Els quadrats de tots els nombres parells de 1 a 100 que tenen un 1\n",
    "* Tots els nombres [quadrats perfectes](https://ca.wikipedia.org/wiki/Quadrat_perfecte) de 0 a 100"
   ]
  },
  {
   "cell_type": "code",
   "execution_count": 20,
   "metadata": {},
   "outputs": [
    {
     "data": {
      "text/plain": [
       "[8, 16, 24, 32, 40, 48, 56, 64, 72, 80, 88, 96]"
      ]
     },
     "execution_count": 20,
     "metadata": {},
     "output_type": "execute_result"
    }
   ],
   "source": [
    "[n for n in range(1, 101) if n % 8 == 0]"
   ]
  },
  {
   "cell_type": "code",
   "execution_count": 2,
   "metadata": {},
   "outputs": [
    {
     "data": {
      "text/plain": [
       "[8, 18, 28, 38, 48, 58, 68, 78, 80, 81, 82, 83, 84, 85, 86, 87, 88, 89, 98]"
      ]
     },
     "execution_count": 2,
     "metadata": {},
     "output_type": "execute_result"
    }
   ],
   "source": [
    "[n for n in range(1, 101) if '8' in str(n)]"
   ]
  },
  {
   "cell_type": "code",
   "execution_count": 6,
   "metadata": {},
   "outputs": [
    {
     "data": {
      "text/plain": [
       "[100, 144, 196, 256, 324, 10000]"
      ]
     },
     "execution_count": 6,
     "metadata": {},
     "output_type": "execute_result"
    }
   ],
   "source": [
    "[n ** 2 for n in range(1, 101) if '1' in str(n) and n % 2 == 0]"
   ]
  },
  {
   "cell_type": "code",
   "execution_count": 24,
   "metadata": {},
   "outputs": [
    {
     "name": "stdout",
     "output_type": "stream",
     "text": [
      "[0, 1, 4, 9, 16, 25, 36, 49, 64, 81, 100]\n"
     ]
    },
    {
     "data": {
      "text/plain": [
       "[0, 1, 4, 9, 16, 25, 36, 49, 64, 81, 100]"
      ]
     },
     "execution_count": 24,
     "metadata": {},
     "output_type": "execute_result"
    }
   ],
   "source": [
    "import math\n",
    "# La funció sqrt del modul math ens permet fer arrels quadrades.\n",
    "# El mètode is_integer que tenen els objectes de tipus float en resulta molt convenient.\n",
    "\n",
    "print([n for n in range(0, 101) if math.sqrt(n).is_integer()])\n",
    "\n",
    "# Tot i que segurament és més senzill fer els quadrats dels nombres i comprovar que siguin menors que 100.\n",
    "[n ** 2 for n in range(0, 101) if n ** 2 <= 100]"
   ]
  },
  {
   "cell_type": "markdown",
   "metadata": {},
   "source": [
    "### **Exercici 15**\n",
    "Genera un password random que compleixi les següents condicions:\n",
    "* Que tingui 10 caràcters.\n",
    "* Almenys dues majúscules.\n",
    "* Almenys dos dígits.\n",
    "* Almenys un caràcter especial.\n",
    "\n",
    "**NOTA**: Et mòdul `string` pot ser útil en casos com aquest."
   ]
  },
  {
   "cell_type": "code",
   "execution_count": 44,
   "metadata": {},
   "outputs": [
    {
     "name": "stdout",
     "output_type": "stream",
     "text": [
      "Selecció de 3 elements a l'atzar de l'string 1234567890: ['3', '2', '2']\n",
      "['o', 's', 's', 'x', 'o', 'R', 'F', '6', '7', '$']\n"
     ]
    },
    {
     "data": {
      "text/plain": [
       "'oo$6sF7Rsx'"
      ]
     },
     "execution_count": 44,
     "metadata": {},
     "output_type": "execute_result"
    }
   ],
   "source": [
    "import random\n",
    "import string\n",
    "\n",
    "# Tot i que podem generar-nos fàcilment les llistes que ens convinguin el modul string ja ens ho ofereix \n",
    "minuscules = \"abcdefghijklmnopqrstuvwxyz\"\n",
    "majuscules = \"ABCDEFGHIJKLMMOPQRSTUVWXYZ\"\n",
    "digits = \"1234567890\"\n",
    "# Per fer servir el símbol \" sense que python interpreti que s'ha acabat l'string cal posar abans scape character \"\\\"\n",
    "simbols = \"!\\\"·$%&/()=?¿|@#\"\n",
    "\n",
    "# La funció random.choices ens permet escollir n elements a l'atzar d'entre una seqüencia (com un string o una llista) \n",
    "n = 3\n",
    "print(f\"Selecció de {n} elements a l'atzar de l'string {digits}: {random.choices(digits, k=3)}\")\n",
    "\n",
    "\n",
    "# Seleccionem cinc minúscules, dues majúscules, dos dígits i un símbol.\n",
    "pwd = random.choices(string.ascii_lowercase, k=5)\n",
    "pwd += random.choices(string.ascii_uppercase, k=2)\n",
    "pwd += random.choices(string.digits, k=2)\n",
    "pwd += random.choices(string.punctuation, k=1)\n",
    "\n",
    "# Ja tenim els caràcters del password en una llista. \n",
    "print(pwd)\n",
    "\n",
    "# En barregem els elements abans de tornar-los a ajuntar en un string amb la funció join\n",
    "random.shuffle(pwd)\n",
    "\n",
    "\"\".join(pwd)"
   ]
  },
  {
   "cell_type": "markdown",
   "metadata": {},
   "source": [
    "En l'exemple anterior hem fixat nosaltres quants elements de cada tipus de caràcter teníem, de manera que tots els passwords tindran dos caràcters en majúscules.També podem fer aquesta tria una mica més aleatòria. Només cal tenir en compte de deixar prou posicions per als caràcters que ens falta assignar."
   ]
  },
  {
   "cell_type": "code",
   "execution_count": 63,
   "metadata": {},
   "outputs": [
    {
     "name": "stdout",
     "output_type": "stream",
     "text": [
      "Lower case:\t0\n",
      "Upper case:\t7\n",
      "Digits: \t2\n",
      "Special chars:\t1\n"
     ]
    },
    {
     "data": {
      "text/plain": [
       "'GM1G7ZVKU{'"
      ]
     },
     "execution_count": 63,
     "metadata": {},
     "output_type": "execute_result"
    }
   ],
   "source": [
    "size = 10\n",
    "\n",
    "min_upper = 2\n",
    "min_digits = 2\n",
    "min_special = 1\n",
    "\n",
    "n_upper = random.randint(min_upper, size - min_digits - min_special)\n",
    "n_digits = random.randint(min_digits, size - min_special - n_upper)\n",
    "n_special = random.randint(min_special, size - n_digits - n_upper)\n",
    "n_lower = size - n_upper - n_digits - n_special \n",
    "\n",
    "print(f\"Lower case:\\t{n_lower}\\nUpper case:\\t{n_upper}\\nDigits: \\t{n_digits}\\nSpecial chars:\\t{n_special}\")\n",
    "\n",
    "pwd = random.choices(string.ascii_lowercase, k=n_lower)\n",
    "pwd += random.choices(string.ascii_uppercase, k=n_upper)\n",
    "pwd += random.choices(string.digits, k=n_digits)\n",
    "pwd += random.choices(string.punctuation, k=n_special)\n",
    "\n",
    "random.shuffle(pwd)\n",
    "\"\".join(pwd)"
   ]
  },
  {
   "cell_type": "markdown",
   "metadata": {},
   "source": [
    "Quan estem escrivint codi, sovint pot ser convenient que els nombres random siguin sempre els mateixos per poder fer provar i corregir el codi.\n",
    "La funció `random.seed()` permet fixar la llavor que utilitza per a generar nombres aleatoris (normalment fa servir el *current system time*). Això si, recordeu revertir-ho després de fer les proves. Executeu la cel·la següent diverses vegades per veure'n el funcionament."
   ]
  },
  {
   "cell_type": "code",
   "execution_count": 66,
   "metadata": {},
   "outputs": [
    {
     "name": "stdout",
     "output_type": "stream",
     "text": [
      "['v', 't', 'k']\n",
      "['c', 'a', 'j']\n"
     ]
    }
   ],
   "source": [
    "random.seed(0)\n",
    "print(random.choices(string.ascii_lowercase, k=3))\n",
    "random.seed()\n",
    "print(random.choices(string.ascii_lowercase, k=3))"
   ]
  }
 ],
 "metadata": {
  "kernelspec": {
   "display_name": "Python 3",
   "language": "python",
   "name": "python3"
  },
  "language_info": {
   "codemirror_mode": {
    "name": "ipython",
    "version": 3
   },
   "file_extension": ".py",
   "mimetype": "text/x-python",
   "name": "python",
   "nbconvert_exporter": "python",
   "pygments_lexer": "ipython3",
   "version": "3.6.10"
  }
 },
 "nbformat": 4,
 "nbformat_minor": 4
}
