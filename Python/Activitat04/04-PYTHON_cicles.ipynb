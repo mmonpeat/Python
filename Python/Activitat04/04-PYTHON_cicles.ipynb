{
 "cells": [
  {
   "cell_type": "markdown",
   "metadata": {
    "slideshow": {
     "slide_type": "slide"
    }
   },
   "source": [
    "# **04. Python: Estructura de cicles**\n",
    "\n",
    "Els cicles són estructures que ens permeten repetir els algoritmes tantes vegades com s’especifiqui en la condició marcada, o fins que una condició determinada deixi de ser vàlida. En python principalment tenim dos cicles: els `for` i els `while`."
   ]
  },
  {
   "cell_type": "markdown",
   "metadata": {
    "slideshow": {
     "slide_type": "subslide"
    }
   },
   "source": [
    "# 4.1 For loops\n",
    "\n",
    "Els cicles `for` tenen iteren sobre una **seqüència** i tenen aquesta estructura bàsica:\n",
    "\n",
    "```python\n",
    "for element in sequence:\n",
    "    print(element)\n",
    "```\n",
    "\n",
    "Les estructures de tipus seqǜencia més habituals són: `list`, `dictionary`, `tuple`, `set` i `string`, "
   ]
  },
  {
   "cell_type": "code",
   "execution_count": 1,
   "metadata": {
    "scrolled": true,
    "slideshow": {
     "slide_type": "subslide"
    }
   },
   "outputs": [
    {
     "name": "stdout",
     "output_type": "stream",
     "text": [
      "A\n",
      "B\n",
      "C\n"
     ]
    }
   ],
   "source": [
    "# Llista\n",
    "for element in [\"A\", \"B\", \"C\"]:\n",
    "    print(element)"
   ]
  },
  {
   "cell_type": "code",
   "execution_count": 2,
   "metadata": {
    "scrolled": true
   },
   "outputs": [
    {
     "name": "stdout",
     "output_type": "stream",
     "text": [
      "A\n",
      "B\n",
      "C\n"
     ]
    }
   ],
   "source": [
    "# Diccionari\n",
    "for element in {\"A\":'a', \"B\":'be', \"C\":'ce'}:\n",
    "    print(element)"
   ]
  },
  {
   "cell_type": "code",
   "execution_count": 3,
   "metadata": {
    "scrolled": true
   },
   "outputs": [
    {
     "name": "stdout",
     "output_type": "stream",
     "text": [
      "B\n",
      "A\n",
      "C\n"
     ]
    }
   ],
   "source": [
    "# Sets\n",
    "for element in set([\"A\", \"B\", \"C\"]):\n",
    "    print(element)"
   ]
  },
  {
   "cell_type": "markdown",
   "metadata": {},
   "source": [
    "> <img src=\"https://icon-library.com/images/tip-icon/tip-icon-23.jpg\" alt=\"tip\" width=\"50\"/>Recordeu que ni els **sets** ni **diccionaris** són seqüències **ordenades**. Les **llistes** i **tuples** sí que ho són."
   ]
  },
  {
   "cell_type": "code",
   "execution_count": 4,
   "metadata": {
    "scrolled": true,
    "slideshow": {
     "slide_type": "-"
    }
   },
   "outputs": [
    {
     "name": "stdout",
     "output_type": "stream",
     "text": [
      "A\n",
      "B\n",
      "C\n"
     ]
    }
   ],
   "source": [
    "# String\n",
    "for element in \"ABC\":\n",
    "    print(element)"
   ]
  },
  {
   "cell_type": "markdown",
   "metadata": {
    "slideshow": {
     "slide_type": "subslide"
    }
   },
   "source": [
    "La funció `range()` retorna una seqüencia de tipus `range` que ens permet iterar sobre una seqüència d'enters. \n",
    "```python\n",
    "range(start, stop, step) \n",
    "```"
   ]
  },
  {
   "cell_type": "code",
   "execution_count": 5,
   "metadata": {},
   "outputs": [
    {
     "name": "stdout",
     "output_type": "stream",
     "text": [
      "0\n",
      "1\n",
      "2\n",
      "3\n",
      "4\n",
      "5\n",
      "6\n",
      "7\n",
      "8\n",
      "9\n"
     ]
    }
   ],
   "source": [
    "for i in range(10):\n",
    "    print(i)"
   ]
  },
  {
   "cell_type": "code",
   "execution_count": 6,
   "metadata": {},
   "outputs": [
    {
     "name": "stdout",
     "output_type": "stream",
     "text": [
      "0\n",
      "2\n",
      "4\n",
      "6\n",
      "8\n"
     ]
    }
   ],
   "source": [
    "for i in range(0, 10, 2):\n",
    "    print(i)"
   ]
  },
  {
   "cell_type": "code",
   "execution_count": 7,
   "metadata": {},
   "outputs": [
    {
     "name": "stdout",
     "output_type": "stream",
     "text": [
      "20\n",
      "19\n",
      "18\n",
      "17\n",
      "16\n",
      "15\n",
      "14\n",
      "13\n",
      "12\n",
      "11\n"
     ]
    }
   ],
   "source": [
    "for i in range(20, 10, -1):\n",
    "    print(i)"
   ]
  },
  {
   "cell_type": "markdown",
   "metadata": {
    "slideshow": {
     "slide_type": "subslide"
    }
   },
   "source": [
    "> <img src=\"https://icon-library.com/images/tip-icon/tip-icon-23.jpg\" alt=\"tip\" width=\"50\"/>Podem utilitzar un `for`sobre qualsevol classe o tipus de dada que estigui definida com a `iterable`."
   ]
  },
  {
   "cell_type": "code",
   "execution_count": 8,
   "metadata": {},
   "outputs": [
    {
     "ename": "TypeError",
     "evalue": "'float' object is not iterable",
     "output_type": "error",
     "traceback": [
      "\u001b[1;31m---------------------------------------------------------------------------\u001b[0m",
      "\u001b[1;31mTypeError\u001b[0m                                 Traceback (most recent call last)",
      "Cell \u001b[1;32mIn[8], line 1\u001b[0m\n\u001b[1;32m----> 1\u001b[0m \u001b[38;5;28;01mfor\u001b[39;00m element \u001b[38;5;129;01min\u001b[39;00m \u001b[38;5;241m2.3\u001b[39m:\n\u001b[0;32m      2\u001b[0m     \u001b[38;5;28mprint\u001b[39m(element)\n",
      "\u001b[1;31mTypeError\u001b[0m: 'float' object is not iterable"
     ]
    }
   ],
   "source": [
    "for element in 2.3:\n",
    "    print(element)"
   ]
  },
  {
   "cell_type": "markdown",
   "metadata": {
    "slideshow": {
     "slide_type": "subslide"
    }
   },
   "source": [
    "Podem complicar més el contingut del cicle."
   ]
  },
  {
   "cell_type": "code",
   "execution_count": 9,
   "metadata": {},
   "outputs": [
    {
     "name": "stdout",
     "output_type": "stream",
     "text": [
      "major10:  [12, 24, 13, 11]\n",
      "menor10:  [5, 8, 4, 6]\n"
     ]
    }
   ],
   "source": [
    "\"\"\" Aquest exemple ens mostra com podem afegir, de la llista numeros, \n",
    "els valors més grans que 10 en una nova llista anomenada major10 i,  \n",
    "els valors més petits que 10 en una altra llista anomenada menor10.\n",
    "\"\"\"\n",
    "\n",
    "numeros = [5,8,12,24,13,4,6,11] \n",
    "major10 = [] \n",
    "menor10 = [] \n",
    "\n",
    "for num in numeros: \n",
    "    if num > 10: \n",
    "        major10.append(num) \n",
    "    else: \n",
    "        menor10.append(num) \n",
    "           \n",
    "print('major10: ', major10) \n",
    "print('menor10: ', menor10)"
   ]
  },
  {
   "cell_type": "markdown",
   "metadata": {
    "slideshow": {
     "slide_type": "subslide"
    }
   },
   "source": [
    "I imbricar cicles (*nested loops*). El cicle més intern s'executarà sencer per a cada una de les iteracios del cicle extern."
   ]
  },
  {
   "cell_type": "code",
   "execution_count": 10,
   "metadata": {},
   "outputs": [
    {
     "name": "stdout",
     "output_type": "stream",
     "text": [
      "A 1\n",
      "A 2\n",
      "A 3\n",
      "B 1\n",
      "B 2\n",
      "B 3\n",
      "C 1\n",
      "C 2\n",
      "C 3\n"
     ]
    }
   ],
   "source": [
    "for element1 in \"ABC\":\n",
    "    for element2 in \"123\":\n",
    "        print(element1, element2)"
   ]
  },
  {
   "cell_type": "markdown",
   "metadata": {
    "slideshow": {
     "slide_type": "subslide"
    }
   },
   "source": [
    "# 4.2 While loops\n",
    "Els cicles `while` executen una sèrie d'instruccions mentre una condició sigui certa.\n",
    "```python\n",
    "while condition:\n",
    "    statements\n",
    "```"
   ]
  },
  {
   "cell_type": "markdown",
   "metadata": {},
   "source": [
    "> <img src=\"https://icon-library.com/images/tip-icon/tip-icon-23.jpg\" alt=\"tip\" width=\"50\"/>Cal sempre modificar les variables que evalua la condició inicial dins el cicle per evitar que s'executi infinitament."
   ]
  },
  {
   "cell_type": "code",
   "execution_count": 11,
   "metadata": {
    "slideshow": {
     "slide_type": "subslide"
    }
   },
   "outputs": [
    {
     "name": "stdout",
     "output_type": "stream",
     "text": [
      "5\n",
      "6\n",
      "7\n",
      "8\n",
      "9\n"
     ]
    }
   ],
   "source": [
    "n = 5 \n",
    "while n < 10: \n",
    "    print(n) \n",
    "    n = n + 1"
   ]
  },
  {
   "cell_type": "markdown",
   "metadata": {
    "slideshow": {
     "slide_type": "-"
    }
   },
   "source": [
    "> <img src=\"https://icon-library.com/images/tip-icon/tip-icon-23.jpg\" alt=\"tip\" width=\"50\"/>Tot i que dins del cicle la condició inicial deixi de ser certa, el bloc de codi s'executa sencer."
   ]
  },
  {
   "cell_type": "markdown",
   "metadata": {
    "slideshow": {
     "slide_type": "subslide"
    }
   },
   "source": [
    "Amb els cicles `while`, podem afegir codis tan complexos com calgui. Fixa’t en aquest exemple:"
   ]
  },
  {
   "cell_type": "code",
   "execution_count": 13,
   "metadata": {},
   "outputs": [
    {
     "name": "stdout",
     "output_type": "stream",
     "text": [
      "Hem trobat la Silvia en la posició 4 !\n"
     ]
    }
   ],
   "source": [
    "noms = ['Joan', 'Maria', 'Enric', 'Silvia', 'Aleix'] \n",
    "\n",
    "i = 0 #variable de les posicions\n",
    "\n",
    "# Aquí anirem repetint el codi fins que trobem el nom Sílvia.\n",
    "# L’operador comparatiu != significa NO IGUAL.\n",
    "# Recorda que l’operador comparatiu == significa IGUAL.\n",
    "            \n",
    "while noms[i] != 'Silvia': \n",
    "                                          \n",
    "    i = i + 1 # Anem sumant una posicio més a la llista\n",
    "    \n",
    "# Quan completa el bloc, és quan troba el nom de Silvia, \n",
    "# llavors s'executarà aquest tros de codi.\n",
    "trobat = True \n",
    "print(f\"Hem trobat la Silvia en la posició {i+1} !\")"
   ]
  },
  {
   "cell_type": "markdown",
   "metadata": {},
   "source": [
    "En resum:\n",
    "+ Les estructures `for` recorren una **seqüència iterable**\n",
    "+ Les estructures `while` s’executen mentre una **condició** sigui certa"
   ]
  },
  {
   "cell_type": "markdown",
   "metadata": {
    "slideshow": {
     "slide_type": "subslide"
    }
   },
   "source": [
    "# 4.3 Control flow\n",
    "\n",
    "Les instrucció `break` trenca el loop i finalitza el cicle. En canvi, `continue` salta a la iteració següent del cicle."
   ]
  },
  {
   "cell_type": "code",
   "execution_count": 14,
   "metadata": {},
   "outputs": [
    {
     "name": "stdout",
     "output_type": "stream",
     "text": [
      "10\n"
     ]
    }
   ],
   "source": [
    "for i in range(100):\n",
    "    if i == 10:\n",
    "        break\n",
    "print(i)"
   ]
  },
  {
   "cell_type": "code",
   "execution_count": 15,
   "metadata": {},
   "outputs": [
    {
     "name": "stdout",
     "output_type": "stream",
     "text": [
      "10\n",
      "99\n"
     ]
    }
   ],
   "source": [
    "for i in range(100):\n",
    "    \n",
    "    if i != 10:\n",
    "        continue\n",
    "        \n",
    "    print(i)\n",
    "    \n",
    "print(i)"
   ]
  },
  {
   "cell_type": "markdown",
   "metadata": {
    "slideshow": {
     "slide_type": "subslide"
    }
   },
   "source": [
    "# 4.4 List comprehension\n",
    "\n",
    "Python ofereix una sintaxi més concisa quan volem crear una llista de nou.\n",
    "```python\n",
    "\n",
    "newlist = [ expression for element in iterable if condition ]\n",
    "\n",
    "```\n"
   ]
  },
  {
   "cell_type": "markdown",
   "metadata": {},
   "source": [
    "Per exemple, si volem seleccionar els noms que tenen la lletra 'a' d'una llista de noms ho podem fer:"
   ]
  },
  {
   "cell_type": "code",
   "execution_count": 16,
   "metadata": {},
   "outputs": [
    {
     "data": {
      "text/plain": [
       "['Joan', 'Anna', 'Maria']"
      ]
     },
     "execution_count": 16,
     "metadata": {},
     "output_type": "execute_result"
    }
   ],
   "source": [
    "noms = [\"Joan\", \"Anna\", \"Quim\", \"Montse\", \"Oriol\", \n",
    "        \"Lluís\", \"Maria\", \"Agnès\"]\n",
    "\n",
    "noms_amb_a = []\n",
    "for nom in noms:\n",
    "    if \"a\" in nom:\n",
    "        noms_amb_a.append(nom)\n",
    "noms_amb_a"
   ]
  },
  {
   "cell_type": "markdown",
   "metadata": {
    "slideshow": {
     "slide_type": "subslide"
    }
   },
   "source": [
    "O podem fer servir la sintaxi *list comprehension*"
   ]
  },
  {
   "cell_type": "code",
   "execution_count": 17,
   "metadata": {},
   "outputs": [
    {
     "data": {
      "text/plain": [
       "['Joan', 'Anna', 'Maria']"
      ]
     },
     "execution_count": 17,
     "metadata": {},
     "output_type": "execute_result"
    }
   ],
   "source": [
    "noms = [\"Joan\", \"Anna\", \"Quim\", \"Montse\", \"Oriol\",\n",
    "        \"Lluís\", \"Maria\", \"Agnès\"]\n",
    "\n",
    "[nom for nom in noms if \"a\" in nom]"
   ]
  },
  {
   "cell_type": "markdown",
   "metadata": {
    "slideshow": {
     "slide_type": "-"
    }
   },
   "source": [
    "Ep !, que ens deixem l'Agnès"
   ]
  },
  {
   "cell_type": "code",
   "execution_count": 18,
   "metadata": {},
   "outputs": [
    {
     "data": {
      "text/plain": [
       "['Joan', 'Anna', 'Maria', 'Agnès']"
      ]
     },
     "execution_count": 18,
     "metadata": {},
     "output_type": "execute_result"
    }
   ],
   "source": [
    "noms = [\"Joan\", \"Anna\", \"Quim\", \"Montse\", \"Oriol\", \n",
    "        \"Lluís\", \"Maria\", \"Agnès\"]\n",
    "\n",
    "[nom for nom in noms if \"a\" in nom.lower()]"
   ]
  },
  {
   "cell_type": "markdown",
   "metadata": {},
   "source": [
    "Ara els volem en majúscula"
   ]
  },
  {
   "cell_type": "code",
   "execution_count": 19,
   "metadata": {},
   "outputs": [
    {
     "data": {
      "text/plain": [
       "['JOAN', 'ANNA', 'MARIA', 'AGNÈS']"
      ]
     },
     "execution_count": 19,
     "metadata": {},
     "output_type": "execute_result"
    }
   ],
   "source": [
    "noms = [\"Joan\", \"Anna\", \"Quim\", \"Montse\", \"Oriol\", \n",
    "        \"Lluís\", \"Maria\", \"Agnès\"]\n",
    "\n",
    "[nom.upper() for nom in noms if \"a\" in nom.lower()]"
   ]
  },
  {
   "cell_type": "markdown",
   "metadata": {
    "slideshow": {
     "slide_type": "subslide"
    }
   },
   "source": [
    "Una sintaxi molt similar es pot fer servir per construir **diccionaris**\n",
    "```python\n",
    "\n",
    "dict = {key: value for vars in iterable}\n",
    "\n",
    "```\n",
    "Ara volem obtenir un diccionari amb la llongitud dels noms que tenen una 'a':"
   ]
  },
  {
   "cell_type": "code",
   "execution_count": 20,
   "metadata": {},
   "outputs": [
    {
     "data": {
      "text/plain": [
       "{'Joan': 4, 'Anna': 4, 'Maria': 5, 'Agnès': 5}"
      ]
     },
     "execution_count": 20,
     "metadata": {},
     "output_type": "execute_result"
    }
   ],
   "source": [
    "noms = [\"Joan\", \"Anna\", \"Quim\", \"Montse\", \"Oriol\", \"Lluís\", \"Maria\", \"Agnès\"]\n",
    "{nom: len(nom) for nom in noms if \"a\" in nom.lower()}"
   ]
  },
  {
   "cell_type": "markdown",
   "metadata": {
    "slideshow": {
     "slide_type": "subslide"
    }
   },
   "source": [
    "# 4.5 El mòdul random\n",
    "Python té una llibreria `random` per generar nombres aleatòris.\n"
   ]
  },
  {
   "cell_type": "code",
   "execution_count": 22,
   "metadata": {},
   "outputs": [
    {
     "name": "stdout",
     "output_type": "stream",
     "text": [
      "Visca!!, hem trobat el 5 en el cicle 38\n"
     ]
    }
   ],
   "source": [
    "import random  #El mòdul random genera números a l'atzar\n",
    "n = 0 \n",
    "cicles = 0 \n",
    "\n",
    "while n != 5: \n",
    "    \n",
    "    #funcio randint del mòdul random, per generar números a l'atzar\n",
    "    n = random.randint(0,100) \n",
    "    \n",
    "    cicles = cicles + 1 \n",
    "\n",
    "print('Visca!!, hem trobat el 5 en el cicle', cicles)"
   ]
  },
  {
   "cell_type": "code",
   "execution_count": 23,
   "metadata": {},
   "outputs": [
    {
     "data": {
      "text/plain": [
       "[16, 13, 10, 21, 29, 15, 1, 14, 23, 17]"
      ]
     },
     "execution_count": 23,
     "metadata": {},
     "output_type": "execute_result"
    }
   ],
   "source": [
    "import random\n",
    "llista = random.sample(range(30),10) #Generem una mostra de 10 valors en un rang de 0-30\n",
    "llista"
   ]
  },
  {
   "cell_type": "code",
   "execution_count": 24,
   "metadata": {},
   "outputs": [
    {
     "name": "stdout",
     "output_type": "stream",
     "text": [
      "Help on method sample in module random:\n",
      "\n",
      "sample(population, k, *, counts=None) method of random.Random instance\n",
      "    Chooses k unique random elements from a population sequence or set.\n",
      "    \n",
      "    Returns a new list containing elements from the population while\n",
      "    leaving the original population unchanged.  The resulting list is\n",
      "    in selection order so that all sub-slices will also be valid random\n",
      "    samples.  This allows raffle winners (the sample) to be partitioned\n",
      "    into grand prize and second place winners (the subslices).\n",
      "    \n",
      "    Members of the population need not be hashable or unique.  If the\n",
      "    population contains repeats, then each occurrence is a possible\n",
      "    selection in the sample.\n",
      "    \n",
      "    Repeated elements can be specified one at a time or with the optional\n",
      "    counts parameter.  For example:\n",
      "    \n",
      "        sample(['red', 'blue'], counts=[4, 2], k=5)\n",
      "    \n",
      "    is equivalent to:\n",
      "    \n",
      "        sample(['red', 'red', 'red', 'red', 'blue', 'blue'], k=5)\n",
      "    \n",
      "    To choose a sample from a range of integers, use range() for the\n",
      "    population argument.  This is especially fast and space efficient\n",
      "    for sampling from a large population:\n",
      "    \n",
      "        sample(range(10000000), 60)\n",
      "\n"
     ]
    }
   ],
   "source": [
    "help(random.sample)"
   ]
  },
  {
   "cell_type": "markdown",
   "metadata": {
    "slideshow": {
     "slide_type": "subslide"
    }
   },
   "source": [
    "### **Exercici 11**\n",
    "\n",
    "Genera una seqüència iterable formada per una llista de 10 números a l'atzar enters majors que 0 i menors que 20. Una vegada tinguis la llista, realitza les accions següents:\n",
    "\n",
    "+ Fes que tots els elements siguin multiplicats per 3, si són menors que 10; i multiplicats per 2, si són majors que 10.\n",
    "+ Imprimeix la llista.\n",
    "+ A continuació, imprimeix només els cinc primers números. Fes ús de l’estructura while.\n"
   ]
  },
  {
   "cell_type": "code",
   "execution_count": 35,
   "metadata": {},
   "outputs": [
    {
     "name": "stdout",
     "output_type": "stream",
     "text": [
      "Llista original: [15, 2, 6, 9, 11, 0, 12, 4, 19, 16]\n",
      "Llista modificada: [30, 6, 18, 27, 22, 0, 24, 12, 38, 32]\n",
      "30\n",
      "6\n",
      "18\n",
      "27\n",
      "22\n"
     ]
    }
   ],
   "source": [
    "import random\n",
    "llista = random.sample(range(20),10) #Generem una mostra de 10 valors en un rang de 0-20\n",
    "print(\"Llista original:\", llista)\n",
    "for i in range(len(llista)):\n",
    "    if (llista[i] <= 10):\n",
    "        llista[i] *= 3\n",
    "    else:\n",
    "        llista[i] *= 2\n",
    "print(\"Llista modificada:\", llista)\n",
    "i = 0;\n",
    "while (i < 5):\n",
    "    print(llista[i])\n",
    "    i += 1"
   ]
  },
  {
   "cell_type": "markdown",
   "metadata": {
    "slideshow": {
     "slide_type": "subslide"
    }
   },
   "source": [
    "### **Exercici 12**\n",
    "\n",
    "Transformeu el següent bloc de codi en una sola línia:"
   ]
  },
  {
   "cell_type": "code",
   "execution_count": 36,
   "metadata": {},
   "outputs": [
    {
     "name": "stdout",
     "output_type": "stream",
     "text": [
      "[2, 6, 10]\n"
     ]
    }
   ],
   "source": [
    "numbers = [1, 2, 3, 4, 5]\n",
    "doubled_odds = []\n",
    "for n in numbers:\n",
    "    if n % 2 == 1:\n",
    "        doubled_odds.append(n*2)\n",
    "print(doubled_odds)"
   ]
  },
  {
   "cell_type": "code",
   "execution_count": 39,
   "metadata": {},
   "outputs": [
    {
     "name": "stdout",
     "output_type": "stream",
     "text": [
      "[2, 6, 10]\n"
     ]
    }
   ],
   "source": [
    "numbers = [1, 2, 3, 4, 5]\n",
    "doubled_odds = [n * 2 for n in numbers if n % 2 == 1]\n",
    "print(doubled_odds)"
   ]
  },
  {
   "cell_type": "markdown",
   "metadata": {
    "slideshow": {
     "slide_type": "subslide"
    }
   },
   "source": [
    "### **Exercici 13**\n",
    "Utilitza la funció range per obtenir les següents seqüències:\n",
    "\n",
    "* [1, 2, 3, 4, 5]\n",
    "* [10, 9, 8, 7, 6, 5, 4, 3, 2, 1, 0]\n",
    "* [50, 60, 70, 80, 90]\n",
    "* [-100, -75, -50, -25, 0, 25, 50, 75, 100]\n",
    "\n",
    "**NOTA**: fent un *cast* al tipus `list` del que retorna la funció `range` podem obtenir-ne tots els elements de la seqüència en una llista\n",
    "```python\n",
    "list(range(10))\n",
    "```\n",
    "    "
   ]
  },
  {
   "cell_type": "code",
   "execution_count": 40,
   "metadata": {},
   "outputs": [
    {
     "name": "stdout",
     "output_type": "stream",
     "text": [
      "[1, 2, 3, 4, 5]\n",
      "[10, 9, 8, 7, 6, 5, 4, 3, 2, 1, 0]\n",
      "[50, 60, 70, 80, 90]\n",
      "[-100, -75, -50, -25, 0, 25, 50, 75, 100]\n"
     ]
    }
   ],
   "source": [
    "seq1 = list(range(1, 6))\n",
    "seq2 = list(range(10, -1, -1))\n",
    "seq3 = list(range(50, 100, 10))\n",
    "seq4 = list(range(-100, 101, 25))\n",
    "\n",
    "print(seq1)\n",
    "print(seq2)\n",
    "print(seq3)\n",
    "print(seq4)"
   ]
  },
  {
   "cell_type": "markdown",
   "metadata": {
    "slideshow": {
     "slide_type": "subslide"
    }
   },
   "source": [
    "### **Exercici 14**\n",
    "Utilitza la sintaxis de *list comprehension* per obtenir:\n",
    "\n",
    "* Tots els nombres del 1 al 100 divisibles per 8\n",
    "* Tots els nombres del 1 al 100 que tenen un 8\n",
    "* Els quadrats de tos els nombres parells de 1 a 100 que tenen un 1\n",
    "* Tots els nombres [quadrats perfectes](https://ca.wikipedia.org/wiki/Quadrat_perfecte) de 0 a 100"
   ]
  },
  {
   "cell_type": "code",
   "execution_count": 48,
   "metadata": {},
   "outputs": [
    {
     "name": "stdout",
     "output_type": "stream",
     "text": [
      "[8, 16, 24, 32, 40, 48, 56, 64, 72, 80, 88, 96]\n",
      "[8, 18, 28, 38, 48, 58, 68, 78, 80, 81, 82, 83, 84, 85, 86, 87, 88, 89, 98]\n",
      "[10, 12, 14, 16, 18, 100]\n",
      "[0, 1, 4, 9, 16, 25, 36, 49, 64, 81, 100]\n"
     ]
    }
   ],
   "source": [
    "#elevem a una potencia amb num**potencia\n",
    "#&& == and\n",
    "\n",
    "divisibles_per_8 = [x for x in range(1, 101) if x % 8 == 0]\n",
    "tenen_8 = [x for x in range(1, 101) if '8' in str(x)]\n",
    "seq3 = [x**2 for x in range(1, 101) if x % 2 == 0 and '1' in str(x)] \n",
    "seq4 = [x for x in range(0, 101) if x**0.5 == int(x**0.5)]\n",
    "\n",
    "print(divisibles_per_8)\n",
    "print(tenen_8)\n",
    "print(seq3)\n",
    "print(seq4)"
   ]
  },
  {
   "cell_type": "markdown",
   "metadata": {
    "slideshow": {
     "slide_type": "subslide"
    }
   },
   "source": [
    "### **Exercici 15**\n",
    "Genera un password random que compleixi les següents condicions:\n",
    "* Que tingui 10 caràcters.\n",
    "* Almenys dues majúscules.\n",
    "* Almenys dos dígits.\n",
    "* Almenys un caràcter especial.\n",
    "\n",
    "**NOTA**: Et mòdul `string` pot ser útil en casos com aquest."
   ]
  },
  {
   "cell_type": "code",
   "execution_count": 50,
   "metadata": {},
   "outputs": [
    {
     "name": "stdout",
     "output_type": "stream",
     "text": [
      "K?91%&(#Y8\n"
     ]
    }
   ],
   "source": [
    "import random\n",
    "import string\n",
    "\n",
    "majuscules = string.ascii_uppercase\n",
    "digits = string.digits\n",
    "char_especials = string.punctuation\n",
    "\n",
    "# Genera aleatòriament almenys dos majuscules i dos dígits\n",
    "majuscules_rand = random.choices(majuscules, k=2)\n",
    "digits_rand = random.choices(digits, k=2)\n",
    "# Genera aleatòriament almenys un caràcter especial\n",
    "char_especial_rand = random.choice(char_especials)\n",
    "\n",
    "# Genera la resta de caràcters aleatòriament\n",
    "altres_caracters = random.choices(string.ascii_uppercase + digits + char_especials, k=5)\n",
    "\n",
    "# Combina tots els caràcters en una llista i barreja-la\n",
    "contrasenya = majuscules_rand + digits_rand + [char_especial_rand] + altres_caracters\n",
    "random.shuffle(contrasenya)\n",
    "\n",
    "# Converteix la llista en una cadena\n",
    "contrasenya = ''.join(contrasenya)\n",
    "\n",
    "print(contrasenya)"
   ]
  }
 ],
 "metadata": {
  "celltoolbar": "Slideshow",
  "kernelspec": {
   "display_name": "Python 3 (ipykernel)",
   "language": "python",
   "name": "python3"
  },
  "language_info": {
   "codemirror_mode": {
    "name": "ipython",
    "version": 3
   },
   "file_extension": ".py",
   "mimetype": "text/x-python",
   "name": "python",
   "nbconvert_exporter": "python",
   "pygments_lexer": "ipython3",
   "version": "3.10.12"
  }
 },
 "nbformat": 4,
 "nbformat_minor": 4
}
