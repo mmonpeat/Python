{
 "cells": [
  {
   "cell_type": "markdown",
   "metadata": {
    "slideshow": {
     "slide_type": "slide"
    }
   },
   "source": [
    "# **07. Inici a la ciència de dades: Llibreria NumPy**\n",
    "<img src=\"https://upload.wikimedia.org/wikipedia/commons/thumb/1/1a/NumPy_logo.svg/775px-NumPy_logo.svg.png\" \n",
    "width=\"200\" align=\"right\">\n"
   ]
  },
  {
   "cell_type": "markdown",
   "metadata": {
    "slideshow": {
     "slide_type": "subslide"
    }
   },
   "source": [
    "Numerical Python ([NumPy](http://www.numpy.org/)) és un dels paquets de Python fonamentals per a la computació científica i *Data Science*. Ofereix suport per a **arrays** multidimensionals (vectors i matrius) d'alt rendiment i eines per a treballar-hi com:\n",
    "\n",
    "- La classe `ndarray` (n-dimensional array): \n",
    "- Operacions i funcions **vectoritzades** sobre arrays (molt més eficients que iterar sobre llistes)\n",
    "- Eines per a la integració amb codi C/C++ i Fortran.\n",
    "- Operacions d'àlgebra lineal, generació de nombres aleatoris, transformada de Fourier, etc d'alt rendiment.\n",
    "\n",
    "**[User Guide](https://docs.scipy.org/doc/numpy/user/index.html)** <br>\n",
    "**[Reference](https://docs.scipy.org/doc/numpy/reference)**\n"
   ]
  },
  {
   "cell_type": "code",
   "execution_count": 5,
   "metadata": {},
   "outputs": [],
   "source": [
    "#Per conveni importem numpy com a np\n",
    "import numpy as np"
   ]
  },
  {
   "cell_type": "code",
   "execution_count": 7,
   "metadata": {
    "slideshow": {
     "slide_type": "subslide"
    }
   },
   "outputs": [
    {
     "name": "stdout",
     "output_type": "stream",
     "text": [
      "94.1 ms ± 2.61 ms per loop (mean ± std. dev. of 7 runs, 10 loops each)\n"
     ]
    }
   ],
   "source": [
    "%%timeit \n",
    "# executarà el codi diverses vegades i retornarà informació sobre el temps mitjà d'execució, la desviació estàndard i altres dades estadístiques. \n",
    "# Això t'ajuda a tenir una idea precisa de quan temps el teu codi triga a ser executat.\n",
    "# és sum_ perquè ja existeix la funció sum()\n",
    "n = 1000000\n",
    "sum_ = 0\n",
    "for i in range(n):\n",
    "    sum_ += i ** 2\n",
    "sum_"
   ]
  },
  {
   "cell_type": "code",
   "execution_count": 4,
   "metadata": {},
   "outputs": [
    {
     "name": "stdout",
     "output_type": "stream",
     "text": [
      "297 ms ± 5.08 ms per loop (mean ± std. dev. of 7 runs, 1 loop each)\n"
     ]
    }
   ],
   "source": [
    "%%timeit\n",
    "n = 1000000\n",
    "sum([x**2 for x in range(n)])"
   ]
  },
  {
   "cell_type": "code",
   "execution_count": 5,
   "metadata": {},
   "outputs": [
    {
     "name": "stdout",
     "output_type": "stream",
     "text": [
      "2.72 ms ± 112 µs per loop (mean ± std. dev. of 7 runs, 100 loops each)\n"
     ]
    }
   ],
   "source": [
    "%%timeit\n",
    "n = 1000000\n",
    "(np.arange(n) ** 2).sum()"
   ]
  },
  {
   "cell_type": "markdown",
   "metadata": {
    "slideshow": {
     "slide_type": "subslide"
    }
   },
   "source": [
    "> <img src=\"https://icon-library.com/images/tip-icon/tip-icon-23.jpg\" alt=\"tip\" width=\"30\"/> Jupyter ofereix el que anomena [*magic functions*](https://ipython.readthedocs.io/en/stable/interactive/magics.html) que afegeixen diferents funcionalitats a la cel·la com per exemple `%%time`, `%%timeit` o `%%bash`"
   ]
  },
  {
   "cell_type": "markdown",
   "metadata": {
    "slideshow": {
     "slide_type": "subslide"
    }
   },
   "source": [
    "## 7.1 Arrays\n"
   ]
  },
  {
   "cell_type": "markdown",
   "metadata": {
    "slideshow": {
     "slide_type": "subslide"
    }
   },
   "source": [
    "\n",
    "Un *array* és una col·lecció (vector, matriu, tensor) de dades:\n",
    "\n",
    "- **homogeni**: tots els elements són del mateix tipus\n",
    "- indexat per una tuple d'enters no negatius\n",
    "- de tamany fixat des de la seva creació.\n",
    "\n",
    "> <img src=\"https://jakevdp.github.io/PythonDataScienceHandbook/figures/array_vs_list.png\" width=\"800\" align=\"center\"/>"
   ]
  },
  {
   "cell_type": "markdown",
   "metadata": {
    "slideshow": {
     "slide_type": "subslide"
    }
   },
   "source": [
    "A nivell d'[implementació](https://jakevdp.github.io/PythonDataScienceHandbook/figures/array_vs_list.png), un array conté essencialment un únic punter a bloc de dades que són **contigus en la memòria**. En canvi, una llista conté un punter a un bloc de punters, cada un dels quals apunta a un objecte. El principal avantatge de les llistes és la seva flexibilitat. Com que cada element conté les dades i la informació del tipus d'objecte, la llista es pot omplir dels objectes que vulguem. Els arrays de numpy no tenen aquesta flexibilitat, però a canvi són més eficients per guardar i manipular dades."
   ]
  },
  {
   "cell_type": "markdown",
   "metadata": {
    "slideshow": {
     "slide_type": "-"
    }
   },
   "source": [
    "> <img src=\"https://icon-library.com/images/tip-icon/tip-icon-23.jpg\" alt=\"tip\" width=\"30\"/> No confondre la classe `numpy.ndarray`amb la classe `array.array` de la biblioteca estàndard de Python. Aquesta última només permet vectors unidimensionals i ofereix moltes menys funcionalitats. "
   ]
  },
  {
   "cell_type": "markdown",
   "metadata": {
    "slideshow": {
     "slide_type": "subslide"
    },
    "tags": []
   },
   "source": [
    "A NumPy les dimensions s’anomenen eixos. Per exemple, les coordenades d'un punt en l'espai 3D [1, 2, 1] tenen un eix i aquest eix té 3 elements, de manera que diem té una longitud de 3.\n",
    "\n",
    "Els atributs més rellevants d'un array són:\n",
    "+ `ndarray.ndim`: El nombre d'eixos (dimensions) de l'array\n",
    "\n",
    "+ `ndarray.shape`: Les dimensions de l'array. Una tupla d'enters indicant la longitud de l'array en cada eix. Per una matriu amb m files i n columns la *shape* serà (m, n). La tupla tindrà una longitud igual a `ndim`\n",
    "\n",
    "+ `ndarray.dtype`: Un objecte describint el tipus d'elements de l'array. Es poden crear utilitzant els tipus de dades estàndards de python. Addicionalment NumPy proporciona alguns [**tipus propis**](https://numpy.org/doc/stable/user/basics.types.html) com `numpy.int32`, `numpy.int16` o `numpy.float64`.\n",
    "\n",
    "+ `ndarray.size`: Nombre total d'elements a l'array"
   ]
  },
  {
   "cell_type": "code",
   "execution_count": 4,
   "metadata": {
    "scrolled": true,
    "slideshow": {
     "slide_type": "subslide"
    }
   },
   "outputs": [
    {
     "name": "stdout",
     "output_type": "stream",
     "text": [
      "ARRAY: [1 2 3]\n",
      "CLASSE:  <class 'numpy.ndarray'>\n",
      "DIMENSIONS: 1\n",
      "SHAPE: (3,)\n",
      "SIZE: 3\n",
      "TIPUS:  int32\n"
     ]
    }
   ],
   "source": [
    "array = np.array([1, 2, 3])         \n",
    "\n",
    "print (\"ARRAY:\", array)\n",
    "print (\"CLASSE: \", type(array))\n",
    "print (\"DIMENSIONS:\", array.ndim)\n",
    "print (\"SHAPE:\", array.shape)\n",
    "print (\"SIZE:\", array.size)\n",
    "print (\"TIPUS: \",  array.dtype)"
   ]
  },
  {
   "cell_type": "markdown",
   "metadata": {
    "slideshow": {
     "slide_type": "subslide"
    }
   },
   "source": [
    "Els _ndarray_ són objectes **multidimensionals** això vol dir que poden servir per emmagatzemar dades que depenguin de diferents paràmetres. Per exemple, imagineu-vos la següent situació:\n",
    "\n",
    "> Es disposa d'estacions meteorològiques en 41 comarques de Catalunya. Aquestes envien a un registre central un resum mensual de les dades pluviomètriques, en $L m^{-2}$.\n",
    "\n",
    "En quin tipus d'objecte podríem recollir aquestes dades? Si ho fessim en paper o fent sevir un full de càlcul, probablement escriuríem una taula amb, per exemple, les comarques com a files i els mesos com a columna. Vegeu per exemple les dades de pluja recollida a Catalunya el 2019 segons l'Institut d'Estadística de Catalunya (idescat), [clickeu el següent enllaç](http://www.idescat.cat/pub/?id=aec&n=217&t=2019).\n",
    "\n",
    "Els _ndarray_ de NumPy ens permeten emmagatzemar les dades de pluja de les (41) comarques al llarg dels (12) mesos de l'any emprant una **variable indexada de dimensió 2**. Això equivaldria a una matriu de 41 files (1 per cada comarca) i 12 columnes (1 per cada mes). "
   ]
  },
  {
   "cell_type": "markdown",
   "metadata": {
    "slideshow": {
     "slide_type": "subslide"
    }
   },
   "source": [
    "A continuació veurem un exemple d'array amb més d'una dimensió: "
   ]
  },
  {
   "cell_type": "code",
   "execution_count": 5,
   "metadata": {},
   "outputs": [
    {
     "name": "stdout",
     "output_type": "stream",
     "text": [
      "ARRAY: [[1. 0. 0.]\n",
      " [0. 1. 2.]]\n",
      "CLASSE:  <class 'numpy.ndarray'>\n",
      "DIMENSIONS: 2\n",
      "SHAPE: (2, 3)\n",
      "SIZE: 6\n",
      "TIPUS:  float64\n"
     ]
    }
   ],
   "source": [
    "# A l'exemple que es mostra a continuació, l'array té 2 eixos. \n",
    "# El primer eix té una longitud de 2, el segon eix té una longitud de 3. El que significa és que tenim 2 files i 3 columnes. \n",
    "\n",
    "a = np.array([[ 1., 0., 0.],\n",
    "[ 0., 1., 2.]])\n",
    "\n",
    "print(\"ARRAY:\", a)\n",
    "print(\"CLASSE: \", type(a))\n",
    "print(\"DIMENSIONS:\", a.ndim) # Les dimensions són l'eix de les x i el numero de files\n",
    "print(\"SHAPE:\", a.shape) # (2 files, 3 columnes) (eix x, eix y)\n",
    "print(\"SIZE:\",a.size) # 2 * 3 = 6\n",
    "print(\"TIPUS: \",  a.dtype) # float64 perquè té 1., 0., el punt"
   ]
  },
  {
   "cell_type": "markdown",
   "metadata": {
    "slideshow": {
     "slide_type": "subslide"
    }
   },
   "source": [
    "## 7.2 Creació d'arrays\n",
    "\n",
    "Hi ha diverses maneres de generar un array de NumPy, com per exemple:\n",
    "\n",
    "- a partir d'una llista.\n",
    "- utilitzant funcions NumPy per creació d'arrays.\n",
    "- aplicant funcions NumPy sobre arrays prèviament existents.\n",
    "- utilitzant dades introduïdes per l'usuari.\n",
    "\n",
    "A continuació veureu com crear un array a partir d’una llista o tupla normal de Python mitjançant la funció `array()`. El tipus d'array resultant es dedueix a partir del tipus d’elements en la llista. Podríem emprar qualsevol tipus de variable, un diccionari per exemple, però el més habitual és una llista."
   ]
  },
  {
   "cell_type": "code",
   "execution_count": 7,
   "metadata": {
    "slideshow": {
     "slide_type": "subslide"
    }
   },
   "outputs": [
    {
     "name": "stdout",
     "output_type": "stream",
     "text": [
      "ARRAY: [2 3 4]\n",
      "TIPUS: int32\n",
      "\n",
      "ARRAY: [1.2 3.5 5.1]\n",
      "TIPUS: float64\n",
      "\n",
      "ARRAY: {'a': 1, 'b': 2}\n",
      "TIPUS: object\n"
     ]
    }
   ],
   "source": [
    "a = np.array([2,3,4])\n",
    "print(\"ARRAY:\", a)\n",
    "print(\"TIPUS:\", a.dtype)\n",
    "print()\n",
    "\n",
    "b = np.array([1.2, 3.5, 5.1])\n",
    "print(\"ARRAY:\", b)\n",
    "print(\"TIPUS:\", b.dtype)\n",
    "print()\n",
    "\n",
    "c = np.array({\"a\": 1, \"b\": 2})# té clau i valor i per això surt object per qué es el més genteral que inclou les dues\n",
    "print(\"ARRAY:\", c)\n",
    "print(\"TIPUS:\", c.dtype)"
   ]
  },
  {
   "cell_type": "markdown",
   "metadata": {
    "slideshow": {
     "slide_type": "subslide"
    }
   },
   "source": [
    "> <img src=\"https://icon-library.com/images/tip-icon/tip-icon-23.jpg\" alt=\"tip\" width=\"30\"/>  Un error freqüent és cridar la funció `array()` amb diversos arguments en lloc de donar una única sentència com argument."
   ]
  },
  {
   "cell_type": "code",
   "execution_count": 8,
   "metadata": {
    "scrolled": true
   },
   "outputs": [
    {
     "ename": "TypeError",
     "evalue": "array() takes from 1 to 2 positional arguments but 4 were given",
     "output_type": "error",
     "traceback": [
      "\u001b[1;31m---------------------------------------------------------------------------\u001b[0m",
      "\u001b[1;31mTypeError\u001b[0m                                 Traceback (most recent call last)",
      "Cell \u001b[1;32mIn[8], line 1\u001b[0m\n\u001b[1;32m----> 1\u001b[0m a \u001b[38;5;241m=\u001b[39m np\u001b[38;5;241m.\u001b[39marray(\u001b[38;5;241m1\u001b[39m,\u001b[38;5;241m2\u001b[39m,\u001b[38;5;241m3\u001b[39m,\u001b[38;5;241m4\u001b[39m)\n\u001b[0;32m      2\u001b[0m a\n",
      "\u001b[1;31mTypeError\u001b[0m: array() takes from 1 to 2 positional arguments but 4 were given"
     ]
    }
   ],
   "source": [
    "a = np.array(1,2,3,4)\n",
    "a"
   ]
  },
  {
   "cell_type": "code",
   "execution_count": 9,
   "metadata": {},
   "outputs": [
    {
     "data": {
      "text/plain": [
       "array([1, 2, 3, 4])"
      ]
     },
     "execution_count": 9,
     "metadata": {},
     "output_type": "execute_result"
    }
   ],
   "source": [
    "a = np.array([1,2,3,4])\n",
    "a"
   ]
  },
  {
   "cell_type": "markdown",
   "metadata": {
    "slideshow": {
     "slide_type": "subslide"
    }
   },
   "source": [
    "> <img src=\"https://icon-library.com/images/tip-icon/tip-icon-23.jpg\" alt=\"tip\" width=\"30\"/> Els arrays són **homogenis** però les llistes no. Si emprem una llista formada per valors de diferents tipus, NumPy crearà l'array amb el tipus més general."
   ]
  },
  {
   "cell_type": "code",
   "execution_count": 10,
   "metadata": {
    "collapsed": false,
    "jupyter": {
     "outputs_hidden": false
    },
    "slideshow": {
     "slide_type": "subslide"
    }
   },
   "outputs": [
    {
     "data": {
      "text/plain": [
       "[float, complex, int]"
      ]
     },
     "execution_count": 10,
     "metadata": {},
     "output_type": "execute_result"
    }
   ],
   "source": [
    "a = [1.5, 1j + 2, 3] # [float, complex, enter]\n",
    "[type(element) for element in a]"
   ]
  },
  {
   "cell_type": "code",
   "execution_count": 11,
   "metadata": {
    "collapsed": false,
    "jupyter": {
     "outputs_hidden": false
    }
   },
   "outputs": [],
   "source": [
    "a = np.array(a)"
   ]
  },
  {
   "cell_type": "code",
   "execution_count": 12,
   "metadata": {
    "collapsed": false,
    "jupyter": {
     "outputs_hidden": false
    }
   },
   "outputs": [
    {
     "name": "stdout",
     "output_type": "stream",
     "text": [
      "ARRAY: [1.5+0.j 2. +1.j 3. +0.j]\n",
      "CLASSE:  <class 'numpy.ndarray'>\n",
      "DIMENSIONS: 1\n",
      "SHAPE: (3,)\n",
      "SIZE: 3\n",
      "TIPUS:  complex128\n"
     ]
    }
   ],
   "source": [
    "print (\"ARRAY:\", a)\n",
    "print (\"CLASSE: \", type(a))\n",
    "print (\"DIMENSIONS:\", a.ndim)\n",
    "print (\"SHAPE:\", a.shape)\n",
    "print (\"SIZE:\",a.size)\n",
    "print(\"TIPUS: \",  a.dtype)"
   ]
  },
  {
   "cell_type": "markdown",
   "metadata": {},
   "source": [
    "Fixeu-vos que s'escriuen tots els elements en forma de nombre complex. "
   ]
  },
  {
   "cell_type": "markdown",
   "metadata": {
    "slideshow": {
     "slide_type": "subslide"
    }
   },
   "source": [
    "La funció `array()` transforma llistes de llistes en *arrays* bidimensionals, llistes de llists de llistes en *arrays* tridimensionals, etc."
   ]
  },
  {
   "cell_type": "code",
   "execution_count": 13,
   "metadata": {},
   "outputs": [
    {
     "data": {
      "text/plain": [
       "array([[1.5, 2. , 3. ],\n",
       "       [4. , 5. , 6. ]])"
      ]
     },
     "execution_count": 13,
     "metadata": {},
     "output_type": "execute_result"
    }
   ],
   "source": [
    "array = np.array([(1.5,2,3), (4,5,6)])\n",
    "array"
   ]
  },
  {
   "cell_type": "markdown",
   "metadata": {
    "slideshow": {
     "slide_type": "subslide"
    }
   },
   "source": [
    "NumPy propoprciona diverses funcions per crear arrays:\n",
    "* `zeros()`: Zeros\n",
    "* `ones()`:  Uns\n",
    "* `empty()`: Contingut aleatòri (depèn de l'estat de la memòria)\n",
    "* `full()`: Omple l'array amb un valor\n",
    "* `eye()`: [Matriu identitat](https://ca.wikipedia.org/wiki/Matriu_identitat)."
   ]
  },
  {
   "cell_type": "code",
   "execution_count": 14,
   "metadata": {},
   "outputs": [
    {
     "data": {
      "text/plain": [
       "array([[0., 0., 0., 0.],\n",
       "       [0., 0., 0., 0.],\n",
       "       [0., 0., 0., 0.]])"
      ]
     },
     "execution_count": 14,
     "metadata": {},
     "output_type": "execute_result"
    }
   ],
   "source": [
    "np.zeros((3,4)) "
   ]
  },
  {
   "cell_type": "code",
   "execution_count": 15,
   "metadata": {},
   "outputs": [
    {
     "data": {
      "text/plain": [
       "array([[1, 1, 1, 1],\n",
       "       [1, 1, 1, 1],\n",
       "       [1, 1, 1, 1]])"
      ]
     },
     "execution_count": 15,
     "metadata": {},
     "output_type": "execute_result"
    }
   ],
   "source": [
    "np.ones((3,4), dtype=int)"
   ]
  },
  {
   "cell_type": "code",
   "execution_count": 16,
   "metadata": {
    "slideshow": {
     "slide_type": "subslide"
    }
   },
   "outputs": [
    {
     "data": {
      "text/plain": [
       "array([[2.12199579e-314, 9.48532119e-312],\n",
       "       [5.15804534e-321, 9.48532119e-312]])"
      ]
     },
     "execution_count": 16,
     "metadata": {},
     "output_type": "execute_result"
    }
   ],
   "source": [
    "np.empty((2,2))"
   ]
  },
  {
   "cell_type": "code",
   "execution_count": 17,
   "metadata": {},
   "outputs": [
    {
     "data": {
      "text/plain": [
       "array([[5., 5., 5., 5.],\n",
       "       [5., 5., 5., 5.],\n",
       "       [5., 5., 5., 5.]])"
      ]
     },
     "execution_count": 17,
     "metadata": {},
     "output_type": "execute_result"
    }
   ],
   "source": [
    "np.full((3,4), 5.)"
   ]
  },
  {
   "cell_type": "code",
   "execution_count": 18,
   "metadata": {},
   "outputs": [
    {
     "data": {
      "text/plain": [
       "array([[1., 0., 0.],\n",
       "       [0., 1., 0.],\n",
       "       [0., 0., 1.]])"
      ]
     },
     "execution_count": 18,
     "metadata": {},
     "output_type": "execute_result"
    }
   ],
   "source": [
    "np.eye(3)"
   ]
  },
  {
   "cell_type": "markdown",
   "metadata": {
    "slideshow": {
     "slide_type": "subslide"
    }
   },
   "source": [
    "* `arange()`: Similar al la funció `range` de python estàndard. Genera un vector NumPy que conté una seqüència de valors  entre el valor *start* i un valor *stop* (no inclòs!) amb increments de *step*.\n",
    "\n",
    "```python\n",
    "x = numpy.arange(start, stop, step=1)\n",
    "```"
   ]
  },
  {
   "cell_type": "code",
   "execution_count": 22,
   "metadata": {},
   "outputs": [
    {
     "name": "stdout",
     "output_type": "stream",
     "text": [
      "range: [0, 1, 2, 3, 4, 5, 6, 7, 8, 9, 10, 11]\n",
      "arange: [ 0  1  2  3  4  5  6  7  8  9 10 11]\n"
     ]
    }
   ],
   "source": [
    "r = range(12)\n",
    "print(\"range:\", list(r))\n",
    "a = np.arange(12)\n",
    "print(\"arange:\", a)"
   ]
  },
  {
   "cell_type": "markdown",
   "metadata": {
    "slideshow": {
     "slide_type": "subslide"
    }
   },
   "source": [
    "> <img src=\"https://icon-library.com/images/tip-icon/tip-icon-23.jpg\" alt=\"tip\" width=\"30\"/> `np.arange()`,  a diferència de `range()`permet valors de *step* decimals"
   ]
  },
  {
   "cell_type": "code",
   "execution_count": 23,
   "metadata": {},
   "outputs": [
    {
     "data": {
      "text/plain": [
       "array([0. , 0.5, 1. , 1.5, 2. , 2.5, 3. , 3.5, 4. , 4.5, 5. , 5.5, 6. ,\n",
       "       6.5, 7. , 7.5, 8. , 8.5, 9. , 9.5])"
      ]
     },
     "execution_count": 23,
     "metadata": {},
     "output_type": "execute_result"
    }
   ],
   "source": [
    "np.arange(0, 10, 0.5) # Del 0 al 10 amb distancia de 0.5"
   ]
  },
  {
   "cell_type": "markdown",
   "metadata": {
    "slideshow": {
     "slide_type": "subslide"
    }
   },
   "source": [
    "Quan s’utilitza la funció `np.arange` amb *floats*, generalment és difícil anticipar el nombre d’elements obtinguts, normalment és més convenient utilitzar la funció `np.linspace()` que rep com argument el nombre d'elements que volem, en lloc del *step*:\n",
    "\n",
    "\n",
    "```python\n",
    "x = numpy.linspace(start, stop, num, endpoint)\n",
    "```\n",
    "\n",
    "- `num`: nombre de valors que ha de contenir l'array (valor enter). Si no s'especifica cap valor la funció pren per defecte 50 valors.\n",
    "- `endpoint`: incloure el punt final en la seqüència (valor booleà). Si no s'especifica cap valor la funció pren per defecte el valor `True` i el punt final s'inclou a la seqüència de valors."
   ]
  },
  {
   "cell_type": "code",
   "execution_count": 24,
   "metadata": {},
   "outputs": [
    {
     "data": {
      "text/plain": [
       "array([0.  , 0.25, 0.5 , 0.75, 1.  , 1.25, 1.5 , 1.75, 2.  ])"
      ]
     },
     "execution_count": 24,
     "metadata": {},
     "output_type": "execute_result"
    }
   ],
   "source": [
    "np.linspace( 0, 2, 9 ) # 9 numeros del 0 al 2"
   ]
  },
  {
   "cell_type": "markdown",
   "metadata": {
    "slideshow": {
     "slide_type": "subslide"
    }
   },
   "source": [
    "+ Per crear un *array* amb nombres aleatòris utilitzarem la funció `random()`. "
   ]
  },
  {
   "cell_type": "code",
   "execution_count": 25,
   "metadata": {},
   "outputs": [
    {
     "data": {
      "text/plain": [
       "array([[0.34720152, 0.63634651, 0.01109365],\n",
       "       [0.188092  , 0.83790036, 0.93174177]])"
      ]
     },
     "execution_count": 25,
     "metadata": {},
     "output_type": "execute_result"
    }
   ],
   "source": [
    "np.random.random((2,3))"
   ]
  },
  {
   "cell_type": "markdown",
   "metadata": {
    "slideshow": {
     "slide_type": "subslide"
    }
   },
   "source": [
    "+ La funció `zeros_like`manté les dimensions de l'array entre parètesi, però amb zeros "
   ]
  },
  {
   "cell_type": "code",
   "execution_count": 27,
   "metadata": {},
   "outputs": [
    {
     "name": "stdout",
     "output_type": "stream",
     "text": [
      "ARRAY a:\n",
      " [1 2 3 4]\n",
      "ARRAY b:\n",
      " [[1.5 2.  3. ]\n",
      " [4.  5.  6. ]]\n",
      "canviem a zeros l'array a:\n",
      " [0 0 0 0]\n",
      "canviem a zeros l'array b:\n",
      " [[0. 0. 0.]\n",
      " [0. 0. 0.]]\n"
     ]
    },
    {
     "data": {
      "text/plain": [
       "dtype('float64')"
      ]
     },
     "execution_count": 27,
     "metadata": {},
     "output_type": "execute_result"
    }
   ],
   "source": [
    "#Manté les dimensions de l'array entre parèntesi, però amb zeros\n",
    "\n",
    "a = np.array([1,2,3,4])\n",
    "b = np.array([(1.5,2,3), (4,5,6)])\n",
    "\n",
    "print(\"ARRAY a:\\n\", a)\n",
    "print(\"ARRAY b:\\n\", b)\n",
    "\n",
    "print(\"canviem a zeros l'array a:\\n\", np.zeros_like(a))\n",
    "print(\"canviem a zeros l'array b:\\n\",np.zeros_like(b))\n",
    "\n",
    "b.dtype"
   ]
  },
  {
   "cell_type": "markdown",
   "metadata": {
    "slideshow": {
     "slide_type": "subslide"
    },
    "tags": []
   },
   "source": [
    "Cal remarcar que si un array és molt gran per printa-lo, NumPy automàticament només printarà les cantonades de la matriu. Per desactivar aquest comportament i forçar a NumPy a imprimir tota la matriu, podeu canviar les opcions d'impressió mitjançant\n",
    "`set_printoptions`(mòdul del sistema que s'ha d'importar per a fer-ho). "
   ]
  },
  {
   "cell_type": "code",
   "execution_count": 28,
   "metadata": {},
   "outputs": [
    {
     "name": "stdout",
     "output_type": "stream",
     "text": [
      "[   0    1    2 ... 9997 9998 9999]\n"
     ]
    }
   ],
   "source": [
    "print(np.arange(10000))"
   ]
  },
  {
   "cell_type": "markdown",
   "metadata": {
    "slideshow": {
     "slide_type": "subslide"
    }
   },
   "source": [
    "Una matriu pot estar emmagatzemada en una llista en la forma de _una llista de llistes_. És a dir, una llista on cada un dels seus elements és a la seva vegada una llista, totes amb el mateix nombre d'elements. \n",
    "\n",
    "Per exemple, en la següent instrucció es genera una llista que conté 3 elements i cada un dels elements és una llista de 4 elements:"
   ]
  },
  {
   "cell_type": "code",
   "execution_count": 30,
   "metadata": {},
   "outputs": [
    {
     "data": {
      "text/plain": [
       "[[1, 2, 3, 4], [5, 6, 7, 8], [9, 10, 11, 12]]"
      ]
     },
     "execution_count": 30,
     "metadata": {},
     "output_type": "execute_result"
    }
   ],
   "source": [
    "mat_llista = [[1, 2, 3, 4] , [5, 6, 7, 8], [9, 10, 11, 12] ]\n",
    "#mat_llista"
   ]
  },
  {
   "cell_type": "markdown",
   "metadata": {
    "tags": []
   },
   "source": [
    "Si imaginem els elements de la llista _apilats un sobre l'altre_, podem visualitzar la matriu corresponent que seria de forma:\n",
    "\n",
    "$$\n",
    "\\left ( \\begin{array}{cccc}\n",
    "1 & 2 & 3 & 4 \\\\ 5 & 6 & 7 & 8 \\\\ 9 & 10 & 11 & 12\n",
    "\\end{array} \\right )\n",
    "$$\n",
    "\n",
    "Una matriu de 3 files i 4 columnes (diem que és una matriu 3x4). Els _ndarray_ de NumPy són molt més eficients per operar numèricament que no pas les llistes de Python. Aquesta llista es transforma en una matriu NumPy executant la següent cel·la:"
   ]
  },
  {
   "cell_type": "code",
   "execution_count": 31,
   "metadata": {},
   "outputs": [],
   "source": [
    "mat = np.array(mat_llista)"
   ]
  },
  {
   "cell_type": "markdown",
   "metadata": {
    "slideshow": {
     "slide_type": "subslide"
    }
   },
   "source": [
    "## 7.3 Manipulació d'arrays\n",
    "\n",
    "Tenim moltes funcions per manipular arrays: **[Array manipulation routines](https://docs.scipy.org/doc/numpy/reference/routines.array-manipulation.html)**\n",
    "\n",
    "* `ravel()`: Retorna l'array en un sol eix\n",
    "* `reshape()`: Canvia la `shape`de l'array\n",
    "\n",
    "\n",
    "Tingueu en compte que les tres ordres següents tornen l'array modificat, però no canvia l'array original:"
   ]
  },
  {
   "cell_type": "code",
   "execution_count": 32,
   "metadata": {},
   "outputs": [
    {
     "name": "stdout",
     "output_type": "stream",
     "text": [
      "[[ 2  5  9]\n",
      " [ 1  0 14]\n",
      " [-6 28 37]]\n"
     ]
    },
    {
     "data": {
      "text/plain": [
       "array([ 2,  5,  9,  1,  0, 14, -6, 28, 37])"
      ]
     },
     "execution_count": 32,
     "metadata": {},
     "output_type": "execute_result"
    }
   ],
   "source": [
    "a = np.array([(2,5,9),(1,0,14),(-6,28,37)])\n",
    "print (a)\n",
    "a.ravel() # returns the array, flattened"
   ]
  },
  {
   "cell_type": "code",
   "execution_count": 33,
   "metadata": {
    "slideshow": {
     "slide_type": "subslide"
    }
   },
   "outputs": [
    {
     "name": "stdout",
     "output_type": "stream",
     "text": [
      "[[0.81415358 0.60887019 0.19335723]\n",
      " [0.79785239 0.8051851  0.61323221]\n",
      " [0.77599919 0.0781683  0.77043169]\n",
      " [0.53034146 0.88397868 0.70527517]]\n"
     ]
    },
    {
     "data": {
      "text/plain": [
       "(4, 3)"
      ]
     },
     "execution_count": 33,
     "metadata": {},
     "output_type": "execute_result"
    }
   ],
   "source": [
    "b = np.random.random((4,3))\n",
    "print (b)\n",
    "b.shape"
   ]
  },
  {
   "cell_type": "code",
   "execution_count": 34,
   "metadata": {},
   "outputs": [
    {
     "data": {
      "text/plain": [
       "array([[0.81415358, 0.60887019, 0.19335723, 0.79785239],\n",
       "       [0.8051851 , 0.61323221, 0.77599919, 0.0781683 ],\n",
       "       [0.77043169, 0.53034146, 0.88397868, 0.70527517]])"
      ]
     },
     "execution_count": 34,
     "metadata": {},
     "output_type": "execute_result"
    }
   ],
   "source": [
    "b.reshape(3,4)"
   ]
  },
  {
   "cell_type": "code",
   "execution_count": 38,
   "metadata": {
    "slideshow": {
     "slide_type": "subslide"
    }
   },
   "outputs": [
    {
     "ename": "ValueError",
     "evalue": "cannot reshape array of size 9 into shape (1,3)",
     "output_type": "error",
     "traceback": [
      "\u001b[1;31m---------------------------------------------------------------------------\u001b[0m",
      "\u001b[1;31mValueError\u001b[0m                                Traceback (most recent call last)",
      "Cell \u001b[1;32mIn[38], line 3\u001b[0m\n\u001b[0;32m      1\u001b[0m \u001b[38;5;66;03m# Si la nova shape no és compatible dona error\u001b[39;00m\n\u001b[0;32m      2\u001b[0m \u001b[38;5;66;03m# a.reshape(6, 3)\u001b[39;00m\n\u001b[1;32m----> 3\u001b[0m a\u001b[38;5;241m.\u001b[39mreshape(\u001b[38;5;241m1\u001b[39m, \u001b[38;5;241m3\u001b[39m)\n",
      "\u001b[1;31mValueError\u001b[0m: cannot reshape array of size 9 into shape (1,3)"
     ]
    }
   ],
   "source": [
    "# Si la nova shape no és compatible dona error\n",
    "a.reshape(6, 3)"
   ]
  },
  {
   "cell_type": "markdown",
   "metadata": {
    "slideshow": {
     "slide_type": "subslide"
    }
   },
   "source": [
    "> <img src=\"https://icon-library.com/images/tip-icon/tip-icon-23.jpg\" alt=\"tip\" width=\"30\"/> Si una dimensió pren el valor -1 en la funció `reshape` és calcula automàticament per a què quadri amb la forma de l'array original i els tamanys de la resta de dimensions."
   ]
  },
  {
   "cell_type": "code",
   "execution_count": 36,
   "metadata": {},
   "outputs": [
    {
     "data": {
      "text/plain": [
       "array([[0.76172364, 0.48600118, 0.72776372],\n",
       "       [0.61333709, 0.94385248, 0.7831386 ],\n",
       "       [0.8144234 , 0.90434816, 0.12935281],\n",
       "       [0.49224958, 0.41490999, 0.88814137]])"
      ]
     },
     "execution_count": 36,
     "metadata": {},
     "output_type": "execute_result"
    }
   ],
   "source": [
    "c = np.random.random(12)\n",
    "c.reshape(4,3)"
   ]
  },
  {
   "cell_type": "markdown",
   "metadata": {
    "slideshow": {
     "slide_type": "subslide"
    }
   },
   "source": [
    "+ El mètode `reshape()` retorna un array amb la forma modificada, mentre que el mètode `resize()` el modifica *in-place*"
   ]
  },
  {
   "cell_type": "code",
   "execution_count": 39,
   "metadata": {},
   "outputs": [
    {
     "data": {
      "text/plain": [
       "array([[0.76172364, 0.48600118, 0.72776372, 0.61333709],\n",
       "       [0.94385248, 0.7831386 , 0.8144234 , 0.90434816],\n",
       "       [0.12935281, 0.49224958, 0.41490999, 0.88814137]])"
      ]
     },
     "execution_count": 39,
     "metadata": {},
     "output_type": "execute_result"
    }
   ],
   "source": [
    "c = c.reshape((3,4))\n",
    "c"
   ]
  },
  {
   "cell_type": "code",
   "execution_count": 40,
   "metadata": {},
   "outputs": [
    {
     "data": {
      "text/plain": [
       "array([[0.76172364, 0.48600118, 0.72776372],\n",
       "       [0.61333709, 0.94385248, 0.7831386 ],\n",
       "       [0.8144234 , 0.90434816, 0.12935281],\n",
       "       [0.49224958, 0.41490999, 0.88814137]])"
      ]
     },
     "execution_count": 40,
     "metadata": {},
     "output_type": "execute_result"
    }
   ],
   "source": [
    "c.resize((4,3))\n",
    "c"
   ]
  },
  {
   "cell_type": "markdown",
   "metadata": {
    "slideshow": {
     "slide_type": "subslide"
    }
   },
   "source": [
    "+ `T()`: transposa l'array"
   ]
  },
  {
   "cell_type": "code",
   "execution_count": 41,
   "metadata": {},
   "outputs": [
    {
     "name": "stdout",
     "output_type": "stream",
     "text": [
      "[[0 1 2]\n",
      " [3 4 5]\n",
      " [6 7 8]]\n",
      "\n",
      "[[0 3 6]\n",
      " [1 4 7]\n",
      " [2 5 8]]\n"
     ]
    }
   ],
   "source": [
    "a = np.arange(0,9).reshape((3,3))\n",
    "print(a)\n",
    "print()\n",
    "print(a.T)"
   ]
  },
  {
   "cell_type": "markdown",
   "metadata": {
    "slideshow": {
     "slide_type": "subslide"
    }
   },
   "source": [
    "## 7.4 Indexing i  Slicing\n",
    "\n",
    "https://numpy.org/devdocs/user/basics.indexing.html\n",
    "\n",
    "+ **Arrays unidimensionals (1D)**\n",
    "\n",
    "Podem accedir a un element de l'array pel seu índex, de la mateixa manera que ho feiem amb les llistes"
   ]
  },
  {
   "cell_type": "code",
   "execution_count": 42,
   "metadata": {},
   "outputs": [
    {
     "name": "stdout",
     "output_type": "stream",
     "text": [
      "[ 0  1  4  9 16 25 36 49 64 81]\n"
     ]
    }
   ],
   "source": [
    "a = np.arange(10) ** 2\n",
    "print(a)"
   ]
  },
  {
   "cell_type": "code",
   "execution_count": 43,
   "metadata": {},
   "outputs": [
    {
     "data": {
      "text/plain": [
       "4"
      ]
     },
     "execution_count": 43,
     "metadata": {},
     "output_type": "execute_result"
    }
   ],
   "source": [
    "a[2]"
   ]
  },
  {
   "cell_type": "markdown",
   "metadata": {
    "slideshow": {
     "slide_type": "subslide"
    },
    "tags": []
   },
   "source": [
    "\n",
    "Per obtenir un _slice_ (segment o subconjunt) d'un vector NumPy podem utilitzar la mateixa sintàxi que en el cas de les llistes.\n",
    "Per especificar un slice d'un array monodimensional NumPy podem utilitzar les següents variants:\n",
    "\n",
    "```python\n",
    "vec[start:end:step] # slice de \"vec\" des de la posició \"start\" fins a l'anterior a \"end\" amb salts de \"step\"\n",
    "vec[start:end]      # tots els elements de \"vec\" des de \"start\" fins a \"end-1\"\n",
    "vec[start:]         # tots els elements de \"vec\" des de \"start\" fins el FINAL\n",
    "vec[:end]           # tots els elements de \"vec\" del PRIMER fins a \"end-1\"\n",
    "vec[:]              # tot el vector\n",
    "```\n",
    "\n",
    "> <img src=\"https://icon-library.com/images/tip-icon/tip-icon-23.jpg\" alt=\"tip\" width=\"30\"/> Si s'especifica el límit final del slice, aquest queda exclòs del resultat. És certament una característica no intuïtiva que cal recordar. \n"
   ]
  },
  {
   "cell_type": "code",
   "execution_count": 44,
   "metadata": {
    "slideshow": {
     "slide_type": "subslide"
    }
   },
   "outputs": [
    {
     "data": {
      "text/plain": [
       "array([ 4,  9, 16])"
      ]
     },
     "execution_count": 44,
     "metadata": {},
     "output_type": "execute_result"
    }
   ],
   "source": [
    "# Agafarem de la posició 2 a la 4 (recorda la última no s'agafa!)\n",
    "a[2:5]"
   ]
  },
  {
   "cell_type": "code",
   "execution_count": 45,
   "metadata": {},
   "outputs": [
    {
     "data": {
      "text/plain": [
       "array([ 0,  4, 16])"
      ]
     },
     "execution_count": 45,
     "metadata": {},
     "output_type": "execute_result"
    }
   ],
   "source": [
    "# Des del començament fins a la poició 6, no inclosa amb un step de 2\n",
    "a[:6:2]"
   ]
  },
  {
   "cell_type": "code",
   "execution_count": 46,
   "metadata": {},
   "outputs": [
    {
     "data": {
      "text/plain": [
       "array([81, 64, 49, 36, 25, 16,  9,  4,  1,  0])"
      ]
     },
     "execution_count": 46,
     "metadata": {},
     "output_type": "execute_result"
    }
   ],
   "source": [
    "# Un step de -1 fa un reverse de l'array\n",
    "a[ : :-1]"
   ]
  },
  {
   "cell_type": "markdown",
   "metadata": {
    "slideshow": {
     "slide_type": "subslide"
    },
    "tags": []
   },
   "source": [
    "+ **Arrays multidimensionals (2D)**\n",
    "\n",
    "Per especificar un slice d'un array multidimensional cal que seguim la mateixa sintàxi que per llistes i vectors, **separant els diferents índexs de files i columnes per una coma**. \n",
    "\n",
    "```python\n",
    "slice[rows, colums]\n",
    "```\n",
    "\n",
    "\n",
    "<img src=\"https://vertex-academy.com/tutorials/wp-content/uploads/2017/12/Java-two-dimensional-array-vertex-academy.jpg\" width=\"200\" align=\"center\"/>\n",
    "\n",
    "En el cas d'una matriu:\n",
    "\n",
    "```python\n",
    "variable[start:stop:step, start:stop:step]\n",
    "```"
   ]
  },
  {
   "cell_type": "markdown",
   "metadata": {
    "slideshow": {
     "slide_type": "subslide"
    }
   },
   "source": [
    "\n",
    "Igual que en llistes Python, quan realitzem un _slice_ el valor final no s'inclou. També recordeu que, si deixem el valor inicial buit, s'agafa des del primer element i, si deixem el valor final buit, aleshores s'agafa fins al darrer element. El darrer valor, que en l'exemple hem anomenat \"`step`\", correspon a l'increment o pas i és opcional, si no s'inclou s'entén que és 1.\n",
    "\n",
    "\n",
    "No cal separar l'index de cada dimensió en diferents claudàtors, podem separar els índexs de cada eix fent servir **comes**."
   ]
  },
  {
   "cell_type": "code",
   "execution_count": 8,
   "metadata": {
    "slideshow": {
     "slide_type": "subslide"
    },
    "tags": []
   },
   "outputs": [
    {
     "data": {
      "text/plain": [
       "array([[ 0,  1,  2,  3],\n",
       "       [ 4,  5,  6,  7],\n",
       "       [ 8,  9, 10, 11],\n",
       "       [12, 13, 14, 15]])"
      ]
     },
     "execution_count": 8,
     "metadata": {},
     "output_type": "execute_result"
    }
   ],
   "source": [
    "a = np.arange(16).reshape((4,4))\n",
    "a"
   ]
  },
  {
   "cell_type": "code",
   "execution_count": 9,
   "metadata": {
    "tags": []
   },
   "outputs": [
    {
     "data": {
      "text/plain": [
       "6"
      ]
     },
     "execution_count": 9,
     "metadata": {},
     "output_type": "execute_result"
    }
   ],
   "source": [
    "a[1][2] #1 == fila 1, 2 == columna 2"
   ]
  },
  {
   "cell_type": "code",
   "execution_count": 49,
   "metadata": {
    "slideshow": {
     "slide_type": "subslide"
    }
   },
   "outputs": [
    {
     "data": {
      "text/plain": [
       "True"
      ]
     },
     "execution_count": 49,
     "metadata": {},
     "output_type": "execute_result"
    }
   ],
   "source": [
    "a[1][2] == a[1,2] "
   ]
  },
  {
   "cell_type": "markdown",
   "metadata": {},
   "source": [
    "Aquesta sintaxi és més eficient i ens permet més versatilitat en fer les seleccions. <br>\n",
    "Això passa perquè `a[1][2]` en realitat es fa en dues passses i genera un array temporal intermig. També limita les seleccions ja que en el primer pas només podem seleccionar files senceres."
   ]
  },
  {
   "cell_type": "code",
   "execution_count": 50,
   "metadata": {},
   "outputs": [
    {
     "name": "stdout",
     "output_type": "stream",
     "text": [
      "[4 5 6 7]\n"
     ]
    },
    {
     "data": {
      "text/plain": [
       "6"
      ]
     },
     "execution_count": 50,
     "metadata": {},
     "output_type": "execute_result"
    }
   ],
   "source": [
    "temp = a[1]\n",
    "print(temp)\n",
    "temp[2]"
   ]
  },
  {
   "cell_type": "markdown",
   "metadata": {
    "slideshow": {
     "slide_type": "-"
    }
   },
   "source": [
    "La notació separada per comes ens permet fer seleccions de diferents parts de l'array. \n",
    "\n",
    "A continuació alguns exemples en els que volem seleccionar la part sombrejada dels arrays:\n"
   ]
  },
  {
   "cell_type": "markdown",
   "metadata": {
    "slideshow": {
     "slide_type": "subslide"
    }
   },
   "source": [
    "**1. Selecció d'una posició determinada de l'array**\n",
    "\n",
    "\n",
    "<table>\n",
    "  <tr>\n",
    "    <td style=\"background-color:#FFFFFF\">0</td>\n",
    "    <td style=\"background-color:#FFFFFF\">1</td>\n",
    "    <td style=\"background-color:#FFFFFF\">2</td>\n",
    "    <td style=\"background-color:#FFFFFF\">3</td>\n",
    "  </tr>\n",
    "  <tr>\n",
    "    <td style=\"background-color:#FFFFFF\">4</td>\n",
    "    <td style=\"background-color:#FFFFFF\">5</td>\n",
    "    <td style=\"background-color:#FFFFFF\">6</td>\n",
    "    <td style=\"background-color:#FFFFFF\">7</td>\n",
    "  </tr>\n",
    "  <tr>\n",
    "    <td style=\"background-color:#FFFFFF\">8</td>\n",
    "    <td style=\"background-color:#DAF7A6\">9</td>\n",
    "    <td style=\"background-color:#FFFFFF\">10</td>\n",
    "    <td style=\"background-color:#FFFFFF\">11</td>\n",
    "  </tr>\n",
    "  <tr>\n",
    "    <td style=\"background-color:#FFFFFF\">12</td>\n",
    "    <td style=\"background-color:#FFFFFF\">13</td>\n",
    "    <td style=\"background-color:#FFFFFF\">14</td>\n",
    "    <td style=\"background-color:#FFFFFF\">15</td>\n",
    "  </tr>"
   ]
  },
  {
   "cell_type": "code",
   "execution_count": 51,
   "metadata": {},
   "outputs": [
    {
     "data": {
      "text/plain": [
       "9"
      ]
     },
     "execution_count": 51,
     "metadata": {},
     "output_type": "execute_result"
    }
   ],
   "source": [
    "a[2 , 1] #Row , Column"
   ]
  },
  {
   "cell_type": "code",
   "execution_count": 52,
   "metadata": {},
   "outputs": [
    {
     "data": {
      "text/plain": [
       "True"
      ]
     },
     "execution_count": 52,
     "metadata": {},
     "output_type": "execute_result"
    }
   ],
   "source": [
    "a[2,1] == a[(2,1)]"
   ]
  },
  {
   "cell_type": "markdown",
   "metadata": {
    "slideshow": {
     "slide_type": "subslide"
    }
   },
   "source": [
    "**2. Selecció d'una secció de l'array**\n",
    "\n",
    "<table>\n",
    "  <tr>\n",
    "    <td style=\"background-color:#DAF7A6\">0</td>\n",
    "    <td style=\"background-color:#FFFFFF\">1</td>\n",
    "    <td style=\"background-color:#FFFFFF\">2</td>\n",
    "    <td style=\"background-color:#FFFFFF\">3</td>\n",
    "  </tr>\n",
    "  <tr>\n",
    "    <td style=\"background-color:#DAF7A6\">4</td>\n",
    "    <td style=\"background-color:#FFFFFF\">5</td>\n",
    "    <td style=\"background-color:#FFFFFF\">6</td>\n",
    "    <td style=\"background-color:#FFFFFF\">7</td>\n",
    "  </tr>\n",
    "  <tr>\n",
    "    <td style=\"background-color:#DAF7A6\">8</td>\n",
    "    <td style=\"background-color:#FFFFFF\">9</td>\n",
    "    <td style=\"background-color:#FFFFFF\">10</td>\n",
    "    <td style=\"background-color:#FFFFFF\">11</td>\n",
    "  </tr>\n",
    "  <tr>\n",
    "    <td style=\"background-color:#FFFFFF\">12</td>\n",
    "    <td style=\"background-color:#FFFFFF\">13</td>\n",
    "    <td style=\"background-color:#FFFFFF\">14</td>\n",
    "    <td style=\"background-color:#FFFFFF\">15</td>\n",
    "  </tr>"
   ]
  },
  {
   "cell_type": "code",
   "execution_count": 53,
   "metadata": {
    "tags": []
   },
   "outputs": [
    {
     "data": {
      "text/plain": [
       "array([[ 0,  1,  2,  3],\n",
       "       [ 4,  5,  6,  7],\n",
       "       [ 8,  9, 10, 11]])"
      ]
     },
     "execution_count": 53,
     "metadata": {},
     "output_type": "execute_result"
    }
   ],
   "source": [
    "#1. Seleccionem les files: FEM UN TALL HORITZONTAL\n",
    "a[:3] # mostra 3 files, :3 indica l'end"
   ]
  },
  {
   "cell_type": "code",
   "execution_count": 54,
   "metadata": {},
   "outputs": [
    {
     "data": {
      "text/plain": [
       "array([0, 1, 2, 3])"
      ]
     },
     "execution_count": 54,
     "metadata": {},
     "output_type": "execute_result"
    }
   ],
   "source": [
    "#2. Seleccionem les columnes: FEM UN TALL VERTICAL\n",
    "a[0] # es l'start"
   ]
  },
  {
   "cell_type": "code",
   "execution_count": 55,
   "metadata": {},
   "outputs": [
    {
     "data": {
      "text/plain": [
       "array([0, 4, 8])"
      ]
     },
     "execution_count": 55,
     "metadata": {},
     "output_type": "execute_result"
    }
   ],
   "source": [
    "# De la primera a la última fila (no inclosa), la primera columna\n",
    "#Opció 1\n",
    "a[:3, 0]"
   ]
  },
  {
   "cell_type": "code",
   "execution_count": 56,
   "metadata": {
    "tags": []
   },
   "outputs": [
    {
     "data": {
      "text/plain": [
       "array([0, 4, 8])"
      ]
     },
     "execution_count": 56,
     "metadata": {},
     "output_type": "execute_result"
    }
   ],
   "source": [
    "# De la primera a la última fila (no inclosa), la primera columna\n",
    "#Opció 2\n",
    "a[:-1, 0]"
   ]
  },
  {
   "cell_type": "markdown",
   "metadata": {
    "slideshow": {
     "slide_type": "subslide"
    }
   },
   "source": [
    "<table>\n",
    "  <tr>\n",
    "    <td style=\"background-color:#FFFFFF\">0</td>\n",
    "    <td style=\"background-color:#FFFFFF\">1</td>\n",
    "    <td style=\"background-color:#FFFFFF\">2</td>\n",
    "    <td style=\"background-color:#FFFFFF\">3</td>\n",
    "  </tr>\n",
    "  <tr>\n",
    "    <td style=\"background-color:#DAF7A6\">4</td>\n",
    "    <td style=\"background-color:#DAF7A6\">5</td>\n",
    "    <td style=\"background-color:#DAF7A6\">6</td>\n",
    "    <td style=\"background-color:#FFFFFF\">7</td>\n",
    "  </tr>\n",
    "  <tr>\n",
    "    <td style=\"background-color:#DAF7A6\">8</td>\n",
    "    <td style=\"background-color:#DAF7A6\">9</td>\n",
    "    <td style=\"background-color:#DAF7A6\">10</td>\n",
    "    <td style=\"background-color:#FFFFFF\">11</td>\n",
    "  </tr>\n",
    "  <tr>\n",
    "    <td style=\"background-color:#FFFFFF\">12</td>\n",
    "    <td style=\"background-color:#FFFFFF\">13</td>\n",
    "    <td style=\"background-color:#FFFFFF\">14</td>\n",
    "    <td style=\"background-color:#FFFFFF\">15</td>\n",
    "  </tr>"
   ]
  },
  {
   "cell_type": "code",
   "execution_count": 57,
   "metadata": {
    "tags": []
   },
   "outputs": [
    {
     "data": {
      "text/plain": [
       "array([[ 4,  5,  6],\n",
       "       [ 8,  9, 10]])"
      ]
     },
     "execution_count": 57,
     "metadata": {},
     "output_type": "execute_result"
    }
   ],
   "source": [
    "# De la segona a la última fila (no inclosa), de la primera a la última fila (no inclosa)\n",
    "# Opció 1\n",
    "a[1:3,    0:3]"
   ]
  },
  {
   "cell_type": "code",
   "execution_count": 58,
   "metadata": {},
   "outputs": [
    {
     "data": {
      "text/plain": [
       "array([[ 4,  5,  6],\n",
       "       [ 8,  9, 10]])"
      ]
     },
     "execution_count": 58,
     "metadata": {},
     "output_type": "execute_result"
    }
   ],
   "source": [
    "# De la segona a la última fila (no inclosa), de la primera a la última fila (no inclosa)\n",
    "# Opció2\n",
    "a[1:-1,  :-1] "
   ]
  },
  {
   "cell_type": "markdown",
   "metadata": {
    "slideshow": {
     "slide_type": "subslide"
    }
   },
   "source": [
    "**2. Selecció de certes coordenades de l'array**\n",
    "\n",
    "En aquest cas, seleccionem les FILES (o les X) de les coordenades d'interès, que es relacionaran amb les COLUMNES (o les Y) dos a dos. Per tal d'agrupar totes les X i les Y, farem servir els claudàtors per tal d'indicar que es tracta d'una llista. En aquest exemple:\n",
    " - 0 es troba a (0,0)\n",
    " - 7 es troba a (1,3)\n",
    " - 13 es troba a (3,1)\n",
    " \n",
    "\n",
    "<table>\n",
    "  <tr>\n",
    "    <td style=\"background-color:#DAF7A6\">0</td>\n",
    "    <td style=\"background-color:#FFFFFF\">1</td>\n",
    "    <td style=\"background-color:#FFFFFF\">2</td>\n",
    "    <td style=\"background-color:#FFFFFF\">3</td>\n",
    "  </tr>\n",
    "  <tr>\n",
    "    <td style=\"background-color:#FFFFFF\">4</td>\n",
    "    <td style=\"background-color:#FFFFFF\">5</td>\n",
    "    <td style=\"background-color:#FFFFFF\">6</td>\n",
    "    <td style=\"background-color:#DAF7A6\">7</td>\n",
    "  </tr>\n",
    "  <tr>\n",
    "    <td style=\"background-color:#FFFFFF\">8</td>\n",
    "    <td style=\"background-color:#FFFFFF\">9</td>\n",
    "    <td style=\"background-color:#FFFFFF\">10</td>\n",
    "    <td style=\"background-color:#FFFFFF\">11</td>\n",
    "  </tr>\n",
    "  <tr>\n",
    "    <td style=\"background-color:#FFFFFF\">12</td>\n",
    "    <td style=\"background-color:#DAF7A6\">13</td>\n",
    "    <td style=\"background-color:#FFFFFF\">14</td>\n",
    "    <td style=\"background-color:#FFFFFF\">15</td>\n",
    "  </tr>"
   ]
  },
  {
   "cell_type": "code",
   "execution_count": 10,
   "metadata": {},
   "outputs": [
    {
     "data": {
      "text/plain": [
       "array([ 0,  7, 13])"
      ]
     },
     "execution_count": 10,
     "metadata": {},
     "output_type": "execute_result"
    }
   ],
   "source": [
    "# En una llista específiquem tots els índex per a cada eix de les posicions d'interès\n",
    "a[[0, 1, 3], [0, 3, 1]] "
   ]
  },
  {
   "cell_type": "markdown",
   "metadata": {
    "slideshow": {
     "slide_type": "subslide"
    }
   },
   "source": [
    "**3. Selecció de certes seccions i posicions de l'array**\n",
    "\n",
    "Combinem les dues maneres de seleccionar que hem vist. Per tant, en primer lloc seleccionem per slicing la secció de files que ens interessa. A continuació, fem servir els claudàtors per a generar una llista que limiti les columnes que volem. \n",
    "\n",
    "<hr>\n",
    "<table>\n",
    "  <tr>\n",
    "    <td style=\"background-color:#DAF7A6\">0</td>\n",
    "    <td style=\"background-color:#FFFFFF\">1</td>\n",
    "    <td style=\"background-color:#DAF7A6\">2</td>\n",
    "    <td style=\"background-color:#DAF7A6\">3</td>\n",
    "  </tr>\n",
    "  <tr>\n",
    "    <td style=\"background-color:#FFFFFF\">4</td>\n",
    "    <td style=\"background-color:#FFFFFF\">5</td>\n",
    "    <td style=\"background-color:#FFFFFF\">6</td>\n",
    "    <td style=\"background-color:#FFFFFF\">7</td>\n",
    "  </tr>\n",
    "  <tr>\n",
    "    <td style=\"background-color:#DAF7A6\">8</td>\n",
    "    <td style=\"background-color:#FFFFFF\">9</td>\n",
    "    <td style=\"background-color:#DAF7A6\">10</td>\n",
    "    <td style=\"background-color:#DAF7A6\">11</td>\n",
    "  </tr>\n",
    "  <tr>\n",
    "    <td style=\"background-color:#FFFFFF\">12</td>\n",
    "    <td style=\"background-color:#FFFFFF\">13</td>\n",
    "    <td style=\"background-color:#FFFFFF\">14</td>\n",
    "    <td style=\"background-color:#FFFFFF\">15</td>\n",
    "  </tr>\n"
   ]
  },
  {
   "cell_type": "code",
   "execution_count": 20,
   "metadata": {
    "slideshow": {
     "slide_type": "subslide"
    }
   },
   "outputs": [
    {
     "ename": "IndexError",
     "evalue": "shape mismatch: indexing arrays could not be broadcast together with shapes (2,) (3,) ",
     "output_type": "error",
     "traceback": [
      "\u001b[1;31m---------------------------------------------------------------------------\u001b[0m",
      "\u001b[1;31mIndexError\u001b[0m                                Traceback (most recent call last)",
      "Cell \u001b[1;32mIn[20], line 3\u001b[0m\n\u001b[0;32m      1\u001b[0m \u001b[38;5;124;03m\"\"\"Opció errònea: Si fem servir els claudàtors per a les files, en aquest cas, \u001b[39;00m\n\u001b[0;32m      2\u001b[0m \u001b[38;5;124;03mintentarà relacionarles coordenades de X i Y\"\"\"\u001b[39;00m\n\u001b[1;32m----> 3\u001b[0m a[[\u001b[38;5;241m0\u001b[39m,\u001b[38;5;241m2\u001b[39m] ,[\u001b[38;5;241m0\u001b[39m,\u001b[38;5;241m2\u001b[39m,\u001b[38;5;241m3\u001b[39m]]\n",
      "\u001b[1;31mIndexError\u001b[0m: shape mismatch: indexing arrays could not be broadcast together with shapes (2,) (3,) "
     ]
    }
   ],
   "source": [
    "\"\"\"Opció errònea: Si fem servir els claudàtors per a les files, en aquest cas, \n",
    "intentarà relacionarles coordenades de X i Y\"\"\"\n",
    "a[[0,2] ,[0,2,3]]"
   ]
  },
  {
   "cell_type": "code",
   "execution_count": 21,
   "metadata": {},
   "outputs": [
    {
     "name": "stdout",
     "output_type": "stream",
     "text": [
      "array a:\n",
      " [[ 0  1  2  3]\n",
      " [ 4  5  6  7]\n",
      " [ 8  9 10 11]\n",
      " [12 13 14 15]] \n",
      "\n"
     ]
    }
   ],
   "source": [
    "print(\"array a:\\n\", a, \"\\n\")"
   ]
  },
  {
   "cell_type": "code",
   "execution_count": 22,
   "metadata": {
    "slideshow": {
     "slide_type": "subslide"
    }
   },
   "outputs": [
    {
     "name": "stdout",
     "output_type": "stream",
     "text": [
      "array b:\n",
      " [[ 0  1  2  3]\n",
      " [ 8  9 10 11]]\n"
     ]
    },
    {
     "data": {
      "text/plain": [
       "array([[ 0,  2,  3],\n",
       "       [ 8, 10, 11]])"
      ]
     },
     "execution_count": 22,
     "metadata": {},
     "output_type": "execute_result"
    }
   ],
   "source": [
    "\"\"\"Si ho fem per llistes, hauríem de fer-ho en dos passos\"\"\"\n",
    "b = a[[0,2]] # selecciona les files 0 i 2 de la matriu a i crea una nova matriu b amb aquestes files. Això significa que b contindrà les files 0 i 2 de la matriu a\n",
    "print(\"array b:\\n\", b)\n",
    "b[:,[0,2,3]] # El primer : indica que volem mantenir totes les files de b, i [0, 2, 3] especifica les columnes que desitges seleccionar."
   ]
  },
  {
   "cell_type": "code",
   "execution_count": 19,
   "metadata": {
    "slideshow": {
     "slide_type": "-"
    },
    "tags": []
   },
   "outputs": [
    {
     "data": {
      "text/plain": [
       "array([[ 0,  2,  3],\n",
       "       [ 8, 10, 11]])"
      ]
     },
     "execution_count": 19,
     "metadata": {},
     "output_type": "execute_result"
    }
   ],
   "source": [
    "\"\"\"Opció correcta: selecció per slicing\"\"\"\n",
    "a[::2, [0, 2, 3]] \n",
    "# El primer índex ::2 es refereix a les files i utilitza una notació de llescat (*slicing). En particular, ::2 significa que seleccionarà totes les files de començant des de la primera fila (índex 0) \n",
    "# i avançant de 2 en 2 files. Això significa que seleccionarà les files 0, 2, 4, 6, i així successivament.\n",
    "# El segon índex [0, 2, 3] es refereix a les columnes que desitges seleccionar. Estàs especificant explícitament les columnes 0, 2 i 3."
   ]
  },
  {
   "cell_type": "markdown",
   "metadata": {
    "slideshow": {
     "slide_type": "subslide"
    },
    "tags": []
   },
   "source": [
    "## **Modificacions del contingut dels arrays**\n",
    "\n",
    "Els arrays admeten assignació per tal de modificar el contingut"
   ]
  },
  {
   "cell_type": "code",
   "execution_count": 24,
   "metadata": {},
   "outputs": [
    {
     "name": "stdout",
     "output_type": "stream",
     "text": [
      "[[-1 -1 -1 -1]\n",
      " [-1 -1 -1 -1]\n",
      " [ 8  9 10 11]\n",
      " [-1 -1 -1 -1]]\n"
     ]
    },
    {
     "data": {
      "text/plain": [
       "array([[-1, -1, -1, -1],\n",
       "       [-1, -1, -1, -1],\n",
       "       [ 8,  9, 10, 11],\n",
       "       [-1, -1, -1, -1]])"
      ]
     },
     "execution_count": 24,
     "metadata": {},
     "output_type": "execute_result"
    }
   ],
   "source": [
    "a[0] = -1\n",
    "print(a)\n",
    "\n",
    "a[-3::2] = -1\n",
    "a"
   ]
  },
  {
   "cell_type": "markdown",
   "metadata": {
    "slideshow": {
     "slide_type": "subslide"
    }
   },
   "source": [
    "## **Exercici 1**\n",
    "\n",
    "Emprant els _atributs_ dels _ndarray_ esbrineu en la següent cel·la:"
   ]
  },
  {
   "cell_type": "code",
   "execution_count": 25,
   "metadata": {},
   "outputs": [
    {
     "data": {
      "text/plain": [
       "array([[ 1,  2,  3,  4],\n",
       "       [ 5,  6,  7,  8],\n",
       "       [ 9, 10, 11, 12]])"
      ]
     },
     "execution_count": 25,
     "metadata": {},
     "output_type": "execute_result"
    }
   ],
   "source": [
    "mat_llista = [[1, 2, 3, 4] , [5, 6, 7, 8], [9, 10, 11, 12] ]\n",
    "mat = np.array(mat_llista)\n",
    "mat"
   ]
  },
  {
   "cell_type": "markdown",
   "metadata": {},
   "source": [
    "- les dimensions de la variable `mat`"
   ]
  },
  {
   "cell_type": "code",
   "execution_count": 26,
   "metadata": {},
   "outputs": [
    {
     "name": "stdout",
     "output_type": "stream",
     "text": [
      "DIMENSIONS: 2\n"
     ]
    }
   ],
   "source": [
    "print (\"DIMENSIONS:\", mat.ndim)"
   ]
  },
  {
   "cell_type": "markdown",
   "metadata": {},
   "source": [
    "- la seva forma, nombre de files i columnes"
   ]
  },
  {
   "cell_type": "code",
   "execution_count": 27,
   "metadata": {},
   "outputs": [
    {
     "name": "stdout",
     "output_type": "stream",
     "text": [
      "SHAPE: (3, 4)\n"
     ]
    }
   ],
   "source": [
    "print (\"SHAPE:\", mat.shape)"
   ]
  },
  {
   "cell_type": "markdown",
   "metadata": {
    "tags": []
   },
   "source": [
    "- el nombre d'elements que conté"
   ]
  },
  {
   "cell_type": "code",
   "execution_count": 28,
   "metadata": {},
   "outputs": [
    {
     "name": "stdout",
     "output_type": "stream",
     "text": [
      "SIZE: 12\n"
     ]
    }
   ],
   "source": [
    "print (\"SIZE:\", mat.size)"
   ]
  },
  {
   "cell_type": "markdown",
   "metadata": {
    "tags": []
   },
   "source": [
    "- comproveu que l'element de la tercera fila, segona columna de la llista i la matriu NumPy són el mateix. Comproveu-ho en les dues variables."
   ]
  },
  {
   "cell_type": "code",
   "execution_count": 30,
   "metadata": {},
   "outputs": [
    {
     "data": {
      "text/plain": [
       "True"
      ]
     },
     "execution_count": 30,
     "metadata": {},
     "output_type": "execute_result"
    }
   ],
   "source": [
    "# llista == array\n",
    "mat_llista[2][1] == mat[2, 1]"
   ]
  },
  {
   "cell_type": "markdown",
   "metadata": {},
   "source": [
    "- creeu la mateixa matriu utilizant les funcions `arange` i `reshape`"
   ]
  },
  {
   "cell_type": "code",
   "execution_count": 33,
   "metadata": {},
   "outputs": [
    {
     "data": {
      "text/plain": [
       "array([[1, 2, 3],\n",
       "       [4, 5, 6],\n",
       "       [7, 8, 9]])"
      ]
     },
     "execution_count": 33,
     "metadata": {},
     "output_type": "execute_result"
    }
   ],
   "source": [
    "mat_numpy = np.arange(1, 10).reshape(3, 3)\n",
    "mat_numpy"
   ]
  },
  {
   "cell_type": "markdown",
   "metadata": {
    "slideshow": {
     "slide_type": "subslide"
    }
   },
   "source": [
    "## 7.5 Cerques i filtres:  Boolean array indexing\n",
    "\n",
    "NumPy permet filtrar o fer *slices* amb arrays booleans, obtinguts per exemple d'operacions de comparació."
   ]
  },
  {
   "cell_type": "code",
   "execution_count": 34,
   "metadata": {},
   "outputs": [
    {
     "name": "stdout",
     "output_type": "stream",
     "text": [
      "[ 4  5  6  7  8  9 10 11 12 13 14 15]\n",
      "[False False False False False False False  True  True  True  True  True]\n"
     ]
    },
    {
     "data": {
      "text/plain": [
       "array([11, 12, 13, 14, 15])"
      ]
     },
     "execution_count": 34,
     "metadata": {},
     "output_type": "execute_result"
    }
   ],
   "source": [
    "a = np.arange(4,16)\n",
    "print(a)\n",
    "\n",
    "idx = a > 10\n",
    "print(idx)\n",
    "\n",
    "a[idx]"
   ]
  },
  {
   "cell_type": "code",
   "execution_count": 35,
   "metadata": {},
   "outputs": [
    {
     "data": {
      "text/plain": [
       "array([4, 5, 6])"
      ]
     },
     "execution_count": 35,
     "metadata": {},
     "output_type": "execute_result"
    }
   ],
   "source": [
    "a[(a>2) & (a<7)]"
   ]
  },
  {
   "cell_type": "markdown",
   "metadata": {
    "slideshow": {
     "slide_type": "subslide"
    }
   },
   "source": [
    "La funció `where()` retorna els índexs de l'array que compleixen una condició."
   ]
  },
  {
   "cell_type": "code",
   "execution_count": 36,
   "metadata": {
    "scrolled": true
   },
   "outputs": [
    {
     "name": "stdout",
     "output_type": "stream",
     "text": [
      "(array([ 7,  8,  9, 10, 11], dtype=int64),)\n"
     ]
    },
    {
     "data": {
      "text/plain": [
       "array([11, 12, 13, 14, 15])"
      ]
     },
     "execution_count": 36,
     "metadata": {},
     "output_type": "execute_result"
    }
   ],
   "source": [
    "#Posicions dels valors que cumpleixen una determinada posició\n",
    "idx = np.where(a>10)\n",
    "print(idx)\n",
    "\n",
    "a[idx]"
   ]
  },
  {
   "cell_type": "markdown",
   "metadata": {
    "slideshow": {
     "slide_type": "subslide"
    }
   },
   "source": [
    "> <img src=\"https://icon-library.com/images/tip-icon/tip-icon-23.jpg\" alt=\"tip\" width=\"30\"/> L'*slicing* crea una *vista* \n",
    "de l'array, no una copia com passa en llistes, tuples o strings. L'slice fa referència a la matriu original i modificacions en l'slice afecten a l'array original.\n",
    "Per evitar aquest comportament es recomana fer servir la  funció `copy()`"
   ]
  },
  {
   "cell_type": "code",
   "execution_count": 37,
   "metadata": {},
   "outputs": [
    {
     "name": "stdout",
     "output_type": "stream",
     "text": [
      "[ 0  1  2  3  4  5  6  7  8  9 10 11]\n",
      "[3 4]\n",
      "[-1 -1]\n"
     ]
    },
    {
     "data": {
      "text/plain": [
       "array([ 0,  1,  2, -1, -1,  5,  6,  7,  8,  9, 10, 11])"
      ]
     },
     "execution_count": 37,
     "metadata": {},
     "output_type": "execute_result"
    }
   ],
   "source": [
    "a = np.arange(12)\n",
    "print(a)\n",
    "\n",
    "a_slice = a[3:5]\n",
    "print(a_slice)\n",
    "\n",
    "a_slice[:] = -1\n",
    "print(a_slice)\n",
    "\n",
    "a"
   ]
  },
  {
   "cell_type": "markdown",
   "metadata": {
    "slideshow": {
     "slide_type": "subslide"
    }
   },
   "source": [
    "## **Exercici 2**\n",
    "\n",
    "Crear el següent array de 3x3 i llavors:\n",
    "\n",
    "```python\n",
    "a = np.array( [[ 1,2,3], [4,5,6], [7,8,9]] )\n",
    "```\n",
    "\n",
    "1) selecciona el número 6\n",
    "2) selecciona els números 4, 5, 7 i 8. \n",
    "3) selecciona l'última fila\n",
    "4) selecciona la primera fila\n",
    "5) inverteix l'ordre de les files de l'array\n",
    "6) selecciona els números: 2, 6, 7."
   ]
  },
  {
   "cell_type": "code",
   "execution_count": 48,
   "metadata": {},
   "outputs": [
    {
     "name": "stdout",
     "output_type": "stream",
     "text": [
      "1.  6 \n",
      "\n",
      "2.  [[4 5]\n",
      " [7 8]] \n",
      "\n",
      "3.  [7 8 9] \n",
      "\n",
      "4.  [1 2 3] \n",
      "\n",
      "5.  [[7 8 9]\n",
      " [4 5 6]\n",
      " [1 2 3]] \n",
      "\n",
      "6.  [[2]\n",
      " [5]] \n",
      "\n"
     ]
    }
   ],
   "source": [
    "a = np.array( [[ 1,2,3], [4,5,6], [7,8,9]] )\n",
    "numero_sis = a[1, 2]\n",
    "print(\"1. \", numero_sis, \"\\n\")\n",
    "\n",
    "res = a[1:3, 0:2]\n",
    "print(\"2. \", res, \"\\n\")\n",
    "\n",
    "res3 = a[2, :]\n",
    "print(\"3. \", res3, \"\\n\")\n",
    "\n",
    "res4 = a[0]\n",
    "print(\"4. \", res4, \"\\n\")\n",
    "\n",
    "a_invertida = a[::-1, :]\n",
    "print(\"5. \", a_invertida, \"\\n\")\n",
    "\n",
    "res6 = a[0:2, 1:2]\n",
    "print(\"6. \", res6, \"\\n\")"
   ]
  },
  {
   "cell_type": "markdown",
   "metadata": {
    "slideshow": {
     "slide_type": "subslide"
    }
   },
   "source": [
    "## 7.6 Operacions bàsiques entre arrays\n",
    "\n",
    "Els operadors aritmètics dels arrays s'apliquen d'element a element (*element-wise*)."
   ]
  },
  {
   "cell_type": "code",
   "execution_count": 49,
   "metadata": {},
   "outputs": [
    {
     "data": {
      "text/plain": [
       "array([[1., 2.],\n",
       "       [3., 4.]])"
      ]
     },
     "execution_count": 49,
     "metadata": {},
     "output_type": "execute_result"
    }
   ],
   "source": [
    "a = np.array([[1,2],[3,4]], dtype=np.float64)\n",
    "a"
   ]
  },
  {
   "cell_type": "code",
   "execution_count": 50,
   "metadata": {},
   "outputs": [
    {
     "data": {
      "text/plain": [
       "array([[5., 6.],\n",
       "       [7., 8.]])"
      ]
     },
     "execution_count": 50,
     "metadata": {},
     "output_type": "execute_result"
    }
   ],
   "source": [
    "b = np.array([[5,6],[7,8]], dtype=np.float64)\n",
    "b"
   ]
  },
  {
   "cell_type": "code",
   "execution_count": 51,
   "metadata": {
    "slideshow": {
     "slide_type": "subslide"
    }
   },
   "outputs": [
    {
     "data": {
      "text/plain": [
       "array([[ 6.,  8.],\n",
       "       [10., 12.]])"
      ]
     },
     "execution_count": 51,
     "metadata": {},
     "output_type": "execute_result"
    }
   ],
   "source": [
    "#Suma de dos arrays. ATENCIÓ: si no tenen igual dimensions, ens donarà error\n",
    "a + b"
   ]
  },
  {
   "cell_type": "code",
   "execution_count": 52,
   "metadata": {},
   "outputs": [
    {
     "data": {
      "text/plain": [
       "array([[-4., -4.],\n",
       "       [-4., -4.]])"
      ]
     },
     "execution_count": 52,
     "metadata": {},
     "output_type": "execute_result"
    }
   ],
   "source": [
    "#Resta de dos arrays\n",
    "a - b"
   ]
  },
  {
   "cell_type": "code",
   "execution_count": 53,
   "metadata": {},
   "outputs": [
    {
     "data": {
      "text/plain": [
       "array([[1.        , 1.41421356],\n",
       "       [1.73205081, 2.        ]])"
      ]
     },
     "execution_count": 53,
     "metadata": {},
     "output_type": "execute_result"
    }
   ],
   "source": [
    "# Arrel Quadrada\n",
    "np.sqrt(a)"
   ]
  },
  {
   "cell_type": "code",
   "execution_count": 54,
   "metadata": {},
   "outputs": [
    {
     "data": {
      "text/plain": [
       "array([[ 1.,  4.],\n",
       "       [ 9., 16.]])"
      ]
     },
     "execution_count": 54,
     "metadata": {},
     "output_type": "execute_result"
    }
   ],
   "source": [
    "a ** 2"
   ]
  },
  {
   "cell_type": "code",
   "execution_count": 55,
   "metadata": {},
   "outputs": [
    {
     "data": {
      "text/plain": [
       "array([[ 0.84147098,  0.90929743],\n",
       "       [ 0.14112001, -0.7568025 ]])"
      ]
     },
     "execution_count": 55,
     "metadata": {},
     "output_type": "execute_result"
    }
   ],
   "source": [
    "np.sin(a)"
   ]
  },
  {
   "cell_type": "code",
   "execution_count": 56,
   "metadata": {
    "slideshow": {
     "slide_type": "subslide"
    }
   },
   "outputs": [
    {
     "data": {
      "text/plain": [
       "array([[ 5., 12.],\n",
       "       [21., 32.]])"
      ]
     },
     "execution_count": 56,
     "metadata": {},
     "output_type": "execute_result"
    }
   ],
   "source": [
    "#Multiplicació de dos arrays\n",
    "a * b"
   ]
  },
  {
   "cell_type": "markdown",
   "metadata": {},
   "source": [
    "> <img src=\"https://icon-library.com/images/tip-icon/tip-icon-23.jpg\" alt=\"tip\" width=\"30\"/> El símbol `*` fa una multiplicació *elementwise* (element a element) dels dos arrays. Això és diferent del producte escalar entre matrius, que es pot obtenir utilitzant la funció `dot()` (dot product)"
   ]
  },
  {
   "cell_type": "code",
   "execution_count": 57,
   "metadata": {},
   "outputs": [
    {
     "data": {
      "text/plain": [
       "array([[19., 22.],\n",
       "       [43., 50.]])"
      ]
     },
     "execution_count": 57,
     "metadata": {},
     "output_type": "execute_result"
    }
   ],
   "source": [
    "np.dot(a,b)"
   ]
  },
  {
   "cell_type": "markdown",
   "metadata": {
    "slideshow": {
     "slide_type": "subslide"
    }
   },
   "source": [
    "## Funcions Universals\n",
    "\n",
    "Les **[funcions universals](https://docs.scipy.org/doc/numpy/reference/ufuncs.html)** de numpy (ufunc) són funcions que operen en objectes *ndarray* element per element. Es a dir, dins de NumPy, aquestes funcions funcionen de manera elemental en un array, produint una matriu com a sortida.\n",
    "\n",
    "- `numpy.min()` proporciona el valor mínim de l'array\n",
    "- `numpy.argmin()` retorna la **posició** que ocupa el valor mínim dins de l'array\n",
    "- `numpy.max()` proporciona el valor màxim de l'array\n",
    "- `numpy.argmax()` retorna la **posició** que ocupa el valor màxim dins de l'array\n",
    "- `numpy.mean()` proporciona la [mitjana aritmètica](https://ca.wikipedia.org/wiki/Mitjana_aritm%C3%A8tica) dels valors de l'array\n",
    "- `numpy.var()`  proporciona la [variància](https://ca.wikipedia.org/wiki/Vari%C3%A0ncia) dels valors de l'array\n",
    "- `numpy.std()` proporciona la [desviació estàndard](https://ca.wikipedia.org/wiki/Desviaci%C3%B3_tipus)\n",
    "- `numpy.sum()` retorna el sumatori de tots els valors de l'array\n",
    "- `numpy.prod()` retorna el productori de tots els valors de l'array\n",
    "\n",
    "Per defecte, aquestes operacions s'apliquen a l'array independentment de la seva forma. Especificant el paràmetre `axis`, es pot aplicar una operació al llarg d'un eix concret de l'array\n",
    "\n"
   ]
  },
  {
   "cell_type": "code",
   "execution_count": 58,
   "metadata": {
    "slideshow": {
     "slide_type": "subslide"
    }
   },
   "outputs": [
    {
     "data": {
      "text/plain": [
       "array([[44, 47,  0],\n",
       "       [ 3,  3, 39],\n",
       "       [ 9, 19, 21]])"
      ]
     },
     "execution_count": 58,
     "metadata": {},
     "output_type": "execute_result"
    }
   ],
   "source": [
    "# Genera un array de 3x3 amb nombres enters de forma random\n",
    "a = np.random.seed(0)\n",
    "a = np.random.randint(50, size=(3,3))\n",
    "a"
   ]
  },
  {
   "cell_type": "code",
   "execution_count": 61,
   "metadata": {},
   "outputs": [
    {
     "name": "stdout",
     "output_type": "stream",
     "text": [
      "185\n",
      "[56 69 60]\n",
      "[91 45 49]\n"
     ]
    }
   ],
   "source": [
    "print(a.sum())\n",
    "print(a.sum(axis=0))\n",
    "print(a.sum(axis=1))\n",
    "# print(a.sum(axis=2)) no detecta mai la última fila"
   ]
  },
  {
   "cell_type": "code",
   "execution_count": 62,
   "metadata": {},
   "outputs": [
    {
     "name": "stdout",
     "output_type": "stream",
     "text": [
      "0\n",
      "[3 3 0]\n",
      "[0 3 9]\n"
     ]
    }
   ],
   "source": [
    "print(a.min())\n",
    "print(a.min(axis=0))\n",
    "print(a.min(axis=1))"
   ]
  },
  {
   "cell_type": "markdown",
   "metadata": {
    "slideshow": {
     "slide_type": "subslide"
    }
   },
   "source": [
    "> <img src=\"https://icon-library.com/images/tip-icon/tip-icon-23.jpg\" alt=\"tip\" width=\"30\"/> La majoria de funcions de NumPy es poden executar com a *funcions* `np.max(array)` o com a *métodes* `array.max()`"
   ]
  },
  {
   "cell_type": "markdown",
   "metadata": {
    "slideshow": {
     "slide_type": "subslide"
    }
   },
   "source": [
    "Adaptat de: http://www.labri.fr/perso/nrougier/teaching/numpy.100/"
   ]
  },
  {
   "cell_type": "markdown",
   "metadata": {},
   "source": [
    "## **Exercici 3**\n",
    "\n",
    "Crea un vector nul (que contingui únicament 0s) de mida 10, però en que el cinquè valor sigui 1"
   ]
  },
  {
   "cell_type": "code",
   "execution_count": 63,
   "metadata": {},
   "outputs": [
    {
     "data": {
      "text/plain": [
       "array([0., 0., 0., 0., 1., 0., 0., 0., 0., 0.])"
      ]
     },
     "execution_count": 63,
     "metadata": {},
     "output_type": "execute_result"
    }
   ],
   "source": [
    "vector = np.zeros(10)\n",
    "vector[4] = 1\n",
    "vector"
   ]
  },
  {
   "cell_type": "markdown",
   "metadata": {
    "slideshow": {
     "slide_type": "subslide"
    }
   },
   "source": [
    "## **Exercici 4**\n",
    "\n",
    "Crea una matriu 3x3 amb valors de 0 a 8"
   ]
  },
  {
   "cell_type": "code",
   "execution_count": 64,
   "metadata": {},
   "outputs": [
    {
     "data": {
      "text/plain": [
       "array([[0, 1, 2],\n",
       "       [3, 4, 5],\n",
       "       [6, 7, 8]])"
      ]
     },
     "execution_count": 64,
     "metadata": {},
     "output_type": "execute_result"
    }
   ],
   "source": [
    "mat = np.arange(9).reshape(3, 3)\n",
    "mat"
   ]
  },
  {
   "cell_type": "markdown",
   "metadata": {
    "slideshow": {
     "slide_type": "subslide"
    }
   },
   "source": [
    "## **Exercici 5**\n",
    "\n",
    "Normalitza una matriu random 5x5\n",
    "\n",
    "**NOTA:** La normalizació (feature scaling) consisteix en estandaritzar un conjunt de variables independents. \n",
    "Aquesta acció és molt comú en el processat de dades. \n",
    "\n",
    "El mètode més senzill consisteix en reescalar les variables entre 0.0 i 1.0 seguint la fórmula seguent:\n",
    "\n",
    "\n",
    "$$x'={\\frac  {x-{\\text{min}}(x)}{{\\text{max}}(x)-{\\text{min}}(x)}}$$"
   ]
  },
  {
   "cell_type": "code",
   "execution_count": 67,
   "metadata": {},
   "outputs": [
    {
     "data": {
      "text/plain": [
       "array([[0.55153917, 0.7251367 , 0.60783077, 0.54743825, 0.42094786],\n",
       "       [0.65283363, 0.43548501, 0.90938507, 0.98439526, 0.37898909],\n",
       "       [0.80499445, 0.530756  , 0.57160496, 0.94467685, 0.05302344],\n",
       "       [0.06981522, 0.        , 0.84766433, 0.79083723, 0.88667967],\n",
       "       [1.        , 0.81275064, 0.46041422, 0.79331263, 0.10231222]])"
      ]
     },
     "execution_count": 67,
     "metadata": {},
     "output_type": "execute_result"
    }
   ],
   "source": [
    "#comença així ...\n",
    "\n",
    "np.random.seed(0)\n",
    "x = np.random.random((5,5)) * 30 \n",
    "\n",
    "min = x.min()\n",
    "max = x.max()\n",
    "\n",
    "x_normalized = (x - min) / (max - min)\n",
    "x_normalized"
   ]
  },
  {
   "cell_type": "markdown",
   "metadata": {
    "slideshow": {
     "slide_type": "subslide"
    }
   },
   "source": [
    "## **Exercici 6**\n",
    "\n",
    "Crea un array 10x10  amb uns a tots els marges i zeros a l'interior\n",
    "<table>\n",
    "  <tr>\n",
    "    <td>1</td>\n",
    "    <td>1</td> \n",
    "    <td>1</td>\n",
    "    <td>1</td>\n",
    "  </tr>\n",
    "  <tr>\n",
    "    <td>1</td>\n",
    "    <td>0</td> \n",
    "    <td>0</td>\n",
    "    <td>1</td>\n",
    "  </tr>\n",
    "    <tr>\n",
    "    <td>1</td>\n",
    "    <td>0</td> \n",
    "    <td>0</td>\n",
    "    <td>1</td>\n",
    "  </tr>\n",
    "    <tr>\n",
    "    <td>1</td>\n",
    "    <td>1</td> \n",
    "    <td>1</td>\n",
    "    <td>1</td>\n",
    "  </tr>\n",
    "  \n",
    "</table>"
   ]
  },
  {
   "cell_type": "code",
   "execution_count": 72,
   "metadata": {
    "slideshow": {
     "slide_type": "-"
    }
   },
   "outputs": [
    {
     "data": {
      "text/plain": [
       "array([[1, 1, 1, 1, 1, 1, 1, 1, 1, 1],\n",
       "       [1, 0, 0, 0, 0, 0, 0, 0, 0, 1],\n",
       "       [1, 0, 0, 0, 0, 0, 0, 0, 0, 1],\n",
       "       [1, 0, 0, 0, 0, 0, 0, 0, 0, 1],\n",
       "       [1, 0, 0, 0, 0, 0, 0, 0, 0, 1],\n",
       "       [1, 0, 0, 0, 0, 0, 0, 0, 0, 1],\n",
       "       [1, 0, 0, 0, 0, 0, 0, 0, 0, 1],\n",
       "       [1, 0, 0, 0, 0, 0, 0, 0, 0, 1],\n",
       "       [1, 0, 0, 0, 0, 0, 0, 0, 0, 1],\n",
       "       [1, 1, 1, 1, 1, 1, 1, 1, 1, 1]])"
      ]
     },
     "execution_count": 72,
     "metadata": {},
     "output_type": "execute_result"
    }
   ],
   "source": [
    "mat = np.zeros((10, 10), dtype=int)\n",
    "mat[0, :] = 1  # Primera fila\n",
    "mat[-1, :] = 1  # Ùltima fila\n",
    "mat[:, 0] = 1  # Primera columna\n",
    "mat[:, -1] = 1  # Ùltima columna\n",
    "mat"
   ]
  },
  {
   "cell_type": "markdown",
   "metadata": {
    "slideshow": {
     "slide_type": "subslide"
    }
   },
   "source": [
    "## **Exercici 7**\n",
    "\n",
    "Crea un array 10x10  amb un patró de tauler d'escacs.\n",
    "<table>\n",
    "  <tr>\n",
    "    <td>1</td>\n",
    "    <td>0</td> \n",
    "    <td>1</td>\n",
    "    <td>0</td>\n",
    "  </tr>\n",
    "  <tr>\n",
    "    <td>0</td>\n",
    "    <td>1</td> \n",
    "    <td>0</td>\n",
    "    <td>1</td>\n",
    "  </tr>\n",
    "    <tr>\n",
    "    <td>1</td>\n",
    "    <td>0</td> \n",
    "    <td>1</td>\n",
    "    <td>0</td>\n",
    "  </tr>\n",
    "    <tr>\n",
    "    <td>0</td>\n",
    "    <td>1</td> \n",
    "    <td>0</td>\n",
    "    <td>1</td>\n",
    "  </tr>\n",
    "  \n",
    "</table>"
   ]
  },
  {
   "cell_type": "code",
   "execution_count": 74,
   "metadata": {},
   "outputs": [
    {
     "data": {
      "text/plain": [
       "array([[1, 0, 1, 0, 1, 0, 1, 0, 1, 0],\n",
       "       [0, 1, 0, 1, 0, 1, 0, 1, 0, 1],\n",
       "       [1, 0, 1, 0, 1, 0, 1, 0, 1, 0],\n",
       "       [0, 1, 0, 1, 0, 1, 0, 1, 0, 1],\n",
       "       [1, 0, 1, 0, 1, 0, 1, 0, 1, 0],\n",
       "       [0, 1, 0, 1, 0, 1, 0, 1, 0, 1],\n",
       "       [1, 0, 1, 0, 1, 0, 1, 0, 1, 0],\n",
       "       [0, 1, 0, 1, 0, 1, 0, 1, 0, 1],\n",
       "       [1, 0, 1, 0, 1, 0, 1, 0, 1, 0],\n",
       "       [0, 1, 0, 1, 0, 1, 0, 1, 0, 1]])"
      ]
     },
     "execution_count": 74,
     "metadata": {},
     "output_type": "execute_result"
    }
   ],
   "source": [
    "mat = np.zeros((10, 10), dtype=int)\n",
    "mat[0::2, 0::2] = 1 # seleccionem totes les files i columnes amb un pas de 2. En altres paraules, estem seleccionant les files i columnes en posicions pareixes(par) en la matriu.\n",
    "mat[1::2, 1::2] = 1 # 1::2 comença en 1 i salta de 2 en 2\n",
    "mat"
   ]
  },
  {
   "cell_type": "markdown",
   "metadata": {
    "slideshow": {
     "slide_type": "subslide"
    }
   },
   "source": [
    "## **Exercici 8**\n",
    "\n",
    "Donat una array Z d'una dimensió, canvia el signe dels elements entre els valors 3 i 8"
   ]
  },
  {
   "cell_type": "code",
   "execution_count": 77,
   "metadata": {},
   "outputs": [
    {
     "data": {
      "text/plain": [
       "array([ 0,  1,  2, -3, -4, -5, -6, -7, -8,  9, 10])"
      ]
     },
     "execution_count": 77,
     "metadata": {},
     "output_type": "execute_result"
    }
   ],
   "source": [
    "Z = np.arange(11)\n",
    "Z\n",
    "rang = np.where((Z >= 3) & (Z <= 8))\n",
    "Z[rang] *= -1\n",
    "Z"
   ]
  },
  {
   "cell_type": "markdown",
   "metadata": {
    "slideshow": {
     "slide_type": "subslide"
    }
   },
   "source": [
    "## **Exercici 9**\n",
    "\n",
    "Crea un vector random de tamany 10 i de valors de 0-100. Canvia el seu valor màxim per zero"
   ]
  },
  {
   "cell_type": "code",
   "execution_count": 80,
   "metadata": {},
   "outputs": [
    {
     "name": "stdout",
     "output_type": "stream",
     "text": [
      "vector:  [79  4 42 58 31  1 65 41 57 35] \n",
      "\n",
      "valor maxim == 0:  [ 0  4 42 58 31  1 65 41 57 35]\n"
     ]
    }
   ],
   "source": [
    "v = np.random.randint(0, 101, size=10)\n",
    "print(\"vector: \", v, \"\\n\")\n",
    "im = np.argmax(v)\n",
    "v[im] = 0\n",
    "print(\"valor maxim == 0: \", v)"
   ]
  },
  {
   "cell_type": "markdown",
   "metadata": {
    "slideshow": {
     "slide_type": "subslide"
    }
   },
   "source": [
    "## **Exercici 10**\n",
    "\n",
    "Troba quin és el valor més proper dins un array (Z) a un valor donat (z). Pista: fes-ho a partir de la difència de Z amb el valor z."
   ]
  },
  {
   "cell_type": "code",
   "execution_count": 82,
   "metadata": {},
   "outputs": [],
   "source": [
    "Z = np.random.uniform(0,1,10)\n",
    "z = 0.5"
   ]
  },
  {
   "cell_type": "code",
   "execution_count": 86,
   "metadata": {},
   "outputs": [
    {
     "name": "stdout",
     "output_type": "stream",
     "text": [
      "[0.65314004 0.17090959 0.35815217 0.75068614 0.60783067 0.32504723\n",
      " 0.03842543 0.63427406 0.95894927 0.65279032] \n",
      "\n",
      "Valor més proper: 0.6078306687154678\n",
      "Index del valor més proper: 4\n"
     ]
    }
   ],
   "source": [
    "print(Z, \"\\n\")\n",
    "dif = np.abs(Z - z)\n",
    "\n",
    "# Troba quin és el valor més proper dins un array (Z) a un valor donat (z)\n",
    "prop = np.argmin(dif)\n",
    "\n",
    "# el valor més proper\n",
    "val_prop = Z[prop]\n",
    "\n",
    "print(\"Valor més proper:\", val_prop)\n",
    "print(\"Index del valor més proper:\", prop)"
   ]
  },
  {
   "cell_type": "markdown",
   "metadata": {
    "slideshow": {
     "slide_type": "subslide"
    }
   },
   "source": [
    "## **Exercici 11**\n",
    "\n",
    "Substitueix tots els nombres parells d'un array per -1"
   ]
  },
  {
   "cell_type": "code",
   "execution_count": 92,
   "metadata": {},
   "outputs": [
    {
     "name": "stdout",
     "output_type": "stream",
     "text": [
      "Sene canvis:  [ 0  1  2  3  4  5  6  7  8  9 10 11 12 13 14 15 16 17 18 19] \n",
      "\n"
     ]
    }
   ],
   "source": [
    "X = np.arange(20)\n",
    "print(\"Sene canvis: \", X, \"\\n\")"
   ]
  },
  {
   "cell_type": "code",
   "execution_count": 93,
   "metadata": {},
   "outputs": [
    {
     "name": "stdout",
     "output_type": "stream",
     "text": [
      "Amb canvis:  [-1  1 -1  3 -1  5 -1  7 -1  9 -1 11 -1 13 -1 15 -1 17 -1 19] \n",
      "\n"
     ]
    }
   ],
   "source": [
    "X[X % 2 == 0] = -1\n",
    "print(\"Amb canvis: \", X, \"\\n\")"
   ]
  },
  {
   "cell_type": "markdown",
   "metadata": {
    "slideshow": {
     "slide_type": "subslide"
    }
   },
   "source": [
    "## **Exercici 12**\n",
    "\n",
    "Troba les posicions (índex) on els array a i b coincideixin. \n"
   ]
  },
  {
   "cell_type": "code",
   "execution_count": 95,
   "metadata": {},
   "outputs": [],
   "source": [
    "x = np.array([1,2,3,2,3,4,3,4,5,6])\n",
    "y = np.array([7,2,10,2,7,4,9,4,9,8])"
   ]
  },
  {
   "cell_type": "code",
   "execution_count": 97,
   "metadata": {},
   "outputs": [
    {
     "name": "stdout",
     "output_type": "stream",
     "text": [
      "Posiciones donde a y b coinciden: (array([1, 3, 5, 7], dtype=int64),)\n"
     ]
    }
   ],
   "source": [
    "res = np.where(x == y)\n",
    "print(\"Posiciones donde a y b coinciden:\", res)"
   ]
  }
 ],
 "metadata": {
  "celltoolbar": "Slideshow",
  "kernelspec": {
   "display_name": "maria",
   "language": "python",
   "name": "maria"
  },
  "language_info": {
   "codemirror_mode": {
    "name": "ipython",
    "version": 3
   },
   "file_extension": ".py",
   "mimetype": "text/x-python",
   "name": "python",
   "nbconvert_exporter": "python",
   "pygments_lexer": "ipython3",
   "version": "3.11.5"
  }
 },
 "nbformat": 4,
 "nbformat_minor": 4
}
