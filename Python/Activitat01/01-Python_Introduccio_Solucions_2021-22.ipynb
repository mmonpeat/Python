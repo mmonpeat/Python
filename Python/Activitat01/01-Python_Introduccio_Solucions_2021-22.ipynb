{
 "cells": [
  {
   "cell_type": "markdown",
   "metadata": {},
   "source": [
    "## **Exercici 1**"
   ]
  },
  {
   "cell_type": "markdown",
   "metadata": {},
   "source": [
    "Abans de començar a picar codi, és important entendre què ens demana el problema i saber\n",
    "mentalment quins passos haurem de seguir per tal d’arribar a la solució òptima. En\n",
    "programació, és important, no només fer que el teu codi funcioni, sinó que també resolgui el\n",
    "problema de la manera més eficient possible. Recorda que pots repassar els lemes de The\n",
    "Zen of Python per orientar-te.\n",
    "\n",
    "En aquest cas, el primer de tot és crear les variables i guardar allà els imports de les quatre\n",
    "compres i el canvi de dòlars a euros. Assumirem que el canvi de dòlars a euros és de 0,890."
   ]
  },
  {
   "cell_type": "code",
   "execution_count": 1,
   "metadata": {},
   "outputs": [
    {
     "name": "stdout",
     "output_type": "stream",
     "text": [
      "Introdueix canvi:\n"
     ]
    },
    {
     "name": "stdin",
     "output_type": "stream",
     "text": [
      " 0.890\n"
     ]
    }
   ],
   "source": [
    "c1 = 356.75\n",
    "c2 = 487.45\n",
    "c3 = 295.83\n",
    "c4 = 532.00\n",
    "\n",
    "print('Introdueix canvi:')\n",
    "canvi = input() # canvi dollars a euros\n",
    "\n",
    "canvi = float(canvi)"
   ]
  },
  {
   "cell_type": "markdown",
   "metadata": {},
   "source": [
    "**Nota:** recorda que tots els inputs entren com a string i els hem de canviar a float per fer\n",
    "operacions amb les compres.\n",
    "\n",
    "Tot seguit, podem calcular la suma de les compres i imprimir-ne el resultat:"
   ]
  },
  {
   "cell_type": "code",
   "execution_count": 2,
   "metadata": {},
   "outputs": [
    {
     "name": "stdout",
     "output_type": "stream",
     "text": [
      "Suma de les compres 1488.11 €\n",
      "Mitjana de les compres: 372.03 €\n"
     ]
    }
   ],
   "source": [
    "suma_euros = (c1 + c2 + c3 + c4) * canvi\n",
    "\n",
    "mitjana = suma_euros / 4\n",
    "\n",
    "print(f'Suma de les compres {suma_euros:.2f} €')\n",
    "print(f'Mitjana de les compres: {mitjana:.2f} €')"
   ]
  },
  {
   "cell_type": "markdown",
   "metadata": {},
   "source": [
    "**Nota:** fixa’t en el codi del quadre de dalt. Dins dels { } s’introduirà el valor de la variable a què \n",
    "es fa referència i s’escriurà amb dos decimals. Això servirà per tal de reduir els decimals a només dos.\n",
    "\n",
    "- Resultat de la suma = 1.488, 11 €\n",
    "- Resultat de la mitjana = 372,03 €\n",
    "\n",
    "\n",
    "## **Exercici 2**\n",
    "\n",
    "Ara, resoldrem el segon cas en el qual només hauràs de pagar el 80 % de l’import de la quarta\n",
    "compra:"
   ]
  },
  {
   "cell_type": "code",
   "execution_count": 3,
   "metadata": {},
   "outputs": [
    {
     "name": "stdout",
     "output_type": "stream",
     "text": [
      "Nova suma: 1393.41 €\n",
      "Mitjana de les compres: 348.35 €\n"
     ]
    }
   ],
   "source": [
    "suma_euros_2 = (c1 + c2 + c3 + c4*0.8) * canvi\n",
    "mitjana_2 = suma_euros_2 / 4\n",
    "print(f'Nova suma: {suma_euros_2:.2f} €')\n",
    "print(f'Mitjana de les compres: {mitjana_2:.2f} €')"
   ]
  },
  {
   "cell_type": "markdown",
   "metadata": {},
   "source": [
    "- Resultat de la suma nova = 1.393,41 €\n",
    "- Resultat de la mitjana nova = 348,35 €\n",
    "\n",
    "Finalment, per saber quin tipus de dada és la suma total (qualsevol dels dos casos) i passarla\n",
    "a una de tipus string, hem de fer-ho així:"
   ]
  },
  {
   "cell_type": "code",
   "execution_count": 4,
   "metadata": {},
   "outputs": [
    {
     "name": "stdout",
     "output_type": "stream",
     "text": [
      "<class 'float'>\n",
      "1488.1067\n"
     ]
    }
   ],
   "source": [
    "suma_type = type(suma_euros)\n",
    "suma_string = str(suma_euros)\n",
    "print(type(suma_euros))\n",
    "print(str(suma_euros))"
   ]
  },
  {
   "cell_type": "markdown",
   "metadata": {},
   "source": [
    "## **Exercici 3**\n",
    "\n",
    "Només amb mètodes de strings que hem vist podem resoldre l'exercici de manera prou concisa:"
   ]
  },
  {
   "cell_type": "code",
   "execution_count": 5,
   "metadata": {},
   "outputs": [
    {
     "name": "stdin",
     "output_type": "stream",
     "text": [
      " El bo plau al poble\n"
     ]
    },
    {
     "data": {
      "text/plain": [
       "True"
      ]
     },
     "execution_count": 5,
     "metadata": {},
     "output_type": "execute_result"
    }
   ],
   "source": [
    "text = input()\n",
    "text.upper().replace(\" \", \"\") == text.upper().replace(\" \", \"\")[::-1]"
   ]
  },
  {
   "cell_type": "markdown",
   "metadata": {},
   "source": [
    "Molts de vosaltres heu optat per una solució iterant sobre l'string. A continuació es mostra una possible solució d'aquest estil. Es complica un xic al tenir en compte els espais en blanc.\n",
    "\n",
    "Segueix l'estratègia d'iterar sobre el string, i quan troba un caràcter diferent d'un espai, el compara amb la posició equivalent començant pel final de l'string. Si alguna vegada els dos caràcters (en minúscula) no són el mateix és que no és un palíndrom."
   ]
  },
  {
   "cell_type": "code",
   "execution_count": 6,
   "metadata": {},
   "outputs": [
    {
     "data": {
      "text/plain": [
       "True"
      ]
     },
     "execution_count": 6,
     "metadata": {},
     "output_type": "execute_result"
    }
   ],
   "source": [
    "text = \" El bo plau al poble  \"\n",
    "\n",
    "# Incialitzem les variables \n",
    "pos1 = 0\n",
    "palindrom = True\n",
    "\n",
    "for i in range(len(text)):\n",
    "\n",
    "    char1 = text[i].lower()\n",
    "    \n",
    "    if char1 != ' ':\n",
    "    \n",
    "        # Cerquem l'index equivalent començat pel final sense comptar els espais en blanc\n",
    "                \n",
    "        pos2 = len(text) - 1  \n",
    "        j = 0\n",
    "        \n",
    "        while j <= pos1:\n",
    "            \n",
    "            char2 = text[pos2].lower()\n",
    "            if char2 != ' ':\n",
    "                j += 1\n",
    "            \n",
    "            pos2 -= 1\n",
    "        \n",
    "        # Si una sola vegada no coincidex no és un palíndrom\n",
    "        if char1 != char2:\n",
    "            palindrom = False\n",
    "            \n",
    "        pos1 += 1\n",
    "    \n",
    "palindrom"
   ]
  },
  {
   "cell_type": "markdown",
   "metadata": {},
   "source": [
    "* Com veieu aquesta segona opció és molt més llarga, complicada, i sobretot, més difícil d'explicar i entendre.\n",
    "\n",
    "* Sempre existeixen diverses maneres de resoldre un problem, i generalment preferirem una solució de l'estil de la primera, ja que és més senzilla, llegible i fàcil d'explicar.\n",
    "\n",
    "* Precisament les recomanacions d'estil de Pyhon resumides en The Zen of Python pretenen guiar-nos cap aquí, la primera solució s'hi ajusta més que no pas la segona."
   ]
  }
 ],
 "metadata": {
  "kernelspec": {
   "display_name": "Python 3",
   "language": "python",
   "name": "python3"
  },
  "language_info": {
   "codemirror_mode": {
    "name": "ipython",
    "version": 3
   },
   "file_extension": ".py",
   "mimetype": "text/x-python",
   "name": "python",
   "nbconvert_exporter": "python",
   "pygments_lexer": "ipython3",
   "version": "3.6.10"
  }
 },
 "nbformat": 4,
 "nbformat_minor": 4
}
