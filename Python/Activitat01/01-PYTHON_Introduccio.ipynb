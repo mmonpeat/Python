{
 "cells": [
  {
   "cell_type": "markdown",
   "metadata": {
    "editable": true,
    "slideshow": {
     "slide_type": "slide"
    },
    "tags": []
   },
   "source": [
    "# **01. Introducció a Python**\n",
    "\n",
    "Python és un llenguatge de programació d'**alt nivell** i propòsit general. Suporta diversos paradigmes de programació, incloent-hi **programació orientada a objectes**, imperativa i funcional. Té una **gestió de la memòria automàtica** i una gran i exhaustiva **biblioteca estàndard**."
   ]
  },
  {
   "cell_type": "code",
   "execution_count": 1,
   "metadata": {
    "editable": true,
    "slideshow": {
     "slide_type": "fragment"
    },
    "tags": []
   },
   "outputs": [
    {
     "name": "stdout",
     "output_type": "stream",
     "text": [
      "Hello World!\n"
     ]
    }
   ],
   "source": [
    "print('Hello World!')"
   ]
  },
  {
   "cell_type": "markdown",
   "metadata": {
    "editable": true,
    "slideshow": {
     "slide_type": "fragment"
    },
    "tags": []
   },
   "source": [
    "## 01.01.Sintaxis\n",
    "\n",
    "### **Blocs de codi**\n",
    "\n",
    "Els **blocs de codi** s'indiquen mitjançant el sagnat (**indentation**) de les línies."
   ]
  },
  {
   "cell_type": "code",
   "execution_count": 2,
   "metadata": {
    "editable": true,
    "slideshow": {
     "slide_type": "fragment"
    },
    "tags": []
   },
   "outputs": [
    {
     "name": "stdout",
     "output_type": "stream",
     "text": [
      "495\n"
     ]
    }
   ],
   "source": [
    "suma = 0\n",
    "for i in range(10):\n",
    "    suma += i\n",
    "    for j in range(10):\n",
    "       suma += j\n",
    "print(suma)"
   ]
  },
  {
   "cell_type": "code",
   "execution_count": 3,
   "metadata": {
    "editable": true,
    "slideshow": {
     "slide_type": "fragment"
    },
    "tags": []
   },
   "outputs": [
    {
     "name": "stdout",
     "output_type": "stream",
     "text": [
      "90\n"
     ]
    }
   ],
   "source": [
    "suma = 0\n",
    "for i in range(10):\n",
    "    suma += i\n",
    "for j in range(10):\n",
    "       suma += j\n",
    "print(suma)"
   ]
  },
  {
   "cell_type": "code",
   "execution_count": 7,
   "metadata": {
    "editable": true,
    "slideshow": {
     "slide_type": "fragment"
    },
    "tags": []
   },
   "outputs": [
    {
     "name": "stdout",
     "output_type": "stream",
     "text": [
      "495\n"
     ]
    }
   ],
   "source": [
    "suma = 0\n",
    "for i in range(10):\n",
    "    suma += i\n",
    "    for j in range(10):\n",
    "    suma += j\n",
    "print(suma)"
   ]
  },
  {
   "cell_type": "code",
   "execution_count": 31,
   "metadata": {
    "editable": true,
    "slideshow": {
     "slide_type": "fragment"
    },
    "tags": []
   },
   "outputs": [
    {
     "ename": "IndentationError",
     "evalue": "unindent does not match any outer indentation level (<tokenize>, line 4)",
     "output_type": "error",
     "traceback": [
      "\u001b[1;36m  File \u001b[1;32m<tokenize>:4\u001b[1;36m\u001b[0m\n\u001b[1;33m    for j in range(10):\u001b[0m\n\u001b[1;37m    ^\u001b[0m\n\u001b[1;31mIndentationError\u001b[0m\u001b[1;31m:\u001b[0m unindent does not match any outer indentation level\n"
     ]
    }
   ],
   "source": [
    "suma = 0\n",
    "for i in range(10):\n",
    "   suma += i\n",
    "  for j in range(10):\n",
    "    suma += j\n",
    "print(suma)"
   ]
  },
  {
   "cell_type": "markdown",
   "metadata": {
    "editable": true,
    "slideshow": {
     "slide_type": ""
    },
    "tags": []
   },
   "source": [
    "### **Instruccions**\n",
    "* El fi d'una **instrucció** es marca amb un **final de línia**\n",
    "* Podem crear instruccions multilínea amb el caràcter `\\`.\n",
    "* La continuació de línia és implicita dins de paréntesis `()`, claus `{}` i claudàtors `[]`"
   ]
  },
  {
   "cell_type": "code",
   "execution_count": 11,
   "metadata": {
    "editable": true,
    "slideshow": {
     "slide_type": ""
    },
    "tags": []
   },
   "outputs": [
    {
     "ename": "SyntaxError",
     "evalue": "unterminated string literal (detected at line 1) (2629935684.py, line 1)",
     "output_type": "error",
     "traceback": [
      "\u001b[1;36m  Cell \u001b[1;32mIn[11], line 1\u001b[1;36m\u001b[0m\n\u001b[1;33m    uni = \"Escoles\u001b[0m\n\u001b[1;37m          ^\u001b[0m\n\u001b[1;31mSyntaxError\u001b[0m\u001b[1;31m:\u001b[0m unterminated string literal (detected at line 1)\n"
     ]
    }
   ],
   "source": [
    "uni = \"Escoles \n",
    "Universitàries Gimbernat \n",
    "i Tomàs Cerdà\"\n",
    "\n",
    "print(uni)"
   ]
  },
  {
   "cell_type": "code",
   "execution_count": 12,
   "metadata": {
    "editable": true,
    "slideshow": {
     "slide_type": ""
    },
    "tags": []
   },
   "outputs": [
    {
     "name": "stdout",
     "output_type": "stream",
     "text": [
      "Escoles Universitàries Gimbernat i Tomàs Cerdà\n"
     ]
    }
   ],
   "source": [
    "uni = \"Escoles \\\n",
    "Universitàries Gimbernat \\\n",
    "i Tomàs Cerdà\"\n",
    "\n",
    "print(uni)"
   ]
  },
  {
   "cell_type": "code",
   "execution_count": 13,
   "metadata": {},
   "outputs": [
    {
     "name": "stdout",
     "output_type": "stream",
     "text": [
      "Escoles Universitàries Gimbernat i Tomàs Cerdà\n"
     ]
    }
   ],
   "source": [
    "uni = (\"Escoles \"\n",
    "\"Universitàries Gimbernat \"\n",
    "\"i Tomàs Cerdà\")\n",
    "\n",
    "print(uni)"
   ]
  },
  {
   "cell_type": "markdown",
   "metadata": {},
   "source": [
    "### **Comentaris**\n",
    "* Els **comentaris** són molt importants en tot codi i en faciliten la lectura. <br>\n",
    "* S'utilitza el coixinet `#` per iniciar un comentari. <br>\n",
    "* Podem fer comentaris multilínia amb triples cometes  `\"\"\"`\n",
    "\n",
    "Els comentaris no són executats per l’intèrpret i ens serveixen perquè qui treballi en el mateix projecte pugui seguir i entendre més fàcilment el nostre codi. És molt habitual treballar programant en equip, és la única manera de crear projectes grans i complexos."
   ]
  },
  {
   "cell_type": "code",
   "execution_count": null,
   "metadata": {},
   "outputs": [],
   "source": [
    "#Això és un comentari.\n",
    "#print(\"Hello, World!\")\n",
    "print(\"Hola, món!\")"
   ]
  },
  {
   "cell_type": "code",
   "execution_count": null,
   "metadata": {},
   "outputs": [],
   "source": [
    "\"\"\" Això \n",
    "    és \n",
    "    un \n",
    "    comentari \n",
    "    multilínia\n",
    "    \"\"\"\n",
    "\n",
    "print(\"Hello, World!\")"
   ]
  },
  {
   "cell_type": "markdown",
   "metadata": {},
   "source": [
    "## 01.02 Variables, expressions i declaracions\n",
    "\n",
    "### **Valors i tipus**\n",
    "\n",
    "* Un valor és la representació d'una entitat que el programa pot manipular.\n",
    "* Els valors s'interpreten segons el seu **tipus de dada**.\n",
    "\n",
    "Per exemple \"Hola, món!\" és un valor de tipus string (cadena de caràcters). L'interpret de python ho identifica així per que esta entre cometes.\n",
    "\n",
    "> <img src=\"https://icon-library.com/images/tip-icon/tip-icon-23.jpg\" alt=\"tip\" width=\"50\"/> \n",
    "Tant és utilitzar cometes dobles \" o senzilles ' mentre sigui consistent. \n",
    "\n",
    "Python incorpora els següents tipus de dades predefinits:\n",
    "\n",
    "*Text Type:* `str` <br>\n",
    "*Numeric Types:* `int`, `float`, `complex` <br>\n",
    "*Sequence Types:* `list`, `tuple`, `range` <br>\n",
    "*Mapping Type:* `dict` <br>\n",
    "*Set Types:* `set`, `frozenset`<br>\n",
    "*Boolean Type:* `bool` <br>\n",
    "*Binary Types:* `bytes, bytearray, memoryview` <br>\n",
    "\n",
    "Podem saber el tipus de dada de qualsevol objecte amb la funció `type()`"
   ]
  },
  {
   "cell_type": "markdown",
   "metadata": {},
   "source": [
    "**Strings** (`str`). Cadenes de caràcters. Python els reconeix per estar començats i acabats amb cometes."
   ]
  },
  {
   "cell_type": "code",
   "execution_count": 14,
   "metadata": {},
   "outputs": [
    {
     "name": "stdout",
     "output_type": "stream",
     "text": [
      "<class 'str'>\n"
     ]
    }
   ],
   "source": [
    "# Strings\n",
    "print(type(\"Hola món\"))"
   ]
  },
  {
   "cell_type": "markdown",
   "metadata": {},
   "source": [
    "Nombre **enters** (`int`). Números positius i negatius sense decimals. S’inclou també el zero."
   ]
  },
  {
   "cell_type": "code",
   "execution_count": 15,
   "metadata": {},
   "outputs": [
    {
     "name": "stdout",
     "output_type": "stream",
     "text": [
      "<class 'int'>\n"
     ]
    }
   ],
   "source": [
    "# Nombres sencers\n",
    "print(type(1))"
   ]
  },
  {
   "cell_type": "markdown",
   "metadata": {},
   "source": [
    "Nombre **decimals** (`float`). Nombres positius o negatius amb decimals"
   ]
  },
  {
   "cell_type": "code",
   "execution_count": 16,
   "metadata": {},
   "outputs": [
    {
     "name": "stdout",
     "output_type": "stream",
     "text": [
      "<class 'float'>\n"
     ]
    }
   ],
   "source": [
    "# Nombres decimals\n",
    "print(type(1.0))"
   ]
  },
  {
   "cell_type": "markdown",
   "metadata": {},
   "source": [
    "**Booleans** (`bool`). Només poden representar dos valors: Veritat (`True`) o Fals (`False`)"
   ]
  },
  {
   "cell_type": "code",
   "execution_count": 17,
   "metadata": {},
   "outputs": [
    {
     "name": "stdout",
     "output_type": "stream",
     "text": [
      "<class 'bool'>\n"
     ]
    }
   ],
   "source": [
    "# Booleans\n",
    "print(type(True))"
   ]
  },
  {
   "cell_type": "code",
   "execution_count": 18,
   "metadata": {},
   "outputs": [
    {
     "name": "stdout",
     "output_type": "stream",
     "text": [
      "<class 'list'>\n"
     ]
    }
   ],
   "source": [
    "# Llistes\n",
    "print(type([\"a\", \"b\"]))"
   ]
  },
  {
   "cell_type": "code",
   "execution_count": 19,
   "metadata": {},
   "outputs": [
    {
     "name": "stdout",
     "output_type": "stream",
     "text": [
      "<class 'dict'>\n"
     ]
    }
   ],
   "source": [
    "# Diccionaris\n",
    "print(type({\"a\": 1}))"
   ]
  },
  {
   "cell_type": "code",
   "execution_count": 20,
   "metadata": {},
   "outputs": [
    {
     "name": "stdout",
     "output_type": "stream",
     "text": [
      "<class 'builtin_function_or_method'>\n"
     ]
    }
   ],
   "source": [
    "# Funcions\n",
    "print(type(print))"
   ]
  },
  {
   "cell_type": "markdown",
   "metadata": {},
   "source": [
    "Es pot convertir d'un tipus de dada a una altra mitjançant el ***casting***"
   ]
  },
  {
   "cell_type": "code",
   "execution_count": 21,
   "metadata": {},
   "outputs": [
    {
     "name": "stdout",
     "output_type": "stream",
     "text": [
      "2\n",
      "<class 'str'>\n"
     ]
    }
   ],
   "source": [
    "print(str(2))\n",
    "print(type(str(2)))"
   ]
  },
  {
   "cell_type": "code",
   "execution_count": 22,
   "metadata": {},
   "outputs": [
    {
     "name": "stdout",
     "output_type": "stream",
     "text": [
      "2.0\n",
      "<class 'float'>\n"
     ]
    }
   ],
   "source": [
    "print(float(2))\n",
    "print(type(float(2)))"
   ]
  },
  {
   "cell_type": "code",
   "execution_count": 23,
   "metadata": {},
   "outputs": [
    {
     "name": "stdout",
     "output_type": "stream",
     "text": [
      "1\n",
      "<class 'int'>\n"
     ]
    }
   ],
   "source": [
    "print(int(True))\n",
    "print(type(int(True)))"
   ]
  },
  {
   "cell_type": "code",
   "execution_count": 24,
   "metadata": {},
   "outputs": [
    {
     "name": "stdout",
     "output_type": "stream",
     "text": [
      "False\n",
      "<class 'bool'>\n"
     ]
    }
   ],
   "source": [
    "print(bool(0))\n",
    "print(type(bool(0)))"
   ]
  },
  {
   "cell_type": "code",
   "execution_count": 25,
   "metadata": {},
   "outputs": [
    {
     "name": "stdout",
     "output_type": "stream",
     "text": [
      "['H', 'o', 'l', 'a', ' ', 'm', 'ó', 'n']\n",
      "<class 'list'>\n"
     ]
    }
   ],
   "source": [
    "print(list(\"Hola món\"))\n",
    "print(type(list(\"Hola món\")))"
   ]
  },
  {
   "cell_type": "markdown",
   "metadata": {},
   "source": [
    "### **Variables**\n",
    "\n",
    "Les **variables** són les contenidors on s'emmagatzemen els valors. Són un espai de memòria associat a un **nom** que conté un **valor**.\n",
    "\n",
    "* Una variable es crea la primera vaegada que se li assigna un valor.\n",
    "* L'operador per instruccions d'assignació és `=`.\n",
    "* La variable es crea amb el tipus adequat al valor que se li assigni.\n"
   ]
  },
  {
   "cell_type": "code",
   "execution_count": 26,
   "metadata": {},
   "outputs": [
    {
     "name": "stdout",
     "output_type": "stream",
     "text": [
      "2 7 14\n"
     ]
    }
   ],
   "source": [
    "a = 2   \n",
    "b = 7\n",
    "resultat = a * b\n",
    "print(a, b, resultat)"
   ]
  },
  {
   "cell_type": "code",
   "execution_count": 27,
   "metadata": {},
   "outputs": [
    {
     "name": "stdout",
     "output_type": "stream",
     "text": [
      "Avui fem Python!\n"
     ]
    }
   ],
   "source": [
    "a = 'Avui fem '\n",
    "b = 'Python!'\n",
    "resultat = a + b\n",
    "print(resultat)"
   ]
  },
  {
   "cell_type": "markdown",
   "metadata": {},
   "source": [
    "* Els noms de les variables en Python poden contenir els caràcters`a-z, A-Z, 0-9` i el guió baix `_` \n",
    "* Els noms de les variables normals han de començar per una lletra. \n",
    "* Per convenció comencen amb **minuscula**, mentre que el nom de les classes comença amb majúscula.\n",
    "* Els noms de variables són sensibles a majúscules (***case sensitive***)\n",
    "* Existeixen algunes paraules claus en Python que no es poden utilitzar per definir una variable, ja que són **Keywords** de Python \n"
   ]
  },
  {
   "cell_type": "code",
   "execution_count": 28,
   "metadata": {},
   "outputs": [
    {
     "name": "stdout",
     "output_type": "stream",
     "text": [
      "\n",
      "Here is a list of the Python keywords.  Enter any keyword to get more help.\n",
      "\n",
      "False               class               from                or\n",
      "None                continue            global              pass\n",
      "True                def                 if                  raise\n",
      "and                 del                 import              return\n",
      "as                  elif                in                  try\n",
      "assert              else                is                  while\n",
      "async               except              lambda              with\n",
      "await               finally             nonlocal            yield\n",
      "break               for                 not                 \n",
      "\n"
     ]
    }
   ],
   "source": [
    "help(\"keywords\")"
   ]
  },
  {
   "cell_type": "code",
   "execution_count": 29,
   "metadata": {},
   "outputs": [
    {
     "ename": "SyntaxError",
     "evalue": "cannot assign to False (1160946929.py, line 1)",
     "output_type": "error",
     "traceback": [
      "\u001b[1;36m  Cell \u001b[1;32mIn[29], line 1\u001b[1;36m\u001b[0m\n\u001b[1;33m    False = 0\u001b[0m\n\u001b[1;37m    ^\u001b[0m\n\u001b[1;31mSyntaxError\u001b[0m\u001b[1;31m:\u001b[0m cannot assign to False\n"
     ]
    }
   ],
   "source": [
    "False = 0"
   ]
  },
  {
   "cell_type": "markdown",
   "metadata": {},
   "source": [
    "### **Operadors matemàtics**"
   ]
  },
  {
   "cell_type": "markdown",
   "metadata": {},
   "source": [
    "+ suma: `+`\n",
    "+ resta: `-`\n",
    "+ multiplicació: `*`\n",
    "+ divisió (retorna float): `/`\n",
    "+ divisió entera (retorna int): `//`\n",
    "+ potència: `**`\n",
    "+ mòdul(o remainder o residu): `%`\n",
    "\n",
    "\n",
    "Utilitzats en tipus numèrics es comporten com operacions matemàtiques habituals.\n",
    "\n",
    "\n",
    "> <img src=\"https://icon-library.com/images/tip-icon/tip-icon-23.jpg\" alt=\"tip\" width=\"50\"/> Els decimals s’escriuen sempre amb un punt i no amb coma. \n",
    "\n",
    "**L'ordre de les operacions**\n",
    "\n",
    "Quan apareix més d'un operador en una expressió, l'ordre d'avaluació depèn de les **regles de precedència**. \n",
    "Per als operadors matemàtics, Python segueix la convenció de les matemàtiques.<br>  Les sigles **PEMDAS** són una manera útil de recordar les regles: **P**arèntesi, **E**xponencial, **M**ultiplicació-**D**ivisió i **A**ddició-**S**ubstració."
   ]
  },
  {
   "cell_type": "code",
   "execution_count": null,
   "metadata": {},
   "outputs": [],
   "source": [
    "3 * ( 4 / 2 )"
   ]
  },
  {
   "cell_type": "markdown",
   "metadata": {},
   "source": [
    "> <img src=\"https://icon-library.com/images/tip-icon/tip-icon-23.jpg\" alt=\"tip\" width=\"50\"/> La la divisió retorna un float, encara que els resultat sigui enter."
   ]
  },
  {
   "cell_type": "code",
   "execution_count": null,
   "metadata": {
    "slideshow": {
     "slide_type": "-"
    }
   },
   "outputs": [],
   "source": [
    "7 // 6"
   ]
  },
  {
   "cell_type": "code",
   "execution_count": null,
   "metadata": {},
   "outputs": [],
   "source": [
    "10 / 5"
   ]
  },
  {
   "cell_type": "code",
   "execution_count": null,
   "metadata": {},
   "outputs": [],
   "source": [
    "14 % 12 "
   ]
  },
  {
   "cell_type": "markdown",
   "metadata": {},
   "source": [
    "### **Operador increment**\n",
    "\n",
    "```python\n",
    "x += 1\n",
    "```\n",
    "és el mateix que:\n",
    "\n",
    "```python\n",
    "x = x + 1\n",
    "```"
   ]
  },
  {
   "cell_type": "code",
   "execution_count": null,
   "metadata": {},
   "outputs": [],
   "source": [
    "x = 2\n",
    "x += 1\n",
    "x"
   ]
  },
  {
   "cell_type": "markdown",
   "metadata": {},
   "source": [
    "### **Expressions i Declaracions**\n",
    "\n",
    "* Una **expressió** és una combinació de valors, variables i operadors. Un valor per si sol es considera una expressió, així com una variable.\n",
    "\n",
    "* Una **declaració** és una unitat de codi que l'intèrpret de Python pot executar. "
   ]
  },
  {
   "cell_type": "markdown",
   "metadata": {},
   "source": [
    "## 01.03  Operacions amb strings\n",
    "\n",
    "Els strings són arrays, es pot accedir a les seves posicions amb claudàtors `[]` i es pot iterar sobre els seus caràcters.\n",
    "\n",
    "> <img src=\"https://icon-library.com/images/tip-icon/tip-icon-23.jpg\" alt=\"tip\" width=\"50\"/>\n",
    "Python no té el tipus de dada char. Un caràcter es representa com un string de longitud 1\n",
    "\n",
    "\n"
   ]
  },
  {
   "cell_type": "code",
   "execution_count": null,
   "metadata": {},
   "outputs": [],
   "source": [
    "uf3 = \"bioinformatica\"\n",
    "print(uf3[0])"
   ]
  },
  {
   "cell_type": "code",
   "execution_count": null,
   "metadata": {},
   "outputs": [],
   "source": [
    "uf3 = \"bioinformatica\"\n",
    "print(uf3[:3])"
   ]
  },
  {
   "cell_type": "code",
   "execution_count": null,
   "metadata": {},
   "outputs": [],
   "source": [
    "uf3 = \"bioinformatica\"\n",
    "print(uf3[3:])"
   ]
  },
  {
   "cell_type": "code",
   "execution_count": null,
   "metadata": {},
   "outputs": [],
   "source": [
    "uf3 = \"bioinformatica\"\n",
    "print(uf3[:-1])"
   ]
  },
  {
   "cell_type": "code",
   "execution_count": null,
   "metadata": {},
   "outputs": [],
   "source": [
    "uf3 = \"bioinformatica\"\n",
    "print(uf3[:-1])"
   ]
  },
  {
   "cell_type": "code",
   "execution_count": null,
   "metadata": {},
   "outputs": [],
   "source": [
    "uf3 = \"bioinformatica\"\n",
    "print(uf3[::2])"
   ]
  },
  {
   "cell_type": "code",
   "execution_count": null,
   "metadata": {},
   "outputs": [],
   "source": [
    "uf3 = \"bioinformatica\"\n",
    "print(uf3[::-1])"
   ]
  },
  {
   "cell_type": "code",
   "execution_count": null,
   "metadata": {},
   "outputs": [],
   "source": [
    "for letter in uf3:\n",
    "    print(letter)"
   ]
  },
  {
   "cell_type": "markdown",
   "metadata": {},
   "source": [
    "Els string són **immutables**, no podem modificar-los sense crear un objecte nou"
   ]
  },
  {
   "cell_type": "code",
   "execution_count": null,
   "metadata": {},
   "outputs": [],
   "source": [
    "uf3[0] = 'B'"
   ]
  },
  {
   "cell_type": "markdown",
   "metadata": {},
   "source": [
    "+ `+` concatena strings\n",
    "+ `*` repeteix strings"
   ]
  },
  {
   "cell_type": "code",
   "execution_count": null,
   "metadata": {},
   "outputs": [],
   "source": [
    "\"Benvinguts a la classe de \" + uf3 + \" !\""
   ]
  },
  {
   "cell_type": "code",
   "execution_count": null,
   "metadata": {},
   "outputs": [],
   "source": [
    "\"Benvinguts! \" * 10"
   ]
  },
  {
   "cell_type": "markdown",
   "metadata": {},
   "source": [
    "Podem fer servir les cometes triples per a crear string multilínia."
   ]
  },
  {
   "cell_type": "code",
   "execution_count": null,
   "metadata": {},
   "outputs": [],
   "source": [
    "text = \"\"\"Lorem ipsum dolor sit amet,\n",
    "consectetur adipiscing elit,\n",
    "sed do eiusmod tempor incididunt\n",
    "ut labore et dolore magna aliqua.\"\"\"\n",
    "print(text)"
   ]
  },
  {
   "cell_type": "markdown",
   "metadata": {},
   "source": [
    "Per saber la longitud d'un string podem fer servir la funció `len`"
   ]
  },
  {
   "cell_type": "code",
   "execution_count": null,
   "metadata": {},
   "outputs": [],
   "source": [
    "print(len(text))"
   ]
  },
  {
   "cell_type": "markdown",
   "metadata": {},
   "source": [
    "Podem també avaluar si un string forma part o no d'un string més llarg:"
   ]
  },
  {
   "cell_type": "code",
   "execution_count": null,
   "metadata": {},
   "outputs": [],
   "source": [
    "\"ipsum\" in text"
   ]
  },
  {
   "cell_type": "code",
   "execution_count": null,
   "metadata": {},
   "outputs": [],
   "source": [
    "\"ipsum\" not in text"
   ]
  },
  {
   "cell_type": "markdown",
   "metadata": {},
   "source": [
    "Els strings,  com tots els objectes de python tenen un reguitzell de **mètodes**. Els podem llistar amb la funció `dir`"
   ]
  },
  {
   "cell_type": "code",
   "execution_count": null,
   "metadata": {},
   "outputs": [],
   "source": [
    "print(dir(text))"
   ]
  },
  {
   "cell_type": "markdown",
   "metadata": {},
   "source": [
    "> <img src=\"https://icon-library.com/images/tip-icon/tip-icon-23.jpg\" alt=\"tip\" width=\"50\"/>\n",
    "Els mètodes que comencen i acaben amb doble guió biax són mètodes privats de la classe i no s'han de cridar mai directament."
   ]
  },
  {
   "cell_type": "markdown",
   "metadata": {},
   "source": [
    "Podem obtenir informació de qualsevol mètode amb la funció `help`"
   ]
  },
  {
   "cell_type": "code",
   "execution_count": null,
   "metadata": {},
   "outputs": [],
   "source": [
    "help(text.split)"
   ]
  },
  {
   "cell_type": "code",
   "execution_count": null,
   "metadata": {},
   "outputs": [],
   "source": [
    "print(text.split('\\n'))"
   ]
  },
  {
   "cell_type": "code",
   "execution_count": null,
   "metadata": {},
   "outputs": [],
   "source": [
    "print(text.replace(\" \", \"\"))"
   ]
  },
  {
   "cell_type": "code",
   "execution_count": null,
   "metadata": {},
   "outputs": [],
   "source": [
    "print(text.upper())"
   ]
  },
  {
   "cell_type": "code",
   "execution_count": null,
   "metadata": {},
   "outputs": [],
   "source": [
    "print(\"\\n\".join(text.split(\" \")))"
   ]
  },
  {
   "cell_type": "code",
   "execution_count": null,
   "metadata": {},
   "outputs": [],
   "source": [
    "print(text.startswith(\"Lorem \"))"
   ]
  },
  {
   "cell_type": "markdown",
   "metadata": {},
   "source": [
    "### **Entrada de dades des de teclat**"
   ]
  },
  {
   "cell_type": "code",
   "execution_count": null,
   "metadata": {},
   "outputs": [],
   "source": [
    "salutacio = 'Hola' \n",
    "print('el teu nom:') \n",
    "nom = input() \n",
    "print(salutacio, nom, \"!\")"
   ]
  },
  {
   "cell_type": "markdown",
   "metadata": {},
   "source": [
    "Cal tenir en compte que les entrades des d’`input()` sempre són gestionades com a cadenes de caràcters (strings). És com si nosaltres sempre entréssim la informació entre cometes. Per exemple:"
   ]
  },
  {
   "cell_type": "code",
   "execution_count": null,
   "metadata": {},
   "outputs": [],
   "source": [
    "n1 = 5 \n",
    "print('Introdueix un número:') \n",
    "n2 = input()\n",
    "\n",
    "print(n1, \" + \", n2, \" = \", n1+n2)"
   ]
  },
  {
   "cell_type": "markdown",
   "metadata": {},
   "source": [
    "Hem intentat sumar un número enter (int) amb un string (str), i això python no sap com fer-ho. Recorda que totes les entrades (input()) seran strings.\n",
    "Cal fer un **cast** del valor d'entrada a enter."
   ]
  },
  {
   "cell_type": "markdown",
   "metadata": {},
   "source": [
    "> <img src=\"https://icon-library.com/images/tip-icon/tip-icon-23.jpg\" alt=\"tip\" width=\"50\"/>\n",
    "Els errors de python solen ser molt informatius. Val la pena fixar-s'hi, moltes vegades ells mateixos ens indiquen quin és el problema."
   ]
  },
  {
   "cell_type": "code",
   "execution_count": null,
   "metadata": {},
   "outputs": [],
   "source": [
    "n1 = 5 \n",
    "print('Introdueix un número:') \n",
    "n2 = int(input())\n",
    "\n",
    "print(n1, \" + \", n2, \" = \", n1+n2)"
   ]
  },
  {
   "cell_type": "markdown",
   "metadata": {},
   "source": [
    "### **Formatejant strings: f-Strings**"
   ]
  },
  {
   "cell_type": "code",
   "execution_count": null,
   "metadata": {},
   "outputs": [],
   "source": [
    "\"Nom: {nom}. Edat: {edat}. Altura: {altura}\".format(altura=1.75, nom=\"Anna\", edat=30)"
   ]
  },
  {
   "cell_type": "code",
   "execution_count": null,
   "metadata": {},
   "outputs": [],
   "source": [
    "altura=1.75\n",
    "nom=\"Anna\"\n",
    "edat=30\n",
    "\n",
    "f\"Hola {nom}, tens {edat} anys i medeixes {altura} m\""
   ]
  },
  {
   "cell_type": "code",
   "execution_count": 32,
   "metadata": {},
   "outputs": [
    {
     "data": {
      "text/plain": [
       "'Un nombre amb quatre decimals i separador de milers: 3,000.0000, un enter: 2 i un string amb 12 caràcters:          abc.'"
      ]
     },
     "execution_count": 32,
     "metadata": {},
     "output_type": "execute_result"
    }
   ],
   "source": [
    "f\"Un nombre amb quatre decimals i separador de milers: {3000:0,.4f}, un enter: {2:d} i un string amb 12 caràcters: {'abc':>12}.\""
   ]
  },
  {
   "cell_type": "markdown",
   "metadata": {},
   "source": [
    "<hr>"
   ]
  },
  {
   "cell_type": "markdown",
   "metadata": {},
   "source": [
    "# **Exercici 1**\n",
    "\n",
    "Suposem que fem diverses compres a l’any, en total quatre compres. Les fem a una empresa proveïdora que ens ven els seus productes en dòlars. <br>\n",
    "Els imports de les compres són: 356.75\\\\$, 487.45\\\\$, 295.83\\\\$ i 532.00\\\\$. <br>\n",
    "Assumim que el canvi de dòlars a euros és de 0,890.\n",
    "\n",
    "Calcula i imprimeix per pantalla les dades següents:\n",
    "\n",
    "- Suma total de les compres en euros\n",
    "- Mitjana de les quatre compres en euros\n",
    "\n",
    "**Nota:** procura que la variable que necessitaràs per tenir el canvi de dòlars a euros rebi la dada a través d’una entrada per teclat."
   ]
  },
  {
   "cell_type": "code",
   "execution_count": 41,
   "metadata": {},
   "outputs": [
    {
     "name": "stdin",
     "output_type": "stream",
     "text": [
      "Introduce el tipo de cambio de dólares a euros:  0.890\n"
     ]
    },
    {
     "name": "stdout",
     "output_type": "stream",
     "text": [
      "Suma total de las compras en euros: 1488.11 €\n",
      "Media de las cuatro compras en euros: 372.03 €\n"
     ]
    }
   ],
   "source": [
    "tipo_cambio = float(input(\"Introduce el tipo de cambio de dólares a euros: \"))\n",
    "suma_total_euros = (356.75 + 487.45 + 295.83 + 532.00) * tipo_cambio\n",
    "media_euros = suma_total_euros / 4\n",
    "print(f\"Suma total de las compras en euros: {suma_total_euros:.2f} €\")\n",
    "print(f\"Media de las cuatro compras en euros: {media_euros:.2f} €\")"
   ]
  },
  {
   "cell_type": "markdown",
   "metadata": {},
   "source": [
    "# **Exercici 2**\n",
    "\n",
    "Imagina que l’última comanda (la de 532.00 $) ha tingut un problema i només arriba el 80 % del gènere en bones condicions i, per tant, diem al proveïdor que només li pagarem el 80 % de l’import acordat prèviament.\n",
    "\n",
    "Calcula:\n",
    "- els mateixos resultats que en el cas anterior i imprimeix-los per pantalla.\n",
    "- Podries dir quin tipus de dada (informació) és la suma total de qualsevol dels dos casos?\n",
    "- Sabries canviar-la a una dada del tipus string?"
   ]
  },
  {
   "cell_type": "code",
   "execution_count": 46,
   "metadata": {},
   "outputs": [
    {
     "name": "stdin",
     "output_type": "stream",
     "text": [
      "Introduce el tipo de cambio de dólares a euros:  0.890\n"
     ]
    },
    {
     "name": "stdout",
     "output_type": "stream",
     "text": [
      "Suma total de las compras en euros: 1393.41 €\n",
      "<class 'float'>\n",
      "canviem a tipo str la variable de la suma total\n",
      "<class 'str'>\n",
      "Media de las cuatro compras en euros: 348.35 €\n"
     ]
    }
   ],
   "source": [
    "tipo_cambio = float(input(\"Introduce el tipo de cambio de dólares a euros: \"))\n",
    "suma_total_euros = (356.75 + 487.45 + 295.83 + (532.00 * 0.80)) * tipo_cambio # multiplicant per 0.80 fem que de la ultima compra arribi el 80\n",
    "media_euros = suma_total_euros / 4\n",
    "print(f\"Suma total de las compras en euros: {suma_total_euros:.2f} €\")#el :.2f es per què només tingui dos decimals\n",
    "print(type(suma_total_euros))\n",
    "print(f\"canviem a tipo str la variable de la suma total\")\n",
    "print(type(str(suma_total_euros)))\n",
    "print(f\"Media de las cuatro compras en euros: {media_euros:.2f} €\")"
   ]
  },
  {
   "cell_type": "markdown",
   "metadata": {},
   "source": [
    "## Exercici 3\n",
    "He borrat l'exercici 3, perdó"
   ]
  },
  {
   "cell_type": "code",
   "execution_count": null,
   "metadata": {},
   "outputs": [],
   "source": [
    "str =  input(\"Introdueix una paraula: \").replace(\" \", \"\").lower()#imput return str\n",
    "r = str[::-1]\n",
    "if str == r:\n",
    "    print(\"És un palíndrom\")\n",
    "else:\n",
    "    print(\"No és un palíndrom\")\n"
   ]
  }
 ],
 "metadata": {
  "kernelspec": {
   "display_name": "Python 3 (ipykernel)",
   "language": "python",
   "name": "python3"
  },
  "language_info": {
   "codemirror_mode": {
    "name": "ipython",
    "version": 3
   },
   "file_extension": ".py",
   "mimetype": "text/x-python",
   "name": "python",
   "nbconvert_exporter": "python",
   "pygments_lexer": "ipython3",
   "version": "3.10.12"
  },
  "toc": {
   "base_numbering": 2
  },
  "toc-autonumbering": false,
  "toc-showcode": false,
  "toc-showmarkdowntxt": false
 },
 "nbformat": 4,
 "nbformat_minor": 4
}
